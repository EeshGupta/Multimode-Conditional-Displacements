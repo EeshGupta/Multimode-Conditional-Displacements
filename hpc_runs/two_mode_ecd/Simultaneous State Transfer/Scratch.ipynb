{
 "cells": [
  {
   "cell_type": "markdown",
   "id": "595a06e1",
   "metadata": {},
   "source": [
    "# Aim\n",
    "Check whether DECD param give consistent fidelities with Qutip Simulations"
   ]
  },
  {
   "cell_type": "markdown",
   "id": "9f8c3189",
   "metadata": {},
   "source": [
    "# Imports"
   ]
  },
  {
   "cell_type": "code",
   "execution_count": 1,
   "id": "ad9d35e8",
   "metadata": {},
   "outputs": [],
   "source": [
    "import sys \n",
    "sys.path.append('C:\\\\Users\\\\Eesh Gupta\\\\Documents\\\\RU Research\\\\Chakram')\n",
    "#sys.path.append('C:\\\\_Lib\\\\python\\\\ECD_control')\n",
    "#sys.path.append('C:\\\\_Lib\\\\python')"
   ]
  },
  {
   "cell_type": "code",
   "execution_count": 2,
   "id": "53db6c77",
   "metadata": {},
   "outputs": [],
   "source": [
    "# for param file \n",
    "#%%\n",
    "# note: timestamp can't use \"/\" character for h5 saving.\n",
    "TIMESTAMP_FORMAT = \"%Y-%m-%d %H:%M:%S\"\n",
    "END_OPT_STRING = \"\\n\" + \"=\" * 60 + \"\\n\"\n",
    "import numpy as np\n",
    "import tensorflow as tf\n",
    "\n",
    "tf.compat.v1.logging.set_verbosity(tf.compat.v1.logging.ERROR)  # supress warnings\n",
    "import h5py\n",
    "\n",
    "# print(\n",
    "#     \"\\nNeed tf version 2.3.0 or later. Using tensorflow version: \"\n",
    "#     + tf.__version__\n",
    "#     + \"\\n\"\n",
    "# )\n",
    "import ECD_control.ECD_optimization.tf_quantum as tfq\n",
    "from ECD_control.ECD_optimization.visualization import VisualizationMixin\n",
    "import qutip as qt\n",
    "import datetime\n",
    "import time"
   ]
  },
  {
   "cell_type": "code",
   "execution_count": 3,
   "id": "ae4d1bd6",
   "metadata": {},
   "outputs": [],
   "source": [
    "# for pulse file\n",
    "import numpy as np\n",
    "import matplotlib.pyplot as plt\n",
    "from scipy.interpolate import interp1d\n",
    "from scipy.integrate import solve_ivp\n",
    "from scipy.signal import find_peaks\n",
    "from scipy.optimize import fmin\n",
    "\n"
   ]
  },
  {
   "cell_type": "markdown",
   "id": "5439ff93",
   "metadata": {},
   "source": [
    "# Finding Param"
   ]
  },
  {
   "cell_type": "code",
   "execution_count": 14,
   "id": "b7e67e3f",
   "metadata": {},
   "outputs": [],
   "source": [
    "%load_ext autoreload\n",
    "%autoreload 2"
   ]
  },
  {
   "cell_type": "code",
   "execution_count": 15,
   "id": "5f96f3a4",
   "metadata": {},
   "outputs": [],
   "source": [
    "from DECD_param import FixedBatchOptimizer as BO\n",
    "from qutip import *"
   ]
  },
  {
   "cell_type": "code",
   "execution_count": 16,
   "id": "d001d6ff",
   "metadata": {},
   "outputs": [],
   "source": [
    "N1 = 15\n",
    "N2 = 15"
   ]
  },
  {
   "cell_type": "code",
   "execution_count": 17,
   "id": "8eab1548",
   "metadata": {},
   "outputs": [],
   "source": [
    "#Initial oscillator state.\n",
    "Fock1 = 0\n",
    "Fock2= 1\n",
    "psi_i1 = qt.basis(N1,Fock1) #initial state\n",
    "psi_i2 = qt.basis(N2,Fock2)\n",
    "initial1 = qt.tensor(basis(2,0), psi_i1, psi_i2)\n",
    "\n",
    "#Target\n",
    "Fock1 = 1\n",
    "Fock2= 0\n",
    "psi_t1 = qt.basis(N1,Fock1) #target state\n",
    "psi_t2 = qt.basis(N2,Fock2)\n",
    "target1 = qt.tensor(basis(2,0), psi_t1, psi_t2)\n",
    "#-------------------------------------------------------\n",
    "#Second state \n",
    "#Initial oscillator state.\n",
    "Fock1 = 0\n",
    "Fock2= 2\n",
    "psi_i1 = qt.basis(N1,Fock1) #initial state\n",
    "psi_i2 = qt.basis(N2,Fock2)\n",
    "initial2 = qt.tensor(basis(2,0), psi_i1, psi_i2)\n",
    "\n",
    "\n",
    "#Target\n",
    "Fock1 = 2\n",
    "Fock2= 0\n",
    "psi_t1 = qt.basis(N1,Fock1) #target state\n",
    "psi_t2 = qt.basis(N2,Fock2)\n",
    "target2 = qt.tensor(basis(2,0), psi_t1, psi_t2)\n",
    "\n",
    "#-------------------------FUll list\n",
    "initial = [initial1, initial2]\n",
    "target = [target1, target2]"
   ]
  },
  {
   "cell_type": "code",
   "execution_count": 18,
   "id": "bf050c55",
   "metadata": {},
   "outputs": [],
   "source": [
    "\n",
    "\n",
    "# #Optimization of ECD Circuit parameters (betas, gammas, phis, and thetas)\n",
    "# #the optimization options\n",
    "# opt_params = {\n",
    "# 'N_blocks' : 10, #circuit depth\n",
    "# 'N_multistart' : 20, #Batch size (number of circuit optimizations to run in parallel)\n",
    "# 'epochs' : 100, #number of epochs before termination\n",
    "# 'epoch_size' : 20, #number of adam steps per epoch\n",
    "# 'learning_rate' : 0.01, #adam learning rate\n",
    "# 'term_fid' : 0.999, #terminal fidelitiy\n",
    "# 'dfid_stop' : 1e-6, #stop if dfid between two epochs is smaller than this number\n",
    "# 'beta_scale' : 3.0, #maximum |beta| for random initialization\n",
    "# 'gamma_scale' : 3.0, #maximum |gamma| for random initialization\n",
    "# 'N_cav1': N1, #number of levels in mode 1\n",
    "# 'N_cav2': N2, #number of levels in mode 2\n",
    "# 'initial_states' : initial, #qubit tensor oscillator, start in |g> |0>\n",
    "# 'target_states' : target, #end in |e> |target>.\n",
    "# #\"initial_params\": init_params,\n",
    "# 'name' : 'Fock1 %d' % Fock1, #name for printing and saving\n",
    "# 'filename' : None, #if no filename specified, results will be saved in this folder under 'name.h5'\n",
    "# }\n",
    "\n"
   ]
  },
  {
   "cell_type": "code",
   "execution_count": 19,
   "id": "359aed54",
   "metadata": {},
   "outputs": [],
   "source": [
    "# opt = BO(**opt_params)\n",
    "# opt.print_info()"
   ]
  },
  {
   "cell_type": "code",
   "execution_count": 20,
   "id": "14604613",
   "metadata": {},
   "outputs": [],
   "source": [
    "#opt.optimize()"
   ]
  },
  {
   "cell_type": "code",
   "execution_count": 21,
   "id": "42e58074",
   "metadata": {},
   "outputs": [],
   "source": [
    "# saving angles \n",
    "# betas = opt.best_circuit()['betas']\n",
    "# gammas = opt.best_circuit()['gammas']\n",
    "# phis = opt.best_circuit()['phis']\n",
    "# thetas = opt.best_circuit()['thetas']\n",
    "# etas = opt.best_circuit()['etas']\n",
    "# params = [np.real(betas), np.imag(betas), np.real(gammas), np.imag(gammas), phis, thetas, etas]\n",
    "# for i in range(len(params)):\n",
    "#     params[i] = [float(k) for k in params[i]]\n",
    "\n",
    "# fname = 'Test_01_10_May20.txt'\n",
    "# a_file = open(fname, \"w\")\n",
    "# np.savetxt(a_file, params)\n",
    "# a_file.close()"
   ]
  },
  {
   "cell_type": "code",
   "execution_count": 22,
   "id": "fd570893",
   "metadata": {},
   "outputs": [
    {
     "data": {
      "text/html": [
       "<div>\n",
       "<style scoped>\n",
       "    .dataframe tbody tr th:only-of-type {\n",
       "        vertical-align: middle;\n",
       "    }\n",
       "\n",
       "    .dataframe tbody tr th {\n",
       "        vertical-align: top;\n",
       "    }\n",
       "\n",
       "    .dataframe thead th {\n",
       "        text-align: right;\n",
       "    }\n",
       "</style>\n",
       "<table border=\"1\" class=\"dataframe\">\n",
       "  <thead>\n",
       "    <tr style=\"text-align: right;\">\n",
       "      <th></th>\n",
       "      <th>layers</th>\n",
       "      <th>exact fidelity</th>\n",
       "      <th>bo_fidelity</th>\n",
       "      <th>betas_r</th>\n",
       "      <th>betas_i</th>\n",
       "      <th>gammas_r</th>\n",
       "      <th>gammas_i</th>\n",
       "      <th>phis</th>\n",
       "      <th>thetas</th>\n",
       "    </tr>\n",
       "  </thead>\n",
       "  <tbody>\n",
       "    <tr>\n",
       "      <th>0</th>\n",
       "      <td>NaN</td>\n",
       "      <td>NaN</td>\n",
       "      <td>NaN</td>\n",
       "      <td>NaN</td>\n",
       "      <td>NaN</td>\n",
       "      <td>NaN</td>\n",
       "      <td>NaN</td>\n",
       "      <td>NaN</td>\n",
       "      <td>NaN</td>\n",
       "    </tr>\n",
       "    <tr>\n",
       "      <th>1</th>\n",
       "      <td>11.0</td>\n",
       "      <td>0.950433</td>\n",
       "      <td>0.950428</td>\n",
       "      <td>[0.13488929, -0.2279579, 1.1900711, 0.43509567...</td>\n",
       "      <td>[-0.10712488, 0.13559133, -0.6507451, -0.58729...</td>\n",
       "      <td>[-0.36237377, 0.23904443, 1.3408138, 1.0947008...</td>\n",
       "      <td>[0.06904714, 0.6659791, -0.5523455, -0.571282,...</td>\n",
       "      <td>[0.0, -1.5908473, 1.6203401, -1.4826386, 1.664...</td>\n",
       "      <td>[-1.6425663, -1.1996397, 1.4210985, -1.4897145...</td>\n",
       "    </tr>\n",
       "    <tr>\n",
       "      <th>2</th>\n",
       "      <td>11.0</td>\n",
       "      <td>0.954552</td>\n",
       "      <td>0.954550</td>\n",
       "      <td>[0.17285644, -0.78989404, 1.00309, -0.5262413,...</td>\n",
       "      <td>[0.3270558, 0.25732112, -0.19401479, 1.3082457...</td>\n",
       "      <td>[0.16590686, -0.5419412, 1.4737059, -1.1924573...</td>\n",
       "      <td>[0.45779866, 0.17935115, 0.23337753, 0.2415098...</td>\n",
       "      <td>[0.0, -1.571004, -1.5705906, -1.5708115, 1.570...</td>\n",
       "      <td>[-1.5709168, 1.2717078, -1.738396, -0.3062799,...</td>\n",
       "    </tr>\n",
       "    <tr>\n",
       "      <th>3</th>\n",
       "      <td>13.0</td>\n",
       "      <td>0.956682</td>\n",
       "      <td>0.957655</td>\n",
       "      <td>[-1.4959601, 0.12065852, 0.40640476, 0.7171700...</td>\n",
       "      <td>[2.0538573, -0.066538274, 0.1521077, -1.302695...</td>\n",
       "      <td>[0.7590362, 0.39382485, 0.72901905, 0.6690943,...</td>\n",
       "      <td>[-1.9477248, -0.23904711, 0.39981893, -1.13129...</td>\n",
       "      <td>[0.0, -1.0908506, -3.0995948, -0.6191318, 1.59...</td>\n",
       "      <td>[-0.0011246204, -1.5681852, 1.6403506, 2.06515...</td>\n",
       "    </tr>\n",
       "    <tr>\n",
       "      <th>4</th>\n",
       "      <td>13.0</td>\n",
       "      <td>0.981797</td>\n",
       "      <td>0.981802</td>\n",
       "      <td>[-0.55120164, -0.26413783, 0.5694336, -0.39084...</td>\n",
       "      <td>[0.11368107, 0.03817838, 0.94696426, -0.649437...</td>\n",
       "      <td>[-0.8165003, -0.41371986, 0.8166411, -0.142674...</td>\n",
       "      <td>[0.5218695, 0.21521403, 1.2906123, -1.0564995,...</td>\n",
       "      <td>[0.0, 0.21140075, -1.2504648, 2.8021662, 0.734...</td>\n",
       "      <td>[2.808502, -1.8815978, 1.4713604, 0.7745781, -...</td>\n",
       "    </tr>\n",
       "    <tr>\n",
       "      <th>5</th>\n",
       "      <td>15.0</td>\n",
       "      <td>0.985925</td>\n",
       "      <td>0.985947</td>\n",
       "      <td>[-0.18695492, 0.17229891, -0.17504913, -0.6303...</td>\n",
       "      <td>[-0.070156455, 0.13179556, -1.217374, 0.315337...</td>\n",
       "      <td>[-0.34952122, 0.6596686, 0.13092962, -0.603915...</td>\n",
       "      <td>[0.20513599, 0.3609476, -1.2222039, 0.31950614...</td>\n",
       "      <td>[0.0, 1.571028, -1.5699112, -1.5698866, -1.568...</td>\n",
       "      <td>[1.5700514, -1.4775774, 2.0863497, -2.3104353,...</td>\n",
       "    </tr>\n",
       "    <tr>\n",
       "      <th>6</th>\n",
       "      <td>15.0</td>\n",
       "      <td>0.990933</td>\n",
       "      <td>0.990956</td>\n",
       "      <td>[-0.39078707, 0.18847182, 0.29060218, 1.399566...</td>\n",
       "      <td>[-0.057829283, 0.023464171, 0.2994163, -0.6007...</td>\n",
       "      <td>[-0.6865383, 0.30181718, 0.45632124, 1.4483935...</td>\n",
       "      <td>[0.058809236, -0.025054052, 0.61380696, -0.519...</td>\n",
       "      <td>[0.0, -0.1189425, 1.4212506, -0.037353754, 0.3...</td>\n",
       "      <td>[2.507467, 1.0317829, -1.5424844, 2.2423637, 2...</td>\n",
       "    </tr>\n",
       "    <tr>\n",
       "      <th>7</th>\n",
       "      <td>17.0</td>\n",
       "      <td>0.968406</td>\n",
       "      <td>0.970360</td>\n",
       "      <td>[-1.261571, 0.5790969, 0.80223453, -0.29630548...</td>\n",
       "      <td>[-0.8183748, -0.9400312, -0.9215564, 0.0637713...</td>\n",
       "      <td>[-0.4423089, 0.4796788, 0.8411447, 0.013118093...</td>\n",
       "      <td>[-1.3772258, -1.0527383, -1.2460705, 2.2957022...</td>\n",
       "      <td>[0.0, -2.3265374, 2.7020667, -0.8680494, 3.033...</td>\n",
       "      <td>[-0.022977114, 1.5625865, -2.8954318, -1.28320...</td>\n",
       "    </tr>\n",
       "    <tr>\n",
       "      <th>8</th>\n",
       "      <td>17.0</td>\n",
       "      <td>0.967438</td>\n",
       "      <td>0.966374</td>\n",
       "      <td>[-0.84624076, 0.29551956, -0.75942636, 1.17960...</td>\n",
       "      <td>[-1.6586634, 0.8594143, -0.7507899, 0.8756961,...</td>\n",
       "      <td>[0.84059894, 0.7466078, -0.7993753, 1.3652034,...</td>\n",
       "      <td>[-1.3777792, 1.3321187, -1.1105727, 0.83760595...</td>\n",
       "      <td>[0.0, 0.5394285, -2.9409158, -0.28232503, 2.20...</td>\n",
       "      <td>[-0.00906992, -1.5698419, 0.78630114, -0.76380...</td>\n",
       "    </tr>\n",
       "    <tr>\n",
       "      <th>9</th>\n",
       "      <td>19.0</td>\n",
       "      <td>0.802781</td>\n",
       "      <td>0.924771</td>\n",
       "      <td>[-0.041785516, -1.2308215, -0.18990034, 0.3572...</td>\n",
       "      <td>[-0.12104536, 0.6925767, -0.589619, -5.4890113...</td>\n",
       "      <td>[-0.17973909, -1.7396103, 0.21676445, -0.03138...</td>\n",
       "      <td>[-0.6266825, 0.9689894, -0.75531393, -0.067162...</td>\n",
       "      <td>[0.0, 1.5752137, -1.5517662, -1.5556042, 2.666...</td>\n",
       "      <td>[-1.5484432, 1.507437, 1.7432683, 0.8913791, -...</td>\n",
       "    </tr>\n",
       "  </tbody>\n",
       "</table>\n",
       "</div>"
      ],
      "text/plain": [
       "   layers  exact fidelity  bo_fidelity  \\\n",
       "0     NaN             NaN          NaN   \n",
       "1    11.0        0.950433     0.950428   \n",
       "2    11.0        0.954552     0.954550   \n",
       "3    13.0        0.956682     0.957655   \n",
       "4    13.0        0.981797     0.981802   \n",
       "5    15.0        0.985925     0.985947   \n",
       "6    15.0        0.990933     0.990956   \n",
       "7    17.0        0.968406     0.970360   \n",
       "8    17.0        0.967438     0.966374   \n",
       "9    19.0        0.802781     0.924771   \n",
       "\n",
       "                                             betas_r  \\\n",
       "0                                                NaN   \n",
       "1  [0.13488929, -0.2279579, 1.1900711, 0.43509567...   \n",
       "2  [0.17285644, -0.78989404, 1.00309, -0.5262413,...   \n",
       "3  [-1.4959601, 0.12065852, 0.40640476, 0.7171700...   \n",
       "4  [-0.55120164, -0.26413783, 0.5694336, -0.39084...   \n",
       "5  [-0.18695492, 0.17229891, -0.17504913, -0.6303...   \n",
       "6  [-0.39078707, 0.18847182, 0.29060218, 1.399566...   \n",
       "7  [-1.261571, 0.5790969, 0.80223453, -0.29630548...   \n",
       "8  [-0.84624076, 0.29551956, -0.75942636, 1.17960...   \n",
       "9  [-0.041785516, -1.2308215, -0.18990034, 0.3572...   \n",
       "\n",
       "                                             betas_i  \\\n",
       "0                                                NaN   \n",
       "1  [-0.10712488, 0.13559133, -0.6507451, -0.58729...   \n",
       "2  [0.3270558, 0.25732112, -0.19401479, 1.3082457...   \n",
       "3  [2.0538573, -0.066538274, 0.1521077, -1.302695...   \n",
       "4  [0.11368107, 0.03817838, 0.94696426, -0.649437...   \n",
       "5  [-0.070156455, 0.13179556, -1.217374, 0.315337...   \n",
       "6  [-0.057829283, 0.023464171, 0.2994163, -0.6007...   \n",
       "7  [-0.8183748, -0.9400312, -0.9215564, 0.0637713...   \n",
       "8  [-1.6586634, 0.8594143, -0.7507899, 0.8756961,...   \n",
       "9  [-0.12104536, 0.6925767, -0.589619, -5.4890113...   \n",
       "\n",
       "                                            gammas_r  \\\n",
       "0                                                NaN   \n",
       "1  [-0.36237377, 0.23904443, 1.3408138, 1.0947008...   \n",
       "2  [0.16590686, -0.5419412, 1.4737059, -1.1924573...   \n",
       "3  [0.7590362, 0.39382485, 0.72901905, 0.6690943,...   \n",
       "4  [-0.8165003, -0.41371986, 0.8166411, -0.142674...   \n",
       "5  [-0.34952122, 0.6596686, 0.13092962, -0.603915...   \n",
       "6  [-0.6865383, 0.30181718, 0.45632124, 1.4483935...   \n",
       "7  [-0.4423089, 0.4796788, 0.8411447, 0.013118093...   \n",
       "8  [0.84059894, 0.7466078, -0.7993753, 1.3652034,...   \n",
       "9  [-0.17973909, -1.7396103, 0.21676445, -0.03138...   \n",
       "\n",
       "                                            gammas_i  \\\n",
       "0                                                NaN   \n",
       "1  [0.06904714, 0.6659791, -0.5523455, -0.571282,...   \n",
       "2  [0.45779866, 0.17935115, 0.23337753, 0.2415098...   \n",
       "3  [-1.9477248, -0.23904711, 0.39981893, -1.13129...   \n",
       "4  [0.5218695, 0.21521403, 1.2906123, -1.0564995,...   \n",
       "5  [0.20513599, 0.3609476, -1.2222039, 0.31950614...   \n",
       "6  [0.058809236, -0.025054052, 0.61380696, -0.519...   \n",
       "7  [-1.3772258, -1.0527383, -1.2460705, 2.2957022...   \n",
       "8  [-1.3777792, 1.3321187, -1.1105727, 0.83760595...   \n",
       "9  [-0.6266825, 0.9689894, -0.75531393, -0.067162...   \n",
       "\n",
       "                                                phis  \\\n",
       "0                                                NaN   \n",
       "1  [0.0, -1.5908473, 1.6203401, -1.4826386, 1.664...   \n",
       "2  [0.0, -1.571004, -1.5705906, -1.5708115, 1.570...   \n",
       "3  [0.0, -1.0908506, -3.0995948, -0.6191318, 1.59...   \n",
       "4  [0.0, 0.21140075, -1.2504648, 2.8021662, 0.734...   \n",
       "5  [0.0, 1.571028, -1.5699112, -1.5698866, -1.568...   \n",
       "6  [0.0, -0.1189425, 1.4212506, -0.037353754, 0.3...   \n",
       "7  [0.0, -2.3265374, 2.7020667, -0.8680494, 3.033...   \n",
       "8  [0.0, 0.5394285, -2.9409158, -0.28232503, 2.20...   \n",
       "9  [0.0, 1.5752137, -1.5517662, -1.5556042, 2.666...   \n",
       "\n",
       "                                              thetas  \n",
       "0                                                NaN  \n",
       "1  [-1.6425663, -1.1996397, 1.4210985, -1.4897145...  \n",
       "2  [-1.5709168, 1.2717078, -1.738396, -0.3062799,...  \n",
       "3  [-0.0011246204, -1.5681852, 1.6403506, 2.06515...  \n",
       "4  [2.808502, -1.8815978, 1.4713604, 0.7745781, -...  \n",
       "5  [1.5700514, -1.4775774, 2.0863497, -2.3104353,...  \n",
       "6  [2.507467, 1.0317829, -1.5424844, 2.2423637, 2...  \n",
       "7  [-0.022977114, 1.5625865, -2.8954318, -1.28320...  \n",
       "8  [-0.00906992, -1.5698419, 0.78630114, -0.76380...  \n",
       "9  [-1.5484432, 1.507437, 1.7432683, 0.8913791, -...  "
      ]
     },
     "execution_count": 22,
     "metadata": {},
     "output_type": "execute_result"
    }
   ],
   "source": [
    "import pandas as pd\n",
    "filename = \"Parameter Dataset/01_02_to_10_20_Aug22_num_layers_params2.csv\"\n",
    "df = pd.read_csv(filename)\n",
    "df"
   ]
  },
  {
   "cell_type": "code",
   "execution_count": 23,
   "id": "26423dd1",
   "metadata": {},
   "outputs": [],
   "source": [
    "#taking parameters from the dataset\n",
    "import ast\n",
    "k = 6 #best result 0.99 fidelity\n",
    "param_df = df\n",
    "\n",
    "betas_r = ast.literal_eval(param_df['betas_r'][k])\n",
    "betas_i = ast.literal_eval(param_df['betas_i'][k])\n",
    "gammas_r = ast.literal_eval(param_df['gammas_r'][k])\n",
    "gammas_i = ast.literal_eval(param_df['gammas_i'][k])\n",
    "\n",
    "betas = np.asarray([complex(betas_r[l], betas_i[l]) for l in range(len(betas_r))] )\n",
    "gammas = np.asarray([complex(gammas_r[l], gammas_i[l]) for l in range(len(gammas_r))] )\n",
    "#print(betas)\n",
    "\n",
    "phis = np.asarray(ast.literal_eval(param_df['phis'][k]))\n",
    "thetas = np.asarray(ast.literal_eval(param_df['thetas'][k]))"
   ]
  },
  {
   "cell_type": "markdown",
   "id": "6d455852",
   "metadata": {},
   "source": [
    "# Calculator"
   ]
  },
  {
   "cell_type": "code",
   "execution_count": 24,
   "id": "93bc3307",
   "metadata": {},
   "outputs": [],
   "source": [
    "from qutip import *"
   ]
  },
  {
   "cell_type": "code",
   "execution_count": 25,
   "id": "c05c13ae",
   "metadata": {},
   "outputs": [],
   "source": [
    "def mod_disp_op(disp, n_q, n_c):\n",
    "    '''\n",
    "    Returns displacement operator using baken campbell formula\n",
    "    '''\n",
    "    pauli_like_x = (create(n_c) + destroy(n_c))\n",
    "    pauli_like_y = (1j)*(create(n_c) - destroy(n_c))\n",
    "    comm = (1/2)*((pauli_like_x*pauli_like_y) - (pauli_like_y*pauli_like_x))\n",
    "    re = np.real(disp)\n",
    "    im = np.imag(disp)\n",
    "\n",
    "    first = (1j*im*pauli_like_x).expm()\n",
    "    second = (-1j*re*pauli_like_y).expm()\n",
    "    third = ((im*re)*(-1)*comm).expm()\n",
    "    return first*second*third\n",
    "\n",
    "def disp_op(disp, n_q, n_c):\n",
    "    '''\n",
    "    Returns displacement operator for specified displacement\n",
    "    '''\n",
    "    #disp = normalize_complex(disp)\n",
    "    exponent = (disp*create(n_c))- (np.conjugate(disp)*destroy(n_c))\n",
    "    return  exponent.expm()\n",
    "\n",
    "def cond_disp_op(beta, n_q, n_c1, n_c2,mode, use_mod):\n",
    "    '''\n",
    "    Returns cond displacement operator for specified real displacement\n",
    "    '''\n",
    "    disp = beta/2\n",
    "    \n",
    "    n_c = n_c1 if mode == 1 else n_c2\n",
    "    \n",
    "    if use_mod: \n",
    "        d = mod_disp_op(disp= disp, n_q = n_q, n_c = n_c) #Baker Campbell Approx\n",
    "    else: \n",
    "        d = disp_op(disp= disp, n_q = n_q, n_c = n_c)\n",
    "    d_adjoint = d.dag()\n",
    "    \n",
    "    if mode == 1: \n",
    "        left = tensor(create(n_q), d, qeye(n_c2)) #D(beta/2)|e><g|\n",
    "        right = tensor(destroy(n_q), d_adjoint, qeye(n_c2)) #D(-beta/2)|g><e|   ...not sure d_adjoint(alpha) = d(-alpha) if use Baker\n",
    "    \n",
    "    else: #mode ==2 \n",
    "        left = tensor(create(n_q), qeye(n_c2), d)\n",
    "        right = tensor(destroy(n_q),  qeye(n_c2), d_adjoint)\n",
    "    return left+right\n",
    "\n",
    "def qubit_rot(phi, theta, n_q, n_c1, n_c2):\n",
    "    '''\n",
    "    Returns qubit rotation\n",
    "    '''\n",
    "    rot = (np.cos(phi)*sigmax()) + (np.sin(phi)*sigmay())\n",
    "    exp = (-1.0j)*(theta/2)*(rot)\n",
    "    return tensor(exp.expm(), qeye(n_c1), qeye(n_c2) )\n",
    "\n",
    "def normalize_complex(number):\n",
    "    '''\n",
    "    Returns radius r of complex number z = r*e^iphi\n",
    "    '''\n",
    "    return np.sqrt(number.real**2 + (number .imag**2))\n",
    "\n",
    "def dot(state1, state2):\n",
    "    '''\n",
    "    dotting both states\n",
    "    '''\n",
    "    fid = state1.overlap(state2)\n",
    "    return fid*np.conjugate(fid)\n",
    "\n",
    "def evolve(initial_state, betas, gammas, phis, thetas, n_q, n_c1, n_c2, use_mod = False):\n",
    "    '''\n",
    "    Operates on initial_state with ECD(beta_n)*R(phi_n, theta_n) *...........*ECD(beta_1)*R(phi_1, theta_1)\n",
    "    '''\n",
    "    n = len(betas)\n",
    "    state = initial_state\n",
    "    for i in range(n):\n",
    "        beta = betas[i]\n",
    "        gamma = gammas[i]\n",
    "        phi = phis[i]\n",
    "        theta = thetas[i]\n",
    "        \n",
    "  \n",
    "    \n",
    "        #state = cond_disp_op(gamma, n_q, n_c1,n_c2,mode = 2,use_mod = use_mod)*cond_disp_op(beta, n_q, n_c1,n_c2, mode = 1,use_mod = use_mod)*qubit_rot(phi, theta, n_q, n_c1, n_c2)*state\n",
    "        state = cond_disp_op(beta, n_q, n_c1,n_c2, mode = 1,use_mod = use_mod)*cond_disp_op(gamma, n_q, n_c1,n_c2,mode = 2,use_mod = use_mod)*qubit_rot(phi, theta, n_q, n_c1, n_c2)*state\n",
    "           \n",
    "    return state\n",
    "        \n",
    "        "
   ]
  },
  {
   "cell_type": "code",
   "execution_count": 26,
   "id": "a29849df",
   "metadata": {},
   "outputs": [],
   "source": [
    "# initial = tensor(basis(2, 0), basis(N1, 0), basis(N2, 1))\n",
    "# target = tensor(basis(2, 0), basis(N1, 1), basis(N2, 0))\n",
    "# pi_target = tensor(basis(2, 1), basis(N1, 1), basis(N2, 0))"
   ]
  },
  {
   "cell_type": "code",
   "execution_count": 31,
   "id": "688e3211",
   "metadata": {},
   "outputs": [
    {
     "data": {
      "text/plain": [
       "(0.9927775512081825+0j)"
      ]
     },
     "execution_count": 31,
     "metadata": {},
     "output_type": "execute_result"
    }
   ],
   "source": [
    "rho_calc = evolve(initial[0],betas,gammas, phis, thetas,n_q = 2,n_c1 = N1, n_c2 = N2,\n",
    "                   use_mod = True)\n",
    "fid1 = dot(target[0], rho_calc)\n",
    "fid1"
   ]
  },
  {
   "cell_type": "code",
   "execution_count": 32,
   "id": "300e6e11",
   "metadata": {},
   "outputs": [
    {
     "data": {
      "text/plain": [
       "(0.9891140837804437+0j)"
      ]
     },
     "execution_count": 32,
     "metadata": {},
     "output_type": "execute_result"
    }
   ],
   "source": [
    "rho_calc = evolve(initial[1],betas,gammas, phis, thetas,n_q = 2,n_c1 = N1, n_c2 = N2,\n",
    "                   use_mod = True)\n",
    "fid2 = dot(target[1], rho_calc)\n",
    "fid2"
   ]
  },
  {
   "cell_type": "code",
   "execution_count": 29,
   "id": "571c2b7c",
   "metadata": {},
   "outputs": [
    {
     "data": {
      "text/plain": [
       "(0.9909458174943131+0j)"
      ]
     },
     "execution_count": 29,
     "metadata": {},
     "output_type": "execute_result"
    }
   ],
   "source": [
    "np.mean([fid1, fid2])"
   ]
  },
  {
   "cell_type": "code",
   "execution_count": 59,
   "id": "29ca6aac",
   "metadata": {},
   "outputs": [
    {
     "data": {
      "text/plain": [
       "0.5176234"
      ]
     },
     "execution_count": 59,
     "metadata": {},
     "output_type": "execute_result"
    }
   ],
   "source": [
    "opt.best_circuit()['fidelity']"
   ]
  },
  {
   "cell_type": "code",
   "execution_count": 60,
   "id": "c6cefe57",
   "metadata": {},
   "outputs": [],
   "source": [
    "# opt.batch_construct_block_operators(\n",
    "#         opt.betas_rho, \n",
    "#     opt.betas_angle,opt.gammas_rho, opt.gammas_angle,\n",
    "#         opt.alphas1_rho, opt.alphas1_angle, opt.alphas2_rho, opt.alphas2_angle,\n",
    "#         opt.phis, opt.etas, opt.thetas)"
   ]
  },
  {
   "cell_type": "code",
   "execution_count": 61,
   "id": "78fcc0a0",
   "metadata": {},
   "outputs": [],
   "source": [
    "# i= 0 \n",
    "# beta = betas[i]\n",
    "# gamma = gammas[i]\n",
    "# phi = phis[i]\n",
    "# theta = thetas[i]\n",
    "# n_q = 2\n",
    "# n_c1 = N1\n",
    "# n_c2 = N2\n",
    "# use_mod = True\n",
    "  \n",
    "# cond_disp_op(beta, n_q, n_c1,n_c2, mode = 1,use_mod = use_mod)*cond_disp_op(gamma, n_q, n_c1,n_c2,mode = 2,use_mod = use_mod)*qubit_rot(phi, theta, n_q, n_c1, n_c2)\n",
    "           "
   ]
  },
  {
   "cell_type": "markdown",
   "id": "ade4bfac",
   "metadata": {},
   "source": [
    "# Pulse"
   ]
  },
  {
   "cell_type": "code",
   "execution_count": 33,
   "id": "df740ef9",
   "metadata": {},
   "outputs": [],
   "source": [
    "from DECD_pulse import *"
   ]
  },
  {
   "cell_type": "code",
   "execution_count": 34,
   "id": "1e1044bf",
   "metadata": {},
   "outputs": [],
   "source": [
    "#Our cavity and qubit. When using pulse construction on the FPGA, these objects can be loaded, and \n",
    "#Here, we are making a \"FakeCavity\" and a \"FakeQubit\" with parameters found from experimental calibrations.\n",
    "\n",
    "storage1_params = {\n",
    "        \"chi_kHz\": -33, #dispersive shift\n",
    "        \"chi_prime_Hz\": 0, #second order dispersive shift\n",
    "        \"Ks_Hz\": 0, #Kerr correction not yet implemented.\n",
    "        \"epsilon_m_MHz\": 400, #largest oscillator drive amplitude in MHz (max|epsilon|)\n",
    "        \"unit_amp\": 0.01, #DAC unit amp of gaussian displacement to alpha=1.\n",
    "        \"sigma\": 11, #oscillator displacement sigma\n",
    "        \"chop\": 4, #oscillator displacement chop (number of stds. to include in gaussian pulse)\n",
    "    }\n",
    "storage2_params = {\n",
    "        \"chi_kHz\": -33, #dispersive shift\n",
    "        \"chi_prime_Hz\": 0, #second order dispersive shift\n",
    "        \"Ks_Hz\": 0, #Kerr correction not yet implemented.\n",
    "        \"epsilon_m_MHz\": 400, #largest oscillator drive amplitude in MHz (max|epsilon|)\n",
    "        \"unit_amp\": 0.01, #DAC unit amp of gaussian displacement to alpha=1.\n",
    "        \"sigma\": 11, #oscillator displacement sigma\n",
    "        \"chop\": 4, #oscillator displacement chop (number of stds. to include in gaussian pulse)\n",
    "    }\n",
    "qubit_params = {'unit_amp': 0.5, 'sigma': 6, 'chop': 4} #parameters for qubit pi pulse.\n",
    "\n",
    "#calculating conversion between qubit DAC units and MHz (Omega)\n",
    "pi = rotate(np.pi, phi=0, sigma=qubit_params['sigma'], chop=qubit_params['chop'], dt=1)\n",
    "Omega_m = np.real(np.max(pi))/qubit_params['unit_amp']\n",
    "\n",
    "#creating the \"Fake storage\" and \"Fake qubit\"\n",
    "storage1 = FakeStorage(**storage1_params)\n",
    "storage2 = FakeStorage(**storage2_params)\n",
    "qubit = FakeQubit(**qubit_params)\n",
    "\n",
    "#The maximum displacement used during the ECD gates.\n",
    "alpha_CD1 = 30\n",
    "alpha_CD2 = 30\n",
    "#Small delay to insert between oscillator and qubit pulses\n",
    "buffer_time = 4"
   ]
  },
  {
   "cell_type": "code",
   "execution_count": 35,
   "id": "8fabf180",
   "metadata": {},
   "outputs": [
    {
     "name": "stdout",
     "output_type": "stream",
     "text": [
      "Maximum oscillator 1 drive amplitude: |epsilon|/2*pi < 690.790 MHz\n",
      "Maximum oscillator 2 drive amplitude: |epsilon|/2*pi < 690.790 MHz\n",
      "Maximum qubit drive amplitude: |Omega|/2*pi < 40.468 MHz\n"
     ]
    }
   ],
   "source": [
    "#From these calibrations, the storage and qubit objects calculate the\n",
    "#conversion between DAC amplitude, and drive amplitude in MHz.\n",
    "#so, [Omega(t) in MHz] = [Omega(t) in DAC units]*Omega_m_MHz \n",
    "#and [Omega(t) in MHz] = [Omega(t) in DAC units]*Omega_m_MHz.\n",
    "#These parameters also represent the maximum drive amplitude,\n",
    "#since the DAC max amplitude is 1 (assuming amplifiers don't saturate.)\n",
    "print('Maximum oscillator 1 drive amplitude: |epsilon|/2*pi < %.3f MHz' % storage1.epsilon_m_MHz)\n",
    "print('Maximum oscillator 2 drive amplitude: |epsilon|/2*pi < %.3f MHz' % storage2.epsilon_m_MHz)\n",
    "print('Maximum qubit drive amplitude: |Omega|/2*pi < %.3f MHz' % qubit.Omega_m_MHz)\n"
   ]
  },
  {
   "cell_type": "code",
   "execution_count": 37,
   "id": "07344bd8",
   "metadata": {},
   "outputs": [
    {
     "name": "stdout",
     "output_type": "stream",
     "text": [
      "---------------------------------------------------\n",
      "final displacement is 0.3950961297452614\n",
      "---------------------------------------------------\n",
      "final displacement is 0.6890525115009684\n",
      "---------------------------------------------------\n",
      "final displacement is 0.18995248524428412\n",
      "---------------------------------------------------\n",
      "final displacement is 0.3028962086741414\n",
      "---------------------------------------------------\n",
      "final displacement is 0.4172526185974606\n",
      "---------------------------------------------------\n",
      "final displacement is 0.7648451204129945\n",
      "---------------------------------------------------\n",
      "final displacement is 1.5230606901453558\n",
      "---------------------------------------------------\n",
      "final displacement is 1.5386965552621545\n",
      "---------------------------------------------------\n",
      "final displacement is 0.6215965888394649\n",
      "---------------------------------------------------\n",
      "final displacement is 0.5742501338782255\n",
      "---------------------------------------------------\n",
      "final displacement is 0.9824657535281444\n",
      "---------------------------------------------------\n",
      "final displacement is 0.9682595945791259\n",
      "---------------------------------------------------\n",
      "final displacement is 0.7119805103443021\n",
      "---------------------------------------------------\n",
      "final displacement is 0.5778351361466991\n",
      "---------------------------------------------------\n",
      "final displacement is 0.6478055693606405\n",
      "---------------------------------------------------\n",
      "final displacement is 0.5849001615450564\n",
      "---------------------------------------------------\n",
      "final displacement is 1.2829196309020607\n",
      "---------------------------------------------------\n",
      "final displacement is 1.2210604333124777\n",
      "---------------------------------------------------\n",
      "final displacement is 1.7289079789918058\n",
      "---------------------------------------------------\n",
      "final displacement is 1.5827593104930748\n",
      "---------------------------------------------------\n",
      "final displacement is 0.9772021670990858\n",
      "---------------------------------------------------\n",
      "final displacement is 1.1566337193621639\n",
      "---------------------------------------------------\n",
      "final displacement is 1.3495891549690047\n",
      "---------------------------------------------------\n",
      "final displacement is 1.1240719929400258\n",
      "---------------------------------------------------\n",
      "final displacement is 0.4000205254982225\n",
      "---------------------------------------------------\n",
      "final displacement is 0.3885565349385202\n",
      "---------------------------------------------------\n",
      "final displacement is 1.7121347005696268\n",
      "---------------------------------------------------\n",
      "final displacement is 1.4848213589190644\n",
      "---------------------------------------------------\n",
      "final displacement is 1.8956642035427926\n",
      "---------------------------------------------------\n",
      "final displacement is 1.859445758210848\n"
     ]
    }
   ],
   "source": [
    "#generating the conditional displacement circuit.\n",
    "#set 'chi_prime_correction = True' to correct for linear part of chi'\n",
    "#final_disp = True will implement final ECD gate as a displacement\n",
    "pulse_dict = conditional_displacement_circuit(betas, gammas, phis, thetas, storage1, storage2, qubit,\n",
    "                     alpha_CD1, alpha_CD2 ,buffer_time=buffer_time, kerr_correction = False, chi_prime_correction=True, final_disp=True, pad=True)\n",
    "cavity1_dac_pulse, cavity2_dac_pulse, qubit_dac_pulse, = pulse_dict['cavity1_dac_pulse'], pulse_dict['cavity2_dac_pulse'], pulse_dict['qubit_dac_pulse']\n",
    "\n"
   ]
  },
  {
   "cell_type": "code",
   "execution_count": 38,
   "id": "3ebe824d",
   "metadata": {},
   "outputs": [],
   "source": [
    "cavity1_dac_pulse_GHz = (2*np.pi)*(10**(-3))*storage1.epsilon_m_MHz*cavity1_dac_pulse #convert from DAC to Mhz to Ghz\n",
    "cavity2_dac_pulse_GHz = (2*np.pi)*(10**(-3))*storage2.epsilon_m_MHz*cavity2_dac_pulse #convert from DAC to Mhz to Ghz\n",
    "qubit_dac_pulse_GHz = (2*np.pi)*10**(-3)*qubit.Omega_m_MHz*qubit_dac_pulse #convert from DAC to Mhz to Ghz"
   ]
  },
  {
   "cell_type": "code",
   "execution_count": 39,
   "id": "8463edd2",
   "metadata": {},
   "outputs": [
    {
     "data": {
      "text/plain": [
       "Text(0, 0.5, 'Ghz')"
      ]
     },
     "execution_count": 39,
     "metadata": {},
     "output_type": "execute_result"
    },
    {
     "data": {
      "image/png": "[encoded data removed]",
      "text/plain": [
       "<Figure size 842.4x595.44 with 3 Axes>"
      ]
     },
     "metadata": {
      "needs_background": "light"
     },
     "output_type": "display_data"
    }
   ],
   "source": [
    "#plotting the pulse in GHz\n",
    "fig, axs = plt.subplots(3,1)\n",
    "axs[0].plot(np.real(cavity1_dac_pulse_GHz))\n",
    "axs[0].plot(np.imag(cavity1_dac_pulse_GHz))\n",
    "axs[1].plot(np.real(cavity2_dac_pulse_GHz))\n",
    "axs[1].plot(np.imag(cavity2_dac_pulse_GHz))\n",
    "axs[0].set_ylabel('Cavity 1 (Ghz)', fontsize = 10)\n",
    "axs[1].set_ylabel('Cavity 2 (Ghz)', fontsize = 10)\n",
    "axs[2].plot(np.real(qubit_dac_pulse_GHz))\n",
    "axs[2].plot(np.imag(qubit_dac_pulse_GHz))\n",
    "plt.xlabel('ns')\n",
    "plt.ylabel('Ghz')"
   ]
  },
  {
   "cell_type": "code",
   "execution_count": 40,
   "id": "6f7ed564",
   "metadata": {},
   "outputs": [],
   "source": [
    "def alpha_from_epsilon_nonlinear_finite_difference(\n",
    "    epsilon_array, delta=0, alpha_init=0 + 0j):\n",
    "    dt = 1\n",
    "    alpha_ = np.zeros_like(epsilon_array)\n",
    "    alpha = np.array([complex(0,0) for i in range(len(alpha_))])\n",
    "    alpha[0] = alpha_init\n",
    "    alpha[1] = alpha_init\n",
    "    for j in range(1, len(epsilon_array) - 1):\n",
    "        alpha[j + 1] = (\n",
    "                2*\n",
    "                 dt\n",
    "                * (\n",
    "                    -1j * delta# * alpha[j]\n",
    "                    #- 2j * Ks * np.abs(alpha[j]) ** 2 * alpha[j]\n",
    "                    #- (kappa / 2.0) * alpha[j]\n",
    "                    - 1j * epsilon_array[j]\n",
    "                )\n",
    "                + alpha[j - 1])\n",
    "    return alpha"
   ]
  },
  {
   "cell_type": "code",
   "execution_count": 41,
   "id": "a83c79f7",
   "metadata": {},
   "outputs": [],
   "source": [
    "def alpha_star_from_epsilon_nonlinear_finite_difference(\n",
    "    epsilon_array, delta=0, alpha_init=0 + 0j):\n",
    "    dt = 1\n",
    "    alpha_ = np.zeros_like(epsilon_array)\n",
    "    alpha = np.array([complex(0,0) for i in range(len(alpha_))])\n",
    "    alpha[0] = alpha_init\n",
    "    alpha[1] = alpha_init\n",
    "    for j in range(1, len(epsilon_array) - 1):\n",
    "        alpha[j + 1] = (\n",
    "                2*\n",
    "                 dt\n",
    "                * (\n",
    "                    1j * delta# * alpha[j]\n",
    "                    #- 2j * Ks * np.abs(alpha[j]) ** 2 * alpha[j]\n",
    "                    #- (kappa / 2.0) * alpha[j]\n",
    "                    + 1j * epsilon_array[j]\n",
    "                )\n",
    "                + alpha[j - 1])\n",
    "    return alpha"
   ]
  },
  {
   "cell_type": "code",
   "execution_count": 42,
   "id": "497eb9dd",
   "metadata": {},
   "outputs": [],
   "source": [
    "alpha1 = alpha_from_epsilon_nonlinear_finite_difference(\n",
    "    epsilon_array =cavity1_dac_pulse_GHz , delta=0, alpha_init=0 + 0j)\n",
    "alpha1_star = alpha_star_from_epsilon_nonlinear_finite_difference(\n",
    "    epsilon_array =np.conjugate(cavity1_dac_pulse_GHz) , delta=0, alpha_init=0 + 0j)"
   ]
  },
  {
   "cell_type": "code",
   "execution_count": 43,
   "id": "000f0690",
   "metadata": {},
   "outputs": [],
   "source": [
    "alpha2 = alpha_from_epsilon_nonlinear_finite_difference(\n",
    "    epsilon_array =cavity2_dac_pulse_GHz , delta=0, alpha_init=0 + 0j)\n",
    "alpha2_star = alpha_star_from_epsilon_nonlinear_finite_difference(\n",
    "    epsilon_array =np.conjugate(cavity2_dac_pulse_GHz) , delta=0, alpha_init=0 + 0j)"
   ]
  },
  {
   "cell_type": "code",
   "execution_count": 44,
   "id": "224aa82b",
   "metadata": {},
   "outputs": [
    {
     "data": {
      "text/plain": [
       "Text(0, 0.5, 'alpha2')"
      ]
     },
     "execution_count": 44,
     "metadata": {},
     "output_type": "execute_result"
    },
    {
     "data": {
      "image/png": "[encoded data removed]",
      "text/plain": [
       "<Figure size 842.4x595.44 with 4 Axes>"
      ]
     },
     "metadata": {
      "needs_background": "light"
     },
     "output_type": "display_data"
    }
   ],
   "source": [
    "fig, axs = plt.subplots(4,1)\n",
    "axs[0].plot(np.real(cavity1_dac_pulse_GHz))\n",
    "axs[0].plot(np.imag(cavity1_dac_pulse_GHz))\n",
    "axs[0].set_ylabel(' cav 1 Ghz', fontsize = 10)\n",
    "\n",
    "\n",
    "axs[1].plot(np.real(alpha1))\n",
    "axs[1].plot(np.imag(alpha1))\n",
    "axs[1].set_ylabel('alpha1', fontsize = 10)\n",
    "\n",
    "axs[2].plot(np.real(cavity2_dac_pulse_GHz))\n",
    "axs[2].plot(np.imag(cavity2_dac_pulse_GHz))\n",
    "axs[2].set_ylabel('cav 2 (Ghz)', fontsize = 10)\n",
    "\n",
    "axs[3].plot(np.real(alpha2))\n",
    "axs[3].plot(np.imag(alpha2))\n",
    "axs[3].set_ylabel('alpha2', fontsize = 10)\n",
    "\n",
    "# axs[2].plot(np.real(alpha1_star))\n",
    "# axs[2].plot(np.imag(alpha1_star))\n",
    "# axs[2].set_ylabel('alpha1_star', fontsize = 10)\n",
    "# plt.xlabel('ns')\n",
    "\n",
    "\n",
    "\n",
    "# axs[2].plot(np.real(alpha2_star))\n",
    "# axs[2].plot(np.imag(alpha2_star))\n",
    "# axs[2].set_ylabel('alpha2_star', fontsize = 10)\n",
    "# plt.xlabel('ns')"
   ]
  },
  {
   "cell_type": "markdown",
   "id": "988a23cf",
   "metadata": {},
   "source": [
    "# Qutip Simulation"
   ]
  },
  {
   "cell_type": "code",
   "execution_count": 45,
   "id": "26ad3bc8",
   "metadata": {},
   "outputs": [],
   "source": [
    "from qutip import *\n",
    "from qutip.control import *\n",
    "from math import *"
   ]
  },
  {
   "cell_type": "code",
   "execution_count": 46,
   "id": "957eba7e",
   "metadata": {},
   "outputs": [],
   "source": [
    "T = len(cavity1_dac_pulse)\n",
    "times = np.linspace(0, T, T) #1ns timesteps"
   ]
  },
  {
   "cell_type": "code",
   "execution_count": 47,
   "id": "d3180175",
   "metadata": {},
   "outputs": [],
   "source": [
    "n_c1 = N1  #number of levels in cavity\n",
    "n_c2 = N2  #number of levels in cavity\n",
    "n_q = 2 #number of levels in qubit\n",
    "\n",
    "#N = 1 #target cavity state\n",
    "\n",
    "omega_c1  = 5.26 *2*pi   #frequencies in GHz\n",
    "omega_c2 = 5.26 *2*pi   #frequencies in GHz\n",
    "omega_q = 6.65*2*pi\n",
    "#K = -3.7*(10**(-6))*2*pi #cavity nonlinearity\n",
    "\n",
    "#photon depenedent number shifts\n",
    "chi1 = storage1_params[\"chi_kHz\"]*2*pi*(10**(-6)) #linear\n",
    "chi1_ = storage1_params[\"chi_prime_Hz\"]*(10**(-9)) #quadratic\n",
    "chi2 = storage2_params[\"chi_kHz\"]*2*pi*(10**(-6)) #linear\n",
    "chi2_ = storage2_params[\"chi_prime_Hz\"]*(10**(-9)) #quadratic\n",
    "\n",
    "##mode to mode coupling \n",
    "eta = 0#10**(-6)"
   ]
  },
  {
   "cell_type": "markdown",
   "id": "70eb1866",
   "metadata": {},
   "source": [
    "Assuming both modes have same number of levels"
   ]
  },
  {
   "cell_type": "code",
   "execution_count": 48,
   "id": "713517ab",
   "metadata": {},
   "outputs": [],
   "source": [
    "# Creating identity, annhilitation/creation, num operators \n",
    "identity_q = qeye(n_q)\n",
    "identity_c = qeye(n_c1)\n",
    "\n",
    "a_q = destroy(n_q)\n",
    "a_c = destroy(n_c1)\n",
    "\n",
    "adag_q = create(n_q)\n",
    "adag_c = create(n_c2)\n",
    "\n",
    "num_q = num(n_q)\n",
    "num_c =  num(n_c1)\n",
    "\n",
    "\n",
    "c_ops = []\n",
    "\n",
    "tlist = times\n",
    "\n",
    "\n"
   ]
  },
  {
   "cell_type": "code",
   "execution_count": 49,
   "id": "3880fea6",
   "metadata": {},
   "outputs": [],
   "source": [
    "# Displace Frame hammy\n",
    "H0_disp = ((chi1/2)*tensor(sigmaz(), num_c, identity_c) # first mode -qubit\n",
    "            +\n",
    "          (chi2/2)*tensor(sigmaz(), identity_c, num_c) # 2nd mode - qubit\n",
    "           +\n",
    "          (eta)*tensor(identity_q, num_c, num_c)) # MODE-MODE"
   ]
  },
  {
   "cell_type": "code",
   "execution_count": 50,
   "id": "eda50509",
   "metadata": {},
   "outputs": [],
   "source": [
    "#for time dep hammy\n",
    "def mult(a,b):\n",
    "    '''\n",
    "    Elementwise multiplication of two lists\n",
    "    '''\n",
    "    if len(a) != len(b):\n",
    "        print('Error with mult: lists must be of same length')\n",
    "        return []\n",
    "    return [a[i]*b[i] for i in range(len(a)) ]\n",
    "    "
   ]
  },
  {
   "cell_type": "code",
   "execution_count": 51,
   "id": "30001b47",
   "metadata": {},
   "outputs": [],
   "source": [
    "a = alpha2\n",
    "b = alpha2_star"
   ]
  },
  {
   "cell_type": "code",
   "execution_count": 52,
   "id": "496b92b8",
   "metadata": {},
   "outputs": [],
   "source": [
    "# prepping time depedent hammys\n",
    "alpha1_sq =np.real( [np.real(i)**2 + np.imag(i)**2 for i in alpha1])\n",
    "alpha2_sq =np.real( [np.real(i)**2 + np.imag(i)**2 for i in alpha2])\n",
    "alpha1_times_2 = mult(alpha1, alpha2)\n",
    "alpha1star_times_2 = mult(alpha1_star, alpha2)\n",
    "\n",
    "\n",
    "H = [H0_disp,\n",
    "     #Qubit drive\n",
    "    [tensor(a_q, identity_c, identity_c), np.conjugate(qubit_dac_pulse_GHz)], \n",
    "     [tensor(adag_q, identity_c, identity_c), qubit_dac_pulse_GHz],\n",
    "     \n",
    "     # Desired Displacement term from qubit-mode1 coupling\n",
    "     [(chi1/2)*tensor(sigmaz(), a_c, identity_c), alpha1_star],  \n",
    "     [(chi1/2)*tensor(sigmaz(), adag_c, identity_c), alpha1],\n",
    "     \n",
    "     # Desired Displacement term from qubit-mode2 coupling\n",
    "     [(chi2/2)*tensor(sigmaz(),  identity_c, a_c), b],  \n",
    "     [(chi2/2)*tensor(sigmaz(), identity_c, adag_c), a],\n",
    "     \n",
    "     # UnDesired Displacement term from mode-mode coupling (no disp^2)\n",
    "     \n",
    "#      [(eta)*tensor(identity_q, a_c, num_c), alpha1_star],  \n",
    "#      [(eta)*tensor(identity_q, adag_c, num_c), alpha1],\n",
    "#      [(eta)*tensor(identity_q, num_c, a_c), alpha2_star],  \n",
    "#      [(eta)*tensor(identity_q, num_c, adag_c), alpha2],\n",
    "     \n",
    "#      [(eta)*tensor(identity_q, a_c, a_c), np.conjugate(alpha1_times_2)],  \n",
    "# #      [(eta)*tensor(identity_q, a_c, adag_c), alpha1star_times_2],\n",
    "#      [(eta)*tensor(identity_q, adag_c, a_c), np.conjugate(alpha1star_times_2)],  \n",
    "# #     [(eta)*tensor(identity_q, adag_c, adag_c), alpha1_times_2],\n",
    "     \n",
    "     # Undesired alpha^2 terms from frequency and mode-mode displacement\n",
    "#       [(chi1/2)*tensor(sigmaz(), identity_c, identity_c), alpha1_sq],\n",
    "#      [(chi2/2)*tensor(sigmaz(), identity_c, identity_c), alpha2_sq],\n",
    "#      [(eta)*tensor(identity_q, identity_c, num_c), alpha1_sq],\n",
    "#      [(eta)*tensor(identity_q, identity_c, num_c), alpha2_sq]\n",
    "     ]"
   ]
  },
  {
   "cell_type": "code",
   "execution_count": 53,
   "id": "74f4bf6a",
   "metadata": {},
   "outputs": [],
   "source": [
    "psi0 = initial[0]\n",
    "opts = Options(store_states=True, store_final_state=True,nsteps = 40000,max_step = 10)\n",
    "output1 = mesolve(H, psi0 , times, c_ops, [], options =opts)\n",
    "rho = output1.states[-1]"
   ]
  },
  {
   "cell_type": "code",
   "execution_count": 54,
   "id": "9e6677eb",
   "metadata": {},
   "outputs": [
    {
     "data": {
      "text/plain": [
       "(0.9768566859560645+0j)"
      ]
     },
     "execution_count": 54,
     "metadata": {},
     "output_type": "execute_result"
    }
   ],
   "source": [
    "dot(rho, target[0])"
   ]
  },
  {
   "cell_type": "code",
   "execution_count": 55,
   "id": "bc2dc500",
   "metadata": {},
   "outputs": [],
   "source": [
    "psi0 = initial[1]\n",
    "opts = Options(store_states=True, store_final_state=True,nsteps = 40000,max_step = 10)\n",
    "output2 = mesolve(H, psi0 , times, c_ops, [], options =opts)\n",
    "rho = output2.states[-1]"
   ]
  },
  {
   "cell_type": "code",
   "execution_count": 56,
   "id": "624ba8ec",
   "metadata": {},
   "outputs": [
    {
     "data": {
      "text/plain": [
       "(0.9791659173839753+0j)"
      ]
     },
     "execution_count": 56,
     "metadata": {},
     "output_type": "execute_result"
    }
   ],
   "source": [
    "dot(rho, target[1])"
   ]
  },
  {
   "cell_type": "code",
   "execution_count": 57,
   "id": "19cd4aab",
   "metadata": {},
   "outputs": [],
   "source": [
    "psi0 = (1/np.sqrt(2))*(initial[0] + initial[1])\n",
    "opts = Options(store_states=True, store_final_state=True,nsteps = 40000,max_step = 10)\n",
    "output3 = mesolve(H, psi0 , times, c_ops, [], options =opts)\n",
    "rho = output3.states[-1]"
   ]
  },
  {
   "cell_type": "code",
   "execution_count": 58,
   "id": "da91ba0d",
   "metadata": {},
   "outputs": [
    {
     "data": {
      "text/plain": [
       "(0.9781243944854614+0j)"
      ]
     },
     "execution_count": 58,
     "metadata": {},
     "output_type": "execute_result"
    }
   ],
   "source": [
    "dot(rho, (1/np.sqrt(2))*(target[0] + target[1]))"
   ]
  },
  {
   "cell_type": "code",
   "execution_count": 52,
   "id": "d1fefc05",
   "metadata": {},
   "outputs": [],
   "source": [
    "# target_state = tensor(basis(n_q,1), basis(n_c1, 1), basis(n_c2, 0))\n",
    "# fidelity = rho.overlap(target_state)\n",
    "# fid = np.sqrt(fidelity.real**2 + fidelity.imag**2)\n",
    "# print('Fidelity is '+ str(fid))"
   ]
  },
  {
   "cell_type": "code",
   "execution_count": 53,
   "id": "f44af405",
   "metadata": {},
   "outputs": [],
   "source": [
    "# target_state = tensor(basis(n_q,0), basis(n_c1, 1), basis(n_c2, 0))\n",
    "# fidelity = rho.overlap(target_state)\n",
    "# fid = np.sqrt(fidelity.real**2 + fidelity.imag**2)\n",
    "# print('Fidelity is '+ str(fid))"
   ]
  },
  {
   "cell_type": "code",
   "execution_count": 54,
   "id": "db91e666",
   "metadata": {},
   "outputs": [],
   "source": [
    "import pylab as plot\n",
    "params = {'legend.fontsize': 15,\n",
    "          'legend.handlelength': 2}\n",
    "plot.rcParams.update(params)"
   ]
  },
  {
   "cell_type": "code",
   "execution_count": null,
   "id": "dbd2da94",
   "metadata": {},
   "outputs": [],
   "source": [
    "def plot_populations(output, figname, title):\n",
    "    '''\n",
    "    Given output of mesolve, outputs populations with qubit as ground\n",
    "    '''\n",
    "    fig, axs = plt.subplots(2,1, figsize=(10,8))\n",
    "    probs = []\n",
    "    times = [k for k in range(len(output.states))]\n",
    "    max_num_levels = 3 # to be shown on the plot\n",
    "    \n",
    "    #qubit grounded\n",
    "    for i in range(max_num_levels):\n",
    "        for j in range(max_num_levels):\n",
    "            target = tensor(basis(n_q,0), basis(n_c1, i), basis(n_c2, j))\n",
    "            pops = []\n",
    "            for k in range(len(output.states)): \n",
    "                z = target.overlap(output.states[k])\n",
    "                pops.append(z.real**2 + z.imag**2)\n",
    "            axs[0].plot(times, pops, label = '|g,'+str(i)+',' + str(j)+'>')\n",
    "    \n",
    "    #qubit excited\n",
    "    for i in range(max_num_levels):\n",
    "        for j in range(max_num_levels):\n",
    "            target = tensor(basis(n_q,1), basis(n_c1, i), basis(n_c2, j))\n",
    "            pops = []\n",
    "            for k in range(len(output.states)): \n",
    "                z = target.overlap(output.states[k])\n",
    "                pops.append(z.real**2 + z.imag**2)\n",
    "            axs[1].plot(times, pops, linestyle = '--',  label = '|e,'+str(i)+',' + str(j)+'>')\n",
    "            \n",
    "    axs[1].set_xlabel(\"Time (ns)\", fontsize = 14)\n",
    "    axs[1].set_ylabel(\"Populations\", fontsize = 14)\n",
    "    axs[0].set_ylabel(\"Populations\", fontsize = 14)\n",
    "#     axs[0].set_xticks(fontsize= 10)\n",
    "#     axs[1].set_yticks(fontsize= 10)\n",
    "#     axs[0].set_yticks(fontsize= 10)\n",
    "#     plt.legend(prop={'size': 20},  fontsize = 8, loc='upper center', bbox_to_anchor=(0.5, 1.05),\n",
    "#           ncol=3, fancybox=True, shadow=True)   \n",
    "    axs[0].legend(loc='center left', bbox_to_anchor=(1, 0.5))\n",
    "    axs[1].legend(loc='center left', bbox_to_anchor=(1, 0.5))\n",
    "    #plt.legend()\n",
    "    fig.suptitle(title, fontsize = 15)\n",
    "    plt.tight_layout()\n",
    "    fig.savefig(figname, dpi = 1000)"
   ]
  },
  {
   "cell_type": "code",
   "execution_count": null,
   "id": "e275af0b",
   "metadata": {},
   "outputs": [],
   "source": [
    "plot_populations(output1, 'g01g02_g20g10_only_g10.png', r'$g01 \\rightarrow g10$ (15 layers, 15 levels)',)"
   ]
  },
  {
   "cell_type": "code",
   "execution_count": null,
   "id": "1e4d0c09",
   "metadata": {},
   "outputs": [],
   "source": [
    "plot_populations(output2, 'g01g02_g20g10_only_g20.png', r'$g02 \\rightarrow g20$ (15 layers, 15 levels)')"
   ]
  },
  {
   "cell_type": "code",
   "execution_count": null,
   "id": "70b1775a",
   "metadata": {},
   "outputs": [],
   "source": [
    "plot_populations(output3, 'g01g02_g20g10_both_g10_g20.png', r'$\\frac{1}{\\sqrt{2}}(g01 + g02) \\rightarrow \\frac{1}{\\sqrt{2}}(g10 + g20)$ (15 layers, 15 levels)')"
   ]
  },
  {
   "cell_type": "code",
   "execution_count": null,
   "id": "61c5b53a",
   "metadata": {},
   "outputs": [],
   "source": []
  }
 ],
 "metadata": {
  "kernelspec": {
   "display_name": "Python 3 (ipykernel)",
   "language": "python",
   "name": "python3"
  },
  "language_info": {
   "codemirror_mode": {
    "name": "ipython",
    "version": 3
   },
   "file_extension": ".py",
   "mimetype": "text/x-python",
   "name": "python",
   "nbconvert_exporter": "python",
   "pygments_lexer": "ipython3",
   "version": "3.9.12"
  },
  "toc": {
   "base_numbering": 1,
   "nav_menu": {},
   "number_sections": true,
   "sideBar": true,
   "skip_h1_title": false,
   "title_cell": "Table of Contents",
   "title_sidebar": "Contents",
   "toc_cell": false,
   "toc_position": {},
   "toc_section_display": true,
   "toc_window_display": false
  },
  "varInspector": {
   "cols": {
    "lenName": 16,
    "lenType": 16,
    "lenVar": 40
   },
   "kernels_config": {
    "python": {
     "delete_cmd_postfix": "",
     "delete_cmd_prefix": "del ",
     "library": "var_list.py",
     "varRefreshCmd": "print(var_dic_list())"
    },
    "r": {
     "delete_cmd_postfix": ") ",
     "delete_cmd_prefix": "rm(",
     "library": "var_list.r",
     "varRefreshCmd": "cat(var_dic_list()) "
    }
   },
   "types_to_exclude": [
    "module",
    "function",
    "builtin_function_or_method",
    "instance",
    "_Feature"
   ],
   "window_display": false
  }
 },
 "nbformat": 4,
 "nbformat_minor": 5
}
