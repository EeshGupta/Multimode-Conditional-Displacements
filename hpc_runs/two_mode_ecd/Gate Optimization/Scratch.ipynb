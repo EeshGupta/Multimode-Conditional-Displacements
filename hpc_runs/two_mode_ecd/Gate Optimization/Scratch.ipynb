{
 "cells": [
  {
   "cell_type": "code",
   "execution_count": 1,
   "id": "a493b7cb",
   "metadata": {},
   "outputs": [],
   "source": [
    "import tensorflow as tf"
   ]
  },
  {
   "cell_type": "code",
   "execution_count": 2,
   "id": "1030e56e",
   "metadata": {},
   "outputs": [],
   "source": [
    "u = tf.random.normal(shape=[2,3,5])\n",
    "v = tf.random.normal(shape=[2,3,5])"
   ]
  },
  {
   "cell_type": "code",
   "execution_count": 3,
   "id": "10549348",
   "metadata": {},
   "outputs": [
    {
     "data": {
      "text/plain": [
       "<tf.Tensor: shape=(2, 3, 5), dtype=float32, numpy=\n",
       "array([[[ 0.31770432, -0.09981439, -1.3909899 , -1.4619008 ,\n",
       "          0.8406374 ],\n",
       "        [-0.31458592, -0.12878741,  0.6743781 , -0.02826239,\n",
       "          0.6999799 ],\n",
       "        [ 0.20014113,  0.57743347, -0.87986815,  0.6497242 ,\n",
       "         -0.90177023]],\n",
       "\n",
       "       [[-1.066647  ,  0.5749734 , -0.2209456 ,  0.12389447,\n",
       "          0.14851066],\n",
       "        [ 0.24649505,  1.7933253 ,  0.03395426, -0.17940024,\n",
       "          1.0305643 ],\n",
       "        [ 1.2068981 ,  1.1124333 , -1.1829511 ,  0.69570845,\n",
       "         -0.6409244 ]]], dtype=float32)>"
      ]
     },
     "execution_count": 3,
     "metadata": {},
     "output_type": "execute_result"
    }
   ],
   "source": [
    "u"
   ]
  },
  {
   "cell_type": "code",
   "execution_count": 4,
   "id": "4b9d69d8",
   "metadata": {},
   "outputs": [
    {
     "data": {
      "text/plain": [
       "<tf.Tensor: shape=(2, 3, 5), dtype=float32, numpy=\n",
       "array([[[-0.90792966,  2.0739152 , -1.3732276 , -1.6966985 ,\n",
       "         -0.75434935],\n",
       "        [-0.13587275,  0.6264506 ,  1.6584879 ,  0.4990391 ,\n",
       "          0.27517536],\n",
       "        [-0.58823174,  1.7257879 , -1.8042158 ,  0.92529625,\n",
       "          1.0974452 ]],\n",
       "\n",
       "       [[-0.9484317 ,  1.2036116 , -0.77518165, -0.7529136 ,\n",
       "         -0.525763  ],\n",
       "        [-1.5086113 , -0.8617532 , -0.08409377,  2.6180634 ,\n",
       "         -0.3102877 ],\n",
       "        [ 0.09926008, -0.809405  , -1.4375613 , -0.4598477 ,\n",
       "         -0.5357119 ]]], dtype=float32)>"
      ]
     },
     "execution_count": 4,
     "metadata": {},
     "output_type": "execute_result"
    }
   ],
   "source": [
    "v"
   ]
  },
  {
   "cell_type": "code",
   "execution_count": 5,
   "id": "9f5385df",
   "metadata": {},
   "outputs": [
    {
     "data": {
      "text/plain": [
       "<tf.Tensor: shape=(2, 5, 3), dtype=float32, numpy=\n",
       "array([[[-0.90792966, -0.13587275, -0.58823174],\n",
       "        [ 2.0739152 ,  0.6264506 ,  1.7257879 ],\n",
       "        [-1.3732276 ,  1.6584879 , -1.8042158 ],\n",
       "        [-1.6966985 ,  0.4990391 ,  0.92529625],\n",
       "        [-0.75434935,  0.27517536,  1.0974452 ]],\n",
       "\n",
       "       [[-0.9484317 , -1.5086113 ,  0.09926008],\n",
       "        [ 1.2036116 , -0.8617532 , -0.809405  ],\n",
       "        [-0.77518165, -0.08409377, -1.4375613 ],\n",
       "        [-0.7529136 ,  2.6180634 , -0.4598477 ],\n",
       "        [-0.525763  , -0.3102877 , -0.5357119 ]]], dtype=float32)>"
      ]
     },
     "execution_count": 5,
     "metadata": {},
     "output_type": "execute_result"
    }
   ],
   "source": [
    "v_t = tf.einsum('mij->mji', v) \n",
    "v_dag = tf.math.conj(v_t)\n",
    "v_dag"
   ]
  },
  {
   "cell_type": "code",
   "execution_count": 6,
   "id": "f38f2526",
   "metadata": {},
   "outputs": [
    {
     "data": {
      "text/plain": [
       "<tf.Tensor: shape=(2, 5, 5), dtype=float32, numpy=\n",
       "array([[[-0.36343887, -0.23154154,  1.6888578 ,  0.9489549 ,\n",
       "         -0.32789797],\n",
       "        [ 0.80722046,  0.70884216, -3.9807963 , -1.9282773 ,\n",
       "          0.62564945],\n",
       "        [-1.3191152 , -1.1183391 ,  4.6160655 ,  0.7884071 ,\n",
       "          1.6335099 ],\n",
       "        [-0.51084924,  0.639382  ,  1.8824928 ,  3.0674882 ,\n",
       "         -1.9113955 ],\n",
       "        [-0.10658242,  0.6735574 ,  0.2692575 ,  1.8080435 ,\n",
       "         -1.4311604 ]],\n",
       "\n",
       "       [[ 0.7595734 , -3.1403337 ,  0.0409082 ,  0.22219586,\n",
       "         -1.7591914 ],\n",
       "        [-2.473116  , -1.7537682 ,  0.6622937 , -0.25939038,\n",
       "         -0.19057554],\n",
       "        [-0.9288735 , -2.1957073 ,  1.8689823 , -1.0810778 ,\n",
       "          0.71958125],\n",
       "        [ 0.8934434 ,  3.7505841 ,  0.7992247 , -0.88288295,\n",
       "          2.8809946 ],\n",
       "        [-0.16223049, -1.4546902 ,  0.7393504 , -0.38217273,\n",
       "         -0.05450201]]], dtype=float32)>"
      ]
     },
     "execution_count": 6,
     "metadata": {},
     "output_type": "execute_result"
    }
   ],
   "source": [
    "prod = tf.einsum('mij, mjk -> mik', v_dag, u)\n",
    "prod"
   ]
  },
  {
   "cell_type": "code",
   "execution_count": 7,
   "id": "f4583a23",
   "metadata": {},
   "outputs": [
    {
     "data": {
      "text/plain": [
       "<tf.Tensor: shape=(2,), dtype=float32, numpy=array([ 6.597797  , -0.06259745], dtype=float32)>"
      ]
     },
     "execution_count": 7,
     "metadata": {},
     "output_type": "execute_result"
    }
   ],
   "source": [
    "prod_tr = tf.einsum('mii->m', prod)\n",
    "prod_tr"
   ]
  },
  {
   "cell_type": "code",
   "execution_count": 14,
   "id": "27d2f2ad",
   "metadata": {},
   "outputs": [
    {
     "data": {
      "text/plain": [
       "<tf.Tensor: shape=(2,), dtype=float32, numpy=array([ 3.2988985 , -0.03129873], dtype=float32)>"
      ]
     },
     "execution_count": 14,
     "metadata": {},
     "output_type": "execute_result"
    }
   ],
   "source": [
    "prod_div = prod_tr/2\n",
    "prod_div"
   ]
  },
  {
   "cell_type": "code",
   "execution_count": 20,
   "id": "a7ec942f",
   "metadata": {},
   "outputs": [
    {
     "data": {
      "text/plain": [
       "<tf.Tensor: shape=(2,), dtype=float32, numpy=array([4.3530926e+01, 3.9184410e-03], dtype=float32)>"
      ]
     },
     "execution_count": 20,
     "metadata": {},
     "output_type": "execute_result"
    }
   ],
   "source": [
    "prod_tr_dag= tf.math.conj(prod_tr)\n",
    "tf.einsum('i,i->i', prod_tr_dag, prod_tr)\n"
   ]
  },
  {
   "cell_type": "code",
   "execution_count": 26,
   "id": "8ccb2c41",
   "metadata": {},
   "outputs": [
    {
     "data": {
      "text/plain": [
       "<tf.Tensor: shape=(2,), dtype=float32, numpy=array([ 2.2988985, -1.0312988], dtype=float32)>"
      ]
     },
     "execution_count": 26,
     "metadata": {},
     "output_type": "execute_result"
    }
   ],
   "source": [
    "prod_div - 1"
   ]
  },
  {
   "cell_type": "code",
   "execution_count": 25,
   "id": "9fc915d5",
   "metadata": {},
   "outputs": [
    {
     "data": {
      "text/plain": [
       "<tf.Tensor: shape=(2,), dtype=float32, numpy=array([1.0882731e+01, 9.7961025e-04], dtype=float32)>"
      ]
     },
     "execution_count": 25,
     "metadata": {},
     "output_type": "execute_result"
    }
   ],
   "source": [
    "tf.math.square(prod_div)"
   ]
  },
  {
   "cell_type": "code",
   "execution_count": 24,
   "id": "b085fe9a",
   "metadata": {},
   "outputs": [
    {
     "data": {
      "text/plain": [
       "<tf.Tensor: shape=(), dtype=float32, numpy=10.882731>"
      ]
     },
     "execution_count": 24,
     "metadata": {},
     "output_type": "execute_result"
    }
   ],
   "source": [
    "c = tf.constant(3.2988985)\n",
    "c**2"
   ]
  },
  {
   "cell_type": "code",
   "execution_count": 12,
   "id": "cb9b2b97",
   "metadata": {},
   "outputs": [
    {
     "data": {
      "text/plain": [
       "<tf.Tensor: shape=(), dtype=float32, numpy=1.6337999>"
      ]
     },
     "execution_count": 12,
     "metadata": {},
     "output_type": "execute_result"
    }
   ],
   "source": [
    "m = tf.reduce_mean(prod_div, axis = 0)\n",
    "m"
   ]
  },
  {
   "cell_type": "code",
   "execution_count": 9,
   "id": "fcd6c484",
   "metadata": {},
   "outputs": [
    {
     "data": {
      "text/plain": [
       "<tf.Tensor: shape=(2,), dtype=float32, numpy=array([6.597797  , 0.06259745], dtype=float32)>"
      ]
     },
     "execution_count": 9,
     "metadata": {},
     "output_type": "execute_result"
    }
   ],
   "source": [
    "abstf.math.abs(prod_tr)"
   ]
  },
  {
   "cell_type": "code",
   "execution_count": 13,
   "id": "1db4344e",
   "metadata": {},
   "outputs": [
    {
     "data": {
      "text/plain": [
       "<tf.Tensor: shape=(), dtype=float32, numpy=1.6337999>"
      ]
     },
     "execution_count": 13,
     "metadata": {},
     "output_type": "execute_result"
    }
   ],
   "source": [
    "tf.squeeze(m)"
   ]
  },
  {
   "cell_type": "code",
   "execution_count": null,
   "id": "59ec416d",
   "metadata": {},
   "outputs": [],
   "source": []
  },
  {
   "cell_type": "code",
   "execution_count": 26,
   "id": "a0752837",
   "metadata": {},
   "outputs": [],
   "source": [
    "def fid():\n",
    "    '''\n",
    "    return cost function 1- |tr(U_f^dag * U(T)) / D|^2 where U_f is target unitary and U(T)/U_tot \n",
    "    unitary function of parameters\n",
    "    \n",
    "    einsum notation: tensorflow.org/api_docs/python/tf/einsum\n",
    "    '''\n",
    "   #dimension \n",
    "    #d = self.parameters[\"N_cav1\"] + self.parameters[\"N_cav2\"] + 2 #2 for qubit\n",
    "    D = 4#tf.constant(d, dtype=tf.complex64)\n",
    "\n",
    "    #first comute U_tot\n",
    "#     bs = self.batch_construct_block_operators(\n",
    "#             betas_rho, betas_angle,gammas_rho, gammas_angle,\n",
    "#             alphas1_rho, alphas1_angle, alphas2_rho, alphas2_angle,\n",
    "#             phis, etas, thetas\n",
    "#         )\n",
    "    ## creating a M copies of identity where M is # of multistarts\n",
    "    I = tf.cast(tf.eye(4), dtype = tf.complex128)# * self.parameters['N_cav1'] * self.parameters['N_cav2'])\n",
    "    U_tot = tf.stack([I for i in range(3)]) #stacking for multistarts\n",
    "#     for U in bs: \n",
    "#         U_tot = tf.einsum('mij, mjk -> mik', U, U_tot)   #m is multistart\n",
    "\n",
    "    #Now compute tr(U_f^dag * U(T)) / D\n",
    "    U_f = tf.stack([SWAP(2)for i in range(3)])\n",
    "    U_f_dag = tf.math.conj(\n",
    "                tf.einsum('mij-> mji', U_f)\n",
    "    )\n",
    "    prod = tf.einsum('mij, mjk -> mik', U_f_dag, U_tot)\n",
    "    prod_tr = tf.einsum('mii->m', prod) / D   #trace and divison\n",
    "\n",
    "    #now 1 - |...|^2\n",
    "    fids =  tf.math.square(\n",
    "                            tf.math.abs(prod_tr))\n",
    "    return fids\n",
    "\n",
    "    \n",
    "\n",
    "\n"
   ]
  },
  {
   "cell_type": "code",
   "execution_count": 27,
   "id": "9372c4ee",
   "metadata": {},
   "outputs": [
    {
     "data": {
      "text/plain": [
       "<tf.Tensor: shape=(3,), dtype=float64, numpy=array([0.25, 0.25, 0.25])>"
      ]
     },
     "execution_count": 27,
     "metadata": {},
     "output_type": "execute_result"
    }
   ],
   "source": [
    "fid()"
   ]
  },
  {
   "cell_type": "code",
   "execution_count": null,
   "id": "3ef9491b",
   "metadata": {},
   "outputs": [],
   "source": [
    "q"
   ]
  },
  {
   "cell_type": "code",
   "execution_count": 13,
   "id": "1f507344",
   "metadata": {},
   "outputs": [
    {
     "data": {
      "text/plain": [
       "<tf.Tensor: shape=(4, 4), dtype=float32, numpy=\n",
       "array([[1., 0., 0., 0.],\n",
       "       [0., 1., 0., 0.],\n",
       "       [0., 0., 1., 0.],\n",
       "       [0., 0., 0., 1.]], dtype=float32)>"
      ]
     },
     "execution_count": 13,
     "metadata": {},
     "output_type": "execute_result"
    }
   ],
   "source": [
    "tf.eye(4)"
   ]
  },
  {
   "cell_type": "code",
   "execution_count": 16,
   "id": "eca089ac",
   "metadata": {},
   "outputs": [],
   "source": [
    "#SWAP Operation\n",
    "from qutip import *\n",
    "\n",
    "def SWAP(N): \n",
    "    '''\n",
    "    Returns swap unitary in qutip \n",
    "    '''\n",
    "    rho = None\n",
    "    N = 2 \n",
    "\n",
    "    for i in range(N): \n",
    "        for j in range(N): \n",
    "            ket = tensor(basis(N, i), basis(N, j))\n",
    "            bra = (tensor(basis(N, j), basis(N, i))).dag()\n",
    "            rho_ = (1.0+0.0j)*ket * bra\n",
    "            if rho==None: \n",
    "                rho = rho_\n",
    "            else: \n",
    "                rho += rho_\n",
    "    rho = tf.cast(rho, dtype = tf.complex128)\n",
    "    return rho\n",
    "            "
   ]
  },
  {
   "cell_type": "code",
   "execution_count": 17,
   "id": "5faa61d0",
   "metadata": {},
   "outputs": [
    {
     "data": {
      "text/plain": [
       "<tf.Tensor: shape=(4, 4), dtype=complex128, numpy=\n",
       "array([[1.+0.j, 0.+0.j, 0.+0.j, 0.+0.j],\n",
       "       [0.+0.j, 0.+0.j, 1.+0.j, 0.+0.j],\n",
       "       [0.+0.j, 1.+0.j, 0.+0.j, 0.+0.j],\n",
       "       [0.+0.j, 0.+0.j, 0.+0.j, 1.+0.j]])>"
      ]
     },
     "execution_count": 17,
     "metadata": {},
     "output_type": "execute_result"
    }
   ],
   "source": [
    "SWAP(2)"
   ]
  },
  {
   "cell_type": "code",
   "execution_count": 44,
   "id": "ecd67abd",
   "metadata": {},
   "outputs": [
    {
     "data": {
      "text/plain": [
       "<tf.Tensor: shape=(2, 3), dtype=float32, numpy=\n",
       "array([[0.4120879 , 0.48583698, 0.8266079 ],\n",
       "       [0.45285845, 0.7897659 , 0.111969  ]], dtype=float32)>"
      ]
     },
     "execution_count": 44,
     "metadata": {},
     "output_type": "execute_result"
    }
   ],
   "source": [
    "u = tf.random.normal(shape=[2,3])\n",
    "u"
   ]
  },
  {
   "cell_type": "code",
   "execution_count": 50,
   "id": "03fecff3",
   "metadata": {},
   "outputs": [
    {
     "data": {
      "text/plain": [
       "<tf.Tensor: shape=(2, 2, 3), dtype=float32, numpy=\n",
       "array([[[0.4120879 , 0.48583698, 0.8266079 ],\n",
       "        [0.45285845, 0.7897659 , 0.111969  ]],\n",
       "\n",
       "       [[0.4120879 , 0.48583698, 0.8266079 ],\n",
       "        [0.45285845, 0.7897659 , 0.111969  ]]], dtype=float32)>"
      ]
     },
     "execution_count": 50,
     "metadata": {},
     "output_type": "execute_result"
    }
   ],
   "source": [
    "M = 2\n",
    "tf.stack([u for i in range(M)])"
   ]
  },
  {
   "cell_type": "code",
   "execution_count": null,
   "id": "52f31231",
   "metadata": {},
   "outputs": [],
   "source": []
  }
 ],
 "metadata": {
  "kernelspec": {
   "display_name": "Python 3",
   "language": "python",
   "name": "python3"
  },
  "language_info": {
   "codemirror_mode": {
    "name": "ipython",
    "version": 3
   },
   "file_extension": ".py",
   "mimetype": "text/x-python",
   "name": "python",
   "nbconvert_exporter": "python",
   "pygments_lexer": "ipython3",
   "version": "3.8.8"
  },
  "toc": {
   "base_numbering": 1,
   "nav_menu": {},
   "number_sections": true,
   "sideBar": true,
   "skip_h1_title": false,
   "title_cell": "Table of Contents",
   "title_sidebar": "Contents",
   "toc_cell": false,
   "toc_position": {},
   "toc_section_display": true,
   "toc_window_display": false
  },
  "varInspector": {
   "cols": {
    "lenName": 16,
    "lenType": 16,
    "lenVar": 40
   },
   "kernels_config": {
    "python": {
     "delete_cmd_postfix": "",
     "delete_cmd_prefix": "del ",
     "library": "var_list.py",
     "varRefreshCmd": "print(var_dic_list())"
    },
    "r": {
     "delete_cmd_postfix": ") ",
     "delete_cmd_prefix": "rm(",
     "library": "var_list.r",
     "varRefreshCmd": "cat(var_dic_list()) "
    }
   },
   "types_to_exclude": [
    "module",
    "function",
    "builtin_function_or_method",
    "instance",
    "_Feature"
   ],
   "window_display": false
  }
 },
 "nbformat": 4,
 "nbformat_minor": 5
}
