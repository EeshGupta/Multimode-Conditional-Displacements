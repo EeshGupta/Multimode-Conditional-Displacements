{
 "cells": [
  {
   "cell_type": "markdown",
   "id": "9f8c3189",
   "metadata": {},
   "source": [
    "# Imports"
   ]
  },
  {
   "cell_type": "code",
   "execution_count": 5,
   "id": "ae4d1bd6",
   "metadata": {},
   "outputs": [],
   "source": [
    "import numpy as np\n",
    "from qutip import *\n",
    "from qutip.control import *\n"
   ]
  },
  {
   "cell_type": "markdown",
   "id": "988a23cf",
   "metadata": {},
   "source": [
    "# Qutip Simulation"
   ]
  },
  {
   "cell_type": "code",
   "execution_count": 6,
   "id": "d3180175",
   "metadata": {},
   "outputs": [],
   "source": [
    "n_q = 2 #number of levels in qubit"
   ]
  },
  {
   "cell_type": "markdown",
   "id": "70eb1866",
   "metadata": {},
   "source": [
    "Assuming both modes have same number of levels"
   ]
  },
  {
   "cell_type": "code",
   "execution_count": 8,
   "id": "3880fea6",
   "metadata": {},
   "outputs": [],
   "source": [
    "H = sigmax()"
   ]
  },
  {
   "cell_type": "code",
   "execution_count": 9,
   "id": "ec7279f9",
   "metadata": {},
   "outputs": [],
   "source": [
    "initial = tensor(basis(2, 0))\n",
    "target = tensor(basis(2,0))"
   ]
  },
  {
   "cell_type": "markdown",
   "id": "78677f3a",
   "metadata": {},
   "source": [
    "With no collapse operator"
   ]
  },
  {
   "cell_type": "code",
   "execution_count": 15,
   "id": "612ee228",
   "metadata": {},
   "outputs": [],
   "source": [
    "c_ops = []"
   ]
  },
  {
   "cell_type": "code",
   "execution_count": 16,
   "id": "74f4bf6a",
   "metadata": {},
   "outputs": [],
   "source": [
    "T = 10\n",
    "times = [i for i in range(T)]\n",
    "opts = Options(store_states=True, store_final_state=True,nsteps = 4000,max_step = 10)\n",
    "output1 = mesolve(H, initial , times, c_ops, [], options =opts)\n",
    "rho = output1.states[-1]"
   ]
  },
  {
   "cell_type": "code",
   "execution_count": 18,
   "id": "9e6677eb",
   "metadata": {},
   "outputs": [
    {
     "data": {
      "text/plain": [
       "(-0.911130904224875+0j)"
      ]
     },
     "execution_count": 18,
     "metadata": {},
     "output_type": "execute_result"
    }
   ],
   "source": [
    "rho.overlap(target)"
   ]
  },
  {
   "cell_type": "markdown",
   "id": "72cb70a8",
   "metadata": {},
   "source": [
    "With Collapse Operator Explicitly Nulled"
   ]
  },
  {
   "cell_type": "code",
   "execution_count": 20,
   "id": "f404052e",
   "metadata": {},
   "outputs": [
    {
     "data": {
      "text/plain": [
       "0.8301538149349885"
      ]
     },
     "execution_count": 20,
     "metadata": {},
     "output_type": "execute_result"
    }
   ],
   "source": [
    "c_ops = [0*qeye(2)]\n",
    "\n",
    "output2 = mesolve(H, initial , times, c_ops, [], options =opts)\n",
    "rho = output2.states[-1]\n",
    "rho.overlap(target)"
   ]
  },
  {
   "cell_type": "markdown",
   "id": "07a5ffb9",
   "metadata": {},
   "source": [
    "# Result\n",
    "Inconsistent overlaps; It seems that the code takes different paths based on whether a collapse operator is specified or not; but these paths are not consistent, as shown by the example above"
   ]
  },
  {
   "cell_type": "code",
   "execution_count": 25,
   "id": "6dc416b8",
   "metadata": {},
   "outputs": [
    {
     "name": "stdout",
     "output_type": "stream",
     "text": [
      "fid1: (-0.911130904224875+0j)\n",
      "fid2: 0.8301538149349885\n",
      "Is fid1 = fid2? False\n"
     ]
    }
   ],
   "source": [
    "from qutip import *\n",
    "\n",
    "initial = tensor(basis(2, 0))\n",
    "target = tensor(basis(2,0))\n",
    "\n",
    "c_ops1 = None\n",
    "c_ops2 = [0*qeye(2)]\n",
    "\n",
    "T = 10\n",
    "times = [i for i in range(T)]\n",
    "opts = Options(store_states=True, store_final_state=True,nsteps = 4000,max_step = 10)\n",
    "\n",
    "#collapse ops = None\n",
    "output1 = mesolve(sigmax(), initial , times, c_ops1, [], options =opts)\n",
    "rho1 = output1.states[-1] #final state \n",
    "#collapse ops = 0*matrix\n",
    "output2 = mesolve(H, initial , times, c_ops, [], options =opts)\n",
    "rho2 = output2.states[-1]\n",
    "\n",
    "fid1 = rho1.overlap(target)\n",
    "fid2 = rho2.overlap(target)\n",
    "\n",
    "print('fid1: ' + str(np.abs(fid1)))\n",
    "print('fid2: ' + str(np.abs(fid2)))\n",
    "print('Is fid1 = fid2? ' + str(fid1==fid2))"
   ]
  },
  {
   "cell_type": "code",
   "execution_count": null,
   "id": "c9d659a1",
   "metadata": {},
   "outputs": [],
   "source": []
  }
 ],
 "metadata": {
  "kernelspec": {
   "display_name": "Python 3",
   "language": "python",
   "name": "python3"
  },
  "language_info": {
   "codemirror_mode": {
    "name": "ipython",
    "version": 3
   },
   "file_extension": ".py",
   "mimetype": "text/x-python",
   "name": "python",
   "nbconvert_exporter": "python",
   "pygments_lexer": "ipython3",
   "version": "3.8.8"
  },
  "toc": {
   "base_numbering": 1,
   "nav_menu": {},
   "number_sections": true,
   "sideBar": true,
   "skip_h1_title": false,
   "title_cell": "Table of Contents",
   "title_sidebar": "Contents",
   "toc_cell": false,
   "toc_position": {},
   "toc_section_display": true,
   "toc_window_display": false
  },
  "varInspector": {
   "cols": {
    "lenName": 16,
    "lenType": 16,
    "lenVar": 40
   },
   "kernels_config": {
    "python": {
     "delete_cmd_postfix": "",
     "delete_cmd_prefix": "del ",
     "library": "var_list.py",
     "varRefreshCmd": "print(var_dic_list())"
    },
    "r": {
     "delete_cmd_postfix": ") ",
     "delete_cmd_prefix": "rm(",
     "library": "var_list.r",
     "varRefreshCmd": "cat(var_dic_list()) "
    }
   },
   "types_to_exclude": [
    "module",
    "function",
    "builtin_function_or_method",
    "instance",
    "_Feature"
   ],
   "window_display": false
  }
 },
 "nbformat": 4,
 "nbformat_minor": 5
}
