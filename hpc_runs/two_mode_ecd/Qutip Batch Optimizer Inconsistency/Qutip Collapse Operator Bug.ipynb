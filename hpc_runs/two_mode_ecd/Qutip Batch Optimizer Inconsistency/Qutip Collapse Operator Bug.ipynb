{
 "cells": [
  {
   "cell_type": "markdown",
   "id": "9f8c3189",
   "metadata": {},
   "source": [
    "# Imports"
   ]
  },
  {
   "cell_type": "code",
   "execution_count": 1,
   "id": "ae4d1bd6",
   "metadata": {},
   "outputs": [],
   "source": [
    "import numpy as np\n",
    "from qutip import *\n",
    "from qutip.control import *\n"
   ]
  },
  {
   "cell_type": "markdown",
   "id": "988a23cf",
   "metadata": {},
   "source": [
    "# Qutip Simulation"
   ]
  },
  {
   "cell_type": "code",
   "execution_count": 2,
   "id": "d3180175",
   "metadata": {},
   "outputs": [],
   "source": [
    "n_q = 2 #number of levels in qubit"
   ]
  },
  {
   "cell_type": "markdown",
   "id": "70eb1866",
   "metadata": {},
   "source": [
    "Assuming both modes have same number of levels"
   ]
  },
  {
   "cell_type": "code",
   "execution_count": 3,
   "id": "3880fea6",
   "metadata": {},
   "outputs": [],
   "source": [
    "H = sigmax()"
   ]
  },
  {
   "cell_type": "code",
   "execution_count": 4,
   "id": "ec7279f9",
   "metadata": {},
   "outputs": [],
   "source": [
    "initial = tensor(basis(2, 0))\n",
    "target = tensor(basis(2,0))"
   ]
  },
  {
   "cell_type": "markdown",
   "id": "47e536c6",
   "metadata": {},
   "source": [
    "With no collapse operator"
   ]
  },
  {
   "cell_type": "code",
   "execution_count": 5,
   "id": "17ee7a5d",
   "metadata": {},
   "outputs": [],
   "source": [
    "c_ops = []"
   ]
  },
  {
   "cell_type": "code",
   "execution_count": 6,
   "id": "74f4bf6a",
   "metadata": {},
   "outputs": [],
   "source": [
    "T = 10\n",
    "times = [i for i in range(T)]\n",
    "opts = Options(store_states=True, store_final_state=True,nsteps = 4000,max_step = 10)\n",
    "output1 = mesolve(H, initial , times, c_ops, [], options =opts)\n",
    "rho = output1.states[-1]"
   ]
  },
  {
   "cell_type": "code",
   "execution_count": 10,
   "id": "3e0ce57f",
   "metadata": {},
   "outputs": [
    {
     "data": {
      "text/latex": [
       "Quantum object: dims = [[2], [1]], shape = (2, 1), type = ket\\begin{equation*}\\left(\\begin{array}{*{11}c}-0.911\\\\-0.412j\\\\\\end{array}\\right)\\end{equation*}"
      ],
      "text/plain": [
       "Quantum object: dims = [[2], [1]], shape = (2, 1), type = ket\n",
       "Qobj data =\n",
       "[[-0.9111309+0.j        ]\n",
       " [ 0.       -0.41211707j]]"
      ]
     },
     "execution_count": 10,
     "metadata": {},
     "output_type": "execute_result"
    }
   ],
   "source": [
    "output1.states[-1]"
   ]
  },
  {
   "cell_type": "code",
   "execution_count": 7,
   "id": "9e6677eb",
   "metadata": {},
   "outputs": [
    {
     "data": {
      "text/plain": [
       "(-0.911130904224875+0j)"
      ]
     },
     "execution_count": 7,
     "metadata": {},
     "output_type": "execute_result"
    }
   ],
   "source": [
    "rho.overlap(target)"
   ]
  },
  {
   "cell_type": "markdown",
   "id": "357863f4",
   "metadata": {},
   "source": [
    "With Collapse Operator Explicitly Nulled"
   ]
  },
  {
   "cell_type": "code",
   "execution_count": 8,
   "id": "97ffe263",
   "metadata": {},
   "outputs": [
    {
     "data": {
      "text/plain": [
       "0.8301538149349885"
      ]
     },
     "execution_count": 8,
     "metadata": {},
     "output_type": "execute_result"
    }
   ],
   "source": [
    "c_ops = [0*qeye(2)]\n",
    "\n",
    "output2 = mesolve(H, initial , times, c_ops, [], options =opts)\n",
    "rho = output2.states[-1]\n",
    "rho.overlap(target)"
   ]
  },
  {
   "cell_type": "code",
   "execution_count": 13,
   "id": "f549e9db",
   "metadata": {},
   "outputs": [
    {
     "data": {
      "text/plain": [
       "0.970225"
      ]
     },
     "execution_count": 13,
     "metadata": {},
     "output_type": "execute_result"
    }
   ],
   "source": [
    "0.985**2"
   ]
  },
  {
   "cell_type": "code",
   "execution_count": 9,
   "id": "14af0038",
   "metadata": {},
   "outputs": [
    {
     "data": {
      "text/latex": [
       "Quantum object: dims = [[2], [2]], shape = (2, 2), type = oper, isherm = True\\begin{equation*}\\left(\\begin{array}{*{11}c}0.830 & -0.375j\\\\0.375j & 0.170\\\\\\end{array}\\right)\\end{equation*}"
      ],
      "text/plain": [
       "Quantum object: dims = [[2], [2]], shape = (2, 2), type = oper, isherm = True\n",
       "Qobj data =\n",
       "[[0.83015381+0.j         0.        -0.37549335j]\n",
       " [0.        +0.37549335j 0.16984619+0.j        ]]"
      ]
     },
     "execution_count": 9,
     "metadata": {},
     "output_type": "execute_result"
    }
   ],
   "source": [
    "output2.states[-1]"
   ]
  },
  {
   "cell_type": "markdown",
   "id": "7a639af1",
   "metadata": {},
   "source": [
    "# Result\n",
    "Inconsistent overlaps; It seems that the code takes different paths based on whether a collapse operator is specified or not; but these paths are not consistent, as shown by the example above"
   ]
  },
  {
   "cell_type": "code",
   "execution_count": 26,
   "id": "57c19bfb",
   "metadata": {},
   "outputs": [
    {
     "name": "stdout",
     "output_type": "stream",
     "text": [
      "fid1: 0.911130904224875\n",
      "fid2: 0.8301538149349885\n",
      "Is fid1 = fid2? False\n"
     ]
    }
   ],
   "source": [
    "from qutip import *\n",
    "import numpy as np\n",
    "\n",
    "initial = tensor(basis(2, 0))\n",
    "target = tensor(basis(2,0))\n",
    "\n",
    "c_ops1 = None\n",
    "c_ops2 = [0*qeye(2)]\n",
    "\n",
    "T = 10\n",
    "times = [i for i in range(T)]\n",
    "opts = Options(store_states=True, store_final_state=True,nsteps = 4000,max_step = 10)\n",
    "\n",
    "#collapse ops = None\n",
    "output1 = mesolve(sigmax(), initial , times, c_ops1, [], options =opts)\n",
    "rho1 = output1.states[-1] #final state \n",
    "#collapse ops = 0*matrix\n",
    "output2 = mesolve(H, initial , times, c_ops, [], options =opts)\n",
    "rho2 = output2.states[-1]\n",
    "\n",
    "fid1 = rho1.overlap(target)\n",
    "fid2 = rho2.overlap(target)\n",
    "\n",
    "print('fid1: ' + str(np.abs(fid1)))\n",
    "print('fid2: ' + str(np.abs(fid2)))\n",
    "print('Is fid1 = fid2? ' + str(fid1==fid2))"
   ]
  },
  {
   "cell_type": "code",
   "execution_count": 27,
   "id": "437ff3ac",
   "metadata": {},
   "outputs": [
    {
     "name": "stdout",
     "output_type": "stream",
     "text": [
      "\n",
      "QuTiP: Quantum Toolbox in Python\n",
      "================================\n",
      "Copyright (c) QuTiP team 2011 and later.\n",
      "Current admin team: Alexander Pitchford, Nathan Shammah, Shahnawaz Ahmed, Neill Lambert, Eric Giguère, Boxi Li, Jake Lishman and Simon Cross.\n",
      "Board members: Daniel Burgarth, Robert Johansson, Anton F. Kockum, Franco Nori and Will Zeng.\n",
      "Original developers: R. J. Johansson & P. D. Nation.\n",
      "Previous lead developers: Chris Granade & A. Grimsmo.\n",
      "Currently developed through wide collaboration. See https://github.com/qutip for details.\n",
      "\n",
      "QuTiP Version:      4.6.2\n",
      "Numpy Version:      1.18.5\n",
      "Scipy Version:      1.4.1\n",
      "Cython Version:     0.29.23\n",
      "Matplotlib Version: 3.3.4\n",
      "Python Version:     3.8.8\n",
      "Number of CPUs:     2\n",
      "BLAS Info:          OPENBLAS\n",
      "OPENMP Installed:   False\n",
      "INTEL MKL Ext:      False\n",
      "Platform Info:      Windows (AMD64)\n",
      "Installation path:  C:\\Users\\Eesh Gupta\\anaconda\\lib\\site-packages\\qutip\n",
      "================================================================================\n",
      "Please cite QuTiP in your publication.\n",
      "================================================================================\n",
      "For your convenience a bibtex reference can be easily generated using `qutip.cite()`\n"
     ]
    }
   ],
   "source": [
    "qutip.about()"
   ]
  },
  {
   "cell_type": "code",
   "execution_count": null,
   "id": "e86757ea",
   "metadata": {},
   "outputs": [],
   "source": []
  }
 ],
 "metadata": {
  "kernelspec": {
   "display_name": "Python 3",
   "language": "python",
   "name": "python3"
  },
  "language_info": {
   "codemirror_mode": {
    "name": "ipython",
    "version": 3
   },
   "file_extension": ".py",
   "mimetype": "text/x-python",
   "name": "python",
   "nbconvert_exporter": "python",
   "pygments_lexer": "ipython3",
   "version": "3.8.8"
  },
  "toc": {
   "base_numbering": 1,
   "nav_menu": {},
   "number_sections": true,
   "sideBar": true,
   "skip_h1_title": false,
   "title_cell": "Table of Contents",
   "title_sidebar": "Contents",
   "toc_cell": false,
   "toc_position": {},
   "toc_section_display": true,
   "toc_window_display": false
  },
  "varInspector": {
   "cols": {
    "lenName": 16,
    "lenType": 16,
    "lenVar": 40
   },
   "kernels_config": {
    "python": {
     "delete_cmd_postfix": "",
     "delete_cmd_prefix": "del ",
     "library": "var_list.py",
     "varRefreshCmd": "print(var_dic_list())"
    },
    "r": {
     "delete_cmd_postfix": ") ",
     "delete_cmd_prefix": "rm(",
     "library": "var_list.r",
     "varRefreshCmd": "cat(var_dic_list()) "
    }
   },
   "types_to_exclude": [
    "module",
    "function",
    "builtin_function_or_method",
    "instance",
    "_Feature"
   ],
   "window_display": false
  }
 },
 "nbformat": 4,
 "nbformat_minor": 5
}
