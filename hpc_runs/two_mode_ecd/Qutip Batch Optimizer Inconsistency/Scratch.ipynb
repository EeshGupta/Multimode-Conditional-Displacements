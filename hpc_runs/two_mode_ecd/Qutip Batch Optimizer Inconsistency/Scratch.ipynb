{
 "cells": [
  {
   "cell_type": "markdown",
   "id": "595a06e1",
   "metadata": {},
   "source": [
    "# Aim\n",
    "Check whether DECD param give consistent fidelities with Qutip Simulations"
   ]
  },
  {
   "cell_type": "markdown",
   "id": "9f8c3189",
   "metadata": {},
   "source": [
    "# Imports"
   ]
  },
  {
   "cell_type": "code",
   "execution_count": 1,
   "id": "ad9d35e8",
   "metadata": {},
   "outputs": [],
   "source": [
    "import sys \n",
    "sys.path.append('C:\\\\Users\\\\Eesh Gupta\\\\Documents\\\\RU Research\\\\Chakram')\n",
    "#sys.path.append('C:\\\\_Lib\\\\python\\\\ECD_control')\n",
    "#sys.path.append('C:\\\\_Lib\\\\python')"
   ]
  },
  {
   "cell_type": "code",
   "execution_count": 2,
   "id": "53db6c77",
   "metadata": {},
   "outputs": [],
   "source": [
    "# for param file \n",
    "#%%\n",
    "# note: timestamp can't use \"/\" character for h5 saving.\n",
    "TIMESTAMP_FORMAT = \"%Y-%m-%d %H:%M:%S\"\n",
    "END_OPT_STRING = \"\\n\" + \"=\" * 60 + \"\\n\"\n",
    "import numpy as np\n",
    "import tensorflow as tf\n",
    "\n",
    "tf.compat.v1.logging.set_verbosity(tf.compat.v1.logging.ERROR)  # supress warnings\n",
    "import h5py\n",
    "\n",
    "# print(\n",
    "#     \"\\nNeed tf version 2.3.0 or later. Using tensorflow version: \"\n",
    "#     + tf.__version__\n",
    "#     + \"\\n\"\n",
    "# )\n",
    "import ECD_control.ECD_optimization.tf_quantum as tfq\n",
    "from ECD_control.ECD_optimization.visualization import VisualizationMixin\n",
    "import qutip as qt\n",
    "import datetime\n",
    "import time"
   ]
  },
  {
   "cell_type": "code",
   "execution_count": 3,
   "id": "ae4d1bd6",
   "metadata": {},
   "outputs": [],
   "source": [
    "# for pulse file\n",
    "import numpy as np\n",
    "import matplotlib.pyplot as plt\n",
    "from scipy.interpolate import interp1d\n",
    "from scipy.integrate import solve_ivp\n",
    "from scipy.signal import find_peaks\n",
    "from scipy.optimize import fmin\n",
    "\n"
   ]
  },
  {
   "cell_type": "markdown",
   "id": "5439ff93",
   "metadata": {},
   "source": [
    "# Finding Param"
   ]
  },
  {
   "cell_type": "code",
   "execution_count": 4,
   "id": "b7e67e3f",
   "metadata": {},
   "outputs": [],
   "source": [
    "%load_ext autoreload\n",
    "%autoreload 2"
   ]
  },
  {
   "cell_type": "code",
   "execution_count": 5,
   "id": "5f96f3a4",
   "metadata": {},
   "outputs": [],
   "source": [
    "from DECD_param import FixedBatchOptimizer as BO\n",
    "from qutip import *"
   ]
  },
  {
   "cell_type": "code",
   "execution_count": 28,
   "id": "d001d6ff",
   "metadata": {},
   "outputs": [],
   "source": [
    "N1 = 12\n",
    "N2 = 12"
   ]
  },
  {
   "cell_type": "code",
   "execution_count": 6,
   "id": "8eab1548",
   "metadata": {},
   "outputs": [],
   "source": [
    "# # #Initial oscillator state.\n",
    "# # Fock1 = 0\n",
    "# # Fock2= 1\n",
    "# # psi_i1 = qt.basis(N1,Fock1) #initial state\n",
    "# # psi_i2 = qt.basis(N2,Fock2)\n",
    "# # initial1 = qt.tensor(basis(2,0), psi_i1, psi_i2)\n",
    "\n",
    "# # #Target\n",
    "# # Fock1 = 1\n",
    "# # Fock2= 0\n",
    "# # psi_t1 = qt.basis(N1,Fock1) #target state\n",
    "# # psi_t2 = qt.basis(N2,Fock2)\n",
    "# # target1 = qt.tensor(basis(2,0), psi_t1, psi_t2)\n",
    "# # #-------------------------------------------------------\n",
    "# # #Second state \n",
    "# # #Initial oscillator state.\n",
    "# # Fock1 = 0\n",
    "# # Fock2= 2\n",
    "# # psi_i1 = qt.basis(N1,Fock1) #initial state\n",
    "# # psi_i2 = qt.basis(N2,Fock2)\n",
    "# # initial2 = qt.tensor(basis(2,0), psi_i1, psi_i2)\n",
    "\n",
    "\n",
    "# # #Target\n",
    "# # Fock1 = 2\n",
    "# # Fock2= 0\n",
    "# psi_t1 = qt.basis(N1,Fock1) #target state\n",
    "# psi_t2 = qt.basis(N2,Fock2)\n",
    "# target2 = qt.tensor(basis(2,0), psi_t1, psi_t2)\n",
    "\n",
    "# #-------------------------FUll list\n",
    "# initial = [initial1, initial2]\n",
    "# target = [target1, target2]"
   ]
  },
  {
   "cell_type": "code",
   "execution_count": 7,
   "id": "bf050c55",
   "metadata": {},
   "outputs": [],
   "source": [
    "\n",
    "\n",
    "# #Optimization of ECD Circuit parameters (betas, gammas, phis, and thetas)\n",
    "# #the optimization options\n",
    "# opt_params = {\n",
    "# 'N_blocks' : 10, #circuit depth\n",
    "# 'N_multistart' : 20, #Batch size (number of circuit optimizations to run in parallel)\n",
    "# 'epochs' : 100, #number of epochs before termination\n",
    "# 'epoch_size' : 20, #number of adam steps per epoch\n",
    "# 'learning_rate' : 0.01, #adam learning rate\n",
    "# 'term_fid' : 0.999, #terminal fidelitiy\n",
    "# 'dfid_stop' : 1e-6, #stop if dfid between two epochs is smaller than this number\n",
    "# 'beta_scale' : 3.0, #maximum |beta| for random initialization\n",
    "# 'gamma_scale' : 3.0, #maximum |gamma| for random initialization\n",
    "# 'N_cav1': N1, #number of levels in mode 1\n",
    "# 'N_cav2': N2, #number of levels in mode 2\n",
    "# 'initial_states' : initial, #qubit tensor oscillator, start in |g> |0>\n",
    "# 'target_states' : target, #end in |e> |target>.\n",
    "# #\"initial_params\": init_params,\n",
    "# 'name' : 'Fock1 %d' % Fock1, #name for printing and saving\n",
    "# 'filename' : None, #if no filename specified, results will be saved in this folder under 'name.h5'\n",
    "# }\n",
    "\n"
   ]
  },
  {
   "cell_type": "code",
   "execution_count": 8,
   "id": "359aed54",
   "metadata": {},
   "outputs": [],
   "source": [
    "# opt = BO(**opt_params)\n",
    "# opt.print_info()"
   ]
  },
  {
   "cell_type": "code",
   "execution_count": 9,
   "id": "14604613",
   "metadata": {},
   "outputs": [],
   "source": [
    "# opt.optimize()"
   ]
  },
  {
   "cell_type": "code",
   "execution_count": 10,
   "id": "42e58074",
   "metadata": {},
   "outputs": [],
   "source": [
    "# saving angles \n",
    "# betas = opt.best_circuit()['betas']\n",
    "# gammas = opt.best_circuit()['gammas']\n",
    "# phis = opt.best_circuit()['phis']\n",
    "# thetas = opt.best_circuit()['thetas']\n",
    "# etas = opt.best_circuit()['etas']\n",
    "# params = [np.real(betas), np.imag(betas), np.real(gammas), np.imag(gammas), phis, thetas, etas]\n",
    "# for i in range(len(params)):\n",
    "#     params[i] = [float(k) for k in params[i]]\n",
    "\n",
    "# fname = 'Test_01_10_May20.txt'\n",
    "# a_file = open(fname, \"w\")\n",
    "# np.savetxt(a_file, params)\n",
    "# a_file.close()"
   ]
  },
  {
   "cell_type": "code",
   "execution_count": 11,
   "id": "f0f13944",
   "metadata": {},
   "outputs": [],
   "source": [
    "import pandas as pd"
   ]
  },
  {
   "cell_type": "code",
   "execution_count": 12,
   "id": "e22c5fe0",
   "metadata": {},
   "outputs": [
    {
     "data": {
      "text/html": [
       "<div>\n",
       "<style scoped>\n",
       "    .dataframe tbody tr th:only-of-type {\n",
       "        vertical-align: middle;\n",
       "    }\n",
       "\n",
       "    .dataframe tbody tr th {\n",
       "        vertical-align: top;\n",
       "    }\n",
       "\n",
       "    .dataframe thead th {\n",
       "        text-align: right;\n",
       "    }\n",
       "</style>\n",
       "<table border=\"1\" class=\"dataframe\">\n",
       "  <thead>\n",
       "    <tr style=\"text-align: right;\">\n",
       "      <th></th>\n",
       "      <th>truncation</th>\n",
       "      <th>levels</th>\n",
       "      <th>exact fidelity</th>\n",
       "      <th>bo_fidelity</th>\n",
       "      <th>qutip fidelity</th>\n",
       "      <th>betas_r</th>\n",
       "      <th>betas_i</th>\n",
       "      <th>gammas_r</th>\n",
       "      <th>gammas_i</th>\n",
       "      <th>phis</th>\n",
       "      <th>thetas</th>\n",
       "    </tr>\n",
       "  </thead>\n",
       "  <tbody>\n",
       "    <tr>\n",
       "      <th>0</th>\n",
       "      <td>NaN</td>\n",
       "      <td>NaN</td>\n",
       "      <td>NaN</td>\n",
       "      <td>NaN</td>\n",
       "      <td>NaN</td>\n",
       "      <td>NaN</td>\n",
       "      <td>NaN</td>\n",
       "      <td>NaN</td>\n",
       "      <td>NaN</td>\n",
       "      <td>NaN</td>\n",
       "      <td>NaN</td>\n",
       "    </tr>\n",
       "    <tr>\n",
       "      <th>1</th>\n",
       "      <td>10.0</td>\n",
       "      <td>2.0</td>\n",
       "      <td>0.135335</td>\n",
       "      <td>0.135344</td>\n",
       "      <td>0.018307</td>\n",
       "      <td>[-1.0317507, 2.9311693]</td>\n",
       "      <td>[1.1929481, -0.56659055]</td>\n",
       "      <td>[0.3312503, -2.2737894]</td>\n",
       "      <td>[-0.57649285, 1.0524526]</td>\n",
       "      <td>[0.0, -1.4943601]</td>\n",
       "      <td>[0.0, 0.0]</td>\n",
       "    </tr>\n",
       "    <tr>\n",
       "      <th>2</th>\n",
       "      <td>10.0</td>\n",
       "      <td>4.0</td>\n",
       "      <td>0.482266</td>\n",
       "      <td>0.482269</td>\n",
       "      <td>0.232298</td>\n",
       "      <td>[1.1070973, -0.593497, -0.6090256, -9.370529e-06]</td>\n",
       "      <td>[-1.4047765, -0.4836414, -0.5550839, -6.041329...</td>\n",
       "      <td>[-0.68757117, 0.6610603, 0.8769486, -5.8338737...</td>\n",
       "      <td>[0.45436478, -0.38620776, 1.5588896, 3.338485e...</td>\n",
       "      <td>[0.0, 1.5708163, -1.5707749, 2.2888184e-05]</td>\n",
       "      <td>[-1.5707982, 1.5483696, 1.5932214, 1.5707967]</td>\n",
       "    </tr>\n",
       "    <tr>\n",
       "      <th>3</th>\n",
       "      <td>10.0</td>\n",
       "      <td>6.0</td>\n",
       "      <td>0.963144</td>\n",
       "      <td>0.963157</td>\n",
       "      <td>0.923634</td>\n",
       "      <td>[-3.5486182e-06, 6.1015357e-06, 0.31787023, -0...</td>\n",
       "      <td>[2.0439791e-05, 1.4551485e-06, -1.533964, -0.2...</td>\n",
       "      <td>[-0.5473627, -0.55472666, 1.3100947, -9.317979...</td>\n",
       "      <td>[0.35816807, -0.84777415, -0.8589938, -1.20120...</td>\n",
       "      <td>[0.0, 1.5708826, -1.5708811, 1.5708792, -1.570...</td>\n",
       "      <td>[-1.5707266, -1.5712142, 1.5712464, 1.5707443,...</td>\n",
       "    </tr>\n",
       "    <tr>\n",
       "      <th>4</th>\n",
       "      <td>10.0</td>\n",
       "      <td>8.0</td>\n",
       "      <td>0.019519</td>\n",
       "      <td>0.995003</td>\n",
       "      <td>0.000459</td>\n",
       "      <td>[-0.62175345, 0.40788835, -2.050283, -2.112606...</td>\n",
       "      <td>[4.563371, 0.059844542, -1.0031503, 1.295825, ...</td>\n",
       "      <td>[0.8153264, -3.5229461, -1.3499558, 0.27291903...</td>\n",
       "      <td>[-2.7358968, 0.025204692, 0.08491416, -0.31146...</td>\n",
       "      <td>[0.0, -0.11584687, 0.87533975, -1.6313862, 2.9...</td>\n",
       "      <td>[-2.3841858e-07, 3.1415923, -2.3841858e-07, -2...</td>\n",
       "    </tr>\n",
       "    <tr>\n",
       "      <th>5</th>\n",
       "      <td>10.0</td>\n",
       "      <td>10.0</td>\n",
       "      <td>0.199382</td>\n",
       "      <td>0.995748</td>\n",
       "      <td>0.048977</td>\n",
       "      <td>[0.5657178, 0.120955236, -0.8002235, 3.744708,...</td>\n",
       "      <td>[3.6579838, 0.1905279, 0.26088572, -0.6374204,...</td>\n",
       "      <td>[2.869837, 1.1018021, 1.6426775, -0.36613768, ...</td>\n",
       "      <td>[0.5722848, 0.2747569, -0.7523706, -0.42896155...</td>\n",
       "      <td>[0.0, -0.342865, -0.08286691, 2.3706229, -1.54...</td>\n",
       "      <td>[-3.1415083, -0.0023593903, -3.1415718, 3.1392...</td>\n",
       "    </tr>\n",
       "    <tr>\n",
       "      <th>6</th>\n",
       "      <td>10.0</td>\n",
       "      <td>12.0</td>\n",
       "      <td>0.246391</td>\n",
       "      <td>0.995901</td>\n",
       "      <td>0.055253</td>\n",
       "      <td>[-1.2044681, 0.91682416, -0.85643494, 2.124685...</td>\n",
       "      <td>[3.2179544, -0.8495686, 0.9158082, 1.4091295, ...</td>\n",
       "      <td>[-1.4497906, 0.0004783259, 8.062313e-05, -0.42...</td>\n",
       "      <td>[0.6165838, -0.0047156163, -0.0020830766, -1.7...</td>\n",
       "      <td>[0.0, 0.20703363, 0.6258724, 3.1213539, -2.391...</td>\n",
       "      <td>[-3.1401072, -2.9240837, 0.0659225, 0.20694208...</td>\n",
       "    </tr>\n",
       "    <tr>\n",
       "      <th>7</th>\n",
       "      <td>12.0</td>\n",
       "      <td>2.0</td>\n",
       "      <td>0.135335</td>\n",
       "      <td>0.135335</td>\n",
       "      <td>0.018284</td>\n",
       "      <td>[-2.7481567e-08, 1.321242]</td>\n",
       "      <td>[1.9210117e-06, 1.5014404]</td>\n",
       "      <td>[-0.08736417, 1.808087]</td>\n",
       "      <td>[0.19059184, 0.828765]</td>\n",
       "      <td>[0.0, -2.7230406]</td>\n",
       "      <td>[-2.3067772, -2.3067782]</td>\n",
       "    </tr>\n",
       "    <tr>\n",
       "      <th>8</th>\n",
       "      <td>12.0</td>\n",
       "      <td>4.0</td>\n",
       "      <td>0.541341</td>\n",
       "      <td>0.541340</td>\n",
       "      <td>0.292697</td>\n",
       "      <td>[-1.74547, 0.24210438, 2.8462767e-07, -3.89350...</td>\n",
       "      <td>[0.5482304, 0.7708185, 1.0167635e-06, -6.49253...</td>\n",
       "      <td>[1.3335051e-07, -0.10062261, -1.8152975, 1.977...</td>\n",
       "      <td>[1.0126448e-06, -0.80165505, 0.22785027, 2.462...</td>\n",
       "      <td>[0.0, -1.5708115, -1.5708153, 3.1415756]</td>\n",
       "      <td>[-1.5707966, 1.5707963, 1.5707963, -1.5707965]</td>\n",
       "    </tr>\n",
       "    <tr>\n",
       "      <th>9</th>\n",
       "      <td>12.0</td>\n",
       "      <td>6.0</td>\n",
       "      <td>0.963145</td>\n",
       "      <td>0.963140</td>\n",
       "      <td>0.925825</td>\n",
       "      <td>[2.7020184e-05, -8.603938e-06, 1.002538, -0.77...</td>\n",
       "      <td>[1.0101796e-05, -4.1652245e-05, -1.2037792, -0...</td>\n",
       "      <td>[0.2590281, -0.9302451, -0.6200921, 2.2473418e...</td>\n",
       "      <td>[0.6006396, 0.40117192, -1.4385802, -6.52809e-...</td>\n",
       "      <td>[0.0, 1.5707977, -1.5707996, -1.5707923, -1.57...</td>\n",
       "      <td>[1.5707943, 1.5707147, -1.5707211, 1.5707877, ...</td>\n",
       "    </tr>\n",
       "    <tr>\n",
       "      <th>10</th>\n",
       "      <td>12.0</td>\n",
       "      <td>8.0</td>\n",
       "      <td>0.990334</td>\n",
       "      <td>0.990247</td>\n",
       "      <td>0.972963</td>\n",
       "      <td>[0.31156018, -0.8542348, -0.40533257, 1.701660...</td>\n",
       "      <td>[-1.2683533, -0.2672626, 0.5380916, 1.5982294,...</td>\n",
       "      <td>[-0.18780933, 0.15560186, -0.06776873, -0.2220...</td>\n",
       "      <td>[-0.19245444, -0.067326084, -0.43667138, -0.31...</td>\n",
       "      <td>[0.0, -1.569444, -1.5733021, -1.5736836, 1.587...</td>\n",
       "      <td>[1.5713937, -1.3284806, -1.4180813, 1.9633305,...</td>\n",
       "    </tr>\n",
       "    <tr>\n",
       "      <th>11</th>\n",
       "      <td>12.0</td>\n",
       "      <td>10.0</td>\n",
       "      <td>0.995468</td>\n",
       "      <td>0.995674</td>\n",
       "      <td>0.966944</td>\n",
       "      <td>[0.43506962, -1.2869897, 1.3414087, -0.0255871...</td>\n",
       "      <td>[-0.9822963, 1.3510147, -1.3522636, -0.0002972...</td>\n",
       "      <td>[1.3879017, -0.39346442, -0.7155756, 0.4769072...</td>\n",
       "      <td>[1.1848303, -0.23420367, -0.21028687, 0.500726...</td>\n",
       "      <td>[0.0, -0.24861026, -2.2673898, 2.0775836, 2.16...</td>\n",
       "      <td>[3.1394074, 1.581909, -0.025978804, -0.650547,...</td>\n",
       "    </tr>\n",
       "    <tr>\n",
       "      <th>12</th>\n",
       "      <td>12.0</td>\n",
       "      <td>12.0</td>\n",
       "      <td>0.036612</td>\n",
       "      <td>0.995953</td>\n",
       "      <td>0.001199</td>\n",
       "      <td>[-0.05475189, -1.3308761, -1.6552757, -0.05999...</td>\n",
       "      <td>[-0.0067101917, 1.9116861, 2.9317482, 0.722263...</td>\n",
       "      <td>[2.1021276, 2.316999, -1.9998033, -0.3607344, ...</td>\n",
       "      <td>[1.9968309, 1.2872226, 0.056321733, 1.2806364,...</td>\n",
       "      <td>[0.0, -0.43595767, -0.563288, 1.3773863, -1.45...</td>\n",
       "      <td>[-3.141456, 0.00024986267, -0.00070238113, -4....</td>\n",
       "    </tr>\n",
       "    <tr>\n",
       "      <th>13</th>\n",
       "      <td>14.0</td>\n",
       "      <td>2.0</td>\n",
       "      <td>0.135335</td>\n",
       "      <td>0.135336</td>\n",
       "      <td>0.018084</td>\n",
       "      <td>[-0.7739769, 1.2060332]</td>\n",
       "      <td>[0.8353572, 1.1174167]</td>\n",
       "      <td>[1.3912265, -0.44347984]</td>\n",
       "      <td>[-1.2786669, -0.48251903]</td>\n",
       "      <td>[0.0, -0.32390404]</td>\n",
       "      <td>[-1.5253599, -1.5253602]</td>\n",
       "    </tr>\n",
       "    <tr>\n",
       "      <th>14</th>\n",
       "      <td>14.0</td>\n",
       "      <td>4.0</td>\n",
       "      <td>0.541341</td>\n",
       "      <td>0.541346</td>\n",
       "      <td>0.292859</td>\n",
       "      <td>[1.3805836, 0.53015584, 5.2459797e-08, 6.20322...</td>\n",
       "      <td>[-1.2005045, 0.60968083, -1.3394404e-07, 8.068...</td>\n",
       "      <td>[2.5938388e-07, -0.54839724, 1.3435506, -3.949...</td>\n",
       "      <td>[-3.7007746e-07, -0.593326, -1.2418123, -4.326...</td>\n",
       "      <td>[0.0, -1.5708172, -1.570818, 3.1415732]</td>\n",
       "      <td>[1.5707963, 1.5707963, 1.5707963, 1.5707963]</td>\n",
       "    </tr>\n",
       "    <tr>\n",
       "      <th>15</th>\n",
       "      <td>14.0</td>\n",
       "      <td>6.0</td>\n",
       "      <td>0.970131</td>\n",
       "      <td>0.970144</td>\n",
       "      <td>0.939368</td>\n",
       "      <td>[-0.7091941, 0.86363524, -0.32472512, 0.187758...</td>\n",
       "      <td>[-1.2854327, -0.4763391, -0.588813, -0.1035695...</td>\n",
       "      <td>[0.19065796, 0.008564849, -0.6720212, 0.039482...</td>\n",
       "      <td>[0.007630261, -0.2140445, -0.026951075, -0.985...</td>\n",
       "      <td>[0.0, -1.570815, 1.5707934, 1.5707657, -1.5708...</td>\n",
       "      <td>[1.5707815, 1.570708, 1.5708468, -1.5708088, 1...</td>\n",
       "    </tr>\n",
       "  </tbody>\n",
       "</table>\n",
       "</div>"
      ],
      "text/plain": [
       "    truncation  levels  exact fidelity  bo_fidelity  qutip fidelity  \\\n",
       "0          NaN     NaN             NaN          NaN             NaN   \n",
       "1         10.0     2.0        0.135335     0.135344        0.018307   \n",
       "2         10.0     4.0        0.482266     0.482269        0.232298   \n",
       "3         10.0     6.0        0.963144     0.963157        0.923634   \n",
       "4         10.0     8.0        0.019519     0.995003        0.000459   \n",
       "5         10.0    10.0        0.199382     0.995748        0.048977   \n",
       "6         10.0    12.0        0.246391     0.995901        0.055253   \n",
       "7         12.0     2.0        0.135335     0.135335        0.018284   \n",
       "8         12.0     4.0        0.541341     0.541340        0.292697   \n",
       "9         12.0     6.0        0.963145     0.963140        0.925825   \n",
       "10        12.0     8.0        0.990334     0.990247        0.972963   \n",
       "11        12.0    10.0        0.995468     0.995674        0.966944   \n",
       "12        12.0    12.0        0.036612     0.995953        0.001199   \n",
       "13        14.0     2.0        0.135335     0.135336        0.018084   \n",
       "14        14.0     4.0        0.541341     0.541346        0.292859   \n",
       "15        14.0     6.0        0.970131     0.970144        0.939368   \n",
       "\n",
       "                                              betas_r  \\\n",
       "0                                                 NaN   \n",
       "1                             [-1.0317507, 2.9311693]   \n",
       "2   [1.1070973, -0.593497, -0.6090256, -9.370529e-06]   \n",
       "3   [-3.5486182e-06, 6.1015357e-06, 0.31787023, -0...   \n",
       "4   [-0.62175345, 0.40788835, -2.050283, -2.112606...   \n",
       "5   [0.5657178, 0.120955236, -0.8002235, 3.744708,...   \n",
       "6   [-1.2044681, 0.91682416, -0.85643494, 2.124685...   \n",
       "7                          [-2.7481567e-08, 1.321242]   \n",
       "8   [-1.74547, 0.24210438, 2.8462767e-07, -3.89350...   \n",
       "9   [2.7020184e-05, -8.603938e-06, 1.002538, -0.77...   \n",
       "10  [0.31156018, -0.8542348, -0.40533257, 1.701660...   \n",
       "11  [0.43506962, -1.2869897, 1.3414087, -0.0255871...   \n",
       "12  [-0.05475189, -1.3308761, -1.6552757, -0.05999...   \n",
       "13                            [-0.7739769, 1.2060332]   \n",
       "14  [1.3805836, 0.53015584, 5.2459797e-08, 6.20322...   \n",
       "15  [-0.7091941, 0.86363524, -0.32472512, 0.187758...   \n",
       "\n",
       "                                              betas_i  \\\n",
       "0                                                 NaN   \n",
       "1                            [1.1929481, -0.56659055]   \n",
       "2   [-1.4047765, -0.4836414, -0.5550839, -6.041329...   \n",
       "3   [2.0439791e-05, 1.4551485e-06, -1.533964, -0.2...   \n",
       "4   [4.563371, 0.059844542, -1.0031503, 1.295825, ...   \n",
       "5   [3.6579838, 0.1905279, 0.26088572, -0.6374204,...   \n",
       "6   [3.2179544, -0.8495686, 0.9158082, 1.4091295, ...   \n",
       "7                          [1.9210117e-06, 1.5014404]   \n",
       "8   [0.5482304, 0.7708185, 1.0167635e-06, -6.49253...   \n",
       "9   [1.0101796e-05, -4.1652245e-05, -1.2037792, -0...   \n",
       "10  [-1.2683533, -0.2672626, 0.5380916, 1.5982294,...   \n",
       "11  [-0.9822963, 1.3510147, -1.3522636, -0.0002972...   \n",
       "12  [-0.0067101917, 1.9116861, 2.9317482, 0.722263...   \n",
       "13                             [0.8353572, 1.1174167]   \n",
       "14  [-1.2005045, 0.60968083, -1.3394404e-07, 8.068...   \n",
       "15  [-1.2854327, -0.4763391, -0.588813, -0.1035695...   \n",
       "\n",
       "                                             gammas_r  \\\n",
       "0                                                 NaN   \n",
       "1                             [0.3312503, -2.2737894]   \n",
       "2   [-0.68757117, 0.6610603, 0.8769486, -5.8338737...   \n",
       "3   [-0.5473627, -0.55472666, 1.3100947, -9.317979...   \n",
       "4   [0.8153264, -3.5229461, -1.3499558, 0.27291903...   \n",
       "5   [2.869837, 1.1018021, 1.6426775, -0.36613768, ...   \n",
       "6   [-1.4497906, 0.0004783259, 8.062313e-05, -0.42...   \n",
       "7                             [-0.08736417, 1.808087]   \n",
       "8   [1.3335051e-07, -0.10062261, -1.8152975, 1.977...   \n",
       "9   [0.2590281, -0.9302451, -0.6200921, 2.2473418e...   \n",
       "10  [-0.18780933, 0.15560186, -0.06776873, -0.2220...   \n",
       "11  [1.3879017, -0.39346442, -0.7155756, 0.4769072...   \n",
       "12  [2.1021276, 2.316999, -1.9998033, -0.3607344, ...   \n",
       "13                           [1.3912265, -0.44347984]   \n",
       "14  [2.5938388e-07, -0.54839724, 1.3435506, -3.949...   \n",
       "15  [0.19065796, 0.008564849, -0.6720212, 0.039482...   \n",
       "\n",
       "                                             gammas_i  \\\n",
       "0                                                 NaN   \n",
       "1                            [-0.57649285, 1.0524526]   \n",
       "2   [0.45436478, -0.38620776, 1.5588896, 3.338485e...   \n",
       "3   [0.35816807, -0.84777415, -0.8589938, -1.20120...   \n",
       "4   [-2.7358968, 0.025204692, 0.08491416, -0.31146...   \n",
       "5   [0.5722848, 0.2747569, -0.7523706, -0.42896155...   \n",
       "6   [0.6165838, -0.0047156163, -0.0020830766, -1.7...   \n",
       "7                              [0.19059184, 0.828765]   \n",
       "8   [1.0126448e-06, -0.80165505, 0.22785027, 2.462...   \n",
       "9   [0.6006396, 0.40117192, -1.4385802, -6.52809e-...   \n",
       "10  [-0.19245444, -0.067326084, -0.43667138, -0.31...   \n",
       "11  [1.1848303, -0.23420367, -0.21028687, 0.500726...   \n",
       "12  [1.9968309, 1.2872226, 0.056321733, 1.2806364,...   \n",
       "13                          [-1.2786669, -0.48251903]   \n",
       "14  [-3.7007746e-07, -0.593326, -1.2418123, -4.326...   \n",
       "15  [0.007630261, -0.2140445, -0.026951075, -0.985...   \n",
       "\n",
       "                                                 phis  \\\n",
       "0                                                 NaN   \n",
       "1                                   [0.0, -1.4943601]   \n",
       "2         [0.0, 1.5708163, -1.5707749, 2.2888184e-05]   \n",
       "3   [0.0, 1.5708826, -1.5708811, 1.5708792, -1.570...   \n",
       "4   [0.0, -0.11584687, 0.87533975, -1.6313862, 2.9...   \n",
       "5   [0.0, -0.342865, -0.08286691, 2.3706229, -1.54...   \n",
       "6   [0.0, 0.20703363, 0.6258724, 3.1213539, -2.391...   \n",
       "7                                   [0.0, -2.7230406]   \n",
       "8            [0.0, -1.5708115, -1.5708153, 3.1415756]   \n",
       "9   [0.0, 1.5707977, -1.5707996, -1.5707923, -1.57...   \n",
       "10  [0.0, -1.569444, -1.5733021, -1.5736836, 1.587...   \n",
       "11  [0.0, -0.24861026, -2.2673898, 2.0775836, 2.16...   \n",
       "12  [0.0, -0.43595767, -0.563288, 1.3773863, -1.45...   \n",
       "13                                 [0.0, -0.32390404]   \n",
       "14            [0.0, -1.5708172, -1.570818, 3.1415732]   \n",
       "15  [0.0, -1.570815, 1.5707934, 1.5707657, -1.5708...   \n",
       "\n",
       "                                               thetas  \n",
       "0                                                 NaN  \n",
       "1                                          [0.0, 0.0]  \n",
       "2       [-1.5707982, 1.5483696, 1.5932214, 1.5707967]  \n",
       "3   [-1.5707266, -1.5712142, 1.5712464, 1.5707443,...  \n",
       "4   [-2.3841858e-07, 3.1415923, -2.3841858e-07, -2...  \n",
       "5   [-3.1415083, -0.0023593903, -3.1415718, 3.1392...  \n",
       "6   [-3.1401072, -2.9240837, 0.0659225, 0.20694208...  \n",
       "7                            [-2.3067772, -2.3067782]  \n",
       "8      [-1.5707966, 1.5707963, 1.5707963, -1.5707965]  \n",
       "9   [1.5707943, 1.5707147, -1.5707211, 1.5707877, ...  \n",
       "10  [1.5713937, -1.3284806, -1.4180813, 1.9633305,...  \n",
       "11  [3.1394074, 1.581909, -0.025978804, -0.650547,...  \n",
       "12  [-3.141456, 0.00024986267, -0.00070238113, -4....  \n",
       "13                           [-1.5253599, -1.5253602]  \n",
       "14       [1.5707963, 1.5707963, 1.5707963, 1.5707963]  \n",
       "15  [1.5707815, 1.570708, 1.5708468, -1.5708088, 1...  "
      ]
     },
     "execution_count": 12,
     "metadata": {},
     "output_type": "execute_result"
    }
   ],
   "source": [
    "filename = \"Qutip_Inconsistency2.csv\"\n",
    "df = pd.read_csv(filename)\n",
    "df"
   ]
  },
  {
   "cell_type": "code",
   "execution_count": 18,
   "id": "8ff54b23",
   "metadata": {},
   "outputs": [],
   "source": [
    "df = df.drop([0+ i for i in range(12)])\n",
    "df = df.drop([13+i for i in range(3)])"
   ]
  },
  {
   "cell_type": "code",
   "execution_count": 19,
   "id": "7061fc40",
   "metadata": {},
   "outputs": [
    {
     "data": {
      "text/html": [
       "<div>\n",
       "<style scoped>\n",
       "    .dataframe tbody tr th:only-of-type {\n",
       "        vertical-align: middle;\n",
       "    }\n",
       "\n",
       "    .dataframe tbody tr th {\n",
       "        vertical-align: top;\n",
       "    }\n",
       "\n",
       "    .dataframe thead th {\n",
       "        text-align: right;\n",
       "    }\n",
       "</style>\n",
       "<table border=\"1\" class=\"dataframe\">\n",
       "  <thead>\n",
       "    <tr style=\"text-align: right;\">\n",
       "      <th></th>\n",
       "      <th>truncation</th>\n",
       "      <th>levels</th>\n",
       "      <th>exact fidelity</th>\n",
       "      <th>bo_fidelity</th>\n",
       "      <th>qutip fidelity</th>\n",
       "      <th>betas_r</th>\n",
       "      <th>betas_i</th>\n",
       "      <th>gammas_r</th>\n",
       "      <th>gammas_i</th>\n",
       "      <th>phis</th>\n",
       "      <th>thetas</th>\n",
       "    </tr>\n",
       "  </thead>\n",
       "  <tbody>\n",
       "    <tr>\n",
       "      <th>12</th>\n",
       "      <td>12.0</td>\n",
       "      <td>12.0</td>\n",
       "      <td>0.036612</td>\n",
       "      <td>0.995953</td>\n",
       "      <td>0.001199</td>\n",
       "      <td>[-0.05475189, -1.3308761, -1.6552757, -0.05999...</td>\n",
       "      <td>[-0.0067101917, 1.9116861, 2.9317482, 0.722263...</td>\n",
       "      <td>[2.1021276, 2.316999, -1.9998033, -0.3607344, ...</td>\n",
       "      <td>[1.9968309, 1.2872226, 0.056321733, 1.2806364,...</td>\n",
       "      <td>[0.0, -0.43595767, -0.563288, 1.3773863, -1.45...</td>\n",
       "      <td>[-3.141456, 0.00024986267, -0.00070238113, -4....</td>\n",
       "    </tr>\n",
       "  </tbody>\n",
       "</table>\n",
       "</div>"
      ],
      "text/plain": [
       "    truncation  levels  exact fidelity  bo_fidelity  qutip fidelity  \\\n",
       "12        12.0    12.0        0.036612     0.995953        0.001199   \n",
       "\n",
       "                                              betas_r  \\\n",
       "12  [-0.05475189, -1.3308761, -1.6552757, -0.05999...   \n",
       "\n",
       "                                              betas_i  \\\n",
       "12  [-0.0067101917, 1.9116861, 2.9317482, 0.722263...   \n",
       "\n",
       "                                             gammas_r  \\\n",
       "12  [2.1021276, 2.316999, -1.9998033, -0.3607344, ...   \n",
       "\n",
       "                                             gammas_i  \\\n",
       "12  [1.9968309, 1.2872226, 0.056321733, 1.2806364,...   \n",
       "\n",
       "                                                 phis  \\\n",
       "12  [0.0, -0.43595767, -0.563288, 1.3773863, -1.45...   \n",
       "\n",
       "                                               thetas  \n",
       "12  [-3.141456, 0.00024986267, -0.00070238113, -4....  "
      ]
     },
     "execution_count": 19,
     "metadata": {},
     "output_type": "execute_result"
    }
   ],
   "source": [
    "df"
   ]
  },
  {
   "cell_type": "code",
   "execution_count": 22,
   "id": "8404eb20",
   "metadata": {},
   "outputs": [],
   "source": [
    "import ast\n",
    "param_df = df\n",
    "k = 12\n",
    "betas_r = ast.literal_eval(param_df['betas_r'][k])\n",
    "betas_i = ast.literal_eval(param_df['betas_i'][k])\n",
    "gammas_r = ast.literal_eval(param_df['gammas_r'][k])\n",
    "gammas_i = ast.literal_eval(param_df['gammas_i'][k])\n",
    "\n",
    "betas = np.asarray([complex(betas_r[l], betas_i[l]) for l in range(len(betas_r))] )\n",
    "gammas = np.asarray([complex(gammas_r[l], gammas_i[l]) for l in range(len(gammas_r))] )\n",
    "#print(betas)\n",
    "\n",
    "phis = np.asarray(ast.literal_eval(param_df['phis'][k]))\n",
    "thetas = np.asarray(ast.literal_eval(param_df['thetas'][k]))\n",
    "#print(phis)\n",
    "bo_fid = float(param_df['bo_fidelity'][k])\n",
    "ex_fid = float(param_df['exact fidelity'][k])"
   ]
  },
  {
   "cell_type": "markdown",
   "id": "6d455852",
   "metadata": {},
   "source": [
    "# Calculator"
   ]
  },
  {
   "cell_type": "code",
   "execution_count": 23,
   "id": "93bc3307",
   "metadata": {},
   "outputs": [],
   "source": [
    "from qutip import *"
   ]
  },
  {
   "cell_type": "code",
   "execution_count": 45,
   "id": "c05c13ae",
   "metadata": {},
   "outputs": [],
   "source": [
    "def mod_disp_op(disp, n_q, n_c):\n",
    "    '''\n",
    "    Returns displacement operator using baken campbell formula\n",
    "    '''\n",
    "    pauli_like_x = (create(n_c) + destroy(n_c))\n",
    "    pauli_like_y = (1j)*(create(n_c) - destroy(n_c))\n",
    "    comm = (1/2)*((pauli_like_x*pauli_like_y) - (pauli_like_y*pauli_like_x))\n",
    "    re = np.real(disp)\n",
    "    im = np.imag(disp)\n",
    "\n",
    "    first = (1j*im*pauli_like_x).expm()\n",
    "    second = (-1j*re*pauli_like_y).expm()\n",
    "    third = ((im*re)*(-1)*comm).expm()\n",
    "    return first*second*third\n",
    "\n",
    "def disp_op(disp, n_q, n_c):\n",
    "    '''\n",
    "    Returns displacement operator for specified displacement\n",
    "    '''\n",
    "    #disp = normalize_complex(disp)\n",
    "    exponent = (disp*create(n_c))- (np.conjugate(disp)*destroy(n_c))\n",
    "    return  exponent.expm()\n",
    "\n",
    "def cond_disp_op(beta, n_q, n_c1, n_c2,mode, use_mod):\n",
    "    '''\n",
    "    Returns cond displacement operator for specified real displacement\n",
    "    '''\n",
    "    disp = beta/2\n",
    "    \n",
    "    n_c = n_c1 if mode == 1 else n_c2\n",
    "    \n",
    "    if use_mod: \n",
    "        d = mod_disp_op(disp= disp, n_q = n_q, n_c = n_c) #Baker Campbell Approx\n",
    "    else: \n",
    "        d = disp_op(disp= disp, n_q = n_q, n_c = n_c)\n",
    "    d_adjoint = d.dag()\n",
    "    \n",
    "    if mode == 1: \n",
    "        left = tensor(create(n_q), d, qeye(n_c2)) #D(beta/2)|e><g|\n",
    "        right = tensor(destroy(n_q), d_adjoint, qeye(n_c2)) #D(-beta/2)|g><e|   ...not sure d_adjoint(alpha) = d(-alpha) if use Baker\n",
    "    \n",
    "    else: #mode ==2 \n",
    "        left = tensor(create(n_q), qeye(n_c2), d)\n",
    "        right = tensor(destroy(n_q),  qeye(n_c2), d_adjoint)\n",
    "    return left+right\n",
    "\n",
    "def qubit_rot(phi, theta, n_q, n_c1, n_c2):\n",
    "    '''\n",
    "    Returns qubit rotation\n",
    "    '''\n",
    "    rot = (np.cos(phi)*sigmax()) + (np.sin(phi)*sigmay())\n",
    "    exp = (-1.0j)*(theta/2)*(rot)\n",
    "    return tensor(exp.expm(), qeye(n_c1), qeye(n_c2) )\n",
    "\n",
    "def normalize_complex(number):\n",
    "    '''\n",
    "    Returns radius r of complex number z = r*e^iphi\n",
    "    '''\n",
    "    return np.sqrt(number.real**2 + (number .imag**2))\n",
    "\n",
    "def dot(state1, state2):\n",
    "    '''\n",
    "    dotting both states\n",
    "    '''\n",
    "    fid = state1.overlap(state2)\n",
    "    return fid*np.conjugate(fid)\n",
    "\n",
    "def evolve(initial_state, betas, gammas, phis, thetas, n_q, n_c1, n_c2, use_mod = False):\n",
    "    '''\n",
    "    Operates on initial_state with ECD(beta_n)*R(phi_n, theta_n) *...........*ECD(beta_1)*R(phi_1, theta_1)\n",
    "    '''\n",
    "    n = len(betas)\n",
    "    state = initial_state\n",
    "    for i in range(n):\n",
    "        beta = betas[i]\n",
    "        gamma = gammas[i]\n",
    "        phi = phis[i]\n",
    "        theta = thetas[i]\n",
    "        \n",
    "  \n",
    "    \n",
    "        #state = cond_disp_op(gamma, n_q, n_c1,n_c2,mode = 2,use_mod = use_mod)*cond_disp_op(beta, n_q, n_c1,n_c2, mode = 1,use_mod = use_mod)*qubit_rot(phi, theta, n_q, n_c1, n_c2)*state\n",
    "        state = cond_disp_op(beta, n_q, n_c1,n_c2, mode = 1,use_mod = use_mod)*cond_disp_op(gamma, n_q, n_c1,n_c2,mode = 2,use_mod = use_mod)*qubit_rot(phi, theta, n_q, n_c1, n_c2)*state\n",
    "           \n",
    "    return state\n",
    "        \n",
    "def plot(state):\n",
    "    '''\n",
    "    Returns WIgner function plot \n",
    "    '''\n",
    "    #convert to density matrix\n",
    "    dm = state*state.dag()\n",
    "    \n",
    "    # since 2 mode state \n",
    "    dm1 = (dm.ptrace(2)).ptrace(1)\n",
    "    dm2 = (dm.ptrace(2)).ptrace(0)\n",
    "    \n",
    "    #plot fock state and wigner function \n",
    "    fig, axes = plt.subplots(2, 2, figsize=(6,6))\n",
    "    \n",
    "    ## wigner plots\n",
    "    xvec = np.linspace(-10,10,200)\n",
    "    wig1 = wigner(dm1, xvec, xvec)\n",
    "    wig2 = wigner(dm2, xvec, xvec)\n",
    "    cont0 = axes[1,0].contourf(xvec, xvec, wig1, 100)\n",
    "    cont1 = axes[1,1].contourf(xvec, xvec, wig2, 100)\n",
    "\n",
    "    \n",
    "    fock1 = plot_fock_distribution(dm1, fig=fig, ax=axes[0, 0], title=\"Mode 1\")\n",
    "    fock2 = plot_fock_distribution(dm2, fig=fig, ax=axes[0, 1], title=\"Mode 2\")\n",
    "    \n",
    "    return fig\n",
    "        "
   ]
  },
  {
   "cell_type": "code",
   "execution_count": 58,
   "id": "d4fb4644",
   "metadata": {},
   "outputs": [
    {
     "data": {
      "text/latex": [
       "Quantum object: dims = [[2, 18, 18], [2, 18, 18]], shape = (648, 648), type = oper, isherm = True\\begin{equation*}\\left(\\begin{array}{*{11}c}0.0 & 0.0 & 0.0 & 0.0 & 0.0 & \\cdots & 0.0 & 0.0 & 0.0 & 0.0 & 0.0\\\\0.0 & 1.0 & 0.0 & 0.0 & 0.0 & \\cdots & 0.0 & 0.0 & 0.0 & 0.0 & 0.0\\\\0.0 & 0.0 & 0.0 & 0.0 & 0.0 & \\cdots & 0.0 & 0.0 & 0.0 & 0.0 & 0.0\\\\0.0 & 0.0 & 0.0 & 0.0 & 0.0 & \\cdots & 0.0 & 0.0 & 0.0 & 0.0 & 0.0\\\\0.0 & 0.0 & 0.0 & 0.0 & 0.0 & \\cdots & 0.0 & 0.0 & 0.0 & 0.0 & 0.0\\\\\\vdots & \\vdots & \\vdots & \\vdots & \\vdots & \\ddots & \\vdots & \\vdots & \\vdots & \\vdots & \\vdots\\\\0.0 & 0.0 & 0.0 & 0.0 & 0.0 & \\cdots & 0.0 & 0.0 & 0.0 & 0.0 & 0.0\\\\0.0 & 0.0 & 0.0 & 0.0 & 0.0 & \\cdots & 0.0 & 0.0 & 0.0 & 0.0 & 0.0\\\\0.0 & 0.0 & 0.0 & 0.0 & 0.0 & \\cdots & 0.0 & 0.0 & 0.0 & 0.0 & 0.0\\\\0.0 & 0.0 & 0.0 & 0.0 & 0.0 & \\cdots & 0.0 & 0.0 & 0.0 & 0.0 & 0.0\\\\0.0 & 0.0 & 0.0 & 0.0 & 0.0 & \\cdots & 0.0 & 0.0 & 0.0 & 0.0 & 0.0\\\\\\end{array}\\right)\\end{equation*}"
      ],
      "text/plain": [
       "Quantum object: dims = [[2, 18, 18], [2, 18, 18]], shape = (648, 648), type = oper, isherm = True\n",
       "Qobj data =\n",
       "[[0. 0. 0. ... 0. 0. 0.]\n",
       " [0. 1. 0. ... 0. 0. 0.]\n",
       " [0. 0. 0. ... 0. 0. 0.]\n",
       " ...\n",
       " [0. 0. 0. ... 0. 0. 0.]\n",
       " [0. 0. 0. ... 0. 0. 0.]\n",
       " [0. 0. 0. ... 0. 0. 0.]]"
      ]
     },
     "execution_count": 58,
     "metadata": {},
     "output_type": "execute_result"
    }
   ],
   "source": [
    "initial*initial.dag()"
   ]
  },
  {
   "cell_type": "code",
   "execution_count": 62,
   "id": "d81ff452",
   "metadata": {},
   "outputs": [
    {
     "data": {
      "text/latex": [
       "Quantum object: dims = [[2], [2]], shape = (2, 2), type = oper, isherm = True\\begin{equation*}\\left(\\begin{array}{*{11}c}1.0 & 0.0\\\\0.0 & 0.0\\\\\\end{array}\\right)\\end{equation*}"
      ],
      "text/plain": [
       "Quantum object: dims = [[2], [2]], shape = (2, 2), type = oper, isherm = True\n",
       "Qobj data =\n",
       "[[1. 0.]\n",
       " [0. 0.]]"
      ]
     },
     "execution_count": 62,
     "metadata": {},
     "output_type": "execute_result"
    }
   ],
   "source": [
    "dm = ((initial*initial.dag()).ptrace(0))\n",
    "#dm.ptrace(0)\n",
    "dm"
   ]
  },
  {
   "cell_type": "code",
   "execution_count": 46,
   "id": "5fe9d401",
   "metadata": {},
   "outputs": [
    {
     "ename": "IndexError",
     "evalue": "Invalid selection index in ptrace.",
     "output_type": "error",
     "traceback": [
      "\u001b[1;31m---------------------------------------------------------------------------\u001b[0m",
      "\u001b[1;31mIndexError\u001b[0m                                Traceback (most recent call last)",
      "\u001b[1;32m<ipython-input-46-8f250e95319b>\u001b[0m in \u001b[0;36m<module>\u001b[1;34m\u001b[0m\n\u001b[1;32m----> 1\u001b[1;33m \u001b[0mplot\u001b[0m\u001b[1;33m(\u001b[0m\u001b[0minitial\u001b[0m\u001b[1;33m)\u001b[0m\u001b[1;33m\u001b[0m\u001b[1;33m\u001b[0m\u001b[0m\n\u001b[0m",
      "\u001b[1;32m<ipython-input-45-4e15995f3956>\u001b[0m in \u001b[0;36mplot\u001b[1;34m(state)\u001b[0m\n\u001b[0;32m     93\u001b[0m \u001b[1;33m\u001b[0m\u001b[0m\n\u001b[0;32m     94\u001b[0m     \u001b[1;31m# since 2 mode state\u001b[0m\u001b[1;33m\u001b[0m\u001b[1;33m\u001b[0m\u001b[1;33m\u001b[0m\u001b[0m\n\u001b[1;32m---> 95\u001b[1;33m     \u001b[0mdm1\u001b[0m \u001b[1;33m=\u001b[0m \u001b[1;33m(\u001b[0m\u001b[0mdm\u001b[0m\u001b[1;33m.\u001b[0m\u001b[0mptrace\u001b[0m\u001b[1;33m(\u001b[0m\u001b[1;36m2\u001b[0m\u001b[1;33m)\u001b[0m\u001b[1;33m)\u001b[0m\u001b[1;33m.\u001b[0m\u001b[0mptrace\u001b[0m\u001b[1;33m(\u001b[0m\u001b[1;36m1\u001b[0m\u001b[1;33m)\u001b[0m\u001b[1;33m\u001b[0m\u001b[1;33m\u001b[0m\u001b[0m\n\u001b[0m\u001b[0;32m     96\u001b[0m     \u001b[0mdm2\u001b[0m \u001b[1;33m=\u001b[0m \u001b[1;33m(\u001b[0m\u001b[0mdm\u001b[0m\u001b[1;33m.\u001b[0m\u001b[0mptrace\u001b[0m\u001b[1;33m(\u001b[0m\u001b[1;36m2\u001b[0m\u001b[1;33m)\u001b[0m\u001b[1;33m)\u001b[0m\u001b[1;33m.\u001b[0m\u001b[0mptrace\u001b[0m\u001b[1;33m(\u001b[0m\u001b[1;36m0\u001b[0m\u001b[1;33m)\u001b[0m\u001b[1;33m\u001b[0m\u001b[1;33m\u001b[0m\u001b[0m\n\u001b[0;32m     97\u001b[0m \u001b[1;33m\u001b[0m\u001b[0m\n",
      "\u001b[1;32m~\\anaconda\\lib\\site-packages\\qutip\\qobj.py\u001b[0m in \u001b[0;36mptrace\u001b[1;34m(self, sel, sparse)\u001b[0m\n\u001b[0;32m   1381\u001b[0m             \u001b[1;32mreturn\u001b[0m \u001b[0mq\u001b[0m\u001b[1;33m.\u001b[0m\u001b[0mtidyup\u001b[0m\u001b[1;33m(\u001b[0m\u001b[1;33m)\u001b[0m \u001b[1;32mif\u001b[0m \u001b[0msettings\u001b[0m\u001b[1;33m.\u001b[0m\u001b[0mauto_tidyup\u001b[0m \u001b[1;32melse\u001b[0m \u001b[0mq\u001b[0m\u001b[1;33m\u001b[0m\u001b[1;33m\u001b[0m\u001b[0m\n\u001b[0;32m   1382\u001b[0m         \u001b[1;32melse\u001b[0m\u001b[1;33m:\u001b[0m\u001b[1;33m\u001b[0m\u001b[1;33m\u001b[0m\u001b[0m\n\u001b[1;32m-> 1383\u001b[1;33m             \u001b[1;32mreturn\u001b[0m \u001b[0m_ptrace_dense\u001b[0m\u001b[1;33m(\u001b[0m\u001b[0mself\u001b[0m\u001b[1;33m,\u001b[0m \u001b[0msel\u001b[0m\u001b[1;33m)\u001b[0m\u001b[1;33m\u001b[0m\u001b[1;33m\u001b[0m\u001b[0m\n\u001b[0m\u001b[0;32m   1384\u001b[0m \u001b[1;33m\u001b[0m\u001b[0m\n\u001b[0;32m   1385\u001b[0m     \u001b[1;32mdef\u001b[0m \u001b[0mpermute\u001b[0m\u001b[1;33m(\u001b[0m\u001b[0mself\u001b[0m\u001b[1;33m,\u001b[0m \u001b[0morder\u001b[0m\u001b[1;33m)\u001b[0m\u001b[1;33m:\u001b[0m\u001b[1;33m\u001b[0m\u001b[1;33m\u001b[0m\u001b[0m\n",
      "\u001b[1;32m~\\anaconda\\lib\\site-packages\\qutip\\qobj.py\u001b[0m in \u001b[0;36m_ptrace_dense\u001b[1;34m(Q, sel)\u001b[0m\n\u001b[0;32m   2238\u001b[0m     \u001b[1;32mfor\u001b[0m \u001b[0mx\u001b[0m \u001b[1;32min\u001b[0m \u001b[0msel\u001b[0m\u001b[1;33m:\u001b[0m\u001b[1;33m\u001b[0m\u001b[1;33m\u001b[0m\u001b[0m\n\u001b[0;32m   2239\u001b[0m         \u001b[1;32mif\u001b[0m \u001b[1;32mnot\u001b[0m \u001b[1;36m0\u001b[0m \u001b[1;33m<=\u001b[0m \u001b[0mx\u001b[0m \u001b[1;33m<\u001b[0m \u001b[0mlen\u001b[0m\u001b[1;33m(\u001b[0m\u001b[0mrd\u001b[0m\u001b[1;33m)\u001b[0m\u001b[1;33m:\u001b[0m\u001b[1;33m\u001b[0m\u001b[1;33m\u001b[0m\u001b[0m\n\u001b[1;32m-> 2240\u001b[1;33m             \u001b[1;32mraise\u001b[0m \u001b[0mIndexError\u001b[0m\u001b[1;33m(\u001b[0m\u001b[1;34m\"Invalid selection index in ptrace.\"\u001b[0m\u001b[1;33m)\u001b[0m\u001b[1;33m\u001b[0m\u001b[1;33m\u001b[0m\u001b[0m\n\u001b[0m\u001b[0;32m   2241\u001b[0m     \u001b[0mdkeep\u001b[0m \u001b[1;33m=\u001b[0m \u001b[1;33m(\u001b[0m\u001b[0mrd\u001b[0m\u001b[1;33m[\u001b[0m\u001b[0msel\u001b[0m\u001b[1;33m]\u001b[0m\u001b[1;33m)\u001b[0m\u001b[1;33m.\u001b[0m\u001b[0mtolist\u001b[0m\u001b[1;33m(\u001b[0m\u001b[1;33m)\u001b[0m\u001b[1;33m\u001b[0m\u001b[1;33m\u001b[0m\u001b[0m\n\u001b[0;32m   2242\u001b[0m     \u001b[0mqtrace\u001b[0m \u001b[1;33m=\u001b[0m \u001b[0mlist\u001b[0m\u001b[1;33m(\u001b[0m\u001b[0mset\u001b[0m\u001b[1;33m(\u001b[0m\u001b[0mnp\u001b[0m\u001b[1;33m.\u001b[0m\u001b[0marange\u001b[0m\u001b[1;33m(\u001b[0m\u001b[0mnd\u001b[0m\u001b[1;33m)\u001b[0m\u001b[1;33m)\u001b[0m \u001b[1;33m-\u001b[0m \u001b[0mset\u001b[0m\u001b[1;33m(\u001b[0m\u001b[0msel\u001b[0m\u001b[1;33m)\u001b[0m\u001b[1;33m)\u001b[0m\u001b[1;33m\u001b[0m\u001b[1;33m\u001b[0m\u001b[0m\n",
      "\u001b[1;31mIndexError\u001b[0m: Invalid selection index in ptrace."
     ]
    }
   ],
   "source": [
    "plot(initial)"
   ]
  },
  {
   "cell_type": "code",
   "execution_count": 66,
   "id": "dd07063f",
   "metadata": {},
   "outputs": [
    {
     "data": {
      "text/latex": [
       "Quantum object: dims = [[18], [18]], shape = (18, 18), type = oper, isherm = True\\begin{equation*}\\left(\\begin{array}{*{11}c}1.0 & 0.0 & 0.0 & 0.0 & 0.0 & \\cdots & 0.0 & 0.0 & 0.0 & 0.0 & 0.0\\\\0.0 & 0.0 & 0.0 & 0.0 & 0.0 & \\cdots & 0.0 & 0.0 & 0.0 & 0.0 & 0.0\\\\0.0 & 0.0 & 0.0 & 0.0 & 0.0 & \\cdots & 0.0 & 0.0 & 0.0 & 0.0 & 0.0\\\\0.0 & 0.0 & 0.0 & 0.0 & 0.0 & \\cdots & 0.0 & 0.0 & 0.0 & 0.0 & 0.0\\\\0.0 & 0.0 & 0.0 & 0.0 & 0.0 & \\cdots & 0.0 & 0.0 & 0.0 & 0.0 & 0.0\\\\\\vdots & \\vdots & \\vdots & \\vdots & \\vdots & \\ddots & \\vdots & \\vdots & \\vdots & \\vdots & \\vdots\\\\0.0 & 0.0 & 0.0 & 0.0 & 0.0 & \\cdots & 0.0 & 0.0 & 0.0 & 0.0 & 0.0\\\\0.0 & 0.0 & 0.0 & 0.0 & 0.0 & \\cdots & 0.0 & 0.0 & 0.0 & 0.0 & 0.0\\\\0.0 & 0.0 & 0.0 & 0.0 & 0.0 & \\cdots & 0.0 & 0.0 & 0.0 & 0.0 & 0.0\\\\0.0 & 0.0 & 0.0 & 0.0 & 0.0 & \\cdots & 0.0 & 0.0 & 0.0 & 0.0 & 0.0\\\\0.0 & 0.0 & 0.0 & 0.0 & 0.0 & \\cdots & 0.0 & 0.0 & 0.0 & 0.0 & 0.0\\\\\\end{array}\\right)\\end{equation*}"
      ],
      "text/plain": [
       "Quantum object: dims = [[18], [18]], shape = (18, 18), type = oper, isherm = True\n",
       "Qobj data =\n",
       "[[1. 0. 0. 0. 0. 0. 0. 0. 0. 0. 0. 0. 0. 0. 0. 0. 0. 0.]\n",
       " [0. 0. 0. 0. 0. 0. 0. 0. 0. 0. 0. 0. 0. 0. 0. 0. 0. 0.]\n",
       " [0. 0. 0. 0. 0. 0. 0. 0. 0. 0. 0. 0. 0. 0. 0. 0. 0. 0.]\n",
       " [0. 0. 0. 0. 0. 0. 0. 0. 0. 0. 0. 0. 0. 0. 0. 0. 0. 0.]\n",
       " [0. 0. 0. 0. 0. 0. 0. 0. 0. 0. 0. 0. 0. 0. 0. 0. 0. 0.]\n",
       " [0. 0. 0. 0. 0. 0. 0. 0. 0. 0. 0. 0. 0. 0. 0. 0. 0. 0.]\n",
       " [0. 0. 0. 0. 0. 0. 0. 0. 0. 0. 0. 0. 0. 0. 0. 0. 0. 0.]\n",
       " [0. 0. 0. 0. 0. 0. 0. 0. 0. 0. 0. 0. 0. 0. 0. 0. 0. 0.]\n",
       " [0. 0. 0. 0. 0. 0. 0. 0. 0. 0. 0. 0. 0. 0. 0. 0. 0. 0.]\n",
       " [0. 0. 0. 0. 0. 0. 0. 0. 0. 0. 0. 0. 0. 0. 0. 0. 0. 0.]\n",
       " [0. 0. 0. 0. 0. 0. 0. 0. 0. 0. 0. 0. 0. 0. 0. 0. 0. 0.]\n",
       " [0. 0. 0. 0. 0. 0. 0. 0. 0. 0. 0. 0. 0. 0. 0. 0. 0. 0.]\n",
       " [0. 0. 0. 0. 0. 0. 0. 0. 0. 0. 0. 0. 0. 0. 0. 0. 0. 0.]\n",
       " [0. 0. 0. 0. 0. 0. 0. 0. 0. 0. 0. 0. 0. 0. 0. 0. 0. 0.]\n",
       " [0. 0. 0. 0. 0. 0. 0. 0. 0. 0. 0. 0. 0. 0. 0. 0. 0. 0.]\n",
       " [0. 0. 0. 0. 0. 0. 0. 0. 0. 0. 0. 0. 0. 0. 0. 0. 0. 0.]\n",
       " [0. 0. 0. 0. 0. 0. 0. 0. 0. 0. 0. 0. 0. 0. 0. 0. 0. 0.]\n",
       " [0. 0. 0. 0. 0. 0. 0. 0. 0. 0. 0. 0. 0. 0. 0. 0. 0. 0.]]"
      ]
     },
     "execution_count": 66,
     "metadata": {},
     "output_type": "execute_result"
    }
   ],
   "source": [
    "(initial*initial.dag()).ptrace(1)"
   ]
  },
  {
   "cell_type": "code",
   "execution_count": 79,
   "id": "eaecc6eb",
   "metadata": {},
   "outputs": [
    {
     "ename": "NameError",
     "evalue": "name 'inital' is not defined",
     "output_type": "error",
     "traceback": [
      "\u001b[1;31m---------------------------------------------------------------------------\u001b[0m",
      "\u001b[1;31mNameError\u001b[0m                                 Traceback (most recent call last)",
      "\u001b[1;32m<ipython-input-79-e1942aa569d5>\u001b[0m in \u001b[0;36m<module>\u001b[1;34m\u001b[0m\n\u001b[1;32m----> 1\u001b[1;33m \u001b[0minitial\u001b[0m\u001b[1;33m.\u001b[0m\u001b[0mptrace\u001b[0m\u001b[1;33m(\u001b[0m\u001b[1;36m1\u001b[0m\u001b[1;33m)\u001b[0m\u001b[1;33m*\u001b[0m\u001b[0minital\u001b[0m\u001b[1;33m\u001b[0m\u001b[1;33m\u001b[0m\u001b[0m\n\u001b[0m",
      "\u001b[1;31mNameError\u001b[0m: name 'inital' is not defined"
     ]
    }
   ],
   "source": [
    "initial.ptrace(1)*inital"
   ]
  },
  {
   "cell_type": "code",
   "execution_count": null,
   "id": "fd0115c5",
   "metadata": {},
   "outputs": [],
   "source": []
  },
  {
   "cell_type": "code",
   "execution_count": 61,
   "id": "a29849df",
   "metadata": {},
   "outputs": [],
   "source": [
    "initial = tensor(basis(2, 0), basis(N1, 0), basis(N2, 1))\n",
    "target = tensor(basis(2, 0), basis(N1, 1), basis(N2, 0))\n",
    "# pi_target = tensor(basis(2, 1), basis(N1, 1), basis(N2, 0))"
   ]
  },
  {
   "cell_type": "code",
   "execution_count": 32,
   "id": "688e3211",
   "metadata": {},
   "outputs": [
    {
     "data": {
      "text/plain": [
       "(0.9959606799280377+0j)"
      ]
     },
     "execution_count": 32,
     "metadata": {},
     "output_type": "execute_result"
    }
   ],
   "source": [
    "rho_calc1 = evolve(initial,betas,gammas, phis, thetas,n_q = 2,n_c1 = N1, n_c2 = N2,\n",
    "                   use_mod = True)\n",
    "fid1 = dot(target, rho_calc1)\n",
    "fid1"
   ]
  },
  {
   "cell_type": "code",
   "execution_count": 33,
   "id": "300e6e11",
   "metadata": {},
   "outputs": [
    {
     "data": {
      "text/plain": [
       "(0.03661150407663584+0j)"
      ]
     },
     "execution_count": 33,
     "metadata": {},
     "output_type": "execute_result"
    }
   ],
   "source": [
    "rho_calc2 = evolve(initial,betas,gammas, phis, thetas,n_q = 2,n_c1 = N1, n_c2 = N2,\n",
    "                   use_mod = False)\n",
    "fid2 = dot(target, rho_calc2)\n",
    "fid2"
   ]
  },
  {
   "cell_type": "code",
   "execution_count": 35,
   "id": "571c2b7c",
   "metadata": {},
   "outputs": [
    {
     "data": {
      "text/plain": [
       "(0.035747898308860854+0j)"
      ]
     },
     "execution_count": 35,
     "metadata": {},
     "output_type": "execute_result"
    }
   ],
   "source": [
    "dot(rho_calc1, rho_calc2)"
   ]
  },
  {
   "cell_type": "code",
   "execution_count": 43,
   "id": "29ca6aac",
   "metadata": {},
   "outputs": [
    {
     "data": {
      "text/plain": [
       "(0.0036803999231230745+0j)"
      ]
     },
     "execution_count": 43,
     "metadata": {},
     "output_type": "execute_result"
    }
   ],
   "source": [
    "N1 = 18\n",
    "N2 = 18\n",
    "initial = tensor(basis(2, 0), basis(N1, 0), basis(N2, 1))\n",
    "target = tensor(basis(2, 0), basis(N1, 1), basis(N2, 0))\n",
    "\n",
    "rho_calc3 = evolve(initial,betas,gammas, phis, thetas,n_q = 2,n_c1 = N1, n_c2 = N2,\n",
    "                   use_mod = True)\n",
    "fid2 = dot(target, rho_calc3)\n",
    "fid2"
   ]
  },
  {
   "cell_type": "code",
   "execution_count": 81,
   "id": "a77e687c",
   "metadata": {},
   "outputs": [
    {
     "data": {
      "text/plain": [
       "array([ 2.1021276 +1.9968309j ,  2.316999  +1.2872226j ,\n",
       "       -1.9998033 +0.05632173j, -0.3607344 +1.2806364j ,\n",
       "       -2.3994136 +0.57078886j, -0.59344   -1.0135038j ,\n",
       "        0.63671345+2.7515094j ,  0.23297268-2.481707j  ,\n",
       "        0.1637085 -0.2367708j , -0.00765627-0.22924432j,\n",
       "        0.80388474+0.26307943j,  3.3561072 +2.378166j  ])"
      ]
     },
     "execution_count": 81,
     "metadata": {},
     "output_type": "execute_result"
    }
   ],
   "source": [
    "gammas"
   ]
  },
  {
   "cell_type": "code",
   "execution_count": null,
   "id": "005caab9",
   "metadata": {},
   "outputs": [],
   "source": []
  },
  {
   "cell_type": "code",
   "execution_count": 60,
   "id": "c6cefe57",
   "metadata": {},
   "outputs": [],
   "source": [
    "# opt.batch_construct_block_operators(\n",
    "#         opt.betas_rho, \n",
    "#     opt.betas_angle,opt.gammas_rho, opt.gammas_angle,\n",
    "#         opt.alphas1_rho, opt.alphas1_angle, opt.alphas2_rho, opt.alphas2_angle,\n",
    "#         opt.phis, opt.etas, opt.thetas)"
   ]
  },
  {
   "cell_type": "code",
   "execution_count": 61,
   "id": "78fcc0a0",
   "metadata": {},
   "outputs": [],
   "source": [
    "# i= 0 \n",
    "# beta = betas[i]\n",
    "# gamma = gammas[i]\n",
    "# phi = phis[i]\n",
    "# theta = thetas[i]\n",
    "# n_q = 2\n",
    "# n_c1 = N1\n",
    "# n_c2 = N2\n",
    "# use_mod = True\n",
    "  \n",
    "# cond_disp_op(beta, n_q, n_c1,n_c2, mode = 1,use_mod = use_mod)*cond_disp_op(gamma, n_q, n_c1,n_c2,mode = 2,use_mod = use_mod)*qubit_rot(phi, theta, n_q, n_c1, n_c2)\n",
    "           "
   ]
  },
  {
   "cell_type": "markdown",
   "id": "ade4bfac",
   "metadata": {},
   "source": [
    "# Pulse"
   ]
  },
  {
   "cell_type": "code",
   "execution_count": 62,
   "id": "df740ef9",
   "metadata": {},
   "outputs": [],
   "source": [
    "from DECD_pulse import *"
   ]
  },
  {
   "cell_type": "code",
   "execution_count": 63,
   "id": "1e1044bf",
   "metadata": {},
   "outputs": [],
   "source": [
    "#Our cavity and qubit. When using pulse construction on the FPGA, these objects can be loaded, and \n",
    "#Here, we are making a \"FakeCavity\" and a \"FakeQubit\" with parameters found from experimental calibrations.\n",
    "\n",
    "storage1_params = {\n",
    "        \"chi_kHz\": -33, #dispersive shift\n",
    "        \"chi_prime_Hz\": 0, #second order dispersive shift\n",
    "        \"Ks_Hz\": 0, #Kerr correction not yet implemented.\n",
    "        \"epsilon_m_MHz\": 400, #largest oscillator drive amplitude in MHz (max|epsilon|)\n",
    "        \"unit_amp\": 0.01, #DAC unit amp of gaussian displacement to alpha=1.\n",
    "        \"sigma\": 11, #oscillator displacement sigma\n",
    "        \"chop\": 4, #oscillator displacement chop (number of stds. to include in gaussian pulse)\n",
    "    }\n",
    "storage2_params = {\n",
    "        \"chi_kHz\": -33, #dispersive shift\n",
    "        \"chi_prime_Hz\": 0, #second order dispersive shift\n",
    "        \"Ks_Hz\": 0, #Kerr correction not yet implemented.\n",
    "        \"epsilon_m_MHz\": 400, #largest oscillator drive amplitude in MHz (max|epsilon|)\n",
    "        \"unit_amp\": 0.01, #DAC unit amp of gaussian displacement to alpha=1.\n",
    "        \"sigma\": 11, #oscillator displacement sigma\n",
    "        \"chop\": 4, #oscillator displacement chop (number of stds. to include in gaussian pulse)\n",
    "    }\n",
    "qubit_params = {'unit_amp': 0.5, 'sigma': 6, 'chop': 4} #parameters for qubit pi pulse.\n",
    "\n",
    "#calculating conversion between qubit DAC units and MHz (Omega)\n",
    "pi = rotate(np.pi, phi=0, sigma=qubit_params['sigma'], chop=qubit_params['chop'], dt=1)\n",
    "Omega_m = np.real(np.max(pi))/qubit_params['unit_amp']\n",
    "\n",
    "#creating the \"Fake storage\" and \"Fake qubit\"\n",
    "storage1 = FakeStorage(**storage1_params)\n",
    "storage2 = FakeStorage(**storage2_params)\n",
    "qubit = FakeQubit(**qubit_params)\n",
    "\n",
    "#The maximum displacement used during the ECD gates.\n",
    "alpha_CD1 = 30\n",
    "alpha_CD2 = 30\n",
    "#Small delay to insert between oscillator and qubit pulses\n",
    "buffer_time = 4"
   ]
  },
  {
   "cell_type": "code",
   "execution_count": 64,
   "id": "8fabf180",
   "metadata": {},
   "outputs": [
    {
     "name": "stdout",
     "output_type": "stream",
     "text": [
      "Maximum oscillator 1 drive amplitude: |epsilon|/2*pi < 690.790 MHz\n",
      "Maximum oscillator 2 drive amplitude: |epsilon|/2*pi < 690.790 MHz\n",
      "Maximum qubit drive amplitude: |Omega|/2*pi < 40.468 MHz\n"
     ]
    }
   ],
   "source": [
    "#From these calibrations, the storage and qubit objects calculate the\n",
    "#conversion between DAC amplitude, and drive amplitude in MHz.\n",
    "#so, [Omega(t) in MHz] = [Omega(t) in DAC units]*Omega_m_MHz \n",
    "#and [Omega(t) in MHz] = [Omega(t) in DAC units]*Omega_m_MHz.\n",
    "#These parameters also represent the maximum drive amplitude,\n",
    "#since the DAC max amplitude is 1 (assuming amplifiers don't saturate.)\n",
    "print('Maximum oscillator 1 drive amplitude: |epsilon|/2*pi < %.3f MHz' % storage1.epsilon_m_MHz)\n",
    "print('Maximum oscillator 2 drive amplitude: |epsilon|/2*pi < %.3f MHz' % storage2.epsilon_m_MHz)\n",
    "print('Maximum qubit drive amplitude: |Omega|/2*pi < %.3f MHz' % qubit.Omega_m_MHz)\n"
   ]
  },
  {
   "cell_type": "code",
   "execution_count": 65,
   "id": "07344bd8",
   "metadata": {},
   "outputs": [
    {
     "name": "stdout",
     "output_type": "stream",
     "text": [
      "---------------------------------------------------\n",
      "final displacement is 1.4140409231186002\n"
     ]
    },
    {
     "name": "stderr",
     "output_type": "stream",
     "text": [
      "/home/eag190/miniconda3/envs/simulations/lib/python3.9/site-packages/scipy/signal/_peak_finding.py:261: ComplexWarning: Casting complex values to real discards the imaginary part\n",
      "  value = np.asarray(value, order='C', dtype=np.float64)\n"
     ]
    },
    {
     "name": "stdout",
     "output_type": "stream",
     "text": [
      "---------------------------------------------------\n",
      "final displacement is 0.7472697496414227\n",
      "---------------------------------------------------\n",
      "final displacement is 1.0356869697570836\n",
      "---------------------------------------------------\n",
      "final displacement is 1.5031619071960525\n",
      "---------------------------------------------------\n",
      "final displacement is 0.7310235500335602\n",
      "---------------------------------------------------\n",
      "final displacement is 0.01542852860900857\n",
      "---------------------------------------------------\n",
      "final displacement is 1.1022351980209186\n",
      "---------------------------------------------------\n",
      "final displacement is 1.6293551480379784\n",
      "---------------------------------------------------\n",
      "final displacement is 0.8957424829144245\n",
      "---------------------------------------------------\n",
      "final displacement is 1.4592621326446518\n",
      "---------------------------------------------------\n",
      "final displacement is 1.2600011825561548\n",
      "---------------------------------------------------\n",
      "final displacement is 0.7793897390365606\n",
      "---------------------------------------------------\n",
      "final displacement is 2.926615238189711\n",
      "---------------------------------------------------\n",
      "final displacement is 2.687037289421864\n",
      "---------------------------------------------------\n",
      "final displacement is 2.350929615570965\n",
      "---------------------------------------------------\n",
      "final displacement is 1.6461702585220324\n",
      "---------------------------------------------------\n",
      "final displacement is 0.6756010651588447\n",
      "---------------------------------------------------\n",
      "final displacement is 0.004534821620530798\n",
      "---------------------------------------------------\n",
      "final displacement is 0.6149605512619004\n",
      "---------------------------------------------------\n",
      "final displacement is 0.5133845210075277\n"
     ]
    }
   ],
   "source": [
    "#generating the conditional displacement circuit.\n",
    "#set 'chi_prime_correction = True' to correct for linear part of chi'\n",
    "#final_disp = True will implement final ECD gate as a displacement\n",
    "pulse_dict = conditional_displacement_circuit(betas, gammas, phis, thetas, storage1, storage2, qubit,\n",
    "                     alpha_CD1, alpha_CD2 ,buffer_time=buffer_time, kerr_correction = False, chi_prime_correction=True, final_disp=True, pad=True)\n",
    "cavity1_dac_pulse, cavity2_dac_pulse, qubit_dac_pulse, = pulse_dict['cavity1_dac_pulse'], pulse_dict['cavity2_dac_pulse'], pulse_dict['qubit_dac_pulse']\n",
    "\n"
   ]
  },
  {
   "cell_type": "code",
   "execution_count": 66,
   "id": "3ebe824d",
   "metadata": {},
   "outputs": [],
   "source": [
    "cavity1_dac_pulse_GHz = (2*np.pi)*(10**(-3))*storage1.epsilon_m_MHz*cavity1_dac_pulse #convert from DAC to Mhz to Ghz\n",
    "cavity2_dac_pulse_GHz = (2*np.pi)*(10**(-3))*storage2.epsilon_m_MHz*cavity2_dac_pulse #convert from DAC to Mhz to Ghz\n",
    "qubit_dac_pulse_GHz = (2*np.pi)*10**(-3)*qubit.Omega_m_MHz*qubit_dac_pulse #convert from DAC to Mhz to Ghz"
   ]
  },
  {
   "cell_type": "code",
   "execution_count": 67,
   "id": "8463edd2",
   "metadata": {},
   "outputs": [
    {
     "data": {
      "text/plain": [
       "Text(0, 0.5, 'Ghz')"
      ]
     },
     "execution_count": 67,
     "metadata": {},
     "output_type": "execute_result"
    },
    {
     "data": {
      "image/png": "[encoded data removed]",
      "text/plain": [
       "<Figure size 842.4x595.44 with 3 Axes>"
      ]
     },
     "metadata": {
      "needs_background": "light"
     },
     "output_type": "display_data"
    }
   ],
   "source": [
    "#plotting the pulse in GHz\n",
    "fig, axs = plt.subplots(3,1)\n",
    "axs[0].plot(np.real(cavity1_dac_pulse_GHz))\n",
    "axs[0].plot(np.imag(cavity1_dac_pulse_GHz))\n",
    "axs[1].plot(np.real(cavity2_dac_pulse_GHz))\n",
    "axs[1].plot(np.imag(cavity2_dac_pulse_GHz))\n",
    "axs[0].set_ylabel('Cavity 1 (Ghz)', fontsize = 10)\n",
    "axs[1].set_ylabel('Cavity 2 (Ghz)', fontsize = 10)\n",
    "axs[2].plot(np.real(qubit_dac_pulse_GHz))\n",
    "axs[2].plot(np.imag(qubit_dac_pulse_GHz))\n",
    "plt.xlabel('ns')\n",
    "plt.ylabel('Ghz')"
   ]
  },
  {
   "cell_type": "code",
   "execution_count": 68,
   "id": "6f7ed564",
   "metadata": {},
   "outputs": [],
   "source": [
    "def alpha_from_epsilon_nonlinear_finite_difference(\n",
    "    epsilon_array, delta=0, alpha_init=0 + 0j):\n",
    "    dt = 1\n",
    "    alpha_ = np.zeros_like(epsilon_array)\n",
    "    alpha = np.array([complex(0,0) for i in range(len(alpha_))])\n",
    "    alpha[0] = alpha_init\n",
    "    alpha[1] = alpha_init\n",
    "    for j in range(1, len(epsilon_array) - 1):\n",
    "        alpha[j + 1] = (\n",
    "                2*\n",
    "                 dt\n",
    "                * (\n",
    "                    -1j * delta# * alpha[j]\n",
    "                    #- 2j * Ks * np.abs(alpha[j]) ** 2 * alpha[j]\n",
    "                    #- (kappa / 2.0) * alpha[j]\n",
    "                    - 1j * epsilon_array[j]\n",
    "                )\n",
    "                + alpha[j - 1])\n",
    "    return alpha"
   ]
  },
  {
   "cell_type": "code",
   "execution_count": 69,
   "id": "a83c79f7",
   "metadata": {},
   "outputs": [],
   "source": [
    "def alpha_star_from_epsilon_nonlinear_finite_difference(\n",
    "    epsilon_array, delta=0, alpha_init=0 + 0j):\n",
    "    dt = 1\n",
    "    alpha_ = np.zeros_like(epsilon_array)\n",
    "    alpha = np.array([complex(0,0) for i in range(len(alpha_))])\n",
    "    alpha[0] = alpha_init\n",
    "    alpha[1] = alpha_init\n",
    "    for j in range(1, len(epsilon_array) - 1):\n",
    "        alpha[j + 1] = (\n",
    "                2*\n",
    "                 dt\n",
    "                * (\n",
    "                    1j * delta# * alpha[j]\n",
    "                    #- 2j * Ks * np.abs(alpha[j]) ** 2 * alpha[j]\n",
    "                    #- (kappa / 2.0) * alpha[j]\n",
    "                    + 1j * epsilon_array[j]\n",
    "                )\n",
    "                + alpha[j - 1])\n",
    "    return alpha"
   ]
  },
  {
   "cell_type": "code",
   "execution_count": 70,
   "id": "497eb9dd",
   "metadata": {},
   "outputs": [],
   "source": [
    "alpha1 = alpha_from_epsilon_nonlinear_finite_difference(\n",
    "    epsilon_array =cavity1_dac_pulse_GHz , delta=0, alpha_init=0 + 0j)\n",
    "alpha1_star = alpha_star_from_epsilon_nonlinear_finite_difference(\n",
    "    epsilon_array =np.conjugate(cavity1_dac_pulse_GHz) , delta=0, alpha_init=0 + 0j)"
   ]
  },
  {
   "cell_type": "code",
   "execution_count": 71,
   "id": "000f0690",
   "metadata": {},
   "outputs": [],
   "source": [
    "alpha2 = alpha_from_epsilon_nonlinear_finite_difference(\n",
    "    epsilon_array =cavity2_dac_pulse_GHz , delta=0, alpha_init=0 + 0j)\n",
    "alpha2_star = alpha_star_from_epsilon_nonlinear_finite_difference(\n",
    "    epsilon_array =np.conjugate(cavity2_dac_pulse_GHz) , delta=0, alpha_init=0 + 0j)"
   ]
  },
  {
   "cell_type": "code",
   "execution_count": 72,
   "id": "224aa82b",
   "metadata": {},
   "outputs": [
    {
     "data": {
      "text/plain": [
       "Text(0, 0.5, 'alpha2')"
      ]
     },
     "execution_count": 72,
     "metadata": {},
     "output_type": "execute_result"
    },
    {
     "data": {
      "image/png": "[encoded data removed]",
      "text/plain": [
       "<Figure size 842.4x595.44 with 4 Axes>"
      ]
     },
     "metadata": {
      "needs_background": "light"
     },
     "output_type": "display_data"
    }
   ],
   "source": [
    "fig, axs = plt.subplots(4,1)\n",
    "axs[0].plot(np.real(cavity1_dac_pulse_GHz))\n",
    "axs[0].plot(np.imag(cavity1_dac_pulse_GHz))\n",
    "axs[0].set_ylabel(' cav 1 Ghz', fontsize = 10)\n",
    "\n",
    "\n",
    "axs[1].plot(np.real(alpha1))\n",
    "axs[1].plot(np.imag(alpha1))\n",
    "axs[1].set_ylabel('alpha1', fontsize = 10)\n",
    "\n",
    "axs[2].plot(np.real(cavity2_dac_pulse_GHz))\n",
    "axs[2].plot(np.imag(cavity2_dac_pulse_GHz))\n",
    "axs[2].set_ylabel('cav 2 (Ghz)', fontsize = 10)\n",
    "\n",
    "axs[3].plot(np.real(alpha2))\n",
    "axs[3].plot(np.imag(alpha2))\n",
    "axs[3].set_ylabel('alpha2', fontsize = 10)\n",
    "\n",
    "# axs[2].plot(np.real(alpha1_star))\n",
    "# axs[2].plot(np.imag(alpha1_star))\n",
    "# axs[2].set_ylabel('alpha1_star', fontsize = 10)\n",
    "# plt.xlabel('ns')\n",
    "\n",
    "\n",
    "\n",
    "# axs[2].plot(np.real(alpha2_star))\n",
    "# axs[2].plot(np.imag(alpha2_star))\n",
    "# axs[2].set_ylabel('alpha2_star', fontsize = 10)\n",
    "# plt.xlabel('ns')"
   ]
  },
  {
   "cell_type": "markdown",
   "id": "988a23cf",
   "metadata": {},
   "source": [
    "# Qutip Simulation"
   ]
  },
  {
   "cell_type": "code",
   "execution_count": 73,
   "id": "26ad3bc8",
   "metadata": {},
   "outputs": [],
   "source": [
    "from qutip import *\n",
    "from qutip.control import *\n",
    "from math import *"
   ]
  },
  {
   "cell_type": "code",
   "execution_count": 74,
   "id": "957eba7e",
   "metadata": {},
   "outputs": [],
   "source": [
    "T = len(cavity1_dac_pulse)\n",
    "times = np.linspace(0, T, T) #1ns timesteps"
   ]
  },
  {
   "cell_type": "code",
   "execution_count": 75,
   "id": "d3180175",
   "metadata": {},
   "outputs": [],
   "source": [
    "n_c1 = N1  #number of levels in cavity\n",
    "n_c2 = N2  #number of levels in cavity\n",
    "n_q = 2 #number of levels in qubit\n",
    "\n",
    "#N = 1 #target cavity state\n",
    "\n",
    "omega_c1  = 5.26 *2*pi   #frequencies in GHz\n",
    "omega_c2 = 5.26 *2*pi   #frequencies in GHz\n",
    "omega_q = 6.65*2*pi\n",
    "#K = -3.7*(10**(-6))*2*pi #cavity nonlinearity\n",
    "\n",
    "#photon depenedent number shifts\n",
    "chi1 = storage1_params[\"chi_kHz\"]*2*pi*(10**(-6)) #linear\n",
    "chi1_ = storage1_params[\"chi_prime_Hz\"]*(10**(-9)) #quadratic\n",
    "chi2 = storage2_params[\"chi_kHz\"]*2*pi*(10**(-6)) #linear\n",
    "chi2_ = storage2_params[\"chi_prime_Hz\"]*(10**(-9)) #quadratic\n",
    "\n",
    "##mode to mode coupling \n",
    "eta = 0#10**(-6)"
   ]
  },
  {
   "cell_type": "markdown",
   "id": "70eb1866",
   "metadata": {},
   "source": [
    "Assuming both modes have same number of levels"
   ]
  },
  {
   "cell_type": "code",
   "execution_count": 76,
   "id": "713517ab",
   "metadata": {},
   "outputs": [],
   "source": [
    "# Creating identity, annhilitation/creation, num operators \n",
    "identity_q = qeye(n_q)\n",
    "identity_c = qeye(n_c1)\n",
    "\n",
    "a_q = destroy(n_q)\n",
    "a_c = destroy(n_c1)\n",
    "\n",
    "adag_q = create(n_q)\n",
    "adag_c = create(n_c2)\n",
    "\n",
    "num_q = num(n_q)\n",
    "num_c =  num(n_c1)\n",
    "\n",
    "\n",
    "c_ops = []\n",
    "\n",
    "tlist = times\n",
    "\n",
    "\n"
   ]
  },
  {
   "cell_type": "code",
   "execution_count": 77,
   "id": "3880fea6",
   "metadata": {},
   "outputs": [],
   "source": [
    "# Displace Frame hammy\n",
    "H0_disp = ((chi1/2)*tensor(sigmaz(), num_c, identity_c) # first mode -qubit\n",
    "            +\n",
    "          (chi2/2)*tensor(sigmaz(), identity_c, num_c) # 2nd mode - qubit\n",
    "           +\n",
    "          (eta)*tensor(identity_q, num_c, num_c)) # MODE-MODE"
   ]
  },
  {
   "cell_type": "code",
   "execution_count": 78,
   "id": "eda50509",
   "metadata": {},
   "outputs": [],
   "source": [
    "#for time dep hammy\n",
    "def mult(a,b):\n",
    "    '''\n",
    "    Elementwise multiplication of two lists\n",
    "    '''\n",
    "    if len(a) != len(b):\n",
    "        print('Error with mult: lists must be of same length')\n",
    "        return []\n",
    "    return [a[i]*b[i] for i in range(len(a)) ]\n",
    "    "
   ]
  },
  {
   "cell_type": "code",
   "execution_count": 79,
   "id": "30001b47",
   "metadata": {},
   "outputs": [],
   "source": [
    "a = alpha2\n",
    "b = alpha2_star"
   ]
  },
  {
   "cell_type": "code",
   "execution_count": 80,
   "id": "496b92b8",
   "metadata": {},
   "outputs": [],
   "source": [
    "# prepping time depedent hammys\n",
    "alpha1_sq =np.real( [np.real(i)**2 + np.imag(i)**2 for i in alpha1])\n",
    "alpha2_sq =np.real( [np.real(i)**2 + np.imag(i)**2 for i in alpha2])\n",
    "alpha1_times_2 = mult(alpha1, alpha2)\n",
    "alpha1star_times_2 = mult(alpha1_star, alpha2)\n",
    "\n",
    "\n",
    "H = [H0_disp,\n",
    "     #Qubit drive\n",
    "    [tensor(a_q, identity_c, identity_c), np.conjugate(qubit_dac_pulse_GHz)], \n",
    "     [tensor(adag_q, identity_c, identity_c), qubit_dac_pulse_GHz],\n",
    "     \n",
    "     # Desired Displacement term from qubit-mode1 coupling\n",
    "     [(chi1/2)*tensor(sigmaz(), a_c, identity_c), alpha1_star],  \n",
    "     [(chi1/2)*tensor(sigmaz(), adag_c, identity_c), alpha1],\n",
    "     \n",
    "     # Desired Displacement term from qubit-mode2 coupling\n",
    "     [(chi2/2)*tensor(sigmaz(),  identity_c, a_c), b],  \n",
    "     [(chi2/2)*tensor(sigmaz(), identity_c, adag_c), a],\n",
    "     \n",
    "     # UnDesired Displacement term from mode-mode coupling (no disp^2)\n",
    "     \n",
    "#      [(eta)*tensor(identity_q, a_c, num_c), alpha1_star],  \n",
    "#      [(eta)*tensor(identity_q, adag_c, num_c), alpha1],\n",
    "#      [(eta)*tensor(identity_q, num_c, a_c), alpha2_star],  \n",
    "#      [(eta)*tensor(identity_q, num_c, adag_c), alpha2],\n",
    "     \n",
    "#      [(eta)*tensor(identity_q, a_c, a_c), np.conjugate(alpha1_times_2)],  \n",
    "# #      [(eta)*tensor(identity_q, a_c, adag_c), alpha1star_times_2],\n",
    "#      [(eta)*tensor(identity_q, adag_c, a_c), np.conjugate(alpha1star_times_2)],  \n",
    "# #     [(eta)*tensor(identity_q, adag_c, adag_c), alpha1_times_2],\n",
    "     \n",
    "     # Undesired alpha^2 terms from frequency and mode-mode displacement\n",
    "#       [(chi1/2)*tensor(sigmaz(), identity_c, identity_c), alpha1_sq],\n",
    "#      [(chi2/2)*tensor(sigmaz(), identity_c, identity_c), alpha2_sq],\n",
    "#      [(eta)*tensor(identity_q, identity_c, num_c), alpha1_sq],\n",
    "#      [(eta)*tensor(identity_q, identity_c, num_c), alpha2_sq]\n",
    "     ]"
   ]
  },
  {
   "cell_type": "code",
   "execution_count": 81,
   "id": "74f4bf6a",
   "metadata": {},
   "outputs": [],
   "source": [
    "psi0 = initial[0]\n",
    "opts = Options(store_states=True, store_final_state=True,nsteps = 40000,max_step = 10)\n",
    "output1 = mesolve(H, psi0 , times, c_ops, [], options =opts)\n",
    "rho = output1.states[-1]"
   ]
  },
  {
   "cell_type": "code",
   "execution_count": 82,
   "id": "9e6677eb",
   "metadata": {},
   "outputs": [
    {
     "data": {
      "text/plain": [
       "(0.5928282556475987+0j)"
      ]
     },
     "execution_count": 82,
     "metadata": {},
     "output_type": "execute_result"
    }
   ],
   "source": [
    "dot(rho, target[0])"
   ]
  },
  {
   "cell_type": "code",
   "execution_count": 83,
   "id": "bc2dc500",
   "metadata": {},
   "outputs": [],
   "source": [
    "psi0 = initial[1]\n",
    "opts = Options(store_states=True, store_final_state=True,nsteps = 40000,max_step = 10)\n",
    "output = mesolve(H, psi0 , times, c_ops, [], options =opts)\n",
    "rho = output.states[-1]"
   ]
  },
  {
   "cell_type": "code",
   "execution_count": 84,
   "id": "624ba8ec",
   "metadata": {},
   "outputs": [
    {
     "data": {
      "text/plain": [
       "(0.44137173283698433+0j)"
      ]
     },
     "execution_count": 84,
     "metadata": {},
     "output_type": "execute_result"
    }
   ],
   "source": [
    "dot(rho, target[1])"
   ]
  },
  {
   "cell_type": "code",
   "execution_count": 52,
   "id": "d1fefc05",
   "metadata": {},
   "outputs": [],
   "source": [
    "# target_state = tensor(basis(n_q,1), basis(n_c1, 1), basis(n_c2, 0))\n",
    "# fidelity = rho.overlap(target_state)\n",
    "# fid = np.sqrt(fidelity.real**2 + fidelity.imag**2)\n",
    "# print('Fidelity is '+ str(fid))"
   ]
  },
  {
   "cell_type": "code",
   "execution_count": 53,
   "id": "f44af405",
   "metadata": {},
   "outputs": [],
   "source": [
    "# target_state = tensor(basis(n_q,0), basis(n_c1, 1), basis(n_c2, 0))\n",
    "# fidelity = rho.overlap(target_state)\n",
    "# fid = np.sqrt(fidelity.real**2 + fidelity.imag**2)\n",
    "# print('Fidelity is '+ str(fid))"
   ]
  },
  {
   "cell_type": "code",
   "execution_count": 54,
   "id": "db91e666",
   "metadata": {},
   "outputs": [],
   "source": [
    "import pylab as plot\n",
    "params = {'legend.fontsize': 15,\n",
    "          'legend.handlelength': 2}\n",
    "plot.rcParams.update(params)"
   ]
  },
  {
   "cell_type": "code",
   "execution_count": 55,
   "id": "dbd2da94",
   "metadata": {},
   "outputs": [],
   "source": [
    "def plot_populations(output, figname):\n",
    "    '''\n",
    "    Given output of mesolve, outputs populations with qubit as ground\n",
    "    '''\n",
    "    fig = plt.figure(figsize=(10,8))\n",
    "    probs = []\n",
    "    times = [k for k in range(len(output.states))]\n",
    "    max_num_levels = 2 # to be shown on the plot\n",
    "    \n",
    "    #qubit grounded\n",
    "    for i in range(max_num_levels):\n",
    "        for j in range(max_num_levels):\n",
    "            target = tensor(basis(n_q,0), basis(n_c1, i), basis(n_c2, j))\n",
    "            pops = []\n",
    "            for k in range(len(output.states)): \n",
    "                z = target.overlap(output.states[k])\n",
    "                pops.append(z.real**2 + z.imag**2)\n",
    "            plt.plot(times, pops, label = '|g,'+str(i)+',' + str(j)+'>')\n",
    "    \n",
    "    #qubit excited\n",
    "    for i in range(max_num_levels):\n",
    "        for j in range(max_num_levels):\n",
    "            target = tensor(basis(n_q,1), basis(n_c1, i), basis(n_c2, j))\n",
    "            pops = []\n",
    "            for k in range(len(output.states)): \n",
    "                z = target.overlap(output.states[k])\n",
    "                pops.append(z.real**2 + z.imag**2)\n",
    "            plt.plot(times, pops, label = '|e,'+str(i)+',' + str(j)+'>')\n",
    "            \n",
    "    plt.xlabel(\"Time (ns)\", fontsize = 14)\n",
    "    plt.ylabel(\"Populations\", fontsize = 14)\n",
    "    plt.xticks(fontsize= 10)\n",
    "    plt.yticks(fontsize= 10)\n",
    "#     plt.legend(prop={'size': 20},  fontsize = 8, loc='upper center', bbox_to_anchor=(0.5, 1.05),\n",
    "#           ncol=3, fancybox=True, shadow=True)   \n",
    "    plt.legend(loc='center left', bbox_to_anchor=(1, 0.5))\n",
    "    #plt.legend()\n",
    "    fig.savefig(figname, dpi = 1000)"
   ]
  },
  {
   "cell_type": "code",
   "execution_count": 56,
   "id": "e275af0b",
   "metadata": {},
   "outputs": [
    {
     "data": {
      "image/png": "[encoded data removed]",
      "text/plain": [
       "<Figure size 720x576 with 1 Axes>"
      ]
     },
     "metadata": {
      "needs_background": "light"
     },
     "output_type": "display_data"
    }
   ],
   "source": [
    "plot_populations(output, 'g00 to g01_eta1Hz.png')"
   ]
  },
  {
   "cell_type": "code",
   "execution_count": null,
   "id": "1e4d0c09",
   "metadata": {},
   "outputs": [],
   "source": []
  }
 ],
 "metadata": {
  "kernelspec": {
   "display_name": "Python 3",
   "language": "python",
   "name": "python3"
  },
  "language_info": {
   "codemirror_mode": {
    "name": "ipython",
    "version": 3
   },
   "file_extension": ".py",
   "mimetype": "text/x-python",
   "name": "python",
   "nbconvert_exporter": "python",
   "pygments_lexer": "ipython3",
   "version": "3.8.8"
  },
  "toc": {
   "base_numbering": 1,
   "nav_menu": {},
   "number_sections": true,
   "sideBar": true,
   "skip_h1_title": false,
   "title_cell": "Table of Contents",
   "title_sidebar": "Contents",
   "toc_cell": false,
   "toc_position": {},
   "toc_section_display": true,
   "toc_window_display": false
  },
  "varInspector": {
   "cols": {
    "lenName": 16,
    "lenType": 16,
    "lenVar": 40
   },
   "kernels_config": {
    "python": {
     "delete_cmd_postfix": "",
     "delete_cmd_prefix": "del ",
     "library": "var_list.py",
     "varRefreshCmd": "print(var_dic_list())"
    },
    "r": {
     "delete_cmd_postfix": ") ",
     "delete_cmd_prefix": "rm(",
     "library": "var_list.r",
     "varRefreshCmd": "cat(var_dic_list()) "
    }
   },
   "types_to_exclude": [
    "module",
    "function",
    "builtin_function_or_method",
    "instance",
    "_Feature"
   ],
   "window_display": false
  }
 },
 "nbformat": 4,
 "nbformat_minor": 5
}
