{
 "cells": [
  {
   "cell_type": "markdown",
   "metadata": {},
   "source": [
    "# Imports "
   ]
  },
  {
   "cell_type": "code",
   "execution_count": 2,
   "metadata": {},
   "outputs": [
    {
     "name": "stdout",
     "output_type": "stream",
     "text": [
      "hi\n"
     ]
    }
   ],
   "source": [
    "print('hi')"
   ]
  },
  {
   "cell_type": "code",
   "execution_count": 3,
   "metadata": {},
   "outputs": [
    {
     "data": {
      "text/plain": [
       "['C:\\\\Users\\\\Eesh Gupta\\\\Documents\\\\RU Research\\\\Chakram\\\\Multimode-Conditional-Displacements\\\\hpc_runs\\\\multimode_circle_grape\\\\Tensorflow2_code_migration',\n",
       " 'C:\\\\Users\\\\Eesh Gupta\\\\anaconda\\\\python38.zip',\n",
       " 'C:\\\\Users\\\\Eesh Gupta\\\\anaconda\\\\DLLs',\n",
       " 'C:\\\\Users\\\\Eesh Gupta\\\\anaconda\\\\lib',\n",
       " 'C:\\\\Users\\\\Eesh Gupta\\\\anaconda',\n",
       " '',\n",
       " 'C:\\\\Users\\\\Eesh Gupta\\\\anaconda\\\\lib\\\\site-packages',\n",
       " 'c:\\\\users\\\\eesh gupta\\\\documents\\\\ru research\\\\chakram\\\\qoc',\n",
       " 'c:\\\\users\\\\eesh gupta\\\\documents\\\\ru research\\\\chakram\\\\quantum-optimal-control',\n",
       " 'C:\\\\Users\\\\Eesh Gupta\\\\anaconda\\\\lib\\\\site-packages\\\\locket-0.2.1-py3.8.egg',\n",
       " 'C:\\\\Users\\\\Eesh Gupta\\\\anaconda\\\\lib\\\\site-packages\\\\win32',\n",
       " 'C:\\\\Users\\\\Eesh Gupta\\\\anaconda\\\\lib\\\\site-packages\\\\win32\\\\lib',\n",
       " 'C:\\\\Users\\\\Eesh Gupta\\\\anaconda\\\\lib\\\\site-packages\\\\Pythonwin',\n",
       " 'C:\\\\Users\\\\Eesh Gupta\\\\anaconda\\\\lib\\\\site-packages\\\\IPython\\\\extensions',\n",
       " 'C:\\\\Users\\\\Eesh Gupta\\\\.ipython']"
      ]
     },
     "execution_count": 3,
     "metadata": {},
     "output_type": "execute_result"
    }
   ],
   "source": [
    "import sys\n",
    "sys.path"
   ]
  },
  {
   "cell_type": "code",
   "execution_count": 4,
   "metadata": {},
   "outputs": [],
   "source": [
    "new_path= 'c:\\\\users\\\\eesh gupta\\\\documents\\\\ru research\\\\chakram\\\\quantum-optimal-control2'\n",
    "sys.path.append(new_path)"
   ]
  },
  {
   "cell_type": "code",
   "execution_count": 5,
   "metadata": {},
   "outputs": [],
   "source": [
    "%matplotlib inline\n",
    "import os\n",
    "import sys\n",
    "import inspect\n",
    "import numpy as np\n",
    "from scipy.special import factorial\n",
    "import h5py\n",
    "\n",
    "#data_path = '/data'     ... data path specified later\n",
    "#data_path\n",
    "#initial_pulse = '../pulses/example_pulses/transmon_cat_initial_pulse.h5'\n",
    "from h5py import File\n",
    "import matplotlib.pyplot as plt\n",
    "from pylab import*\n",
    "from qutip import*\n",
    "\n",
    "from scipy import interpolate\n",
    "font = {'family' : 'normal',\n",
    "        'weight' : 'normal',\n",
    "        'size'   : 18}\n",
    "\n",
    "matplotlib.rc('font', **font)\n"
   ]
  },
  {
   "cell_type": "code",
   "execution_count": 6,
   "metadata": {},
   "outputs": [],
   "source": [
    "from quantum_optimal_control.helper_functions.grape_functions import *\n",
    "from quantum_optimal_control.main_grape.grape import Grape\n",
    "from quantum_optimal_control import*"
   ]
  },
  {
   "cell_type": "code",
   "execution_count": 7,
   "metadata": {},
   "outputs": [],
   "source": [
    "%load_ext autoreload\n",
    "%autoreload 2"
   ]
  },
  {
   "cell_type": "markdown",
   "metadata": {},
   "source": [
    "$$\\newcommand{\\ket}[1]{\\left|{#1}\\right\\rangle}\n",
    "\\newcommand{\\bra}[1]{\\left\\langle{#1}\\right|}$$"
   ]
  },
  {
   "cell_type": "markdown",
   "metadata": {},
   "source": [
    "# 3DMM2 parameters"
   ]
  },
  {
   "cell_type": "code",
   "execution_count": 8,
   "metadata": {},
   "outputs": [],
   "source": [
    "# chi = Peak splitting MHz\n",
    "chis = 2*array([-33.1962, -0.8676]) \n",
    "kappas  = array([0,0]) # kHz"
   ]
  },
  {
   "cell_type": "markdown",
   "metadata": {},
   "source": [
    "# Multimode circle grape"
   ]
  },
  {
   "cell_type": "code",
   "execution_count": 9,
   "metadata": {},
   "outputs": [
    {
     "name": "stdout",
     "output_type": "stream",
     "text": [
      "done\n"
     ]
    }
   ],
   "source": [
    "#TODO: Figure out why relative import doesn't work\n",
    "from circle_grape_v3 import *"
   ]
  },
  {
   "cell_type": "code",
   "execution_count": 10,
   "metadata": {},
   "outputs": [],
   "source": [
    "transmon_levels = 2"
   ]
  },
  {
   "cell_type": "markdown",
   "metadata": {},
   "source": [
    "#  Params :  $\\alpha = 30.0 , \\delta_c = -0.030$ GHz, $\\tau = 500$ ns, $\\Omega_{max} =1$ MHz"
   ]
  },
  {
   "cell_type": "code",
   "execution_count": 11,
   "metadata": {},
   "outputs": [],
   "source": [
    "mode = 0\n",
    "mode_levels = 2\n",
    "chi,kappa = chis[mode]*1e-6,kappas[mode]*1e-6\n",
    "circle_grape_params = {\"chis\":[chi],\"kappas\":[kappa],\"alpha\":30.0,\"delta_c\":-0.01}\n",
    "\n",
    "op = multimode_circle_grape_optimal_control(mode_state_num = mode_levels,\n",
    "                                            number_of_modes = 1,hparams = circle_grape_params,add_disp_kerr=False)\n",
    "\n",
    "\n"
   ]
  },
  {
   "cell_type": "code",
   "execution_count": 12,
   "metadata": {},
   "outputs": [
    {
     "data": {
      "text/plain": [
       "['C:\\\\Users\\\\Eesh Gupta\\\\Documents\\\\RU Research\\\\Chakram\\\\Multimode-Conditional-Displacements\\\\hpc_runs\\\\multimode_circle_grape\\\\Tensorflow2_code_migration',\n",
       " 'C:\\\\Users\\\\Eesh Gupta\\\\anaconda\\\\python38.zip',\n",
       " 'C:\\\\Users\\\\Eesh Gupta\\\\anaconda\\\\DLLs',\n",
       " 'C:\\\\Users\\\\Eesh Gupta\\\\anaconda\\\\lib',\n",
       " 'C:\\\\Users\\\\Eesh Gupta\\\\anaconda',\n",
       " '',\n",
       " 'C:\\\\Users\\\\Eesh Gupta\\\\anaconda\\\\lib\\\\site-packages',\n",
       " 'c:\\\\users\\\\eesh gupta\\\\documents\\\\ru research\\\\chakram\\\\qoc',\n",
       " 'c:\\\\users\\\\eesh gupta\\\\documents\\\\ru research\\\\chakram\\\\quantum-optimal-control',\n",
       " 'C:\\\\Users\\\\Eesh Gupta\\\\anaconda\\\\lib\\\\site-packages\\\\locket-0.2.1-py3.8.egg',\n",
       " 'C:\\\\Users\\\\Eesh Gupta\\\\anaconda\\\\lib\\\\site-packages\\\\win32',\n",
       " 'C:\\\\Users\\\\Eesh Gupta\\\\anaconda\\\\lib\\\\site-packages\\\\win32\\\\lib',\n",
       " 'C:\\\\Users\\\\Eesh Gupta\\\\anaconda\\\\lib\\\\site-packages\\\\Pythonwin',\n",
       " 'C:\\\\Users\\\\Eesh Gupta\\\\anaconda\\\\lib\\\\site-packages\\\\IPython\\\\extensions',\n",
       " 'C:\\\\Users\\\\Eesh Gupta\\\\.ipython',\n",
       " 'c:\\\\users\\\\eesh gupta\\\\documents\\\\ru research\\\\chakram\\\\quantum-optimal-control2']"
      ]
     },
     "execution_count": 12,
     "metadata": {},
     "output_type": "execute_result"
    }
   ],
   "source": [
    "import sys\n",
    "sys.path"
   ]
  },
  {
   "cell_type": "code",
   "execution_count": 13,
   "metadata": {},
   "outputs": [],
   "source": [
    "data_path = ''#'/home/eag190/Multimode-Conditional-Displacements/hpc_runs/multimode_circle_grape/sample workflow/data'"
   ]
  },
  {
   "cell_type": "code",
   "execution_count": 14,
   "metadata": {},
   "outputs": [
    {
     "data": {
      "text/plain": [
       "'2.7.0'"
      ]
     },
     "execution_count": 14,
     "metadata": {},
     "output_type": "execute_result"
    }
   ],
   "source": [
    "tf.__version__"
   ]
  },
  {
   "cell_type": "code",
   "execution_count": 44,
   "metadata": {
    "scrolled": true
   },
   "outputs": [
    {
     "ename": "TypeError",
     "evalue": "'NoneType' object is not subscriptable",
     "output_type": "error",
     "traceback": [
      "\u001b[1;31m---------------------------------------------------------------------------\u001b[0m",
      "\u001b[1;31mTypeError\u001b[0m                                 Traceback (most recent call last)",
      "\u001b[1;32m<ipython-input-44-dcf26948b6b4>\u001b[0m in \u001b[0;36m<module>\u001b[1;34m\u001b[0m\n\u001b[0;32m     15\u001b[0m \u001b[0minitial_guess\u001b[0m \u001b[1;33m=\u001b[0m \u001b[1;32mNone\u001b[0m\u001b[1;33m\u001b[0m\u001b[1;33m\u001b[0m\u001b[0m\n\u001b[0;32m     16\u001b[0m \u001b[1;33m\u001b[0m\u001b[0m\n\u001b[1;32m---> 17\u001b[1;33m ss = op.run_optimal_control(state_transfer = True, initial_states = [0], target_states = [1], \n\u001b[0m\u001b[0;32m     18\u001b[0m                         \u001b[0mtotal_time\u001b[0m \u001b[1;33m=\u001b[0m \u001b[0mtotal_time\u001b[0m\u001b[1;33m,\u001b[0m \u001b[0msteps\u001b[0m \u001b[1;33m=\u001b[0m \u001b[0msteps\u001b[0m\u001b[1;33m,\u001b[0m\u001b[0mmax_amp\u001b[0m \u001b[1;33m=\u001b[0m \u001b[1;36m1e-2\u001b[0m\u001b[1;33m,\u001b[0m\u001b[1;33m\u001b[0m\u001b[1;33m\u001b[0m\u001b[0m\n\u001b[0;32m     19\u001b[0m                         \u001b[0mtaylor_terms\u001b[0m \u001b[1;33m=\u001b[0m \u001b[1;32mNone\u001b[0m\u001b[1;33m,\u001b[0m\u001b[0mis_dressed\u001b[0m\u001b[1;33m=\u001b[0m\u001b[1;32mFalse\u001b[0m\u001b[1;33m,\u001b[0m\u001b[1;33m\u001b[0m\u001b[1;33m\u001b[0m\u001b[0m\n",
      "\u001b[1;32m~\\Documents\\RU Research\\Chakram\\Multimode-Conditional-Displacements\\hpc_runs\\multimode_circle_grape\\Tensorflow2_code_migration\\circle_grape_v3.py\u001b[0m in \u001b[0;36mrun_optimal_control\u001b[1;34m(self, state_transfer, initial_states, target_states, total_time, steps, max_amp, taylor_terms, is_dressed, convergence, reg_coeffs, plot_only_g, states_forbidden_list, initial_guess, file_name, data_path, specify_state_amplitudes, save)\u001b[0m\n\u001b[0;32m    308\u001b[0m                              \u001b[0mmaxA\u001b[0m\u001b[1;33m=\u001b[0m\u001b[0mops_max_amp\u001b[0m\u001b[1;33m,\u001b[0m \u001b[0mreg_coeffs\u001b[0m\u001b[1;33m=\u001b[0m\u001b[0mreg_coeffs\u001b[0m\u001b[1;33m,\u001b[0m \u001b[0mdressed_info\u001b[0m\u001b[1;33m=\u001b[0m\u001b[0mdressed_info\u001b[0m\u001b[1;33m,\u001b[0m\u001b[1;33m\u001b[0m\u001b[1;33m\u001b[0m\u001b[0m\n\u001b[0;32m    309\u001b[0m                              file_name=file_name, data_path=data_path, save = save)\n\u001b[1;32m--> 310\u001b[1;33m         \u001b[0mself\u001b[0m\u001b[1;33m.\u001b[0m\u001b[0mfilename\u001b[0m \u001b[1;33m=\u001b[0m \u001b[0mss\u001b[0m\u001b[1;33m[\u001b[0m\u001b[1;33m-\u001b[0m\u001b[1;36m1\u001b[0m\u001b[1;33m]\u001b[0m\u001b[1;33m\u001b[0m\u001b[1;33m\u001b[0m\u001b[0m\n\u001b[0m\u001b[0;32m    311\u001b[0m         \u001b[1;32mreturn\u001b[0m \u001b[0mss\u001b[0m\u001b[1;33m\u001b[0m\u001b[1;33m\u001b[0m\u001b[0m\n\u001b[0;32m    312\u001b[0m \u001b[1;33m\u001b[0m\u001b[0m\n",
      "\u001b[1;31mTypeError\u001b[0m: 'NoneType' object is not subscriptable"
     ]
    }
   ],
   "source": [
    "states_forbidden_list = []\n",
    "total_time = 5000.0\n",
    "steps  = 500  #number of points over the total time where amplitudes will be specified\n",
    "\n",
    "convergence = {'rate': 0.01, 'update_step': 10, 'max_iterations': 100,\n",
    "               'conv_target': 3e-4, 'learning_rate_decay': 500.0}\n",
    "\n",
    "\n",
    "reg_coeffs = {'dwdt': 0.1, 'd2wdt2': 1.0e-3, 'forbid_dressed': False,\n",
    "               'states_forbidden_list':states_forbidden_list,\n",
    "               'forbidden_coeff_list': [1.0*steps] * len(states_forbidden_list)}\n",
    "\n",
    "\n",
    "\n",
    "initial_guess = None\n",
    "\n",
    "ss = op.run_optimal_control(state_transfer = True, initial_states = [0], target_states = [1], \n",
    "                        total_time = total_time, steps = steps,max_amp = 1e-2, \n",
    "                        taylor_terms = None,is_dressed=False, \n",
    "                        convergence = convergence, reg_coeffs =  reg_coeffs,\n",
    "                        plot_only_g = True,\n",
    "                        states_forbidden_list = states_forbidden_list,initial_guess = initial_guess, \n",
    "                        file_name=\"g0_to_g1_circlgrape\", data_path=data_path, save = True)"
   ]
  },
  {
   "cell_type": "code",
   "execution_count": null,
   "metadata": {},
   "outputs": [],
   "source": [
    "op.controlHs()"
   ]
  },
  {
   "cell_type": "code",
   "execution_count": 46,
   "metadata": {},
   "outputs": [
    {
     "ename": "SyntaxError",
     "evalue": "unexpected character after line continuation character (<ipython-input-46-7992d37700e4>, line 1)",
     "output_type": "error",
     "traceback": [
      "\u001b[1;36m  File \u001b[1;32m\"<ipython-input-46-7992d37700e4>\"\u001b[1;36m, line \u001b[1;32m1\u001b[0m\n\u001b[1;33m    1\\2\u001b[0m\n\u001b[1;37m       ^\u001b[0m\n\u001b[1;31mSyntaxError\u001b[0m\u001b[1;31m:\u001b[0m unexpected character after line continuation character\n"
     ]
    }
   ],
   "source": [
    "1\\2"
   ]
  },
  {
   "cell_type": "code",
   "execution_count": 47,
   "metadata": {},
   "outputs": [],
   "source": [
    "hf = op.openfile()"
   ]
  },
  {
   "cell_type": "code",
   "execution_count": 50,
   "metadata": {},
   "outputs": [
    {
     "name": "stdout",
     "output_type": "stream",
     "text": [
      "[2, 4, 2]\n",
      "starting states:\n",
      "[array([1., 0., 0., 0., 0., 0., 0., 0., 0., 0., 0., 0., 0., 0., 0., 0., 0.,\n",
      "       0., 0., 0.])]\n",
      "target states:\n",
      "[array([0., 1., 0., 0., 0., 0., 0., 0., 0., 0., 0., 0., 0., 0., 0., 0., 0.,\n",
      "       0., 0., 0.])]\n",
      "[]\n",
      "Hops are(2, 20, 20)\n",
      "tensorflow2 grape\n",
      "data saved at: 00126_g0_to_g1_circlgrape.h5\n",
      "Using 20 Taylor terms and 0 Scaling & Squaring terms\n",
      "Propagators initialized.\n",
      "Operators weight initialized.\n"
     ]
    },
    {
     "name": "stderr",
     "output_type": "stream",
     "text": [
      "c:\\users\\eesh gupta\\documents\\ru research\\chakram\\quantum-optimal-control\\quantum_optimal_control\\helper_functions\\data_management.py:13: H5pyDeprecationWarning: The default file mode will change to 'r' (read-only) in h5py 3.0. To suppress this warning, pass the mode you need to h5py.File(), or set the global default h5.get_config().default_file_mode, or set the environment variable H5PY_DEFAULT_READONLY=1. Available modes are: 'r', 'r+', 'w', 'w-'/'x', 'a'. See the docs for details.\n",
      "  h5py.File.__init__(self, *args, **kwargs)\n"
     ]
    },
    {
     "name": "stdout",
     "output_type": "stream",
     "text": [
      "Vectors initialized.\n",
      "Training loss initialized.\n",
      "Not added train.saver functionality yet.\n",
      "GPU Not available now; will integrate later\n",
      "(2, 100)\n",
      "no changing learning rate\n",
      "inside tape\n",
      "(2, 100)\n",
      "tf.Tensor([[1.]], shape=(1, 1), dtype=float32)\n",
      "metric\n",
      "tf.Tensor(0.99999785, shape=(), dtype=float32)\n",
      "loss\n",
      "tf.Tensor([[1.]], shape=(1, 1), dtype=float32)\n",
      "<dtype: 'float32'>\n",
      "<dtype: 'float32'>\n",
      "data saved at: 00126_g0_to_g1_circlgrape.h5\n"
     ]
    },
    {
     "data": {
      "text/plain": [
       "(<tf.Variable 'Variable:0' shape=(2, 100) dtype=float32, numpy=\n",
       " array([[ 9.73870163e-04,  7.35385576e-04,  6.85195439e-04,\n",
       "          1.05116144e-03, -5.98353567e-04, -9.05196241e-04,\n",
       "          1.65604390e-04, -6.52622723e-04,  2.63439404e-04,\n",
       "          1.81556345e-04,  6.50886272e-04,  1.12948753e-03,\n",
       "         -9.30289913e-04, -8.49220552e-04,  4.94938344e-04,\n",
       "          1.19571283e-04, -1.48336845e-03,  2.11705221e-04,\n",
       "         -6.51712005e-04,  6.26235094e-04,  3.72905313e-04,\n",
       "         -5.69114403e-04, -3.69143847e-04, -4.29919601e-04,\n",
       "          5.43370727e-04, -1.60666052e-04,  4.16924682e-04,\n",
       "          6.52165152e-04,  6.83931517e-04, -2.73494561e-06,\n",
       "         -1.00589523e-06, -4.19885677e-04,  3.35662577e-07,\n",
       "          3.53909156e-04, -4.12126887e-04, -1.09523695e-04,\n",
       "          8.68866337e-04, -1.51676668e-05, -3.86674743e-04,\n",
       "         -5.80751730e-05,  1.85338329e-04,  6.88834116e-05,\n",
       "          2.08366590e-04,  3.27175192e-04,  5.82830864e-04,\n",
       "          5.15925458e-05, -8.60852379e-05, -2.93897665e-05,\n",
       "         -9.40916361e-04,  3.69015790e-04, -3.04492656e-04,\n",
       "          6.77969592e-06,  4.84683951e-05,  8.84863897e-04,\n",
       "          4.75318258e-04,  9.10998089e-04, -1.18311343e-03,\n",
       "         -7.95790751e-04,  1.95198227e-04, -1.00769219e-03,\n",
       "          3.44033586e-04, -6.98683492e-04, -1.68095299e-04,\n",
       "          1.08636322e-03,  2.20107715e-04, -3.21962652e-05,\n",
       "          1.85068511e-05, -4.53117333e-04,  6.86804051e-05,\n",
       "          1.76259811e-04,  2.32177845e-04, -4.47068189e-04,\n",
       "         -1.33395049e-04, -5.14511834e-04,  2.68772477e-04,\n",
       "          1.73573470e-04, -8.57147097e-04, -5.56638348e-04,\n",
       "          7.04828708e-04,  3.94649571e-04, -6.56120188e-04,\n",
       "         -3.56577773e-04, -4.60229494e-04,  3.33140197e-04,\n",
       "         -4.80855204e-04, -9.25330212e-04,  4.82312869e-04,\n",
       "         -6.70642185e-04,  1.85977566e-04,  7.23035017e-04,\n",
       "         -4.91024111e-04, -7.20035518e-04,  2.31682672e-04,\n",
       "         -2.02221578e-04, -7.50683073e-04,  9.24107328e-04,\n",
       "          9.19926912e-04,  1.62095137e-04, -2.17013105e-04,\n",
       "          1.50609470e-03],\n",
       "        [-8.02645925e-04, -6.63258019e-04,  1.03089528e-03,\n",
       "          6.35249133e-04, -8.71356096e-05,  5.57702268e-04,\n",
       "         -5.81187523e-05,  9.18994367e-04,  4.23483056e-04,\n",
       "          1.36084692e-03, -1.46885053e-03,  1.17257216e-04,\n",
       "         -4.46320118e-05, -3.10758449e-04, -6.61402592e-04,\n",
       "         -1.61045801e-03,  1.61170505e-03, -3.05018097e-04,\n",
       "          8.90302297e-04, -5.76145074e-04,  5.70284785e-04,\n",
       "          3.41060106e-04,  1.93362721e-04, -8.80272819e-06,\n",
       "         -2.01866473e-03,  8.21980473e-04, -1.87205442e-04,\n",
       "          9.24272870e-04, -1.39556389e-04,  1.86816673e-04,\n",
       "         -2.68839387e-04, -4.96851753e-05,  3.76070413e-04,\n",
       "         -1.01872312e-04, -9.10101051e-04, -2.13486448e-04,\n",
       "         -6.35105825e-04,  7.11745874e-04, -9.16830177e-05,\n",
       "          5.00740018e-04,  8.52510930e-05,  3.85417115e-05,\n",
       "         -2.72981506e-05,  9.75697476e-04, -7.68587284e-04,\n",
       "         -1.30670873e-04,  8.94852448e-04,  6.65381609e-04,\n",
       "          1.93562373e-05, -4.26734652e-04, -4.48833161e-04,\n",
       "          8.42407826e-05,  7.47351616e-04, -2.24016301e-04,\n",
       "         -8.15937645e-04,  3.21714149e-04, -1.26615097e-03,\n",
       "         -5.64971648e-04,  6.94015544e-05, -3.54558520e-04,\n",
       "          2.35851330e-04, -6.03419312e-06, -5.41483168e-04,\n",
       "          8.41225206e-04, -5.33841900e-04,  3.17832892e-04,\n",
       "         -6.24269829e-04,  2.47795717e-04, -7.79639173e-04,\n",
       "          6.96895877e-04,  1.50804059e-04, -1.45356942e-04,\n",
       "          2.28317906e-04, -7.55331363e-04,  2.24850257e-04,\n",
       "         -3.62961669e-04, -1.29563254e-04, -6.65380911e-04,\n",
       "          4.84611694e-04, -1.75758090e-04, -6.69600209e-04,\n",
       "          1.57767674e-04,  5.91352873e-04, -4.32483765e-04,\n",
       "          2.01959308e-04, -4.10120934e-04, -8.44802475e-04,\n",
       "          1.21660414e-03, -2.21008682e-04,  4.74488625e-04,\n",
       "         -5.44770504e-04, -7.53297820e-04,  7.87277939e-04,\n",
       "         -5.57576772e-04,  1.36603357e-03,  6.23839616e-04,\n",
       "         -4.91852057e-04, -5.91761840e-04,  9.13464406e-04,\n",
       "         -7.80570728e-04]], dtype=float32)>,\n",
       " [],\n",
       " '00126_g0_to_g1_circlgrape.h5')"
      ]
     },
     "execution_count": 50,
     "metadata": {},
     "output_type": "execute_result"
    }
   ],
   "source": [
    "mode = 0\n",
    "mode_levels = 10\n",
    "chi,kappa = chis[mode]*1e-3,kappas[mode]*1e-6\n",
    "circle_grape_params = {\"chis\":[chi],\"kappas\":[kappa],\"alpha\":1.0,\"delta_c\":-0.0010}\n",
    "\n",
    "op = multimode_circle_grape_optimal_control(mode_state_num = mode_levels,\n",
    "                                            number_of_modes = 1,hparams = circle_grape_params,add_disp_kerr=False)\n",
    "\n",
    "\n",
    "states_forbidden_list = []\n",
    "total_time = 5000.0\n",
    "steps  = 100\n",
    "\n",
    "convergence = {'rate': 0.01, 'update_step': 10, 'max_iterations': 1000,\n",
    "               'conv_target': 3e-4, 'learning_rate_decay': 500.0}\n",
    "\n",
    "\n",
    "reg_coeffs = {'dwdt': 0.1, 'd2wdt2': 1.0e-3, 'forbid_dressed': False,\n",
    "              'states_forbidden_list':states_forbidden_list,\n",
    "              'forbidden_coeff_list': [1.0*steps] * len(states_forbidden_list)}\n",
    "\n",
    "\n",
    "\n",
    "initial_guess = None\n",
    "# initial_guess = np.ones((2, int(steps))) * 2*np.pi * 10.0e-6/np.sqrt(2)\n",
    "# initial_guess = np.random.normal(loc=0.0, scale=2*np.pi*15e-7, size=(len(Hops), int(steps)))\n",
    "\n",
    "\n",
    "# expt_name = 'g0_to_g2_blockade'\n",
    "# file_number = 29\n",
    "# initial_pulse = \"S:/_Data/191018 - Picollo cavity cooldown 15 real\\\\optimal control pulses\\\\blockade_pulses\\\\\" + \\\n",
    "#                 str(file_number).zfill(5) + \"_\" + expt_name.lower()+\".h5\"\n",
    "\n",
    "# with h5py.File(initial_pulse,'r') as hf:\n",
    "#     last_u0 = np.array(hf['uks'])[-1]\n",
    "# initial_guess = last_u0\n",
    "\n",
    "\n",
    "op.run_optimal_control(state_transfer = True, initial_states = [0], target_states = [1], \n",
    "                        total_time = total_time, steps = steps,max_amp = 1e-3, \n",
    "                        taylor_terms = None,is_dressed=False, \n",
    "                        convergence = convergence, reg_coeffs =  reg_coeffs,\n",
    "                        plot_only_g = True,\n",
    "                        states_forbidden_list = states_forbidden_list,initial_guess = initial_guess, \n",
    "                        file_name=\"g0_to_g1_circlgrape\", data_path=data_path)"
   ]
  },
  {
   "cell_type": "code",
   "execution_count": null,
   "metadata": {},
   "outputs": [],
   "source": [
    "hf['error'][-1]"
   ]
  },
  {
   "cell_type": "code",
   "execution_count": null,
   "metadata": {},
   "outputs": [],
   "source": [
    "op.plot_pulses()"
   ]
  },
  {
   "cell_type": "code",
   "execution_count": null,
   "metadata": {},
   "outputs": [],
   "source": [
    "ss"
   ]
  },
  {
   "cell_type": "code",
   "execution_count": null,
   "metadata": {},
   "outputs": [],
   "source": [
    "len(ss[0][0])"
   ]
  },
  {
   "cell_type": "code",
   "execution_count": null,
   "metadata": {},
   "outputs": [],
   "source": [
    "op.fidelity()"
   ]
  },
  {
   "cell_type": "code",
   "execution_count": null,
   "metadata": {},
   "outputs": [],
   "source": [
    "import os \n",
    "data_path = '/home/eag190/Multimode-Conditional-Displacements/hpc_runs/multimode_circle_grape/sample workflow/data'\n",
    "file_path = 'test.h5'\n",
    "file_path_f = os.path.join(data_path, file_path)\n",
    "file_path_f"
   ]
  },
  {
   "cell_type": "code",
   "execution_count": null,
   "metadata": {},
   "outputs": [],
   "source": [
    "hf = h5py.File(file_path_f, 'w')\n"
   ]
  },
  {
   "cell_type": "code",
   "execution_count": null,
   "metadata": {},
   "outputs": [],
   "source": [
    "get_dressed_info"
   ]
  },
  {
   "cell_type": "code",
   "execution_count": null,
   "metadata": {},
   "outputs": [],
   "source": [
    "w_c, v_c, dressed_id = get_dressed_info(op.H_rot())"
   ]
  },
  {
   "cell_type": "code",
   "execution_count": null,
   "metadata": {},
   "outputs": [],
   "source": [
    "w_c"
   ]
  },
  {
   "cell_type": "code",
   "execution_count": null,
   "metadata": {},
   "outputs": [],
   "source": [
    "v_c"
   ]
  },
  {
   "cell_type": "code",
   "execution_count": null,
   "metadata": {},
   "outputs": [],
   "source": [
    "dressed_id"
   ]
  },
  {
   "cell_type": "code",
   "execution_count": null,
   "metadata": {},
   "outputs": [],
   "source": []
  }
 ],
 "metadata": {
  "kernelspec": {
   "display_name": "Python 3",
   "language": "python",
   "name": "python3"
  },
  "language_info": {
   "codemirror_mode": {
    "name": "ipython",
    "version": 3
   },
   "file_extension": ".py",
   "mimetype": "text/x-python",
   "name": "python",
   "nbconvert_exporter": "python",
   "pygments_lexer": "ipython3",
   "version": "3.8.8"
  },
  "toc": {
   "base_numbering": 1,
   "nav_menu": {},
   "number_sections": true,
   "sideBar": false,
   "skip_h1_title": false,
   "title_cell": "Table of Contents",
   "title_sidebar": "Contents",
   "toc_cell": false,
   "toc_position": {
    "height": "189.537px",
    "left": "796.952px",
    "top": "111.06px",
    "width": "164.993px"
   },
   "toc_section_display": true,
   "toc_window_display": false
  },
  "varInspector": {
   "cols": {
    "lenName": 16,
    "lenType": 16,
    "lenVar": 40
   },
   "kernels_config": {
    "python": {
     "delete_cmd_postfix": "",
     "delete_cmd_prefix": "del ",
     "library": "var_list.py",
     "varRefreshCmd": "print(var_dic_list())"
    },
    "r": {
     "delete_cmd_postfix": ") ",
     "delete_cmd_prefix": "rm(",
     "library": "var_list.r",
     "varRefreshCmd": "cat(var_dic_list()) "
    }
   },
   "types_to_exclude": [
    "module",
    "function",
    "builtin_function_or_method",
    "instance",
    "_Feature"
   ],
   "window_display": false
  }
 },
 "nbformat": 4,
 "nbformat_minor": 4
}
