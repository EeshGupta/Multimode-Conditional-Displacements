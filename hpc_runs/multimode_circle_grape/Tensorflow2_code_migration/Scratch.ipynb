{
 "cells": [
  {
   "cell_type": "code",
   "execution_count": 1,
   "id": "2448a7f2",
   "metadata": {},
   "outputs": [],
   "source": [
    "import tensorflow as tf"
   ]
  },
  {
   "cell_type": "code",
   "execution_count": 2,
   "id": "b6728aee",
   "metadata": {},
   "outputs": [
    {
     "name": "stdout",
     "output_type": "stream",
     "text": [
      "trace\n"
     ]
    },
    {
     "data": {
      "text/plain": [
       "<tf.Tensor: shape=(3,), dtype=int32, numpy=array([1, 2, 3])>"
      ]
     },
     "execution_count": 2,
     "metadata": {},
     "output_type": "execute_result"
    }
   ],
   "source": [
    "class Model(tf.Module):\n",
    "  def __init__(self):\n",
    "    self.dataset = None\n",
    "\n",
    "  @tf.function\n",
    "  def __call__(self):\n",
    "    print(\"trace\") # This will print once: only traced once\n",
    "    if self.dataset is None:\n",
    "      self.dataset = tf.data.Dataset.from_tensors([1, 2, 3])\n",
    "    it = iter(self.dataset)\n",
    "    return next(it)\n",
    "\n",
    "m = Model()\n",
    "m()"
   ]
  },
  {
   "cell_type": "code",
   "execution_count": 3,
   "id": "8fb4aebc",
   "metadata": {},
   "outputs": [
    {
     "name": "stdout",
     "output_type": "stream",
     "text": [
      "trace\n",
      "in user code:\n",
      "\n",
      "    File \"<ipython-input-3-b565cf74f86e>\", line 14, in __call__  *\n",
      "        it = self.dataset[0]\n",
      "\n",
      "    TypeError: 'TensorDataset' object is not subscriptable\n",
      "\n"
     ]
    }
   ],
   "source": [
    "class Model(tf.Module):\n",
    "  def __init__(self):\n",
    "    self.v = None\n",
    "    self.dataset = None\n",
    "\n",
    "  @tf.function\n",
    "  def __call__(self):\n",
    "    print(\"trace\") # This will print twice because the python body is run twice\n",
    "    if self.v is None:\n",
    "      self.v = tf.Variable(0)\n",
    "    if self.dataset is None:\n",
    "      self.dataset = tf.data.Dataset.from_tensors([1, 2, 3])\n",
    "   # it = iter(self.dataset)\n",
    "    it = self.dataset[0]\n",
    "    return [self.v, it]\n",
    "    #return None\n",
    "\n",
    "m = Model()\n",
    "try:\n",
    "  m()\n",
    "except TypeError as e:\n",
    "  print(e) # <tf.Tensor ...> is out of scope and cannot be used here."
   ]
  },
  {
   "cell_type": "markdown",
   "id": "a82298ce",
   "metadata": {},
   "source": [
    "# Testing Operations"
   ]
  },
  {
   "cell_type": "code",
   "execution_count": 8,
   "id": "d06370f6",
   "metadata": {},
   "outputs": [
    {
     "data": {
      "text/plain": [
       "<tf.Tensor: shape=(), dtype=float32, numpy=6.0>"
      ]
     },
     "execution_count": 8,
     "metadata": {},
     "output_type": "execute_result"
    }
   ],
   "source": [
    "t = tf.constant(2.0)\n",
    "u = tf.constant(3.0)\n",
    "tu = tf.multiply(t, u)\n",
    "tu"
   ]
  },
  {
   "cell_type": "code",
   "execution_count": 13,
   "id": "fb31a82c",
   "metadata": {},
   "outputs": [
    {
     "ename": "RuntimeError",
     "evalue": "The Session graph is empty. Add operations to the graph before calling run().",
     "output_type": "error",
     "traceback": [
      "\u001b[1;31m---------------------------------------------------------------------------\u001b[0m",
      "\u001b[1;31mRuntimeError\u001b[0m                              Traceback (most recent call last)",
      "\u001b[1;32m<ipython-input-13-7f4b6776907f>\u001b[0m in \u001b[0;36m<module>\u001b[1;34m\u001b[0m\n\u001b[0;32m      5\u001b[0m \u001b[0msess\u001b[0m \u001b[1;33m=\u001b[0m \u001b[0mtf\u001b[0m\u001b[1;33m.\u001b[0m\u001b[0mcompat\u001b[0m\u001b[1;33m.\u001b[0m\u001b[0mv1\u001b[0m\u001b[1;33m.\u001b[0m\u001b[0mSession\u001b[0m\u001b[1;33m(\u001b[0m\u001b[1;33m)\u001b[0m\u001b[1;33m\u001b[0m\u001b[1;33m\u001b[0m\u001b[0m\n\u001b[0;32m      6\u001b[0m \u001b[1;32mwith\u001b[0m \u001b[0msess\u001b[0m\u001b[1;33m.\u001b[0m\u001b[0mas_default\u001b[0m\u001b[1;33m(\u001b[0m\u001b[1;33m)\u001b[0m\u001b[1;33m:\u001b[0m\u001b[1;33m\u001b[0m\u001b[1;33m\u001b[0m\u001b[0m\n\u001b[1;32m----> 7\u001b[1;33m     \u001b[0msess\u001b[0m\u001b[1;33m.\u001b[0m\u001b[0mrun\u001b[0m\u001b[1;33m(\u001b[0m\u001b[0mtu\u001b[0m\u001b[1;33m)\u001b[0m  \u001b[1;31m# evaluates both tensors in a single step\u001b[0m\u001b[1;33m\u001b[0m\u001b[1;33m\u001b[0m\u001b[0m\n\u001b[0m",
      "\u001b[1;32m~\\anaconda\\lib\\site-packages\\tensorflow\\python\\client\\session.py\u001b[0m in \u001b[0;36mrun\u001b[1;34m(self, fetches, feed_dict, options, run_metadata)\u001b[0m\n\u001b[0;32m    968\u001b[0m \u001b[1;33m\u001b[0m\u001b[0m\n\u001b[0;32m    969\u001b[0m     \u001b[1;32mtry\u001b[0m\u001b[1;33m:\u001b[0m\u001b[1;33m\u001b[0m\u001b[1;33m\u001b[0m\u001b[0m\n\u001b[1;32m--> 970\u001b[1;33m       result = self._run(None, fetches, feed_dict, options_ptr,\n\u001b[0m\u001b[0;32m    971\u001b[0m                          run_metadata_ptr)\n\u001b[0;32m    972\u001b[0m       \u001b[1;32mif\u001b[0m \u001b[0mrun_metadata\u001b[0m\u001b[1;33m:\u001b[0m\u001b[1;33m\u001b[0m\u001b[1;33m\u001b[0m\u001b[0m\n",
      "\u001b[1;32m~\\anaconda\\lib\\site-packages\\tensorflow\\python\\client\\session.py\u001b[0m in \u001b[0;36m_run\u001b[1;34m(self, handle, fetches, feed_dict, options, run_metadata)\u001b[0m\n\u001b[0;32m   1118\u001b[0m       \u001b[1;32mraise\u001b[0m \u001b[0mRuntimeError\u001b[0m\u001b[1;33m(\u001b[0m\u001b[1;34m'Attempted to use a closed Session.'\u001b[0m\u001b[1;33m)\u001b[0m\u001b[1;33m\u001b[0m\u001b[1;33m\u001b[0m\u001b[0m\n\u001b[0;32m   1119\u001b[0m     \u001b[1;32mif\u001b[0m \u001b[0mself\u001b[0m\u001b[1;33m.\u001b[0m\u001b[0mgraph\u001b[0m\u001b[1;33m.\u001b[0m\u001b[0mversion\u001b[0m \u001b[1;33m==\u001b[0m \u001b[1;36m0\u001b[0m\u001b[1;33m:\u001b[0m\u001b[1;33m\u001b[0m\u001b[1;33m\u001b[0m\u001b[0m\n\u001b[1;32m-> 1120\u001b[1;33m       raise RuntimeError('The Session graph is empty. Add operations to the '\n\u001b[0m\u001b[0;32m   1121\u001b[0m                          'graph before calling run().')\n\u001b[0;32m   1122\u001b[0m \u001b[1;33m\u001b[0m\u001b[0m\n",
      "\u001b[1;31mRuntimeError\u001b[0m: The Session graph is empty. Add operations to the graph before calling run()."
     ]
    }
   ],
   "source": [
    "t = tf.constant(2.0)\n",
    "u = tf.constant(3.0)\n",
    "tu = tf.multiply(t, u)\n",
    "\n",
    "sess = tf.compat.v1.Session()\n",
    "with sess.as_default():\n",
    "    sess.run(tu)  # evaluates both tensors in a single step"
   ]
  },
  {
   "cell_type": "code",
   "execution_count": 15,
   "id": "9506578d",
   "metadata": {},
   "outputs": [
    {
     "name": "stdout",
     "output_type": "stream",
     "text": [
      "30.0\n"
     ]
    }
   ],
   "source": [
    " # Launch the graph in a session.\n",
    " with tf.compat.v1.Session() as ses:\n",
    "\n",
    "     # Build a graph.\n",
    "     a = tf.constant(5.0)\n",
    "     b = tf.constant(6.0)\n",
    "     c = a * b\n",
    "\n",
    "     # Evaluate the tensor `c`.\n",
    "     print(ses.run(c))"
   ]
  },
  {
   "cell_type": "code",
   "execution_count": 90,
   "id": "1cad8c5b",
   "metadata": {},
   "outputs": [
    {
     "name": "stdout",
     "output_type": "stream",
     "text": [
      "0.0\n",
      "0.0\n",
      "Tensor(\"Mul_8:0\", shape=(), dtype=float32)\n",
      "2.0\n"
     ]
    }
   ],
   "source": [
    "class test0():\n",
    "    def __init__(self):\n",
    "        self.a = tf.constant(0.0)\n",
    "        self.b = tf.constant(2.0)\n",
    "    \n",
    "    #@tf.function\n",
    "    def mull(self):\n",
    "        self.c = tf.multiply(self.a, self.b)\n",
    "        return self.c\n",
    "    \n",
    "  # Launch the graph in a session.\n",
    "with tf.compat.v1.Session() as ses:\n",
    "\n",
    "    # Build a graph.\n",
    "    t = test0()\n",
    "    d = t.mull()\n",
    "    # Evaluate the tensor `c`.\n",
    "    print(ses.run(t.c))\n",
    "    \n",
    "    t.a = tf.constant(2.0)\n",
    "    t.b = tf.constant(1.0)\n",
    "    print(ses.run(t.c))\n",
    "    print(t.c)\n",
    "    \n",
    "    e = t.mull()\n",
    "    print(ses.run(t.c))"
   ]
  },
  {
   "cell_type": "code",
   "execution_count": 67,
   "id": "8d9c44f6",
   "metadata": {},
   "outputs": [],
   "source": [
    "class test():\n",
    "    def __init__(self):\n",
    "        self.a = None\n",
    "        self.b = None\n",
    "    \n",
    "    @tf.function\n",
    "    def mull(self,a , b):\n",
    "        self.a = tf.constant(a)\n",
    "        self.b = tf.constant(b)\n",
    "        self.c = self.a * self.b\n",
    "        return self.c"
   ]
  },
  {
   "cell_type": "code",
   "execution_count": 69,
   "id": "238b5e84",
   "metadata": {},
   "outputs": [
    {
     "data": {
      "text/plain": [
       "<tf.Tensor: shape=(), dtype=int32, numpy=2>"
      ]
     },
     "execution_count": 69,
     "metadata": {},
     "output_type": "execute_result"
    }
   ],
   "source": [
    "t = test()\n",
    "t.mull(1,2)"
   ]
  },
  {
   "cell_type": "code",
   "execution_count": 70,
   "id": "f92d2719",
   "metadata": {},
   "outputs": [],
   "source": [
    "t.a = tf.constant(4.0)\n",
    "t.b = tf.constant(5.0)"
   ]
  },
  {
   "cell_type": "code",
   "execution_count": 72,
   "id": "bcd46a0a",
   "metadata": {},
   "outputs": [
    {
     "data": {
      "text/plain": [
       "<tf.Tensor: shape=(), dtype=int32, numpy=20>"
      ]
     },
     "execution_count": 72,
     "metadata": {},
     "output_type": "execute_result"
    }
   ],
   "source": [
    "t.mull(4, 5)"
   ]
  },
  {
   "cell_type": "code",
   "execution_count": 40,
   "id": "39d1cd20",
   "metadata": {},
   "outputs": [
    {
     "data": {
      "text/plain": [
       "<tf.Tensor: shape=(), dtype=float32, numpy=5.0>"
      ]
     },
     "execution_count": 40,
     "metadata": {},
     "output_type": "execute_result"
    }
   ],
   "source": [
    "t.a"
   ]
  },
  {
   "cell_type": "code",
   "execution_count": 36,
   "id": "c5536176",
   "metadata": {},
   "outputs": [
    {
     "name": "stdout",
     "output_type": "stream",
     "text": [
      "Tensor(\"mul:0\", shape=(), dtype=float32)\n"
     ]
    }
   ],
   "source": [
    "print(t.c)"
   ]
  },
  {
   "cell_type": "code",
   "execution_count": 73,
   "id": "0bd6c745",
   "metadata": {},
   "outputs": [],
   "source": [
    "@tf.function\n",
    "def f(a,b):\n",
    "    print(\"a:\", a, \" , b: \",b )\n",
    "    return a + b\n"
   ]
  },
  {
   "cell_type": "code",
   "execution_count": 84,
   "id": "27d7b26f",
   "metadata": {},
   "outputs": [
    {
     "name": "stdout",
     "output_type": "stream",
     "text": [
      "a: Tensor(\"a:0\", shape=(), dtype=int32)  , b:  Tensor(\"b:0\", shape=(), dtype=int32)\n"
     ]
    },
    {
     "data": {
      "text/plain": [
       "<tf.Tensor: shape=(), dtype=int32, numpy=3>"
      ]
     },
     "execution_count": 84,
     "metadata": {},
     "output_type": "execute_result"
    }
   ],
   "source": [
    "a = tf.constant(1)\n",
    "b = tf.constant(2)\n",
    "f(a,b)"
   ]
  },
  {
   "cell_type": "code",
   "execution_count": 85,
   "id": "9b06eccc",
   "metadata": {},
   "outputs": [
    {
     "data": {
      "text/plain": [
       "<tf.Tensor: shape=(), dtype=int32, numpy=9>"
      ]
     },
     "execution_count": 85,
     "metadata": {},
     "output_type": "execute_result"
    }
   ],
   "source": [
    "a = tf.constant(4)\n",
    "b = tf.constant(5)\n",
    "f(a,b)"
   ]
  },
  {
   "cell_type": "code",
   "execution_count": 76,
   "id": "c92cd6aa",
   "metadata": {},
   "outputs": [
    {
     "name": "stdout",
     "output_type": "stream",
     "text": [
      "a: 2  , b:  Tensor(\"b:0\", shape=(), dtype=int32)\n"
     ]
    },
    {
     "data": {
      "text/plain": [
       "<tf.Tensor: shape=(), dtype=int32, numpy=5>"
      ]
     },
     "execution_count": 76,
     "metadata": {},
     "output_type": "execute_result"
    }
   ],
   "source": [
    "a = 2\n",
    "b = tf.constant(3)\n",
    "f(a,b)"
   ]
  },
  {
   "cell_type": "markdown",
   "id": "94667503",
   "metadata": {},
   "source": [
    "# Norm"
   ]
  },
  {
   "cell_type": "code",
   "execution_count": 10,
   "id": "7fe7e6e4",
   "metadata": {},
   "outputs": [
    {
     "data": {
      "text/plain": [
       "<tf.Tensor: shape=(), dtype=float32, numpy=12.5>"
      ]
     },
     "execution_count": 10,
     "metadata": {},
     "output_type": "execute_result"
    }
   ],
   "source": [
    "a = tf.constant(5.0)\n",
    "tf.nn.l2_loss(a)"
   ]
  },
  {
   "cell_type": "code",
   "execution_count": 13,
   "id": "edb9a1e0",
   "metadata": {},
   "outputs": [
    {
     "data": {
      "text/plain": [
       "<tf.Tensor: shape=(2, 2), dtype=float32, numpy=\n",
       "array([[1., 0.],\n",
       "       [0., 5.]], dtype=float32)>"
      ]
     },
     "execution_count": 13,
     "metadata": {},
     "output_type": "execute_result"
    }
   ],
   "source": [
    "a = [[1.0, 0.0],[0.0, 5.0]]\n",
    "a_t = tf.convert_to_tensor(a)\n",
    "a_t"
   ]
  },
  {
   "cell_type": "code",
   "execution_count": 14,
   "id": "5b4e4d28",
   "metadata": {},
   "outputs": [
    {
     "data": {
      "text/plain": [
       "<tf.Tensor: shape=(), dtype=float32, numpy=13.0>"
      ]
     },
     "execution_count": 14,
     "metadata": {},
     "output_type": "execute_result"
    }
   ],
   "source": [
    "tf.nn.l2_loss(a_t)"
   ]
  },
  {
   "cell_type": "code",
   "execution_count": 15,
   "id": "8c4d44c4",
   "metadata": {},
   "outputs": [],
   "source": [
    "a = [1,2]\n",
    "b = [2,4]\n",
    "a.extend(b)"
   ]
  },
  {
   "cell_type": "code",
   "execution_count": 16,
   "id": "d89cc6fc",
   "metadata": {},
   "outputs": [
    {
     "data": {
      "text/plain": [
       "[1, 2, 2, 4]"
      ]
     },
     "execution_count": 16,
     "metadata": {},
     "output_type": "execute_result"
    }
   ],
   "source": [
    "a"
   ]
  },
  {
   "cell_type": "code",
   "execution_count": null,
   "id": "09cb1efa",
   "metadata": {},
   "outputs": [],
   "source": []
  }
 ],
 "metadata": {
  "kernelspec": {
   "display_name": "Python 3",
   "language": "python",
   "name": "python3"
  },
  "language_info": {
   "codemirror_mode": {
    "name": "ipython",
    "version": 3
   },
   "file_extension": ".py",
   "mimetype": "text/x-python",
   "name": "python",
   "nbconvert_exporter": "python",
   "pygments_lexer": "ipython3",
   "version": "3.8.8"
  },
  "toc": {
   "base_numbering": 1,
   "nav_menu": {},
   "number_sections": true,
   "sideBar": true,
   "skip_h1_title": false,
   "title_cell": "Table of Contents",
   "title_sidebar": "Contents",
   "toc_cell": false,
   "toc_position": {},
   "toc_section_display": true,
   "toc_window_display": false
  },
  "varInspector": {
   "cols": {
    "lenName": 16,
    "lenType": 16,
    "lenVar": 40
   },
   "kernels_config": {
    "python": {
     "delete_cmd_postfix": "",
     "delete_cmd_prefix": "del ",
     "library": "var_list.py",
     "varRefreshCmd": "print(var_dic_list())"
    },
    "r": {
     "delete_cmd_postfix": ") ",
     "delete_cmd_prefix": "rm(",
     "library": "var_list.r",
     "varRefreshCmd": "cat(var_dic_list()) "
    }
   },
   "types_to_exclude": [
    "module",
    "function",
    "builtin_function_or_method",
    "instance",
    "_Feature"
   ],
   "window_display": false
  }
 },
 "nbformat": 4,
 "nbformat_minor": 5
}
