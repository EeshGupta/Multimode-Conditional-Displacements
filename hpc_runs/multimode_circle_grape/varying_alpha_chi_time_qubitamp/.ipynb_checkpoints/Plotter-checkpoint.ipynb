{
 "cells": [
  {
   "cell_type": "code",
   "execution_count": 1,
   "id": "5a9ce429",
   "metadata": {},
   "outputs": [],
   "source": [
    "import matplotlib.pyplot as plt\n",
    "import numpy as np \n",
    "import pandas as pd"
   ]
  },
  {
   "cell_type": "code",
   "execution_count": 2,
   "id": "f6f4bbc7",
   "metadata": {},
   "outputs": [
    {
     "data": {
      "text/plain": [
       "['/home/eag190/Multimode-Conditional-Displacements/hpc_runs/multimode_circle_grape/varying_alpha_chi_time_qubitamp',\n",
       " '/home/eag190/miniconda3/envs/simulations/lib/python39.zip',\n",
       " '/home/eag190/miniconda3/envs/simulations/lib/python3.9',\n",
       " '/home/eag190/miniconda3/envs/simulations/lib/python3.9/lib-dynload',\n",
       " '',\n",
       " '/home/eag190/miniconda3/envs/simulations/lib/python3.9/site-packages',\n",
       " '/cache/home/eag190/ECD_control',\n",
       " '/home/eag190/miniconda3/envs/simulations/lib/python3.9/site-packages/quantum_optimal_control-0.1.0-py3.9.egg']"
      ]
     },
     "execution_count": 2,
     "metadata": {},
     "output_type": "execute_result"
    }
   ],
   "source": [
    "import sys \n",
    "sys.path"
   ]
  },
  {
   "cell_type": "code",
   "execution_count": 3,
   "id": "37e7803d",
   "metadata": {},
   "outputs": [
    {
     "data": {
      "text/html": [
       "<div>\n",
       "<style scoped>\n",
       "    .dataframe tbody tr th:only-of-type {\n",
       "        vertical-align: middle;\n",
       "    }\n",
       "\n",
       "    .dataframe tbody tr th {\n",
       "        vertical-align: top;\n",
       "    }\n",
       "\n",
       "    .dataframe thead th {\n",
       "        text-align: right;\n",
       "    }\n",
       "</style>\n",
       "<table border=\"1\" class=\"dataframe\">\n",
       "  <thead>\n",
       "    <tr style=\"text-align: right;\">\n",
       "      <th></th>\n",
       "      <th>time</th>\n",
       "      <th>steps</th>\n",
       "      <th>chi</th>\n",
       "      <th>alpha</th>\n",
       "      <th>qubit_amp</th>\n",
       "      <th>detuning</th>\n",
       "      <th>err</th>\n",
       "    </tr>\n",
       "  </thead>\n",
       "  <tbody>\n",
       "    <tr>\n",
       "      <th>0</th>\n",
       "      <td>500</td>\n",
       "      <td>50</td>\n",
       "      <td>-66</td>\n",
       "      <td>5</td>\n",
       "      <td>0.010</td>\n",
       "      <td>-0.01</td>\n",
       "      <td>0.014623</td>\n",
       "    </tr>\n",
       "    <tr>\n",
       "      <th>1</th>\n",
       "      <td>1000</td>\n",
       "      <td>50</td>\n",
       "      <td>-66</td>\n",
       "      <td>5</td>\n",
       "      <td>0.010</td>\n",
       "      <td>-0.01</td>\n",
       "      <td>-1.000000</td>\n",
       "    </tr>\n",
       "    <tr>\n",
       "      <th>2</th>\n",
       "      <td>500</td>\n",
       "      <td>50</td>\n",
       "      <td>-66</td>\n",
       "      <td>5</td>\n",
       "      <td>0.001</td>\n",
       "      <td>-0.01</td>\n",
       "      <td>0.796845</td>\n",
       "    </tr>\n",
       "    <tr>\n",
       "      <th>3</th>\n",
       "      <td>1000</td>\n",
       "      <td>50</td>\n",
       "      <td>-66</td>\n",
       "      <td>5</td>\n",
       "      <td>0.001</td>\n",
       "      <td>-0.01</td>\n",
       "      <td>-1.000000</td>\n",
       "    </tr>\n",
       "    <tr>\n",
       "      <th>4</th>\n",
       "      <td>500</td>\n",
       "      <td>50</td>\n",
       "      <td>-66</td>\n",
       "      <td>10</td>\n",
       "      <td>0.010</td>\n",
       "      <td>-0.01</td>\n",
       "      <td>0.033962</td>\n",
       "    </tr>\n",
       "  </tbody>\n",
       "</table>\n",
       "</div>"
      ],
      "text/plain": [
       "   time  steps  chi  alpha  qubit_amp  detuning       err\n",
       "0   500     50  -66      5      0.010     -0.01  0.014623\n",
       "1  1000     50  -66      5      0.010     -0.01 -1.000000\n",
       "2   500     50  -66      5      0.001     -0.01  0.796845\n",
       "3  1000     50  -66      5      0.001     -0.01 -1.000000\n",
       "4   500     50  -66     10      0.010     -0.01  0.033962"
      ]
     },
     "execution_count": 3,
     "metadata": {},
     "output_type": "execute_result"
    }
   ],
   "source": [
    "filename = \"dataset_sweep_alpha_qubitamp_time.csv\"\n",
    "df_grape = pd.read_csv(filename)\n",
    "df_grape"
   ]
  },
  {
   "cell_type": "code",
   "execution_count": 4,
   "id": "674ec267",
   "metadata": {},
   "outputs": [],
   "source": [
    "# filename = r\"C:\\Users\\Eesh Gupta\\Documents\\RU Research\\Chakram\\Multimode-Conditional-Displacements\\hpc_runs\\single_mode_ecd\\Varying Time Lengths\\pulse_times_g01_g10_Oct21\"\n",
    "# df_ecd = pd.read_csv(filename)\n",
    "# df_ecd"
   ]
  },
  {
   "cell_type": "code",
   "execution_count": 5,
   "id": "7a1685e2",
   "metadata": {},
   "outputs": [],
   "source": [
    "import matplotlib\n",
    "font = {'family' : 'normal',\n",
    "        'weight' : 'light',\n",
    "        'size'   : 10}\n",
    "\n",
    "matplotlib.rc('font', **font)"
   ]
  },
  {
   "cell_type": "code",
   "execution_count": 6,
   "id": "e6a2b824",
   "metadata": {},
   "outputs": [],
   "source": [
    "#y = list(df_ecd['rep fid'])"
   ]
  },
  {
   "cell_type": "code",
   "execution_count": null,
   "id": "5b3da3d9",
   "metadata": {},
   "outputs": [],
   "source": []
  },
  {
   "cell_type": "code",
   "execution_count": 21,
   "id": "8d029b68",
   "metadata": {},
   "outputs": [
    {
     "name": "stderr",
     "output_type": "stream",
     "text": [
      "/tmp/ipykernel_232251/4248836624.py:5: UserWarning: color is redundantly defined by the 'color' keyword argument and the fmt string \"k\" (-> color=(0.0, 0.0, 0.0, 1)). The keyword argument will take precedence.\n",
      "  plt.plot(list(df_grape['time']), list(df_grape['rep fid']), 'k', marker = 'o', color = 'orange', label ='Circle Grape')\n"
     ]
    },
    {
     "data": {
      "text/plain": [
       "<matplotlib.legend.Legend at 0x7fb29142fdf0>"
      ]
     },
     "execution_count": 21,
     "metadata": {},
     "output_type": "execute_result"
    },
    {
     "data": {
      "image/png": "[encoded data removed]",
      "text/plain": [
       "<Figure size 720x432 with 1 Axes>"
      ]
     },
     "metadata": {
      "needs_background": "light"
     },
     "output_type": "display_data"
    }
   ],
   "source": [
    "#plt.plot(times, mean_buckets)\n",
    "fig = plt.figure(figsize = (10, 6))\n",
    "#plt.errorbar(x, y, yerr = err, ecolor='black', capsize=10)#, label ='Line4')\n",
    "\n",
    "plt.plot(list(df_grape['time']), list(df_grape[' fid']), 'k', marker = 'o', color = 'orange', label ='Circle Grape')\n",
    "#plt.plot(list(df_ecd['time']), list(df_ecd['rep fid']), 'k', marker = 'o', color = 'blue', label ='ECD')\n",
    "#plt.fill_between(x, y-err, y+err, alpha = 0.2)\n",
    "\n",
    "\n",
    "plt.grid(alpha=0.5, linestyle=':')\n",
    "plt.axhline(y=1, color='black', linestyle='--')\n",
    "plt.xlabel('Pulse Length ($ns$)', fontsize = 15)\n",
    "#plt.hline(ecd_only)\n",
    "plt.ylabel('Fidelity', fontsize = 20)\n",
    "plt.title(r' $|g0> \\rightarrow |g1>$', fontsize = 15)\n",
    "#fig.savefig('Ancilla Relaxation')\n",
    "plt.legend()"
   ]
  },
  {
   "cell_type": "code",
   "execution_count": null,
   "id": "0ef0575e",
   "metadata": {},
   "outputs": [],
   "source": []
  }
 ],
 "metadata": {
  "kernelspec": {
   "display_name": "Python 3 (ipykernel)",
   "language": "python",
   "name": "python3"
  },
  "language_info": {
   "codemirror_mode": {
    "name": "ipython",
    "version": 3
   },
   "file_extension": ".py",
   "mimetype": "text/x-python",
   "name": "python",
   "nbconvert_exporter": "python",
   "pygments_lexer": "ipython3",
   "version": "3.9.12"
  },
  "toc": {
   "base_numbering": 1,
   "nav_menu": {},
   "number_sections": true,
   "sideBar": true,
   "skip_h1_title": false,
   "title_cell": "Table of Contents",
   "title_sidebar": "Contents",
   "toc_cell": false,
   "toc_position": {},
   "toc_section_display": true,
   "toc_window_display": false
  },
  "varInspector": {
   "cols": {
    "lenName": 16,
    "lenType": 16,
    "lenVar": 40
   },
   "kernels_config": {
    "python": {
     "delete_cmd_postfix": "",
     "delete_cmd_prefix": "del ",
     "library": "var_list.py",
     "varRefreshCmd": "print(var_dic_list())"
    },
    "r": {
     "delete_cmd_postfix": ") ",
     "delete_cmd_prefix": "rm(",
     "library": "var_list.r",
     "varRefreshCmd": "cat(var_dic_list()) "
    }
   },
   "types_to_exclude": [
    "module",
    "function",
    "builtin_function_or_method",
    "instance",
    "_Feature"
   ],
   "window_display": false
  }
 },
 "nbformat": 4,
 "nbformat_minor": 5
}
