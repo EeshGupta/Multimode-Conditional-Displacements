{
 "cells": [
  {
   "cell_type": "markdown",
   "metadata": {},
   "source": [
    "# Imports "
   ]
  },
  {
   "cell_type": "code",
   "execution_count": 1,
   "metadata": {},
   "outputs": [],
   "source": [
    "import quantum_optimal_control"
   ]
  },
  {
   "cell_type": "code",
   "execution_count": 2,
   "metadata": {},
   "outputs": [],
   "source": [
    "%matplotlib inline\n",
    "import os\n",
    "import sys\n",
    "import inspect\n",
    "import numpy as np\n",
    "from scipy.special import factorial\n",
    "import h5py\n",
    "from quantum_optimal_control.helper_functions.grape_functions import *\n",
    "from quantum_optimal_control.main_grape.grape import Grape\n",
    "\n",
    "data_path = 'C:/Users\\Eesh Gupta\\Documents\\RU Research\\Chakram'\n",
    "#data_path\n",
    "initial_pulse = '../pulses/example_pulses/transmon_cat_initial_pulse.h5'\n",
    "from h5py import File\n",
    "import matplotlib.pyplot as plt\n",
    "from pylab import*\n",
    "from qutip import*\n",
    "\n",
    "from scipy import interpolate\n",
    "font = {'family' : 'normal',\n",
    "        'weight' : 'normal',\n",
    "        'size'   : 18}\n",
    "\n",
    "matplotlib.rc('font', **font)\n"
   ]
  },
  {
   "cell_type": "code",
   "execution_count": 3,
   "metadata": {},
   "outputs": [],
   "source": [
    "%load_ext autoreload\n",
    "%autoreload 2"
   ]
  },
  {
   "cell_type": "markdown",
   "metadata": {},
   "source": [
    "$$\\newcommand{\\ket}[1]{\\left|{#1}\\right\\rangle}\n",
    "\\newcommand{\\bra}[1]{\\left\\langle{#1}\\right|}$$"
   ]
  },
  {
   "cell_type": "markdown",
   "metadata": {},
   "source": [
    "# 3DMM2 parameters"
   ]
  },
  {
   "cell_type": "code",
   "execution_count": 4,
   "metadata": {},
   "outputs": [],
   "source": [
    "# chi = Peak splitting MHz\n",
    "chis = 2*array([-1.1962, -0.8676]) \n",
    "kappas  = array([18,9.02]) # kHz"
   ]
  },
  {
   "cell_type": "markdown",
   "metadata": {},
   "source": [
    "# Multimode circle grape"
   ]
  },
  {
   "cell_type": "code",
   "execution_count": 5,
   "metadata": {},
   "outputs": [
    {
     "name": "stdout",
     "output_type": "stream",
     "text": [
      "done\n"
     ]
    }
   ],
   "source": [
    "#TODO: Figure out why relative import doesn't work\n",
    "from circle_grape_v2 import *"
   ]
  },
  {
   "cell_type": "code",
   "execution_count": 6,
   "metadata": {},
   "outputs": [],
   "source": [
    "transmon_levels = 2"
   ]
  },
  {
   "cell_type": "markdown",
   "metadata": {},
   "source": [
    "#  Params :  $\\alpha = 30.0 , \\delta_c = -0.030$ GHz, $\\tau = 500$ ns, $\\Omega_{max} =1$ MHz"
   ]
  },
  {
   "cell_type": "code",
   "execution_count": 7,
   "metadata": {},
   "outputs": [],
   "source": [
    "mode = 1\n",
    "mode_levels = 2\n",
    "chi,kappa = chis[mode]*1e-3,kappas[mode]*1e-6\n",
    "circle_grape_params = {\"chis\":[chi],\"kappas\":[kappa],\"alpha\":10.0,\"delta_c\":-0.010}\n",
    "\n",
    "op = multimode_circle_grape_optimal_control(mode_state_num = mode_levels,\n",
    "                                            number_of_modes = 1,hparams = circle_grape_params,add_disp_kerr=False)\n",
    "\n",
    "\n"
   ]
  },
  {
   "cell_type": "code",
   "execution_count": null,
   "metadata": {},
   "outputs": [
    {
     "name": "stderr",
     "output_type": "stream",
     "text": [
      "c:\\users\\eesh gupta\\documents\\ru research\\chakram\\quantum-optimal-control\\quantum_optimal_control\\helper_functions\\data_management.py:13: H5pyDeprecationWarning: The default file mode will change to 'r' (read-only) in h5py 3.0. To suppress this warning, pass the mode you need to h5py.File(), or set the global default h5.get_config().default_file_mode, or set the environment variable H5PY_DEFAULT_READONLY=1. Available modes are: 'r', 'r+', 'w', 'w-'/'x', 'a'. See the docs for details.\n",
      "  h5py.File.__init__(self, *args, **kwargs)\n"
     ]
    }
   ],
   "source": [
    "states_forbidden_list = []\n",
    "total_time = 50.0\n",
    "steps  = 600\n",
    "\n",
    "convergence = {'rate': 0.1, 'update_step': 10, 'max_iterations': 1000,\n",
    "               'conv_target': 3e-4, 'learning_rate_decay': 500.0}\n",
    "\n",
    "\n",
    "reg_coeffs = {'dwdt': 0.1, 'd2wdt2': 1.0e-3, 'forbid_dressed': False,\n",
    "              'states_forbidden_list':states_forbidden_list,\n",
    "              'forbidden_coeff_list': [1.0*steps] * len(states_forbidden_list)}\n",
    "\n",
    "\n",
    "\n",
    "initial_guess = None\n",
    "\n",
    "op.run_optimal_control(state_transfer = True, initial_states = [0], target_states = [1], \n",
    "                        total_time = total_time, steps = steps,max_amp = 1e-3, \n",
    "                        taylor_terms = None,is_dressed=False, \n",
    "                        convergence = convergence, reg_coeffs =  reg_coeffs,\n",
    "                        plot_only_g = True,\n",
    "                        states_forbidden_list = states_forbidden_list,initial_guess = initial_guess, \n",
    "                        file_name=\"g0_to_g1_circlgrape\", data_path=data_path)"
   ]
  },
  {
   "cell_type": "code",
   "execution_count": 62,
   "metadata": {},
   "outputs": [
    {
     "data": {
      "text/plain": [
       "<function quantum_optimal_control.helper_functions.grape_functions.get_dressed_info(H0)>"
      ]
     },
     "execution_count": 62,
     "metadata": {},
     "output_type": "execute_result"
    }
   ],
   "source": [
    "get_dressed_info"
   ]
  },
  {
   "cell_type": "code",
   "execution_count": 63,
   "metadata": {},
   "outputs": [],
   "source": [
    "w_c, v_c, dressed_id = get_dressed_info(op.H_rot())"
   ]
  },
  {
   "cell_type": "code",
   "execution_count": 64,
   "metadata": {},
   "outputs": [
    {
     "data": {
      "text/plain": [
       "array([ 0.00985177+0.j, -0.07540927+0.j,  0.0105191 +0.j, -0.07062531+0.j])"
      ]
     },
     "execution_count": 64,
     "metadata": {},
     "output_type": "execute_result"
    }
   ],
   "source": [
    "w_c"
   ]
  },
  {
   "cell_type": "code",
   "execution_count": 65,
   "metadata": {},
   "outputs": [
    {
     "data": {
      "text/plain": [
       "array([[ 0.94045293,  0.33992395,  0.        ,  0.        ],\n",
       "       [-0.33992395,  0.94045293,  0.        ,  0.        ],\n",
       "       [ 0.        ,  0.        ,  0.93293392, -0.36004764],\n",
       "       [ 0.        ,  0.        ,  0.36004764,  0.93293392]])"
      ]
     },
     "execution_count": 65,
     "metadata": {},
     "output_type": "execute_result"
    }
   ],
   "source": [
    "v_c"
   ]
  },
  {
   "cell_type": "code",
   "execution_count": 66,
   "metadata": {},
   "outputs": [
    {
     "data": {
      "text/plain": [
       "[0, 1, 2, 3]"
      ]
     },
     "execution_count": 66,
     "metadata": {},
     "output_type": "execute_result"
    }
   ],
   "source": [
    "dressed_id"
   ]
  },
  {
   "cell_type": "code",
   "execution_count": null,
   "metadata": {},
   "outputs": [],
   "source": []
  }
 ],
 "metadata": {
  "kernelspec": {
   "display_name": "Python 3",
   "language": "python",
   "name": "python3"
  },
  "language_info": {
   "codemirror_mode": {
    "name": "ipython",
    "version": 3
   },
   "file_extension": ".py",
   "mimetype": "text/x-python",
   "name": "python",
   "nbconvert_exporter": "python",
   "pygments_lexer": "ipython3",
   "version": "3.8.8"
  },
  "toc": {
   "base_numbering": 1,
   "nav_menu": {},
   "number_sections": true,
   "sideBar": true,
   "skip_h1_title": false,
   "title_cell": "Table of Contents",
   "title_sidebar": "Contents",
   "toc_cell": false,
   "toc_position": {
    "height": "189.537px",
    "left": "796.952px",
    "top": "111.06px",
    "width": "164.993px"
   },
   "toc_section_display": true,
   "toc_window_display": true
  },
  "varInspector": {
   "cols": {
    "lenName": 16,
    "lenType": 16,
    "lenVar": 40
   },
   "kernels_config": {
    "python": {
     "delete_cmd_postfix": "",
     "delete_cmd_prefix": "del ",
     "library": "var_list.py",
     "varRefreshCmd": "print(var_dic_list())"
    },
    "r": {
     "delete_cmd_postfix": ") ",
     "delete_cmd_prefix": "rm(",
     "library": "var_list.r",
     "varRefreshCmd": "cat(var_dic_list()) "
    }
   },
   "types_to_exclude": [
    "module",
    "function",
    "builtin_function_or_method",
    "instance",
    "_Feature"
   ],
   "window_display": false
  }
 },
 "nbformat": 4,
 "nbformat_minor": 4
}
