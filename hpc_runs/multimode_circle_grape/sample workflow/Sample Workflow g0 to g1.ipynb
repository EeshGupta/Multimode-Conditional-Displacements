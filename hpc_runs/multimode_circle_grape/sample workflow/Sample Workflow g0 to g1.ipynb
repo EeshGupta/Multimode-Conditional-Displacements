{
 "cells": [
  {
   "cell_type": "markdown",
   "metadata": {},
   "source": [
    "# Imports "
   ]
  },
  {
   "cell_type": "code",
   "execution_count": 1,
   "metadata": {},
   "outputs": [
    {
     "name": "stdout",
     "output_type": "stream",
     "text": [
      "hi\n"
     ]
    }
   ],
   "source": [
    "print('hi')"
   ]
  },
  {
   "cell_type": "code",
   "execution_count": 2,
   "metadata": {},
   "outputs": [
    {
     "data": {
      "text/plain": [
       "['/home/eag190/Multimode-Conditional-Displacements/hpc_runs/multimode_circle_grape/sample workflow',\n",
       " '/home/eag190/miniconda3/envs/simulations/lib/python39.zip',\n",
       " '/home/eag190/miniconda3/envs/simulations/lib/python3.9',\n",
       " '/home/eag190/miniconda3/envs/simulations/lib/python3.9/lib-dynload',\n",
       " '',\n",
       " '/home/eag190/miniconda3/envs/simulations/lib/python3.9/site-packages',\n",
       " '/cache/home/eag190/ECD_control',\n",
       " '/home/eag190/miniconda3/envs/simulations/lib/python3.9/site-packages/quantum_optimal_control-0.1.0-py3.9.egg']"
      ]
     },
     "execution_count": 2,
     "metadata": {},
     "output_type": "execute_result"
    }
   ],
   "source": [
    "import sys\n",
    "sys.path"
   ]
  },
  {
   "cell_type": "code",
   "execution_count": 3,
   "metadata": {},
   "outputs": [],
   "source": [
    "%matplotlib inline\n",
    "import os\n",
    "import sys\n",
    "import inspect\n",
    "import numpy as np\n",
    "from scipy.special import factorial\n",
    "import h5py\n",
    "\n",
    "#data_path = '/data'     ... data path specified later\n",
    "#data_path\n",
    "#initial_pulse = '../pulses/example_pulses/transmon_cat_initial_pulse.h5'\n",
    "from h5py import File\n",
    "import matplotlib.pyplot as plt\n",
    "from pylab import*\n",
    "from qutip import*\n",
    "\n",
    "from scipy import interpolate\n",
    "font = {'family' : 'normal',\n",
    "        'weight' : 'normal',\n",
    "        'size'   : 18}\n",
    "\n",
    "matplotlib.rc('font', **font)\n"
   ]
  },
  {
   "cell_type": "code",
   "execution_count": 4,
   "metadata": {},
   "outputs": [],
   "source": [
    "from quantum_optimal_control.helper_functions.grape_functions import *\n",
    "from quantum_optimal_control.main_grape.grape import Grape\n",
    "from quantum_optimal_control import*"
   ]
  },
  {
   "cell_type": "code",
   "execution_count": 5,
   "metadata": {},
   "outputs": [],
   "source": [
    "%load_ext autoreload\n",
    "%autoreload 2"
   ]
  },
  {
   "cell_type": "markdown",
   "metadata": {},
   "source": [
    "$$\\newcommand{\\ket}[1]{\\left|{#1}\\right\\rangle}\n",
    "\\newcommand{\\bra}[1]{\\left\\langle{#1}\\right|}$$"
   ]
  },
  {
   "cell_type": "markdown",
   "metadata": {},
   "source": [
    "# 3DMM2 parameters"
   ]
  },
  {
   "cell_type": "code",
   "execution_count": 6,
   "metadata": {},
   "outputs": [],
   "source": [
    "# chi = Peak splitting MHz\n",
    "chis = 2*array([-33.1962, -0.8676]) \n",
    "kappas  = array([0,0]) # kHz"
   ]
  },
  {
   "cell_type": "markdown",
   "metadata": {},
   "source": [
    "# Multimode circle grape"
   ]
  },
  {
   "cell_type": "code",
   "execution_count": 7,
   "metadata": {},
   "outputs": [
    {
     "name": "stdout",
     "output_type": "stream",
     "text": [
      "done\n"
     ]
    }
   ],
   "source": [
    "#TODO: Figure out why relative import doesn't work\n",
    "from circle_grape_v3 import *"
   ]
  },
  {
   "cell_type": "code",
   "execution_count": 8,
   "metadata": {},
   "outputs": [],
   "source": [
    "transmon_levels = 2"
   ]
  },
  {
   "cell_type": "markdown",
   "metadata": {},
   "source": [
    "#  Params :  $\\alpha = 30.0 , \\delta_c = -0.030$ GHz, $\\tau = 500$ ns, $\\Omega_{max} =1$ MHz"
   ]
  },
  {
   "cell_type": "code",
   "execution_count": 14,
   "metadata": {},
   "outputs": [],
   "source": [
    "mode = 0\n",
    "mode_levels = 10\n",
    "chi,kappa = chis[mode]*1e-4,kappas[mode]*1e-6\n",
    "circle_grape_params = {\"chis\":[chi],\"kappas\":[kappa],\"alpha\":70.0,\"delta_c\":0}\n",
    "\n",
    "op = multimode_circle_grape_optimal_control(mode_state_num = mode_levels,\n",
    "                                            number_of_modes = 1,hparams = circle_grape_params,add_disp_kerr=False)\n",
    "\n",
    "\n"
   ]
  },
  {
   "cell_type": "code",
   "execution_count": 15,
   "metadata": {},
   "outputs": [
    {
     "data": {
      "text/plain": [
       "['/home/eag190/Multimode-Conditional-Displacements/hpc_runs/multimode_circle_grape/sample workflow',\n",
       " '/home/eag190/miniconda3/envs/simulations/lib/python39.zip',\n",
       " '/home/eag190/miniconda3/envs/simulations/lib/python3.9',\n",
       " '/home/eag190/miniconda3/envs/simulations/lib/python3.9/lib-dynload',\n",
       " '',\n",
       " '/home/eag190/miniconda3/envs/simulations/lib/python3.9/site-packages',\n",
       " '/cache/home/eag190/ECD_control',\n",
       " '/home/eag190/miniconda3/envs/simulations/lib/python3.9/site-packages/quantum_optimal_control-0.1.0-py3.9.egg']"
      ]
     },
     "execution_count": 15,
     "metadata": {},
     "output_type": "execute_result"
    }
   ],
   "source": [
    "import sys\n",
    "sys.path"
   ]
  },
  {
   "cell_type": "code",
   "execution_count": 16,
   "metadata": {},
   "outputs": [],
   "source": [
    "data_path = ''#'/home/eag190/Multimode-Conditional-Displacements/hpc_runs/multimode_circle_grape/sample workflow/data'"
   ]
  },
  {
   "cell_type": "code",
   "execution_count": 23,
   "metadata": {
    "scrolled": true
   },
   "outputs": [
    {
     "name": "stdout",
     "output_type": "stream",
     "text": [
      "[2, 2, 2]\n",
      "starting states:\n",
      "[array([1., 0., 0., 0., 0., 0., 0., 0., 0., 0., 0., 0., 0., 0., 0., 0., 0.,\n",
      "       0., 0., 0.])]\n",
      "target states:\n",
      "[array([0., 1., 0., 0., 0., 0., 0., 0., 0., 0., 0., 0., 0., 0., 0., 0., 0.,\n",
      "       0., 0., 0.])]\n",
      "[]\n",
      "data saved at: 00072_g0_to_g1_circlgrape.h5\n",
      "Using 20 Taylor terms and 0 Scaling & Squaring terms\n",
      "Building graph:\n",
      "Propagators initialized.\n",
      "Operators weight initialized.\n",
      "Vectors initialized.\n"
     ]
    },
    {
     "name": "stderr",
     "output_type": "stream",
     "text": [
      "/home/eag190/Multimode-Conditional-Displacements/hpc_runs/multimode_circle_grape/sample workflow/circle_grape_v3.py:419: SyntaxWarning: \"is\" with a literal. Did you mean \"==\"?\n",
      "  if int(around(self.nqinit,0)) is 0:\n",
      "/home/eag190/Multimode-Conditional-Displacements/hpc_runs/multimode_circle_grape/sample workflow/circle_grape_v3.py:419: SyntaxWarning: \"is\" with a literal. Did you mean \"==\"?\n",
      "  if int(around(self.nqinit,0)) is 0:\n"
     ]
    },
    {
     "ename": "TypeError",
     "evalue": "argument of type 'NoneType' is not iterable",
     "output_type": "error",
     "traceback": [
      "\u001b[0;31m---------------------------------------------------------------------------\u001b[0m",
      "\u001b[0;31mTypeError\u001b[0m                                 Traceback (most recent call last)",
      "Input \u001b[0;32mIn [23]\u001b[0m, in \u001b[0;36m<cell line: 17>\u001b[0;34m()\u001b[0m\n\u001b[1;32m     10\u001b[0m \u001b[38;5;66;03m#               'states_forbidden_list':states_forbidden_list,\u001b[39;00m\n\u001b[1;32m     11\u001b[0m \u001b[38;5;66;03m#               'forbidden_coeff_list': [1.0*steps] * len(states_forbidden_list)}\u001b[39;00m\n\u001b[1;32m     15\u001b[0m initial_guess \u001b[38;5;241m=\u001b[39m \u001b[38;5;28;01mNone\u001b[39;00m\n\u001b[0;32m---> 17\u001b[0m ss \u001b[38;5;241m=\u001b[39m \u001b[43mop\u001b[49m\u001b[38;5;241;43m.\u001b[39;49m\u001b[43mrun_optimal_control\u001b[49m\u001b[43m(\u001b[49m\u001b[43mstate_transfer\u001b[49m\u001b[43m \u001b[49m\u001b[38;5;241;43m=\u001b[39;49m\u001b[43m \u001b[49m\u001b[38;5;28;43;01mTrue\u001b[39;49;00m\u001b[43m,\u001b[49m\u001b[43m \u001b[49m\u001b[43minitial_states\u001b[49m\u001b[43m \u001b[49m\u001b[38;5;241;43m=\u001b[39;49m\u001b[43m \u001b[49m\u001b[43m[\u001b[49m\u001b[38;5;241;43m0\u001b[39;49m\u001b[43m]\u001b[49m\u001b[43m,\u001b[49m\u001b[43m \u001b[49m\u001b[43mtarget_states\u001b[49m\u001b[43m \u001b[49m\u001b[38;5;241;43m=\u001b[39;49m\u001b[43m \u001b[49m\u001b[43m[\u001b[49m\u001b[38;5;241;43m1\u001b[39;49m\u001b[43m]\u001b[49m\u001b[43m,\u001b[49m\u001b[43m \u001b[49m\n\u001b[1;32m     18\u001b[0m \u001b[43m                        \u001b[49m\u001b[43mtotal_time\u001b[49m\u001b[43m \u001b[49m\u001b[38;5;241;43m=\u001b[39;49m\u001b[43m \u001b[49m\u001b[43mtotal_time\u001b[49m\u001b[43m,\u001b[49m\u001b[43m \u001b[49m\u001b[43msteps\u001b[49m\u001b[43m \u001b[49m\u001b[38;5;241;43m=\u001b[39;49m\u001b[43m \u001b[49m\u001b[43msteps\u001b[49m\u001b[43m,\u001b[49m\u001b[43mmax_amp\u001b[49m\u001b[43m \u001b[49m\u001b[38;5;241;43m=\u001b[39;49m\u001b[43m \u001b[49m\u001b[38;5;241;43m1\u001b[39;49m\u001b[43m,\u001b[49m\u001b[43m \u001b[49m\n\u001b[1;32m     19\u001b[0m \u001b[43m                        \u001b[49m\u001b[43mtaylor_terms\u001b[49m\u001b[43m \u001b[49m\u001b[38;5;241;43m=\u001b[39;49m\u001b[43m \u001b[49m\u001b[38;5;28;43;01mNone\u001b[39;49;00m\u001b[43m,\u001b[49m\u001b[43mis_dressed\u001b[49m\u001b[38;5;241;43m=\u001b[39;49m\u001b[38;5;28;43;01mFalse\u001b[39;49;00m\u001b[43m,\u001b[49m\u001b[43m \u001b[49m\n\u001b[1;32m     20\u001b[0m \u001b[43m                        \u001b[49m\u001b[43mconvergence\u001b[49m\u001b[43m \u001b[49m\u001b[38;5;241;43m=\u001b[39;49m\u001b[43m \u001b[49m\u001b[43mconvergence\u001b[49m\u001b[43m,\u001b[49m\u001b[43m \u001b[49m\u001b[43mreg_coeffs\u001b[49m\u001b[43m \u001b[49m\u001b[38;5;241;43m=\u001b[39;49m\u001b[43m  \u001b[49m\u001b[43mreg_coeffs\u001b[49m\u001b[43m,\u001b[49m\n\u001b[1;32m     21\u001b[0m \u001b[43m                        \u001b[49m\u001b[43mplot_only_g\u001b[49m\u001b[43m \u001b[49m\u001b[38;5;241;43m=\u001b[39;49m\u001b[43m \u001b[49m\u001b[38;5;28;43;01mTrue\u001b[39;49;00m\u001b[43m,\u001b[49m\n\u001b[1;32m     22\u001b[0m \u001b[43m                        \u001b[49m\u001b[43mstates_forbidden_list\u001b[49m\u001b[43m \u001b[49m\u001b[38;5;241;43m=\u001b[39;49m\u001b[43m \u001b[49m\u001b[43mstates_forbidden_list\u001b[49m\u001b[43m,\u001b[49m\u001b[43minitial_guess\u001b[49m\u001b[43m \u001b[49m\u001b[38;5;241;43m=\u001b[39;49m\u001b[43m \u001b[49m\u001b[43minitial_guess\u001b[49m\u001b[43m,\u001b[49m\u001b[43m \u001b[49m\n\u001b[1;32m     23\u001b[0m \u001b[43m                        \u001b[49m\u001b[43mfile_name\u001b[49m\u001b[38;5;241;43m=\u001b[39;49m\u001b[38;5;124;43m\"\u001b[39;49m\u001b[38;5;124;43mg0_to_g1_circlgrape\u001b[39;49m\u001b[38;5;124;43m\"\u001b[39;49m\u001b[43m,\u001b[49m\u001b[43m \u001b[49m\u001b[43mdata_path\u001b[49m\u001b[38;5;241;43m=\u001b[39;49m\u001b[43mdata_path\u001b[49m\u001b[43m,\u001b[49m\u001b[43m \u001b[49m\u001b[43msave\u001b[49m\u001b[43m \u001b[49m\u001b[38;5;241;43m=\u001b[39;49m\u001b[43m \u001b[49m\u001b[38;5;28;43;01mTrue\u001b[39;49;00m\u001b[43m)\u001b[49m\n",
      "File \u001b[0;32m~/Multimode-Conditional-Displacements/hpc_runs/multimode_circle_grape/sample workflow/circle_grape_v3.py:293\u001b[0m, in \u001b[0;36mmultimode_circle_grape_optimal_control.run_optimal_control\u001b[0;34m(self, state_transfer, initial_states, target_states, total_time, steps, max_amp, taylor_terms, is_dressed, convergence, reg_coeffs, plot_only_g, states_forbidden_list, initial_guess, file_name, data_path, specify_state_amplitudes, save)\u001b[0m\n\u001b[1;32m    290\u001b[0m states_forbidden_list \u001b[38;5;241m=\u001b[39m states_forbidden_list\n\u001b[1;32m    291\u001b[0m \u001b[38;5;28mprint\u001b[39m(states_forbidden_list)\n\u001b[0;32m--> 293\u001b[0m ss \u001b[38;5;241m=\u001b[39m \u001b[43mGrape\u001b[49m\u001b[43m(\u001b[49m\u001b[43mH0\u001b[49m\u001b[43m,\u001b[49m\u001b[43m \u001b[49m\u001b[43mHops\u001b[49m\u001b[43m,\u001b[49m\u001b[43m \u001b[49m\u001b[43mHnames\u001b[49m\u001b[43m,\u001b[49m\u001b[43m \u001b[49m\u001b[43mU\u001b[49m\u001b[43m,\u001b[49m\u001b[43m \u001b[49m\u001b[43mtotal_time\u001b[49m\u001b[43m,\u001b[49m\u001b[43m \u001b[49m\u001b[43msteps\u001b[49m\u001b[43m,\u001b[49m\u001b[43m \u001b[49m\u001b[43mpsi0\u001b[49m\u001b[43m,\u001b[49m\u001b[43m \u001b[49m\u001b[43mconvergence\u001b[49m\u001b[38;5;241;43m=\u001b[39;49m\u001b[43mconvergence\u001b[49m\u001b[43m,\u001b[49m\n\u001b[1;32m    294\u001b[0m \u001b[43m                     \u001b[49m\u001b[43mdraw\u001b[49m\u001b[38;5;241;43m=\u001b[39;49m\u001b[43m[\u001b[49m\u001b[43mstates_draw_list\u001b[49m\u001b[43m,\u001b[49m\u001b[43m \u001b[49m\u001b[43mstates_draw_names\u001b[49m\u001b[43m]\u001b[49m\u001b[43m,\u001b[49m\u001b[43m \u001b[49m\u001b[43mstate_transfer\u001b[49m\u001b[38;5;241;43m=\u001b[39;49m\u001b[43mstate_transfer\u001b[49m\u001b[43m,\u001b[49m\u001b[43m \u001b[49m\u001b[43muse_gpu\u001b[49m\u001b[38;5;241;43m=\u001b[39;49m\u001b[38;5;28;43;01mFalse\u001b[39;49;00m\u001b[43m,\u001b[49m\n\u001b[1;32m    295\u001b[0m \u001b[43m                     \u001b[49m\u001b[43msparse_H\u001b[49m\u001b[38;5;241;43m=\u001b[39;49m\u001b[38;5;28;43;01mFalse\u001b[39;49;00m\u001b[43m,\u001b[49m\u001b[43m \u001b[49m\u001b[43mshow_plots\u001b[49m\u001b[38;5;241;43m=\u001b[39;49m\u001b[38;5;28;43;01mTrue\u001b[39;49;00m\u001b[43m,\u001b[49m\u001b[43m \u001b[49m\u001b[43mTaylor_terms\u001b[49m\u001b[38;5;241;43m=\u001b[39;49m\u001b[43mtaylor_terms\u001b[49m\u001b[43m,\u001b[49m\u001b[43m \u001b[49m\u001b[43mmethod\u001b[49m\u001b[38;5;241;43m=\u001b[39;49m\u001b[38;5;124;43m'\u001b[39;49m\u001b[38;5;124;43mAdam\u001b[39;49m\u001b[38;5;124;43m'\u001b[39;49m\u001b[43m,\u001b[49m\u001b[43m \u001b[49m\u001b[43minitial_guess\u001b[49m\u001b[38;5;241;43m=\u001b[39;49m\u001b[43minitial_guess\u001b[49m\u001b[43m,\u001b[49m\n\u001b[1;32m    296\u001b[0m \u001b[43m                     \u001b[49m\u001b[43mmaxA\u001b[49m\u001b[38;5;241;43m=\u001b[39;49m\u001b[43mops_max_amp\u001b[49m\u001b[43m,\u001b[49m\u001b[43m \u001b[49m\u001b[43mreg_coeffs\u001b[49m\u001b[38;5;241;43m=\u001b[39;49m\u001b[43mreg_coeffs\u001b[49m\u001b[43m,\u001b[49m\u001b[43m \u001b[49m\u001b[43mdressed_info\u001b[49m\u001b[38;5;241;43m=\u001b[39;49m\u001b[43mdressed_info\u001b[49m\u001b[43m,\u001b[49m\u001b[43m \u001b[49m\n\u001b[1;32m    297\u001b[0m \u001b[43m                     \u001b[49m\u001b[43mfile_name\u001b[49m\u001b[38;5;241;43m=\u001b[39;49m\u001b[43mfile_name\u001b[49m\u001b[43m,\u001b[49m\u001b[43m \u001b[49m\u001b[43mdata_path\u001b[49m\u001b[38;5;241;43m=\u001b[39;49m\u001b[43mdata_path\u001b[49m\u001b[43m,\u001b[49m\u001b[43m \u001b[49m\u001b[43msave\u001b[49m\u001b[43m \u001b[49m\u001b[38;5;241;43m=\u001b[39;49m\u001b[43m \u001b[49m\u001b[43msave\u001b[49m\u001b[43m)\u001b[49m\n\u001b[1;32m    298\u001b[0m \u001b[38;5;28mself\u001b[39m\u001b[38;5;241m.\u001b[39mfilename \u001b[38;5;241m=\u001b[39m ss[\u001b[38;5;241m-\u001b[39m\u001b[38;5;241m1\u001b[39m]\n\u001b[1;32m    299\u001b[0m \u001b[38;5;28;01mreturn\u001b[39;00m ss\n",
      "File \u001b[0;32m~/miniconda3/envs/simulations/lib/python3.9/site-packages/quantum_optimal_control-0.1.0-py3.9.egg/quantum_optimal_control/main_grape/grape.py:113\u001b[0m, in \u001b[0;36mGrape\u001b[0;34m(H0, Hops, Hnames, U, total_time, steps, states_concerned_list, convergence, U0, reg_coeffs, dressed_info, maxA, use_gpu, sparse_H, sparse_U, sparse_K, draw, initial_guess, show_plots, unitary_error, method, state_transfer, no_scaling, freq_unit, file_name, save, data_path, Taylor_terms, use_inter_vecs)\u001b[0m\n\u001b[1;32m    111\u001b[0m \u001b[38;5;28;01mwith\u001b[39;00m tf\u001b[38;5;241m.\u001b[39mdevice(dev):\n\u001b[1;32m    112\u001b[0m     tfs \u001b[38;5;241m=\u001b[39m TensorflowState(sys_para)  \u001b[38;5;66;03m# create tensorflow graph\u001b[39;00m\n\u001b[0;32m--> 113\u001b[0m     graph \u001b[38;5;241m=\u001b[39m \u001b[43mtfs\u001b[49m\u001b[38;5;241;43m.\u001b[39;49m\u001b[43mbuild_graph\u001b[49m\u001b[43m(\u001b[49m\u001b[43m)\u001b[49m\n\u001b[1;32m    115\u001b[0m conv \u001b[38;5;241m=\u001b[39m Convergence(sys_para, time_unit, convergence)\n\u001b[1;32m    117\u001b[0m \u001b[38;5;66;03m# run the optimization\u001b[39;00m\n",
      "File \u001b[0;32m~/miniconda3/envs/simulations/lib/python3.9/site-packages/quantum_optimal_control-0.1.0-py3.9.egg/quantum_optimal_control/core/tensorflow_state.py:398\u001b[0m, in \u001b[0;36mTensorflowState.build_graph\u001b[0;34m(self)\u001b[0m\n\u001b[1;32m    396\u001b[0m \u001b[38;5;28;01melse\u001b[39;00m:\n\u001b[1;32m    397\u001b[0m     \u001b[38;5;28mself\u001b[39m\u001b[38;5;241m.\u001b[39minit_tf_inter_vector_state()\n\u001b[0;32m--> 398\u001b[0m \u001b[38;5;28;43mself\u001b[39;49m\u001b[38;5;241;43m.\u001b[39;49m\u001b[43minit_training_loss\u001b[49m\u001b[43m(\u001b[49m\u001b[43m)\u001b[49m\n\u001b[1;32m    399\u001b[0m \u001b[38;5;28mself\u001b[39m\u001b[38;5;241m.\u001b[39minit_optimizer()\n\u001b[1;32m    400\u001b[0m \u001b[38;5;28mself\u001b[39m\u001b[38;5;241m.\u001b[39minit_utilities()\n",
      "File \u001b[0;32m~/miniconda3/envs/simulations/lib/python3.9/site-packages/quantum_optimal_control-0.1.0-py3.9.egg/quantum_optimal_control/core/tensorflow_state.py:351\u001b[0m, in \u001b[0;36mTensorflowState.init_training_loss\u001b[0;34m(self)\u001b[0m\n\u001b[1;32m    346\u001b[0m     \u001b[38;5;28mself\u001b[39m\u001b[38;5;241m.\u001b[39mloss \u001b[38;5;241m=\u001b[39m \u001b[38;5;241m1\u001b[39m \u001b[38;5;241m-\u001b[39m \\\n\u001b[1;32m    347\u001b[0m         \u001b[38;5;28mself\u001b[39m\u001b[38;5;241m.\u001b[39mget_inner_product_2D(\u001b[38;5;28mself\u001b[39m\u001b[38;5;241m.\u001b[39mfinal_state, \u001b[38;5;28mself\u001b[39m\u001b[38;5;241m.\u001b[39mtarget_vecs)\n\u001b[1;32m    348\u001b[0m     \u001b[38;5;28mself\u001b[39m\u001b[38;5;241m.\u001b[39munitary_scale \u001b[38;5;241m=\u001b[39m \u001b[38;5;28mself\u001b[39m\u001b[38;5;241m.\u001b[39mget_inner_product_2D(\n\u001b[1;32m    349\u001b[0m         \u001b[38;5;28mself\u001b[39m\u001b[38;5;241m.\u001b[39mfinal_state, \u001b[38;5;28mself\u001b[39m\u001b[38;5;241m.\u001b[39mfinal_state)\n\u001b[0;32m--> 351\u001b[0m \u001b[38;5;28mself\u001b[39m\u001b[38;5;241m.\u001b[39mreg_loss \u001b[38;5;241m=\u001b[39m \u001b[43mget_reg_loss\u001b[49m\u001b[43m(\u001b[49m\u001b[38;5;28;43mself\u001b[39;49m\u001b[43m)\u001b[49m\n\u001b[1;32m    353\u001b[0m \u001b[38;5;28mprint\u001b[39m(\u001b[38;5;124m\"\u001b[39m\u001b[38;5;124mTraining loss initialized.\u001b[39m\u001b[38;5;124m\"\u001b[39m)\n",
      "File \u001b[0;32m~/miniconda3/envs/simulations/lib/python3.9/site-packages/quantum_optimal_control-0.1.0-py3.9.egg/quantum_optimal_control/core/regularization_functions.py:16\u001b[0m, in \u001b[0;36mget_reg_loss\u001b[0;34m(tfs)\u001b[0m\n\u001b[1;32m     13\u001b[0m reg_loss \u001b[38;5;241m=\u001b[39m tfs\u001b[38;5;241m.\u001b[39mloss\n\u001b[1;32m     15\u001b[0m \u001b[38;5;66;03m# amplitude\u001b[39;00m\n\u001b[0;32m---> 16\u001b[0m \u001b[38;5;28;01mif\u001b[39;00m \u001b[38;5;124;43m'\u001b[39;49m\u001b[38;5;124;43mamplitude\u001b[39;49m\u001b[38;5;124;43m'\u001b[39;49m\u001b[43m \u001b[49m\u001b[38;5;129;43;01min\u001b[39;49;00m\u001b[43m \u001b[49m\u001b[43mtfs\u001b[49m\u001b[38;5;241;43m.\u001b[39;49m\u001b[43msys_para\u001b[49m\u001b[38;5;241;43m.\u001b[39;49m\u001b[43mreg_coeffs\u001b[49m:\n\u001b[1;32m     17\u001b[0m     amp_reg_alpha_coeff \u001b[38;5;241m=\u001b[39m tfs\u001b[38;5;241m.\u001b[39msys_para\u001b[38;5;241m.\u001b[39mreg_coeffs[\u001b[38;5;124m'\u001b[39m\u001b[38;5;124mamplitude\u001b[39m\u001b[38;5;124m'\u001b[39m]\n\u001b[1;32m     18\u001b[0m     amp_reg_alpha \u001b[38;5;241m=\u001b[39m amp_reg_alpha_coeff \u001b[38;5;241m/\u001b[39m \u001b[38;5;28mfloat\u001b[39m(tfs\u001b[38;5;241m.\u001b[39msys_para\u001b[38;5;241m.\u001b[39msteps)\n",
      "\u001b[0;31mTypeError\u001b[0m: argument of type 'NoneType' is not iterable"
     ]
    }
   ],
   "source": [
    "states_forbidden_list = []\n",
    "total_time = 500.0\n",
    "steps  = 100  #number of points over the total time where amplitudes will be specified\n",
    "\n",
    "convergence = {'rate': 0.1, 'update_step': 10, 'max_iterations': 100,\n",
    "               'conv_target': 3e-4, 'learning_rate_decay': 500.0}\n",
    "\n",
    "\n",
    "reg_coeffs = None #{'dwdt': 0.1, 'd2wdt2': 1.0e-3, 'forbid_dressed': False,\n",
    "#               'states_forbidden_list':states_forbidden_list,\n",
    "#               'forbidden_coeff_list': [1.0*steps] * len(states_forbidden_list)}\n",
    "\n",
    "\n",
    "\n",
    "initial_guess = None\n",
    "\n",
    "ss = op.run_optimal_control(state_transfer = True, initial_states = [0], target_states = [1], \n",
    "                        total_time = total_time, steps = steps,max_amp = 1, \n",
    "                        taylor_terms = None,is_dressed=False, \n",
    "                        convergence = convergence, reg_coeffs =  reg_coeffs,\n",
    "                        plot_only_g = True,\n",
    "                        states_forbidden_list = states_forbidden_list,initial_guess = initial_guess, \n",
    "                        file_name=\"g0_to_g1_circlgrape\", data_path=data_path, save = True)"
   ]
  },
  {
   "cell_type": "code",
   "execution_count": null,
   "metadata": {},
   "outputs": [],
   "source": [
    "hf = op.openfile()"
   ]
  },
  {
   "cell_type": "code",
   "execution_count": null,
   "metadata": {},
   "outputs": [],
   "source": [
    "hf['error'][-1]"
   ]
  },
  {
   "cell_type": "code",
   "execution_count": null,
   "metadata": {},
   "outputs": [],
   "source": [
    "op.plot_pulses()"
   ]
  },
  {
   "cell_type": "code",
   "execution_count": null,
   "metadata": {},
   "outputs": [],
   "source": [
    "ss"
   ]
  },
  {
   "cell_type": "code",
   "execution_count": null,
   "metadata": {},
   "outputs": [],
   "source": [
    "len(ss[0][0])"
   ]
  },
  {
   "cell_type": "code",
   "execution_count": null,
   "metadata": {},
   "outputs": [],
   "source": [
    "op.fidelity()"
   ]
  },
  {
   "cell_type": "code",
   "execution_count": null,
   "metadata": {},
   "outputs": [],
   "source": [
    "import os \n",
    "data_path = '/home/eag190/Multimode-Conditional-Displacements/hpc_runs/multimode_circle_grape/sample workflow/data'\n",
    "file_path = 'test.h5'\n",
    "file_path_f = os.path.join(data_path, file_path)\n",
    "file_path_f"
   ]
  },
  {
   "cell_type": "code",
   "execution_count": null,
   "metadata": {},
   "outputs": [],
   "source": [
    "hf = h5py.File(file_path_f, 'w')\n"
   ]
  },
  {
   "cell_type": "code",
   "execution_count": null,
   "metadata": {},
   "outputs": [],
   "source": [
    "get_dressed_info"
   ]
  },
  {
   "cell_type": "code",
   "execution_count": null,
   "metadata": {},
   "outputs": [],
   "source": [
    "w_c, v_c, dressed_id = get_dressed_info(op.H_rot())"
   ]
  },
  {
   "cell_type": "code",
   "execution_count": null,
   "metadata": {},
   "outputs": [],
   "source": [
    "w_c"
   ]
  },
  {
   "cell_type": "code",
   "execution_count": null,
   "metadata": {},
   "outputs": [],
   "source": [
    "v_c"
   ]
  },
  {
   "cell_type": "code",
   "execution_count": null,
   "metadata": {},
   "outputs": [],
   "source": [
    "dressed_id"
   ]
  },
  {
   "cell_type": "code",
   "execution_count": null,
   "metadata": {},
   "outputs": [],
   "source": []
  }
 ],
 "metadata": {
  "kernelspec": {
   "display_name": "Python 3 (ipykernel)",
   "language": "python",
   "name": "python3"
  },
  "language_info": {
   "codemirror_mode": {
    "name": "ipython",
    "version": 3
   },
   "file_extension": ".py",
   "mimetype": "text/x-python",
   "name": "python",
   "nbconvert_exporter": "python",
   "pygments_lexer": "ipython3",
   "version": "3.9.12"
  },
  "toc": {
   "base_numbering": 1,
   "nav_menu": {},
   "number_sections": true,
   "sideBar": false,
   "skip_h1_title": false,
   "title_cell": "Table of Contents",
   "title_sidebar": "Contents",
   "toc_cell": false,
   "toc_position": {
    "height": "189.537px",
    "left": "796.952px",
    "top": "111.06px",
    "width": "164.993px"
   },
   "toc_section_display": true,
   "toc_window_display": false
  },
  "varInspector": {
   "cols": {
    "lenName": 16,
    "lenType": 16,
    "lenVar": 40
   },
   "kernels_config": {
    "python": {
     "delete_cmd_postfix": "",
     "delete_cmd_prefix": "del ",
     "library": "var_list.py",
     "varRefreshCmd": "print(var_dic_list())"
    },
    "r": {
     "delete_cmd_postfix": ") ",
     "delete_cmd_prefix": "rm(",
     "library": "var_list.r",
     "varRefreshCmd": "cat(var_dic_list()) "
    }
   },
   "types_to_exclude": [
    "module",
    "function",
    "builtin_function_or_method",
    "instance",
    "_Feature"
   ],
   "window_display": false
  }
 },
 "nbformat": 4,
 "nbformat_minor": 4
}
