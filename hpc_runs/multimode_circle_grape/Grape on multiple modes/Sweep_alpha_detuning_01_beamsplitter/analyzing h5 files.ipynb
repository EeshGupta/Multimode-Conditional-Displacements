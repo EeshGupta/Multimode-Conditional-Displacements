{
 "cells": [
  {
   "cell_type": "code",
   "execution_count": 1,
   "id": "ea747f07",
   "metadata": {},
   "outputs": [],
   "source": [
    "import h5py"
   ]
  },
  {
   "cell_type": "code",
   "execution_count": 11,
   "id": "cddd82ac",
   "metadata": {},
   "outputs": [],
   "source": [
    "import matplotlib.pyplot as plt"
   ]
  },
  {
   "cell_type": "code",
   "execution_count": 46,
   "id": "9eba3078",
   "metadata": {},
   "outputs": [],
   "source": [
    "from qutip import *"
   ]
  },
  {
   "cell_type": "markdown",
   "id": "8b8511db",
   "metadata": {},
   "source": [
    "# check unitary metric"
   ]
  },
  {
   "cell_type": "code",
   "execution_count": 10,
   "id": "7c593b46",
   "metadata": {},
   "outputs": [],
   "source": [
    "import h5py\n",
    "\n",
    "filename100 = \"00000_g01_to_g10_circlgrape0.h5\"# detuning is 100 Mhz\n",
    "filename10 = \"00000_g01_to_g10_circlgrape1.h5\"# 10 Mhz\n",
    "filename1 = \"00000_g01_to_g10_circlgrape2.h5\"# 1 Mhz\n",
    "\n",
    "h5_100 = h5py.File(filename100,'r')\n",
    "h5_10 = h5py.File(filename10,'r')\n",
    "h5_1 = h5py.File(filename1,'r')\n",
    "\n"
   ]
  },
  {
   "cell_type": "code",
   "execution_count": 3,
   "id": "152cc68d",
   "metadata": {},
   "outputs": [
    {
     "data": {
      "text/plain": [
       "<KeysViewHDF5 ['H0', 'Hnames', 'Hops', 'U', 'convergence', 'error', 'initial_vectors_c', 'inter_vecs_imag', 'inter_vecs_mag_squared', 'inter_vecs_raw_imag', 'inter_vecs_raw_real', 'inter_vecs_real', 'iteration', 'maxA', 'method', 'reg_coeffs', 'reg_error', 'run_time', 'sparse_H', 'sparse_K', 'sparse_U', 'states_concerned_list', 'steps', 'taylor_scaling', 'taylor_terms', 'total_time', 'uks', 'unitary_scale', 'use_gpu', 'wall_clock_time']>"
      ]
     },
     "execution_count": 3,
     "metadata": {},
     "output_type": "execute_result"
    }
   ],
   "source": [
    "#h5.keys()"
   ]
  },
  {
   "cell_type": "code",
   "execution_count": 6,
   "id": "da04fc65",
   "metadata": {},
   "outputs": [
    {
     "data": {
      "text/plain": [
       "<KeysViewHDF5 ['conv_target', 'learning_rate_decay', 'max_iterations', 'rate', 'update_step']>"
      ]
     },
     "execution_count": 6,
     "metadata": {},
     "output_type": "execute_result"
    }
   ],
   "source": [
    "#h5['convergence'].keys()"
   ]
  },
  {
   "cell_type": "code",
   "execution_count": 16,
   "id": "d8666e80",
   "metadata": {},
   "outputs": [
    {
     "data": {
      "text/plain": [
       "[<matplotlib.lines.Line2D at 0x23b3f9e92e0>]"
      ]
     },
     "execution_count": 16,
     "metadata": {},
     "output_type": "execute_result"
    },
    {
     "data": {
      "image/png": "[encoded data removed]",
      "text/plain": [
       "<Figure size 432x288 with 1 Axes>"
      ]
     },
     "metadata": {
      "needs_background": "light"
     },
     "output_type": "display_data"
    }
   ],
   "source": [
    "x = [i for i in range(len(h5_1['unitary_scale']))]\n",
    "plt.plot(x, list(h5_1['unitary_scale']))"
   ]
  },
  {
   "cell_type": "code",
   "execution_count": 17,
   "id": "adb0e354",
   "metadata": {},
   "outputs": [
    {
     "data": {
      "text/plain": [
       "[<matplotlib.lines.Line2D at 0x23b40a20250>]"
      ]
     },
     "execution_count": 17,
     "metadata": {},
     "output_type": "execute_result"
    },
    {
     "data": {
      "image/png": "[encoded data removed]",
      "text/plain": [
       "<Figure size 432x288 with 1 Axes>"
      ]
     },
     "metadata": {
      "needs_background": "light"
     },
     "output_type": "display_data"
    }
   ],
   "source": [
    "x = [i for i in range(len(h5_10['unitary_scale']))]\n",
    "plt.plot(x, list(h5_10['unitary_scale']))"
   ]
  },
  {
   "cell_type": "code",
   "execution_count": 18,
   "id": "449939cb",
   "metadata": {},
   "outputs": [
    {
     "ename": "KeyError",
     "evalue": "\"Unable to open object (object 'unitary_scale' doesn't exist)\"",
     "output_type": "error",
     "traceback": [
      "\u001b[1;31m---------------------------------------------------------------------------\u001b[0m",
      "\u001b[1;31mKeyError\u001b[0m                                  Traceback (most recent call last)",
      "Input \u001b[1;32mIn [18]\u001b[0m, in \u001b[0;36m<cell line: 1>\u001b[1;34m()\u001b[0m\n\u001b[1;32m----> 1\u001b[0m x \u001b[38;5;241m=\u001b[39m [i \u001b[38;5;28;01mfor\u001b[39;00m i \u001b[38;5;129;01min\u001b[39;00m \u001b[38;5;28mrange\u001b[39m(\u001b[38;5;28mlen\u001b[39m(\u001b[43mh5_100\u001b[49m\u001b[43m[\u001b[49m\u001b[38;5;124;43m'\u001b[39;49m\u001b[38;5;124;43munitary_scale\u001b[39;49m\u001b[38;5;124;43m'\u001b[39;49m\u001b[43m]\u001b[49m))]\n\u001b[0;32m      2\u001b[0m plt\u001b[38;5;241m.\u001b[39mplot(x, \u001b[38;5;28mlist\u001b[39m(h5_100[\u001b[38;5;124m'\u001b[39m\u001b[38;5;124munitary_scale\u001b[39m\u001b[38;5;124m'\u001b[39m]))\n",
      "File \u001b[1;32mh5py\\_objects.pyx:54\u001b[0m, in \u001b[0;36mh5py._objects.with_phil.wrapper\u001b[1;34m()\u001b[0m\n",
      "File \u001b[1;32mh5py\\_objects.pyx:55\u001b[0m, in \u001b[0;36mh5py._objects.with_phil.wrapper\u001b[1;34m()\u001b[0m\n",
      "File \u001b[1;32m~\\Anaconda3\\lib\\site-packages\\h5py\\_hl\\group.py:264\u001b[0m, in \u001b[0;36mGroup.__getitem__\u001b[1;34m(self, name)\u001b[0m\n\u001b[0;32m    262\u001b[0m         \u001b[38;5;28;01mraise\u001b[39;00m \u001b[38;5;167;01mValueError\u001b[39;00m(\u001b[38;5;124m\"\u001b[39m\u001b[38;5;124mInvalid HDF5 object reference\u001b[39m\u001b[38;5;124m\"\u001b[39m)\n\u001b[0;32m    263\u001b[0m \u001b[38;5;28;01melse\u001b[39;00m:\n\u001b[1;32m--> 264\u001b[0m     oid \u001b[38;5;241m=\u001b[39m \u001b[43mh5o\u001b[49m\u001b[38;5;241;43m.\u001b[39;49m\u001b[43mopen\u001b[49m\u001b[43m(\u001b[49m\u001b[38;5;28;43mself\u001b[39;49m\u001b[38;5;241;43m.\u001b[39;49m\u001b[43mid\u001b[49m\u001b[43m,\u001b[49m\u001b[43m \u001b[49m\u001b[38;5;28;43mself\u001b[39;49m\u001b[38;5;241;43m.\u001b[39;49m\u001b[43m_e\u001b[49m\u001b[43m(\u001b[49m\u001b[43mname\u001b[49m\u001b[43m)\u001b[49m\u001b[43m,\u001b[49m\u001b[43m \u001b[49m\u001b[43mlapl\u001b[49m\u001b[38;5;241;43m=\u001b[39;49m\u001b[38;5;28;43mself\u001b[39;49m\u001b[38;5;241;43m.\u001b[39;49m\u001b[43m_lapl\u001b[49m\u001b[43m)\u001b[49m\n\u001b[0;32m    266\u001b[0m otype \u001b[38;5;241m=\u001b[39m h5i\u001b[38;5;241m.\u001b[39mget_type(oid)\n\u001b[0;32m    267\u001b[0m \u001b[38;5;28;01mif\u001b[39;00m otype \u001b[38;5;241m==\u001b[39m h5i\u001b[38;5;241m.\u001b[39mGROUP:\n",
      "File \u001b[1;32mh5py\\_objects.pyx:54\u001b[0m, in \u001b[0;36mh5py._objects.with_phil.wrapper\u001b[1;34m()\u001b[0m\n",
      "File \u001b[1;32mh5py\\_objects.pyx:55\u001b[0m, in \u001b[0;36mh5py._objects.with_phil.wrapper\u001b[1;34m()\u001b[0m\n",
      "File \u001b[1;32mh5py\\h5o.pyx:190\u001b[0m, in \u001b[0;36mh5py.h5o.open\u001b[1;34m()\u001b[0m\n",
      "\u001b[1;31mKeyError\u001b[0m: \"Unable to open object (object 'unitary_scale' doesn't exist)\""
     ]
    }
   ],
   "source": [
    "x = [i for i in range(len(h5_100['unitary_scale']))]\n",
    "plt.plot(x, list(h5_100['unitary_scale']))"
   ]
  },
  {
   "cell_type": "code",
   "execution_count": 20,
   "id": "7638be7e",
   "metadata": {},
   "outputs": [
    {
     "data": {
      "text/plain": [
       "<KeysViewHDF5 ['H0', 'Hnames', 'Hops', 'U', 'convergence', 'initial_vectors_c', 'maxA', 'method', 'reg_coeffs', 'sparse_H', 'sparse_K', 'sparse_U', 'states_concerned_list', 'steps', 'taylor_scaling', 'taylor_terms', 'total_time', 'use_gpu', 'wall_clock_time']>"
      ]
     },
     "execution_count": 20,
     "metadata": {},
     "output_type": "execute_result"
    }
   ],
   "source": [
    "h5_100.keys()JJ"
   ]
  },
  {
   "cell_type": "code",
   "execution_count": 80,
   "id": "0a0fedad",
   "metadata": {},
   "outputs": [
    {
     "data": {
      "text/plain": [
       "3958.4067469443335"
      ]
     },
     "execution_count": 80,
     "metadata": {},
     "output_type": "execute_result"
    }
   ],
   "source": [
    "#h5_100['H0'][:]\n",
    "m = Qobj(h5_100['H0'][:])\n",
    "m.norm()"
   ]
  },
  {
   "cell_type": "code",
   "execution_count": 81,
   "id": "7cac91e7",
   "metadata": {},
   "outputs": [
    {
     "data": {
      "text/plain": [
       "449.9999999999999"
      ]
     },
     "execution_count": 81,
     "metadata": {},
     "output_type": "execute_result"
    }
   ],
   "source": [
    "m = m*(-1.0j)\n",
    "mat = m.expm()\n",
    "mat.norm()"
   ]
  },
  {
   "cell_type": "code",
   "execution_count": 82,
   "id": "a457b217",
   "metadata": {},
   "outputs": [
    {
     "data": {
      "text/plain": [
       "395.8407085642812"
      ]
     },
     "execution_count": 82,
     "metadata": {},
     "output_type": "execute_result"
    }
   ],
   "source": [
    "m = Qobj(h5_10['H0'][:])\n",
    "m.norm()"
   ]
  },
  {
   "cell_type": "code",
   "execution_count": 83,
   "id": "c109219b",
   "metadata": {},
   "outputs": [
    {
     "data": {
      "text/plain": [
       "449.99999999999994"
      ]
     },
     "execution_count": 83,
     "metadata": {},
     "output_type": "execute_result"
    }
   ],
   "source": [
    "m = m*(-1.0j)\n",
    "mat = m.expm()\n",
    "mat.norm()"
   ]
  },
  {
   "cell_type": "code",
   "execution_count": 84,
   "id": "02c973bb",
   "metadata": {},
   "outputs": [
    {
     "data": {
      "text/plain": [
       "39.58440957795846"
      ]
     },
     "execution_count": 84,
     "metadata": {},
     "output_type": "execute_result"
    }
   ],
   "source": [
    "m = Qobj(h5_1['H0'][:])\n",
    "m.norm()"
   ]
  },
  {
   "cell_type": "code",
   "execution_count": 85,
   "id": "5bddac0c",
   "metadata": {},
   "outputs": [
    {
     "data": {
      "text/plain": [
       "449.99999999999994"
      ]
     },
     "execution_count": 85,
     "metadata": {},
     "output_type": "execute_result"
    }
   ],
   "source": [
    "m = m*(-1.0j)\n",
    "mat = m.expm()\n",
    "mat.norm()"
   ]
  },
  {
   "cell_type": "code",
   "execution_count": 54,
   "id": "f4ed2844",
   "metadata": {},
   "outputs": [],
   "source": [
    "#h5_1['inter_vecs_raw_imag'][:]"
   ]
  },
  {
   "cell_type": "code",
   "execution_count": 72,
   "id": "3afb76dc",
   "metadata": {},
   "outputs": [
    {
     "name": "stdout",
     "output_type": "stream",
     "text": [
      "450.0\n",
      "(450, 450)\n",
      "694.3862856668596\n",
      "450.0\n",
      "(450, 450)\n",
      "694.3862856668596\n"
     ]
    }
   ],
   "source": [
    "for mat in h5_100['Hops']: \n",
    "    print(Qobj(mat).norm())\n",
    "    print(Qobj(mat).shape)\n",
    "    print(Qobj(mat).expm().norm())"
   ]
  },
  {
   "cell_type": "code",
   "execution_count": 21,
   "id": "e3c35bfe",
   "metadata": {},
   "outputs": [
    {
     "data": {
      "text/plain": [
       "<KeysViewHDF5 ['H0', 'Hnames', 'Hops', 'U', 'convergence', 'error', 'initial_vectors_c', 'inter_vecs_imag', 'inter_vecs_mag_squared', 'inter_vecs_raw_imag', 'inter_vecs_raw_real', 'inter_vecs_real', 'iteration', 'maxA', 'method', 'reg_coeffs', 'reg_error', 'run_time', 'sparse_H', 'sparse_K', 'sparse_U', 'states_concerned_list', 'steps', 'taylor_scaling', 'taylor_terms', 'total_time', 'uks', 'unitary_scale', 'use_gpu', 'wall_clock_time']>"
      ]
     },
     "execution_count": 21,
     "metadata": {},
     "output_type": "execute_result"
    }
   ],
   "source": [
    "h5_10.keys()"
   ]
  },
  {
   "cell_type": "code",
   "execution_count": null,
   "id": "cb83e718",
   "metadata": {},
   "outputs": [],
   "source": []
  }
 ],
 "metadata": {
  "kernelspec": {
   "display_name": "Python 3 (ipykernel)",
   "language": "python",
   "name": "python3"
  },
  "language_info": {
   "codemirror_mode": {
    "name": "ipython",
    "version": 3
   },
   "file_extension": ".py",
   "mimetype": "text/x-python",
   "name": "python",
   "nbconvert_exporter": "python",
   "pygments_lexer": "ipython3",
   "version": "3.8.8"
  },
  "toc": {
   "base_numbering": 1,
   "nav_menu": {},
   "number_sections": true,
   "sideBar": true,
   "skip_h1_title": false,
   "title_cell": "Table of Contents",
   "title_sidebar": "Contents",
   "toc_cell": false,
   "toc_position": {},
   "toc_section_display": true,
   "toc_window_display": false
  },
  "varInspector": {
   "cols": {
    "lenName": 16,
    "lenType": 16,
    "lenVar": 40
   },
   "kernels_config": {
    "python": {
     "delete_cmd_postfix": "",
     "delete_cmd_prefix": "del ",
     "library": "var_list.py",
     "varRefreshCmd": "print(var_dic_list())"
    },
    "r": {
     "delete_cmd_postfix": ") ",
     "delete_cmd_prefix": "rm(",
     "library": "var_list.r",
     "varRefreshCmd": "cat(var_dic_list()) "
    }
   },
   "types_to_exclude": [
    "module",
    "function",
    "builtin_function_or_method",
    "instance",
    "_Feature"
   ],
   "window_display": false
  }
 },
 "nbformat": 4,
 "nbformat_minor": 5
}
