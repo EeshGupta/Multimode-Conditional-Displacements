{
 "cells": [
  {
   "cell_type": "code",
   "execution_count": 1,
   "id": "5a9ce429",
   "metadata": {},
   "outputs": [],
   "source": [
    "import matplotlib.pyplot as plt\n",
    "import numpy as np \n",
    "import pandas as pd"
   ]
  },
  {
   "cell_type": "code",
   "execution_count": 2,
   "id": "f6f4bbc7",
   "metadata": {},
   "outputs": [
    {
     "data": {
      "text/plain": [
       "['C:\\\\_Lib\\\\python\\\\Multimode-Conditional-Displacements\\\\hpc_runs\\\\multimode_circle_grape\\\\Grape on multiple modes\\\\Sweep_alpha_detuning_01_beamsplitter',\n",
       " 'C:\\\\_Lib\\\\python',\n",
       " 'C:\\\\_Lib\\\\python\\\\qoc',\n",
       " 'C:\\\\_Lib\\\\python\\\\ECD_control',\n",
       " 'C:\\\\_Lib\\\\python\\\\Multimode-Conditional-Displacements\\\\hpc_runs\\\\multimode_circle_grape\\\\Grape on multiple modes\\\\Sweep_alpha_detuning_01_beamsplitter',\n",
       " 'C:\\\\Users\\\\cssri\\\\Anaconda3\\\\python38.zip',\n",
       " 'C:\\\\Users\\\\cssri\\\\Anaconda3\\\\DLLs',\n",
       " 'C:\\\\Users\\\\cssri\\\\Anaconda3\\\\lib',\n",
       " 'C:\\\\Users\\\\cssri\\\\Anaconda3',\n",
       " '',\n",
       " 'C:\\\\Users\\\\cssri\\\\Anaconda3\\\\lib\\\\site-packages',\n",
       " 'C:\\\\Users\\\\cssri\\\\Anaconda3\\\\lib\\\\site-packages\\\\pyepr-0.8-py3.8.egg',\n",
       " 'C:\\\\Users\\\\cssri\\\\Anaconda3\\\\lib\\\\site-packages\\\\ezdxf-0.16.4b2-py3.8-win-amd64.egg',\n",
       " 'C:\\\\Users\\\\cssri\\\\Anaconda3\\\\lib\\\\site-packages\\\\pint-0.17-py3.8.egg',\n",
       " 'C:\\\\Users\\\\cssri\\\\Anaconda3\\\\lib\\\\site-packages\\\\sphinx_rtd_theme-0.5.2-py3.8.egg',\n",
       " 'C:\\\\Users\\\\cssri\\\\Anaconda3\\\\lib\\\\site-packages\\\\xarray-0.18.2-py3.8.egg',\n",
       " 'C:\\\\Users\\\\cssri\\\\Anaconda3\\\\lib\\\\site-packages\\\\attrdict-2.0.1-py3.8.egg',\n",
       " 'C:\\\\Users\\\\cssri\\\\Anaconda3\\\\lib\\\\site-packages\\\\docutils-0.16-py3.8.egg',\n",
       " 'C:\\\\Users\\\\cssri\\\\Anaconda3\\\\lib\\\\site-packages\\\\pyinventor-0.4-py3.8.egg',\n",
       " 'c:\\\\_lib\\\\python\\\\scqubits',\n",
       " 'C:\\\\Users\\\\cssri\\\\Anaconda3\\\\lib\\\\site-packages\\\\win32',\n",
       " 'C:\\\\Users\\\\cssri\\\\Anaconda3\\\\lib\\\\site-packages\\\\win32\\\\lib',\n",
       " 'C:\\\\Users\\\\cssri\\\\Anaconda3\\\\lib\\\\site-packages\\\\Pythonwin']"
      ]
     },
     "execution_count": 2,
     "metadata": {},
     "output_type": "execute_result"
    }
   ],
   "source": [
    "import sys \n",
    "sys.path"
   ]
  },
  {
   "cell_type": "code",
   "execution_count": 4,
   "id": "a723f547",
   "metadata": {},
   "outputs": [
    {
     "data": {
      "text/html": [
       "<div>\n",
       "<style scoped>\n",
       "    .dataframe tbody tr th:only-of-type {\n",
       "        vertical-align: middle;\n",
       "    }\n",
       "\n",
       "    .dataframe tbody tr th {\n",
       "        vertical-align: top;\n",
       "    }\n",
       "\n",
       "    .dataframe thead th {\n",
       "        text-align: right;\n",
       "    }\n",
       "</style>\n",
       "<table border=\"1\" class=\"dataframe\">\n",
       "  <thead>\n",
       "    <tr style=\"text-align: right;\">\n",
       "      <th></th>\n",
       "      <th>time</th>\n",
       "      <th>steps</th>\n",
       "      <th>alpha</th>\n",
       "      <th>detuning</th>\n",
       "      <th>qubit_drive_amp</th>\n",
       "      <th>err</th>\n",
       "      <th>filenum</th>\n",
       "    </tr>\n",
       "  </thead>\n",
       "  <tbody>\n",
       "    <tr>\n",
       "      <th>0</th>\n",
       "      <td>1000</td>\n",
       "      <td>1000</td>\n",
       "      <td>30</td>\n",
       "      <td>0.005</td>\n",
       "      <td>0.005</td>\n",
       "      <td>0.705923</td>\n",
       "      <td>10</td>\n",
       "    </tr>\n",
       "    <tr>\n",
       "      <th>1</th>\n",
       "      <td>1000</td>\n",
       "      <td>1000</td>\n",
       "      <td>30</td>\n",
       "      <td>0.010</td>\n",
       "      <td>0.005</td>\n",
       "      <td>0.814494</td>\n",
       "      <td>11</td>\n",
       "    </tr>\n",
       "    <tr>\n",
       "      <th>2</th>\n",
       "      <td>1000</td>\n",
       "      <td>1000</td>\n",
       "      <td>30</td>\n",
       "      <td>0.015</td>\n",
       "      <td>0.005</td>\n",
       "      <td>0.918410</td>\n",
       "      <td>12</td>\n",
       "    </tr>\n",
       "    <tr>\n",
       "      <th>3</th>\n",
       "      <td>1000</td>\n",
       "      <td>1000</td>\n",
       "      <td>30</td>\n",
       "      <td>0.020</td>\n",
       "      <td>0.005</td>\n",
       "      <td>0.918359</td>\n",
       "      <td>13</td>\n",
       "    </tr>\n",
       "  </tbody>\n",
       "</table>\n",
       "</div>"
      ],
      "text/plain": [
       "   time  steps  alpha  detuning  qubit_drive_amp       err  filenum\n",
       "0  1000   1000     30     0.005            0.005  0.705923       10\n",
       "1  1000   1000     30     0.010            0.005  0.814494       11\n",
       "2  1000   1000     30     0.015            0.005  0.918410       12\n",
       "3  1000   1000     30     0.020            0.005  0.918359       13"
      ]
     },
     "execution_count": 4,
     "metadata": {},
     "output_type": "execute_result"
    }
   ],
   "source": [
    "filename = \"dataset_sweep_qdrive_detuning.csv\"\n",
    "df1 = pd.read_csv(filename)\n",
    "df1"
   ]
  },
  {
   "cell_type": "code",
   "execution_count": 3,
   "id": "37e7803d",
   "metadata": {},
   "outputs": [
    {
     "data": {
      "text/html": [
       "<div>\n",
       "<style scoped>\n",
       "    .dataframe tbody tr th:only-of-type {\n",
       "        vertical-align: middle;\n",
       "    }\n",
       "\n",
       "    .dataframe tbody tr th {\n",
       "        vertical-align: top;\n",
       "    }\n",
       "\n",
       "    .dataframe thead th {\n",
       "        text-align: right;\n",
       "    }\n",
       "</style>\n",
       "<table border=\"1\" class=\"dataframe\">\n",
       "  <thead>\n",
       "    <tr style=\"text-align: right;\">\n",
       "      <th></th>\n",
       "      <th>time</th>\n",
       "      <th>steps</th>\n",
       "      <th>alpha</th>\n",
       "      <th>detuning</th>\n",
       "      <th>qubit_drive_amp</th>\n",
       "      <th>err</th>\n",
       "      <th>filenum</th>\n",
       "    </tr>\n",
       "  </thead>\n",
       "  <tbody>\n",
       "    <tr>\n",
       "      <th>0</th>\n",
       "      <td>1000</td>\n",
       "      <td>1000</td>\n",
       "      <td>30</td>\n",
       "      <td>0.030</td>\n",
       "      <td>0.005</td>\n",
       "      <td>0.918375</td>\n",
       "      <td>10</td>\n",
       "    </tr>\n",
       "    <tr>\n",
       "      <th>1</th>\n",
       "      <td>1000</td>\n",
       "      <td>1000</td>\n",
       "      <td>30</td>\n",
       "      <td>0.005</td>\n",
       "      <td>0.010</td>\n",
       "      <td>0.705013</td>\n",
       "      <td>11</td>\n",
       "    </tr>\n",
       "    <tr>\n",
       "      <th>2</th>\n",
       "      <td>1000</td>\n",
       "      <td>1000</td>\n",
       "      <td>30</td>\n",
       "      <td>0.010</td>\n",
       "      <td>0.010</td>\n",
       "      <td>0.704851</td>\n",
       "      <td>12</td>\n",
       "    </tr>\n",
       "    <tr>\n",
       "      <th>3</th>\n",
       "      <td>1000</td>\n",
       "      <td>1000</td>\n",
       "      <td>30</td>\n",
       "      <td>0.015</td>\n",
       "      <td>0.010</td>\n",
       "      <td>0.704096</td>\n",
       "      <td>13</td>\n",
       "    </tr>\n",
       "    <tr>\n",
       "      <th>4</th>\n",
       "      <td>1000</td>\n",
       "      <td>1000</td>\n",
       "      <td>30</td>\n",
       "      <td>0.020</td>\n",
       "      <td>0.010</td>\n",
       "      <td>0.918467</td>\n",
       "      <td>14</td>\n",
       "    </tr>\n",
       "    <tr>\n",
       "      <th>5</th>\n",
       "      <td>1000</td>\n",
       "      <td>1000</td>\n",
       "      <td>30</td>\n",
       "      <td>0.030</td>\n",
       "      <td>0.010</td>\n",
       "      <td>0.918401</td>\n",
       "      <td>15</td>\n",
       "    </tr>\n",
       "    <tr>\n",
       "      <th>6</th>\n",
       "      <td>1000</td>\n",
       "      <td>1000</td>\n",
       "      <td>30</td>\n",
       "      <td>0.005</td>\n",
       "      <td>0.015</td>\n",
       "      <td>0.705349</td>\n",
       "      <td>16</td>\n",
       "    </tr>\n",
       "    <tr>\n",
       "      <th>7</th>\n",
       "      <td>1000</td>\n",
       "      <td>1000</td>\n",
       "      <td>30</td>\n",
       "      <td>0.010</td>\n",
       "      <td>0.015</td>\n",
       "      <td>0.705840</td>\n",
       "      <td>17</td>\n",
       "    </tr>\n",
       "    <tr>\n",
       "      <th>8</th>\n",
       "      <td>1000</td>\n",
       "      <td>1000</td>\n",
       "      <td>30</td>\n",
       "      <td>0.015</td>\n",
       "      <td>0.015</td>\n",
       "      <td>0.910911</td>\n",
       "      <td>18</td>\n",
       "    </tr>\n",
       "    <tr>\n",
       "      <th>9</th>\n",
       "      <td>1000</td>\n",
       "      <td>1000</td>\n",
       "      <td>30</td>\n",
       "      <td>0.020</td>\n",
       "      <td>0.015</td>\n",
       "      <td>0.704144</td>\n",
       "      <td>19</td>\n",
       "    </tr>\n",
       "    <tr>\n",
       "      <th>10</th>\n",
       "      <td>1000</td>\n",
       "      <td>1000</td>\n",
       "      <td>30</td>\n",
       "      <td>0.030</td>\n",
       "      <td>0.015</td>\n",
       "      <td>0.817000</td>\n",
       "      <td>20</td>\n",
       "    </tr>\n",
       "    <tr>\n",
       "      <th>11</th>\n",
       "      <td>1000</td>\n",
       "      <td>1000</td>\n",
       "      <td>30</td>\n",
       "      <td>0.005</td>\n",
       "      <td>0.020</td>\n",
       "      <td>0.917425</td>\n",
       "      <td>21</td>\n",
       "    </tr>\n",
       "    <tr>\n",
       "      <th>12</th>\n",
       "      <td>1000</td>\n",
       "      <td>1000</td>\n",
       "      <td>30</td>\n",
       "      <td>0.010</td>\n",
       "      <td>0.020</td>\n",
       "      <td>0.915590</td>\n",
       "      <td>22</td>\n",
       "    </tr>\n",
       "    <tr>\n",
       "      <th>13</th>\n",
       "      <td>1000</td>\n",
       "      <td>1000</td>\n",
       "      <td>30</td>\n",
       "      <td>0.015</td>\n",
       "      <td>0.020</td>\n",
       "      <td>0.728830</td>\n",
       "      <td>23</td>\n",
       "    </tr>\n",
       "    <tr>\n",
       "      <th>14</th>\n",
       "      <td>1000</td>\n",
       "      <td>1000</td>\n",
       "      <td>30</td>\n",
       "      <td>0.020</td>\n",
       "      <td>0.020</td>\n",
       "      <td>0.816529</td>\n",
       "      <td>24</td>\n",
       "    </tr>\n",
       "    <tr>\n",
       "      <th>15</th>\n",
       "      <td>1000</td>\n",
       "      <td>1000</td>\n",
       "      <td>30</td>\n",
       "      <td>0.030</td>\n",
       "      <td>0.020</td>\n",
       "      <td>0.800363</td>\n",
       "      <td>25</td>\n",
       "    </tr>\n",
       "    <tr>\n",
       "      <th>16</th>\n",
       "      <td>1000</td>\n",
       "      <td>1000</td>\n",
       "      <td>30</td>\n",
       "      <td>0.005</td>\n",
       "      <td>0.030</td>\n",
       "      <td>0.918518</td>\n",
       "      <td>26</td>\n",
       "    </tr>\n",
       "  </tbody>\n",
       "</table>\n",
       "</div>"
      ],
      "text/plain": [
       "    time  steps  alpha  detuning  qubit_drive_amp       err  filenum\n",
       "0   1000   1000     30     0.030            0.005  0.918375       10\n",
       "1   1000   1000     30     0.005            0.010  0.705013       11\n",
       "2   1000   1000     30     0.010            0.010  0.704851       12\n",
       "3   1000   1000     30     0.015            0.010  0.704096       13\n",
       "4   1000   1000     30     0.020            0.010  0.918467       14\n",
       "5   1000   1000     30     0.030            0.010  0.918401       15\n",
       "6   1000   1000     30     0.005            0.015  0.705349       16\n",
       "7   1000   1000     30     0.010            0.015  0.705840       17\n",
       "8   1000   1000     30     0.015            0.015  0.910911       18\n",
       "9   1000   1000     30     0.020            0.015  0.704144       19\n",
       "10  1000   1000     30     0.030            0.015  0.817000       20\n",
       "11  1000   1000     30     0.005            0.020  0.917425       21\n",
       "12  1000   1000     30     0.010            0.020  0.915590       22\n",
       "13  1000   1000     30     0.015            0.020  0.728830       23\n",
       "14  1000   1000     30     0.020            0.020  0.816529       24\n",
       "15  1000   1000     30     0.030            0.020  0.800363       25\n",
       "16  1000   1000     30     0.005            0.030  0.918518       26"
      ]
     },
     "execution_count": 3,
     "metadata": {},
     "output_type": "execute_result"
    }
   ],
   "source": [
    "filename = \"dataset_sweep_qdrive_detuning2.csv\"\n",
    "df_grape = pd.read_csv(filename)\n",
    "df_gr"
   ]
  },
  {
   "cell_type": "code",
   "execution_count": 5,
   "id": "674ec267",
   "metadata": {},
   "outputs": [],
   "source": [
    "# filename = r\"C:\\Users\\Eesh Gupta\\Documents\\RU Research\\Chakram\\Multimode-Conditional-Displacements\\hpc_runs\\single_mode_ecd\\Varying Time Lengths\\pulse_times_g01_g10_Oct21\"\n",
    "# df_ecd = pd.read_csv(filename)\n",
    "# df_ecd"
   ]
  },
  {
   "cell_type": "code",
   "execution_count": 6,
   "id": "7a1685e2",
   "metadata": {},
   "outputs": [],
   "source": [
    "import matplotlib\n",
    "font = {'family' : 'normal',\n",
    "        'weight' : 'light',\n",
    "        'size'   : 15}\n",
    "\n",
    "matplotlib.rc('font', **font)"
   ]
  },
  {
   "cell_type": "code",
   "execution_count": 7,
   "id": "e6a2b824",
   "metadata": {},
   "outputs": [],
   "source": [
    "#y = list(df_ecd['rep fid'])"
   ]
  },
  {
   "cell_type": "code",
   "execution_count": 8,
   "id": "8281c3b7",
   "metadata": {},
   "outputs": [],
   "source": [
    "def get_small_df_alpha(df, alpha, chi):\n",
    "    '''\n",
    "    Input: dataframe and specific alpha and chi\n",
    "    output: all time, qubit amp values with the specified time, chi\n",
    "    '''\n",
    "#     df = df.loc[df['alpha'] == alpha]\n",
    "#     df = df.loc[df['chi'] == chi] \n",
    "#     df = df.loc[df['err'] != -1] #ignore Nan values\n",
    "    #smaller_df.reset_index()\n",
    "    times = list(df['time'])\n",
    "    qubit_amps = list(df['qubit_amp'])\n",
    "    errs = list(df['err'])\n",
    "    return times, qubit_amps, errs"
   ]
  },
  {
   "cell_type": "code",
   "execution_count": 10,
   "id": "3e44af2e",
   "metadata": {},
   "outputs": [
    {
     "name": "stderr",
     "output_type": "stream",
     "text": [
      "findfont: Font family ['normal'] not found. Falling back to DejaVu Sans.\n",
      "findfont: Font family ['normal'] not found. Falling back to DejaVu Sans.\n",
      "findfont: Font family ['normal'] not found. Falling back to DejaVu Sans.\n"
     ]
    },
    {
     "data": {
      "image/png": "[encoded data removed]",
      "text/plain": [
       "<Figure size 576x432 with 6 Axes>"
      ]
     },
     "metadata": {
      "needs_background": "light"
     },
     "output_type": "display_data"
    }
   ],
   "source": [
    "alphas = [ 15, 20, 25, 30]\n",
    "fig, axs = plt.subplots(2,2, figsize = (8,6), sharex=True, sharey = True)\n",
    "cm = plt.cm.get_cmap('viridis')\n",
    "\n",
    "for i, alpha in enumerate(alphas): \n",
    "    \n",
    "    x,z, y = get_small_df_alpha(df = df_grape, alpha = alpha, chi = -66*1e-6)\n",
    "    x = [1e-3 *k for k in x]\n",
    "    j = int(i/2)\n",
    "    k = int(i%2)\n",
    "    im = axs[j, k].scatter(x, y, c=z,  cmap=cm, norm=matplotlib.colors.LogNorm())\n",
    "    axs[j,k].set_title(r'$\\alpha = $' + str(alpha), size = 15)\n",
    "    axs[j,k].set_yscale(\"log\")\n",
    "    #axs[j,k].set_xscale(\"log\")\n",
    "    if j ==1:\n",
    "        axs[j,k].set_xlabel(r'Time ($\\mu$s)')\n",
    "    if k==0:\n",
    "        axs[j,k].set_ylabel('Error')\n",
    "    #colorbar\n",
    "    if k==1:\n",
    "        fig.colorbar(im, ax=axs[j, k], label = 'Qubit Amp (Ghz)')\n",
    "    axs[j,k].grid()\n",
    "   \n",
    "\n",
    "\n",
    "#cbar_ax = fig.add_axes([0.85, 0.15, 0.05, 0.7])\n",
    "#fig.colorbar(im)# cax=cbar_ax)\n",
    "\n",
    "#plt.xlabel('alpha') #intermediate oscillator displacement\n",
    "#plt.grid()\n",
    "#axs[0].set_ylabel('qubit drive amp (MHz)')\n",
    "#fig.tight_layout()\n",
    "fig.suptitle(r'$\\chi = 33$ kHz; |g0> -> |g1>')\n",
    "plt.show()\n",
    "fig.savefig('kHz chi_alpha(2)', dpi = 1000)"
   ]
  },
  {
   "cell_type": "code",
   "execution_count": null,
   "id": "78f4318a",
   "metadata": {},
   "outputs": [],
   "source": []
  },
  {
   "cell_type": "code",
   "execution_count": 102,
   "id": "7393fd83",
   "metadata": {},
   "outputs": [],
   "source": [
    "def get_small_df(df, time, chi):\n",
    "    '''\n",
    "    Input: dataframe and specific time and chi\n",
    "    output: all alpha, qubit amp values with the specified time, chi\n",
    "    '''\n",
    "    df = df.loc[df['time'] == time]\n",
    "    df = df.loc[df['chi'] == chi] \n",
    "    df = df.loc[df['err'] != -1] #ignore Nan values\n",
    "    #smaller_df.reset_index()\n",
    "    alphas = list(df['alpha'])\n",
    "    qubit_amps = list(df['qubit_amp'])\n",
    "    errs = list(df['err'])\n",
    "    return alphas, qubit_amps, errs"
   ]
  },
  {
   "cell_type": "code",
   "execution_count": 103,
   "id": "95e7d817",
   "metadata": {},
   "outputs": [
    {
     "data": {
      "text/plain": [
       "0.0006600000000000001"
      ]
     },
     "execution_count": 103,
     "metadata": {},
     "output_type": "execute_result"
    }
   ],
   "source": [
    "66*1e-5"
   ]
  },
  {
   "cell_type": "code",
   "execution_count": 104,
   "id": "d36be993",
   "metadata": {},
   "outputs": [
    {
     "data": {
      "text/html": [
       "<div>\n",
       "<style scoped>\n",
       "    .dataframe tbody tr th:only-of-type {\n",
       "        vertical-align: middle;\n",
       "    }\n",
       "\n",
       "    .dataframe tbody tr th {\n",
       "        vertical-align: top;\n",
       "    }\n",
       "\n",
       "    .dataframe thead th {\n",
       "        text-align: right;\n",
       "    }\n",
       "</style>\n",
       "<table border=\"1\" class=\"dataframe\">\n",
       "  <thead>\n",
       "    <tr style=\"text-align: right;\">\n",
       "      <th></th>\n",
       "      <th>time</th>\n",
       "      <th>steps</th>\n",
       "      <th>chi</th>\n",
       "      <th>alpha</th>\n",
       "      <th>qubit_amp</th>\n",
       "      <th>detuning</th>\n",
       "      <th>err</th>\n",
       "    </tr>\n",
       "  </thead>\n",
       "  <tbody>\n",
       "    <tr>\n",
       "      <th>48</th>\n",
       "      <td>500</td>\n",
       "      <td>250</td>\n",
       "      <td>-0.00066</td>\n",
       "      <td>5</td>\n",
       "      <td>0.0100</td>\n",
       "      <td>-0.01</td>\n",
       "      <td>0.000281</td>\n",
       "    </tr>\n",
       "    <tr>\n",
       "      <th>52</th>\n",
       "      <td>500</td>\n",
       "      <td>250</td>\n",
       "      <td>-0.00066</td>\n",
       "      <td>5</td>\n",
       "      <td>0.0010</td>\n",
       "      <td>-0.01</td>\n",
       "      <td>0.754884</td>\n",
       "    </tr>\n",
       "    <tr>\n",
       "      <th>56</th>\n",
       "      <td>500</td>\n",
       "      <td>250</td>\n",
       "      <td>-0.00066</td>\n",
       "      <td>5</td>\n",
       "      <td>0.0001</td>\n",
       "      <td>-0.01</td>\n",
       "      <td>0.997635</td>\n",
       "    </tr>\n",
       "  </tbody>\n",
       "</table>\n",
       "</div>"
      ],
      "text/plain": [
       "    time  steps      chi  alpha  qubit_amp  detuning       err\n",
       "48   500    250 -0.00066      5     0.0100     -0.01  0.000281\n",
       "52   500    250 -0.00066      5     0.0010     -0.01  0.754884\n",
       "56   500    250 -0.00066      5     0.0001     -0.01  0.997635"
      ]
     },
     "execution_count": 104,
     "metadata": {},
     "output_type": "execute_result"
    }
   ],
   "source": [
    "df_grape.loc[(df_grape['chi'] != -66*1e-6) &(df_grape['alpha'] == 5) & (df_grape['time'] == 500)] \n",
    "# smallerr_df = smaller_df.loc[df_grape['err'] != -1]\n",
    "# #smaller_df.reset_index()\n",
    "# smallerr_df"
   ]
  },
  {
   "cell_type": "code",
   "execution_count": 105,
   "id": "23a9f69f",
   "metadata": {},
   "outputs": [],
   "source": [
    "times = [500, 1000, 1500, 2000]\n",
    "chi = -66*1e-6\n",
    "xs= []\n",
    "ys = []\n",
    "zs = []\n",
    "\n",
    "for i, time in enumerate(times): \n",
    "    x,y,z = get_small_df(df = df_grape, time = time, chi = -66*1e-6) \n",
    "    y = [1e+3 *k for k in y]\n",
    "    xs.append(x)\n",
    "    ys.append(y)\n",
    "    zs.append(z)"
   ]
  },
  {
   "cell_type": "code",
   "execution_count": 106,
   "id": "bcf1ec87",
   "metadata": {},
   "outputs": [],
   "source": [
    "# # plotting \n",
    "# fig, axs = plt.subplots(2,2, sharex=True, sharey =True)\n",
    "\n",
    "# #min max for error\n",
    "# zs_concat = np.concatenate(zs, axis=0)\n",
    "# min_, max_ = zs_concat.min(), zs_concat.max()\n",
    "\n",
    "# #plot\n",
    "# x1, x2, x3, x4 = xs\n",
    "# y1,y2,y3,y4 = ys\n",
    "# z1,z2,z3,z4 = zs\n",
    "# for i in range(len(times)): \n",
    "#     axs[0].scatter(x1, y1, c=z1,cmap='viridis_r', label = )\n",
    "# plt.clim(min_, max_)\n",
    "# plt.scatter(x2, y2, c=z2,cmap='viridis_r')\n",
    "# plt.clim(min_, max_)\n",
    "# plt.scatter(x3, y3, c=z3,cmap='viridis_r')\n",
    "# plt.clim(min_, max_)\n",
    "# plt.scatter(x4, y4, c=z4,cmap='viridis_r')\n",
    "# plt.clim(min_, max_)\n",
    "\n",
    "\n",
    "# plt.colorbar().set_label('Error',rotation=270)"
   ]
  },
  {
   "cell_type": "code",
   "execution_count": 107,
   "id": "dc266f68",
   "metadata": {},
   "outputs": [
    {
     "data": {
      "text/plain": [
       "array([9.3971950e-01, 9.9999980e-01, 9.9999980e-01, 7.6784700e-01,\n",
       "       9.8918474e-01, 9.9999930e-01, 5.4843710e-01, 9.7530510e-01,\n",
       "       9.9999833e-01, 3.1625104e-01, 9.5892787e-01, 9.9999710e-01,\n",
       "       7.9898000e-01, 9.8629180e-01, 9.9999930e-01, 4.2563295e-01,\n",
       "       9.4479940e-01, 9.9999710e-01, 3.4239173e-02, 8.7918900e-01,\n",
       "       9.9999344e-01, 2.9566884e-04, 7.9295850e-01, 9.9998707e-01,\n",
       "       6.9290316e-01, 9.6708107e-01, 9.9999840e-01, 2.3427254e-01,\n",
       "       8.7338966e-01, 9.9998933e-01, 1.6134977e-04, 7.2905236e-01,\n",
       "       9.9938960e-01, 6.7675114e-03, 5.5290090e-01, 9.9885017e-01,\n",
       "       6.6307700e-01, 9.4027190e-01, 9.9999690e-01, 3.3055967e-01,\n",
       "       7.7563846e-01, 9.9931150e-01, 6.5342820e-02, 5.4958534e-01,\n",
       "       9.9829566e-01, 2.6863813e-04, 3.0372953e-01, 9.9691147e-01])"
      ]
     },
     "execution_count": 107,
     "metadata": {},
     "output_type": "execute_result"
    }
   ],
   "source": [
    "zs_concat"
   ]
  },
  {
   "cell_type": "code",
   "execution_count": 108,
   "id": "33db9b65",
   "metadata": {},
   "outputs": [
    {
     "data": {
      "image/png": "[encoded data removed]",
      "text/plain": [
       "<Figure size 576x432 with 6 Axes>"
      ]
     },
     "metadata": {
      "needs_background": "light"
     },
     "output_type": "display_data"
    }
   ],
   "source": [
    "times = [500, 1000, 1500, 2000]\n",
    "fig, axs = plt.subplots(2,2, figsize = (8,6), sharex=True, sharey = True)\n",
    "cm = plt.cm.get_cmap('viridis')\n",
    "\n",
    "for i, time in enumerate(times): \n",
    "    \n",
    "    x,z, y = get_small_df(df = df_grape, time = time, chi = -66*1e-6)\n",
    "    #z = [1e+3 *k for k in y]\n",
    "    j = int(i/2)\n",
    "    k = int(i%2)\n",
    "    im = axs[j, k].scatter(x, y, c=z,  cmap=cm, norm=matplotlib.colors.LogNorm())\n",
    "    axs[j,k].set_title('Total time: ' + str(time/1000) + r'$ \\mu s$', size = 13)\n",
    "    axs[j,k].set_yscale(\"log\")\n",
    "    if j ==1:\n",
    "        axs[j,k].set_xlabel('Alpha')\n",
    "    if k==0:\n",
    "        axs[j,k].set_ylabel('Error')\n",
    "    #colorbar\n",
    "    if k==1:\n",
    "        fig.colorbar(im, ax=axs[j, k], label = 'Qubit Amp (Ghz)')\n",
    "    axs[j,k].grid()\n",
    "   \n",
    "\n",
    "\n",
    "#cbar_ax = fig.add_axes([0.85, 0.15, 0.05, 0.7])\n",
    "#fig.colorbar(im)# cax=cbar_ax)\n",
    "\n",
    "#plt.xlabel('alpha') #intermediate oscillator displacement\n",
    "#plt.grid()\n",
    "#axs[0].set_ylabel('qubit drive amp (MHz)')\n",
    "#fig.tight_layout()\n",
    "fig.suptitle(r'$\\chi = 33$ kHz; |g0> -> |g1>')\n",
    "plt.show()\n",
    "fig.savefig('kHz chi', dpi = 1000)"
   ]
  },
  {
   "cell_type": "code",
   "execution_count": 93,
   "id": "9f837592",
   "metadata": {},
   "outputs": [],
   "source": [
    "# def get_small_df(df, time, chi):\n",
    "#     '''\n",
    "#     Input: dataframe and specific time and chi\n",
    "#     output: all alpha, qubit amp values with the specified time, chi\n",
    "#     '''\n",
    "#     df = df.loc[df['time'] == time]\n",
    "#     df = df.loc[df['chi'] == chi] \n",
    "#     df = df.loc[df['err'] != -1] #ignore Nan values\n",
    "#     return df\n",
    "# #     #smaller_df.reset_index()\n",
    "# #     alphas = list(df['alpha'])\n",
    "# #     qubit_amps = list(df['qubit_amp'])\n",
    "# #     errs = list(df['err'])\n",
    "# #     return alphas, qubit_amps, errs"
   ]
  },
  {
   "cell_type": "code",
   "execution_count": 96,
   "id": "4d07f60b",
   "metadata": {},
   "outputs": [
    {
     "data": {
      "text/html": [
       "<div>\n",
       "<style scoped>\n",
       "    .dataframe tbody tr th:only-of-type {\n",
       "        vertical-align: middle;\n",
       "    }\n",
       "\n",
       "    .dataframe tbody tr th {\n",
       "        vertical-align: top;\n",
       "    }\n",
       "\n",
       "    .dataframe thead th {\n",
       "        text-align: right;\n",
       "    }\n",
       "</style>\n",
       "<table border=\"1\" class=\"dataframe\">\n",
       "  <thead>\n",
       "    <tr style=\"text-align: right;\">\n",
       "      <th></th>\n",
       "      <th>time</th>\n",
       "      <th>steps</th>\n",
       "      <th>chi</th>\n",
       "      <th>alpha</th>\n",
       "      <th>qubit_amp</th>\n",
       "      <th>detuning</th>\n",
       "      <th>err</th>\n",
       "    </tr>\n",
       "  </thead>\n",
       "  <tbody>\n",
       "    <tr>\n",
       "      <th>48</th>\n",
       "      <td>500</td>\n",
       "      <td>250</td>\n",
       "      <td>-0.00066</td>\n",
       "      <td>5</td>\n",
       "      <td>0.0100</td>\n",
       "      <td>-0.01</td>\n",
       "      <td>0.000281</td>\n",
       "    </tr>\n",
       "    <tr>\n",
       "      <th>52</th>\n",
       "      <td>500</td>\n",
       "      <td>250</td>\n",
       "      <td>-0.00066</td>\n",
       "      <td>5</td>\n",
       "      <td>0.0010</td>\n",
       "      <td>-0.01</td>\n",
       "      <td>0.754884</td>\n",
       "    </tr>\n",
       "    <tr>\n",
       "      <th>56</th>\n",
       "      <td>500</td>\n",
       "      <td>250</td>\n",
       "      <td>-0.00066</td>\n",
       "      <td>5</td>\n",
       "      <td>0.0001</td>\n",
       "      <td>-0.01</td>\n",
       "      <td>0.997635</td>\n",
       "    </tr>\n",
       "    <tr>\n",
       "      <th>60</th>\n",
       "      <td>500</td>\n",
       "      <td>250</td>\n",
       "      <td>-0.00066</td>\n",
       "      <td>10</td>\n",
       "      <td>0.0100</td>\n",
       "      <td>-0.01</td>\n",
       "      <td>0.000280</td>\n",
       "    </tr>\n",
       "    <tr>\n",
       "      <th>64</th>\n",
       "      <td>500</td>\n",
       "      <td>250</td>\n",
       "      <td>-0.00066</td>\n",
       "      <td>10</td>\n",
       "      <td>0.0010</td>\n",
       "      <td>-0.01</td>\n",
       "      <td>0.338661</td>\n",
       "    </tr>\n",
       "    <tr>\n",
       "      <th>68</th>\n",
       "      <td>500</td>\n",
       "      <td>250</td>\n",
       "      <td>-0.00066</td>\n",
       "      <td>10</td>\n",
       "      <td>0.0001</td>\n",
       "      <td>-0.01</td>\n",
       "      <td>0.990596</td>\n",
       "    </tr>\n",
       "    <tr>\n",
       "      <th>72</th>\n",
       "      <td>500</td>\n",
       "      <td>250</td>\n",
       "      <td>-0.00066</td>\n",
       "      <td>15</td>\n",
       "      <td>0.0100</td>\n",
       "      <td>-0.01</td>\n",
       "      <td>0.000266</td>\n",
       "    </tr>\n",
       "  </tbody>\n",
       "</table>\n",
       "</div>"
      ],
      "text/plain": [
       "    time  steps      chi  alpha  qubit_amp  detuning       err\n",
       "48   500    250 -0.00066      5     0.0100     -0.01  0.000281\n",
       "52   500    250 -0.00066      5     0.0010     -0.01  0.754884\n",
       "56   500    250 -0.00066      5     0.0001     -0.01  0.997635\n",
       "60   500    250 -0.00066     10     0.0100     -0.01  0.000280\n",
       "64   500    250 -0.00066     10     0.0010     -0.01  0.338661\n",
       "68   500    250 -0.00066     10     0.0001     -0.01  0.990596\n",
       "72   500    250 -0.00066     15     0.0100     -0.01  0.000266"
      ]
     },
     "execution_count": 96,
     "metadata": {},
     "output_type": "execute_result"
    }
   ],
   "source": [
    "get_small_df(df = df_grape, time = 500, chi = -0.00066)"
   ]
  },
  {
   "cell_type": "code",
   "execution_count": 101,
   "id": "5634c288",
   "metadata": {},
   "outputs": [
    {
     "data": {
      "image/png": "[encoded data removed]",
      "text/plain": [
       "<Figure size 576x432 with 6 Axes>"
      ]
     },
     "metadata": {
      "needs_background": "light"
     },
     "output_type": "display_data"
    }
   ],
   "source": [
    "times = [500, 1000, 1500, 2000]\n",
    "fig, axs = plt.subplots(2,2, figsize = (8,6), sharex=True, sharey = True)\n",
    "cm = plt.cm.get_cmap('viridis')\n",
    "\n",
    "for i, time in enumerate(times): \n",
    "    \n",
    "    x,z, y = get_small_df(df = df_grape, time = time, chi = -0.00066)\n",
    "    #z = [1e+3 *k for k in y]\n",
    "    j = int(i/2)\n",
    "    k = int(i%2)\n",
    "    im = axs[j, k].scatter(x, y, c=z,  cmap=cm, norm=matplotlib.colors.LogNorm())\n",
    "    axs[j,k].set_title('Total time: ' + str(time/1000) + r'$ \\mu s$', size = 13)\n",
    "    axs[j,k].set_yscale(\"log\")\n",
    "    if j ==1:\n",
    "        axs[j,k].set_xlabel('Alpha')\n",
    "    if k==0:\n",
    "        axs[j,k].set_ylabel('Error')\n",
    "    #colorbar\n",
    "    if k==1:\n",
    "        fig.colorbar(im, ax=axs[j, k], label = 'Qubit Amp (Ghz)')\n",
    "    axs[j,k].grid()\n",
    "   \n",
    "\n",
    "\n",
    "#cbar_ax = fig.add_axes([0.85, 0.15, 0.05, 0.7])\n",
    "#fig.colorbar(im)# cax=cbar_ax)\n",
    "\n",
    "#plt.xlabel('alpha') #intermediate oscillator displacement\n",
    "#plt.grid()\n",
    "#axs[0].set_ylabel('qubit drive amp (MHz)')\n",
    "#fig.tight_layout()\n",
    "fig.suptitle(r'$\\chi = 330$ kHz; |g0> -> |g1>')\n",
    "plt.show()\n",
    "fig.savefig('10kHz chi', dpi = 1000)"
   ]
  },
  {
   "cell_type": "code",
   "execution_count": 30,
   "id": "b768995a",
   "metadata": {},
   "outputs": [
    {
     "data": {
      "text/plain": [
       "array([<AxesSubplot:>, <AxesSubplot:>], dtype=object)"
      ]
     },
     "execution_count": 30,
     "metadata": {},
     "output_type": "execute_result"
    }
   ],
   "source": [
    "axs[1]"
   ]
  },
  {
   "cell_type": "code",
   "execution_count": 11,
   "id": "e2b0470b",
   "metadata": {},
   "outputs": [
    {
     "data": {
      "text/plain": [
       "[]"
      ]
     },
     "execution_count": 11,
     "metadata": {},
     "output_type": "execute_result"
    }
   ],
   "source": [
    "alphas = list(smaller_df['alpha'])\n",
    "alphas"
   ]
  },
  {
   "cell_type": "code",
   "execution_count": 21,
   "id": "8d029b68",
   "metadata": {},
   "outputs": [
    {
     "name": "stderr",
     "output_type": "stream",
     "text": [
      "/tmp/ipykernel_232251/4248836624.py:5: UserWarning: color is redundantly defined by the 'color' keyword argument and the fmt string \"k\" (-> color=(0.0, 0.0, 0.0, 1)). The keyword argument will take precedence.\n",
      "  plt.plot(list(df_grape['time']), list(df_grape['rep fid']), 'k', marker = 'o', color = 'orange', label ='Circle Grape')\n"
     ]
    },
    {
     "data": {
      "text/plain": [
       "<matplotlib.legend.Legend at 0x7fb29142fdf0>"
      ]
     },
     "execution_count": 21,
     "metadata": {},
     "output_type": "execute_result"
    },
    {
     "data": {
      "image/png": "[encoded data removed]",
      "text/plain": [
       "<Figure size 720x432 with 1 Axes>"
      ]
     },
     "metadata": {
      "needs_background": "light"
     },
     "output_type": "display_data"
    }
   ],
   "source": [
    "#plt.plot(times, mean_buckets)\n",
    "fig = plt.figure(figsize = (10, 6))\n",
    "#plt.errorbar(x, y, yerr = err, ecolor='black', capsize=10)#, label ='Line4')\n",
    "\n",
    "plt.plot(list(df_grape['time']), list(df_grape[' fid']), 'k', marker = 'o', color = 'orange', label ='Circle Grape')\n",
    "#plt.plot(list(df_ecd['time']), list(df_ecd['rep fid']), 'k', marker = 'o', color = 'blue', label ='ECD')\n",
    "#plt.fill_between(x, y-err, y+err, alpha = 0.2)\n",
    "\n",
    "\n",
    "plt.grid(alpha=0.5, linestyle=':')\n",
    "plt.axhline(y=1, color='black', linestyle='--')\n",
    "plt.xlabel('Pulse Length ($ns$)', fontsize = 15)\n",
    "#plt.hline(ecd_only)\n",
    "plt.ylabel('Fidelity', fontsize = 20)\n",
    "plt.title(r' $|g0> \\rightarrow |g1>$', fontsize = 15)\n",
    "#fig.savefig('Ancilla Relaxation')\n",
    "plt.legend()"
   ]
  },
  {
   "cell_type": "code",
   "execution_count": null,
   "id": "0ef0575e",
   "metadata": {},
   "outputs": [],
   "source": []
  }
 ],
 "metadata": {
  "kernelspec": {
   "display_name": "Python 3 (ipykernel)",
   "language": "python",
   "name": "python3"
  },
  "language_info": {
   "codemirror_mode": {
    "name": "ipython",
    "version": 3
   },
   "file_extension": ".py",
   "mimetype": "text/x-python",
   "name": "python",
   "nbconvert_exporter": "python",
   "pygments_lexer": "ipython3",
   "version": "3.8.8"
  },
  "toc": {
   "base_numbering": 1,
   "nav_menu": {},
   "number_sections": true,
   "sideBar": true,
   "skip_h1_title": false,
   "title_cell": "Table of Contents",
   "title_sidebar": "Contents",
   "toc_cell": false,
   "toc_position": {},
   "toc_section_display": true,
   "toc_window_display": false
  },
  "varInspector": {
   "cols": {
    "lenName": 16,
    "lenType": 16,
    "lenVar": 40
   },
   "kernels_config": {
    "python": {
     "delete_cmd_postfix": "",
     "delete_cmd_prefix": "del ",
     "library": "var_list.py",
     "varRefreshCmd": "print(var_dic_list())"
    },
    "r": {
     "delete_cmd_postfix": ") ",
     "delete_cmd_prefix": "rm(",
     "library": "var_list.r",
     "varRefreshCmd": "cat(var_dic_list()) "
    }
   },
   "types_to_exclude": [
    "module",
    "function",
    "builtin_function_or_method",
    "instance",
    "_Feature"
   ],
   "window_display": false
  }
 },
 "nbformat": 4,
 "nbformat_minor": 5
}
