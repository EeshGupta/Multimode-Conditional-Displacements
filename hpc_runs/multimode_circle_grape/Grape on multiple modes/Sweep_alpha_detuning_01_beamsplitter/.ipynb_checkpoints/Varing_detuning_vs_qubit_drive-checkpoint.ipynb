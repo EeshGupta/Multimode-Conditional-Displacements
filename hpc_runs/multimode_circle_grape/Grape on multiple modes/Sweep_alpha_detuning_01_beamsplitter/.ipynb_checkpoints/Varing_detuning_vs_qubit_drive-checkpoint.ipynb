{
 "cells": [
  {
   "cell_type": "markdown",
   "metadata": {},
   "source": [
    "# Imports "
   ]
  },
  {
   "cell_type": "code",
   "execution_count": 4,
   "metadata": {},
   "outputs": [
    {
     "name": "stdout",
     "output_type": "stream",
     "text": [
      "hi\n"
     ]
    }
   ],
   "source": [
    "print('hi')"
   ]
  },
  {
   "cell_type": "code",
   "execution_count": 5,
   "metadata": {},
   "outputs": [],
   "source": [
    "%matplotlib inline\n",
    "import os\n",
    "import sys\n",
    "import inspect\n",
    "import numpy as np\n",
    "from scipy.special import factorial\n",
    "import h5py\n",
    "\n",
    "#data_path = '/data'     ... data path specified later\n",
    "#data_path\n",
    "#initial_pulse = '../pulses/example_pulses/transmon_cat_initial_pulse.h5'\n",
    "from h5py import File\n",
    "import matplotlib.pyplot as plt\n",
    "from pylab import*\n",
    "from qutip import*\n",
    "\n",
    "from scipy import interpolate\n",
    "font = {'family' : 'normal',\n",
    "        'weight' : 'normal',\n",
    "        'size'   : 18}\n",
    "\n",
    "matplotlib.rc('font', **font)\n"
   ]
  },
  {
   "cell_type": "code",
   "execution_count": 6,
   "metadata": {},
   "outputs": [],
   "source": [
    "sys.path.append(r'C:\\_Lib\\python\\quantum-optimal-control')"
   ]
  },
  {
   "cell_type": "code",
   "execution_count": 7,
   "metadata": {},
   "outputs": [],
   "source": [
    "from quantum_optimal_control.helper_functions.grape_functions import *\n",
    "from quantum_optimal_control.main_grape.grape import Grape\n",
    "from quantum_optimal_control import*"
   ]
  },
  {
   "cell_type": "code",
   "execution_count": 8,
   "metadata": {},
   "outputs": [],
   "source": [
    "from IPython.display import clear_output"
   ]
  },
  {
   "cell_type": "code",
   "execution_count": 9,
   "metadata": {},
   "outputs": [],
   "source": [
    "%load_ext autoreload\n",
    "%autoreload 2"
   ]
  },
  {
   "cell_type": "markdown",
   "metadata": {},
   "source": [
    "$$\\newcommand{\\ket}[1]{\\left|{#1}\\right\\rangle}\n",
    "\\newcommand{\\bra}[1]{\\left\\langle{#1}\\right|}$$"
   ]
  },
  {
   "cell_type": "markdown",
   "metadata": {},
   "source": [
    "# 3DMM2 parameters"
   ]
  },
  {
   "cell_type": "code",
   "execution_count": 10,
   "metadata": {},
   "outputs": [],
   "source": [
    "# chi = Peak splitting MHz\n",
    "chis = array([-33, -33]) \n",
    "kappas  = array([0,0]) # kHz"
   ]
  },
  {
   "cell_type": "markdown",
   "metadata": {},
   "source": [
    "# Multimode circle grape"
   ]
  },
  {
   "cell_type": "code",
   "execution_count": 11,
   "metadata": {},
   "outputs": [
    {
     "name": "stdout",
     "output_type": "stream",
     "text": [
      "done\n"
     ]
    }
   ],
   "source": [
    "#TODO: Figure out why relative import doesn't work\n",
    "sys.path.append(r'C:\\_Lib\\python\\Multimode-Conditional-Displacements\\hpc_runs\\multimode_circle_grape\\class_description')\n",
    "from circle_grape_v4 import *"
   ]
  },
  {
   "cell_type": "code",
   "execution_count": 12,
   "metadata": {},
   "outputs": [],
   "source": [
    "transmon_levels = 2"
   ]
  },
  {
   "cell_type": "markdown",
   "metadata": {},
   "source": [
    "# Data Storage"
   ]
  },
  {
   "cell_type": "code",
   "execution_count": 13,
   "metadata": {},
   "outputs": [],
   "source": [
    "import pandas as pd\n",
    "fname = 'dataset_sweep_alpha_detuning2.csv'\n",
    "columns=['time', 'steps','alpha', 'detuning', 'qubit_drive_amp','err', 'filenum']#total_time, steps, alpha, detuning,  qubit_drive_amp, err, filenum\n",
    "df = None"
   ]
  },
  {
   "cell_type": "markdown",
   "metadata": {},
   "source": [
    "# Main"
   ]
  },
  {
   "cell_type": "code",
   "execution_count": 14,
   "metadata": {},
   "outputs": [],
   "source": [
    "qubit_drives = [0.005, 0.01, 0.015, 0.02, 0.03 ] \n",
    "detunings = [0.005, 0.01, 0.015, 0.02, 0.03 ] #Ghz"
   ]
  },
  {
   "cell_type": "code",
   "execution_count": 15,
   "metadata": {},
   "outputs": [],
   "source": [
    "states_forbidden_list = []\n",
    "\n",
    "convergence = {'rate': 0.1, 'update_step': 20, 'max_iterations': 1000,\n",
    "               'conv_target': 1e-3, 'learning_rate_decay': 500.0}\n",
    "\n",
    "\n",
    "\n",
    "\n",
    "initial_guess = None"
   ]
  },
  {
   "cell_type": "code",
   "execution_count": 16,
   "metadata": {},
   "outputs": [],
   "source": [
    "data_path ='' #'C:/Users/Chakram_Meas/Documents/GitHub/Multimode-Conditional-Displacements/hpc_runs/multimode_circle_grape/Grape on multiple modes/Data'"
   ]
  },
  {
   "cell_type": "code",
   "execution_count": 17,
   "metadata": {},
   "outputs": [],
   "source": [
    "def main(fname = fname, df = df):\n",
    "    '''\n",
    "    Vary time length, get fidelity\n",
    "    '''\n",
    "    filenum = 10\n",
    "\n",
    "    for drive_amp in qubit_drives:\n",
    "        for detuning in detunings:\n",
    "            clear_output(wait = True)\n",
    "            total_time = 1000\n",
    "            steps = 1000\n",
    "            alpha = 30\n",
    "            #param\n",
    "\n",
    "            mode = 2\n",
    "            mode_levels = 10\n",
    "            chi,kappa = chis[:mode],kappas[:mode]\n",
    "            chi = [i*1e-6 for i in chi]\n",
    "            kappa = [i*1e-6 for i in kappa]\n",
    "            circle_grape_params = {\"chis\":chi,\"kappas\":kappa,\"alpha\":alpha,\"delta_c\":detuning}\n",
    "\n",
    "\n",
    "            reg_coeffs = {'dwdt': 0.1, 'd2wdt2': 1.0e-3, 'forbid_dressed': False,\n",
    "                          'states_forbidden_list':states_forbidden_list,\n",
    "                          'forbidden_coeff_list': [1.0*steps] * len(states_forbidden_list)}\n",
    "\n",
    "#             op = multimode_circle_grape_optimal_control(mode_state_num = mode_levels,\n",
    "#                                                         number_of_modes = mode,hparams = circle_grape_params,add_disp_kerr=False)\n",
    "\n",
    "\n",
    "\n",
    "            qubit_drive_amp = drive_amp # Ghz\n",
    "#             ss = op.run_optimal_control(state_transfer = True, initial_states = [5], target_states = [mode_levels + 5], \n",
    "#                             total_time = total_time, steps = steps,max_amp = qubit_drive_amp, \n",
    "#                             taylor_terms = None,is_dressed=False, \n",
    "#                             convergence = convergence, reg_coeffs =  reg_coeffs,\n",
    "#                             plot_only_g = True,\n",
    "#                             states_forbidden_list = states_forbidden_list,initial_guess = initial_guess, \n",
    "#                             file_name=\"g01_to_g10_circlgrape\" + str(filenum), data_path=data_path, save = True)\n",
    "           # hf = op.openfile()\n",
    "            err  = 1#min(hf['error'])\n",
    "            if np.isnan(err):\n",
    "                err = -1\n",
    "            df_new = pd.DataFrame([[total_time, steps, alpha, detuning,  qubit_drive_amp, err, filenum]], columns=columns)\n",
    "            if df is None : \n",
    "                df = df_new\n",
    "            else:\n",
    "                df = df.append(df_new, ignore_index = True)\n",
    "            df.to_csv(fname, index=False)\n",
    "            filenum+=1"
   ]
  },
  {
   "cell_type": "code",
   "execution_count": 18,
   "metadata": {},
   "outputs": [
    {
     "ename": "NameError",
     "evalue": "name 'qubit_drive_amp' is not defined",
     "output_type": "error",
     "traceback": [
      "\u001b[1;31m---------------------------------------------------------------------------\u001b[0m",
      "\u001b[1;31mNameError\u001b[0m                                 Traceback (most recent call last)",
      "Input \u001b[1;32mIn [18]\u001b[0m, in \u001b[0;36m<cell line: 1>\u001b[1;34m()\u001b[0m\n\u001b[1;32m----> 1\u001b[0m \u001b[43mmain\u001b[49m\u001b[43m(\u001b[49m\u001b[43m)\u001b[49m\n",
      "Input \u001b[1;32mIn [17]\u001b[0m, in \u001b[0;36mmain\u001b[1;34m(fname, df)\u001b[0m\n\u001b[0;32m     42\u001b[0m \u001b[38;5;28;01mif\u001b[39;00m np\u001b[38;5;241m.\u001b[39misnan(err):\n\u001b[0;32m     43\u001b[0m     err \u001b[38;5;241m=\u001b[39m \u001b[38;5;241m-\u001b[39m\u001b[38;5;241m1\u001b[39m\n\u001b[1;32m---> 44\u001b[0m df_new \u001b[38;5;241m=\u001b[39m pd\u001b[38;5;241m.\u001b[39mDataFrame([[total_time, steps, alpha, detuning,  \u001b[43mqubit_drive_amp\u001b[49m, err, filenum]], columns\u001b[38;5;241m=\u001b[39mcolumns)\n\u001b[0;32m     45\u001b[0m \u001b[38;5;28;01mif\u001b[39;00m df \u001b[38;5;129;01mis\u001b[39;00m \u001b[38;5;28;01mNone\u001b[39;00m : \n\u001b[0;32m     46\u001b[0m     df \u001b[38;5;241m=\u001b[39m df_new\n",
      "\u001b[1;31mNameError\u001b[0m: name 'qubit_drive_amp' is not defined"
     ]
    }
   ],
   "source": [
    "main()"
   ]
  },
  {
   "cell_type": "code",
   "execution_count": null,
   "metadata": {},
   "outputs": [],
   "source": []
  },
  {
   "cell_type": "code",
   "execution_count": null,
   "metadata": {},
   "outputs": [],
   "source": []
  },
  {
   "cell_type": "code",
   "execution_count": null,
   "metadata": {},
   "outputs": [],
   "source": []
  },
  {
   "cell_type": "code",
   "execution_count": null,
   "metadata": {},
   "outputs": [],
   "source": []
  }
 ],
 "metadata": {
  "kernelspec": {
   "display_name": "Python 3 (ipykernel)",
   "language": "python",
   "name": "python3"
  },
  "language_info": {
   "codemirror_mode": {
    "name": "ipython",
    "version": 3
   },
   "file_extension": ".py",
   "mimetype": "text/x-python",
   "name": "python",
   "nbconvert_exporter": "python",
   "pygments_lexer": "ipython3",
   "version": "3.8.8"
  },
  "toc": {
   "base_numbering": 1,
   "nav_menu": {},
   "number_sections": true,
   "sideBar": false,
   "skip_h1_title": false,
   "title_cell": "Table of Contents",
   "title_sidebar": "Contents",
   "toc_cell": false,
   "toc_position": {
    "height": "189.537px",
    "left": "796.952px",
    "top": "111.06px",
    "width": "164.993px"
   },
   "toc_section_display": true,
   "toc_window_display": false
  },
  "varInspector": {
   "cols": {
    "lenName": 16,
    "lenType": 16,
    "lenVar": 40
   },
   "kernels_config": {
    "python": {
     "delete_cmd_postfix": "",
     "delete_cmd_prefix": "del ",
     "library": "var_list.py",
     "varRefreshCmd": "print(var_dic_list())"
    },
    "r": {
     "delete_cmd_postfix": ") ",
     "delete_cmd_prefix": "rm(",
     "library": "var_list.r",
     "varRefreshCmd": "cat(var_dic_list()) "
    }
   },
   "types_to_exclude": [
    "module",
    "function",
    "builtin_function_or_method",
    "instance",
    "_Feature"
   ],
   "window_display": false
  }
 },
 "nbformat": 4,
 "nbformat_minor": 4
}
