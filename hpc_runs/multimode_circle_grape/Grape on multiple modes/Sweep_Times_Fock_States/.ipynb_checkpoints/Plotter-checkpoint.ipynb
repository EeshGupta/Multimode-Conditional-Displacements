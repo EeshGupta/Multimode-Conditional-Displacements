{
 "cells": [
  {
   "cell_type": "code",
   "execution_count": 1,
   "id": "034fe683",
   "metadata": {},
   "outputs": [],
   "source": [
    "import matplotlib.pyplot as plt\n",
    "import numpy as np \n",
    "import pandas as pd\n"
   ]
  },
  {
   "cell_type": "code",
   "execution_count": 6,
   "id": "274605da",
   "metadata": {},
   "outputs": [
    {
     "data": {
      "text/html": [
       "<div>\n",
       "<style scoped>\n",
       "    .dataframe tbody tr th:only-of-type {\n",
       "        vertical-align: middle;\n",
       "    }\n",
       "\n",
       "    .dataframe tbody tr th {\n",
       "        vertical-align: top;\n",
       "    }\n",
       "\n",
       "    .dataframe thead th {\n",
       "        text-align: right;\n",
       "    }\n",
       "</style>\n",
       "<table border=\"1\" class=\"dataframe\">\n",
       "  <thead>\n",
       "    <tr style=\"text-align: right;\">\n",
       "      <th></th>\n",
       "      <th>time</th>\n",
       "      <th>steps</th>\n",
       "      <th>alpha</th>\n",
       "      <th>detuning</th>\n",
       "      <th>qubit_drive_amp</th>\n",
       "      <th>err</th>\n",
       "      <th>filenum</th>\n",
       "    </tr>\n",
       "  </thead>\n",
       "  <tbody>\n",
       "    <tr>\n",
       "      <th>0</th>\n",
       "      <td>1000</td>\n",
       "      <td>500</td>\n",
       "      <td>30</td>\n",
       "      <td>0.01</td>\n",
       "      <td>0.01</td>\n",
       "      <td>0.621863</td>\n",
       "      <td>0</td>\n",
       "    </tr>\n",
       "    <tr>\n",
       "      <th>1</th>\n",
       "      <td>1500</td>\n",
       "      <td>750</td>\n",
       "      <td>30</td>\n",
       "      <td>0.01</td>\n",
       "      <td>0.01</td>\n",
       "      <td>0.074013</td>\n",
       "      <td>1</td>\n",
       "    </tr>\n",
       "    <tr>\n",
       "      <th>2</th>\n",
       "      <td>2000</td>\n",
       "      <td>1000</td>\n",
       "      <td>30</td>\n",
       "      <td>0.01</td>\n",
       "      <td>0.01</td>\n",
       "      <td>0.169375</td>\n",
       "      <td>2</td>\n",
       "    </tr>\n",
       "    <tr>\n",
       "      <th>3</th>\n",
       "      <td>2500</td>\n",
       "      <td>1250</td>\n",
       "      <td>30</td>\n",
       "      <td>0.01</td>\n",
       "      <td>0.01</td>\n",
       "      <td>0.005698</td>\n",
       "      <td>3</td>\n",
       "    </tr>\n",
       "  </tbody>\n",
       "</table>\n",
       "</div>"
      ],
      "text/plain": [
       "   time  steps  alpha  detuning  qubit_drive_amp       err  filenum\n",
       "0  1000    500     30      0.01             0.01  0.621863        0\n",
       "1  1500    750     30      0.01             0.01  0.074013        1\n",
       "2  2000   1000     30      0.01             0.01  0.169375        2\n",
       "3  2500   1250     30      0.01             0.01  0.005698        3"
      ]
     },
     "execution_count": 6,
     "metadata": {},
     "output_type": "execute_result"
    }
   ],
   "source": [
    "filename = 'beam_splitters'\n",
    "df = pd.read_csv(filename)\n",
    "df[:4] # first 4 are g10 -> g01 , next "
   ]
  },
  {
   "cell_type": "code",
   "execution_count": 3,
   "id": "e91df017",
   "metadata": {},
   "outputs": [],
   "source": [
    "# filename = 'beam_splitters2'\n",
    "# df2 = pd.read_csv(filename)\n",
    "# df2"
   ]
  },
  {
   "cell_type": "code",
   "execution_count": 4,
   "id": "771d787b",
   "metadata": {},
   "outputs": [],
   "source": [
    "# filename = 'beam_splitters_dec28_2'\n",
    "# df3 = pd.read_csv(filename)\n",
    "# df3"
   ]
  },
  {
   "cell_type": "code",
   "execution_count": 5,
   "id": "d6b690d3",
   "metadata": {},
   "outputs": [],
   "source": [
    "# filename = 'beam_splitters_dec28_3'\n",
    "# df4 = pd.read_csv(filename)\n",
    "# df4"
   ]
  },
  {
   "cell_type": "code",
   "execution_count": 4,
   "id": "ec67098d",
   "metadata": {},
   "outputs": [],
   "source": [
    "#df = df.append(df2, ignore_index = True)\n",
    "# df = df.append(df3, ignore_index = True)\n",
    "# df = df.append(df4, ignore_index = True)\n",
    "# df"
   ]
  },
  {
   "cell_type": "code",
   "execution_count": 4,
   "id": "f88f0fde",
   "metadata": {},
   "outputs": [],
   "source": [
    "#df"
   ]
  },
  {
   "cell_type": "code",
   "execution_count": 13,
   "id": "04d5e462",
   "metadata": {},
   "outputs": [
    {
     "data": {
      "text/plain": [
       "[2, 3]"
      ]
     },
     "execution_count": 13,
     "metadata": {},
     "output_type": "execute_result"
    }
   ],
   "source": [
    "list(df.loc[df['task'] ==1]['layer'])"
   ]
  },
  {
   "cell_type": "code",
   "execution_count": 4,
   "id": "27ea447c",
   "metadata": {},
   "outputs": [],
   "source": [
    "# df = df.drop(0)\n",
    "# df"
   ]
  },
  {
   "cell_type": "code",
   "execution_count": 6,
   "id": "287dd2b5",
   "metadata": {},
   "outputs": [],
   "source": [
    "def convert_complex_string_to_float(stringy):\n",
    "    '''\n",
    "    Convert '(a+0j)' to a where a,b are floats\n",
    "    '''\n",
    "    a = stringy.split('+')\n",
    "    b = a[0].split('(')\n",
    "    return float(b[1])\n",
    "    \n",
    "    "
   ]
  },
  {
   "cell_type": "code",
   "execution_count": 7,
   "id": "f181d06b",
   "metadata": {},
   "outputs": [],
   "source": [
    "import matplotlib\n",
    "font = {'family' : 'normal',\n",
    "        'weight' : 'light',\n",
    "        'size'   : 13}\n",
    "\n",
    "matplotlib.rc('font', **font)"
   ]
  },
  {
   "cell_type": "code",
   "execution_count": 5,
   "id": "b199e83a",
   "metadata": {},
   "outputs": [
    {
     "ename": "KeyError",
     "evalue": "'task'",
     "output_type": "error",
     "traceback": [
      "\u001b[1;31m---------------------------------------------------------------------------\u001b[0m",
      "\u001b[1;31mKeyError\u001b[0m                                  Traceback (most recent call last)",
      "File \u001b[1;32m~\\Anaconda3\\lib\\site-packages\\pandas\\core\\indexes\\base.py:3621\u001b[0m, in \u001b[0;36mIndex.get_loc\u001b[1;34m(self, key, method, tolerance)\u001b[0m\n\u001b[0;32m   3620\u001b[0m \u001b[38;5;28;01mtry\u001b[39;00m:\n\u001b[1;32m-> 3621\u001b[0m     \u001b[38;5;28;01mreturn\u001b[39;00m \u001b[38;5;28;43mself\u001b[39;49m\u001b[38;5;241;43m.\u001b[39;49m\u001b[43m_engine\u001b[49m\u001b[38;5;241;43m.\u001b[39;49m\u001b[43mget_loc\u001b[49m\u001b[43m(\u001b[49m\u001b[43mcasted_key\u001b[49m\u001b[43m)\u001b[49m\n\u001b[0;32m   3622\u001b[0m \u001b[38;5;28;01mexcept\u001b[39;00m \u001b[38;5;167;01mKeyError\u001b[39;00m \u001b[38;5;28;01mas\u001b[39;00m err:\n",
      "File \u001b[1;32m~\\Anaconda3\\lib\\site-packages\\pandas\\_libs\\index.pyx:136\u001b[0m, in \u001b[0;36mpandas._libs.index.IndexEngine.get_loc\u001b[1;34m()\u001b[0m\n",
      "File \u001b[1;32m~\\Anaconda3\\lib\\site-packages\\pandas\\_libs\\index.pyx:163\u001b[0m, in \u001b[0;36mpandas._libs.index.IndexEngine.get_loc\u001b[1;34m()\u001b[0m\n",
      "File \u001b[1;32mpandas\\_libs\\hashtable_class_helper.pxi:5198\u001b[0m, in \u001b[0;36mpandas._libs.hashtable.PyObjectHashTable.get_item\u001b[1;34m()\u001b[0m\n",
      "File \u001b[1;32mpandas\\_libs\\hashtable_class_helper.pxi:5206\u001b[0m, in \u001b[0;36mpandas._libs.hashtable.PyObjectHashTable.get_item\u001b[1;34m()\u001b[0m\n",
      "\u001b[1;31mKeyError\u001b[0m: 'task'",
      "\nThe above exception was the direct cause of the following exception:\n",
      "\u001b[1;31mKeyError\u001b[0m                                  Traceback (most recent call last)",
      "Input \u001b[1;32mIn [5]\u001b[0m, in \u001b[0;36m<cell line: 5>\u001b[1;34m()\u001b[0m\n\u001b[0;32m      3\u001b[0m fig \u001b[38;5;241m=\u001b[39m plt\u001b[38;5;241m.\u001b[39mfigure(figsize \u001b[38;5;241m=\u001b[39m (\u001b[38;5;241m6\u001b[39m,\u001b[38;5;241m5\u001b[39m))\n\u001b[0;32m      5\u001b[0m \u001b[38;5;28;01mfor\u001b[39;00m i \u001b[38;5;129;01min\u001b[39;00m \u001b[38;5;28mrange\u001b[39m(\u001b[38;5;241m1\u001b[39m, total_tasks\u001b[38;5;241m+\u001b[39m\u001b[38;5;241m1\u001b[39m): \n\u001b[0;32m      6\u001b[0m     \u001b[38;5;66;03m#each task\u001b[39;00m\n\u001b[0;32m      7\u001b[0m     \n\u001b[0;32m      8\u001b[0m     \u001b[38;5;66;03m#qutip fids\u001b[39;00m\n\u001b[0;32m      9\u001b[0m     \u001b[38;5;66;03m#qutip_fids = list(df.loc[df['task'] ==i]['qutip_fid'])\u001b[39;00m\n\u001b[0;32m     10\u001b[0m     \u001b[38;5;66;03m#qutip_fids = [1- convert_complex_string_to_float(i) for i in qutip_fids]\u001b[39;00m\n\u001b[1;32m---> 11\u001b[0m     errs \u001b[38;5;241m=\u001b[39m \u001b[38;5;28mlist\u001b[39m(df\u001b[38;5;241m.\u001b[39mloc[\u001b[43mdf\u001b[49m\u001b[43m[\u001b[49m\u001b[38;5;124;43m'\u001b[39;49m\u001b[38;5;124;43mtask\u001b[39;49m\u001b[38;5;124;43m'\u001b[39;49m\u001b[43m]\u001b[49m \u001b[38;5;241m==\u001b[39mi][\u001b[38;5;124m'\u001b[39m\u001b[38;5;124merr\u001b[39m\u001b[38;5;124m'\u001b[39m])\n\u001b[0;32m     12\u001b[0m     \u001b[38;5;66;03m#bo_fids = [1-i for i in bo_fids]\u001b[39;00m\n\u001b[0;32m     14\u001b[0m     \u001b[38;5;28;01mif\u001b[39;00m \u001b[38;5;28mlen\u001b[39m(errs)\u001b[38;5;241m==\u001b[39m\u001b[38;5;241m0\u001b[39m:\n",
      "File \u001b[1;32m~\\Anaconda3\\lib\\site-packages\\pandas\\core\\frame.py:3505\u001b[0m, in \u001b[0;36mDataFrame.__getitem__\u001b[1;34m(self, key)\u001b[0m\n\u001b[0;32m   3503\u001b[0m \u001b[38;5;28;01mif\u001b[39;00m \u001b[38;5;28mself\u001b[39m\u001b[38;5;241m.\u001b[39mcolumns\u001b[38;5;241m.\u001b[39mnlevels \u001b[38;5;241m>\u001b[39m \u001b[38;5;241m1\u001b[39m:\n\u001b[0;32m   3504\u001b[0m     \u001b[38;5;28;01mreturn\u001b[39;00m \u001b[38;5;28mself\u001b[39m\u001b[38;5;241m.\u001b[39m_getitem_multilevel(key)\n\u001b[1;32m-> 3505\u001b[0m indexer \u001b[38;5;241m=\u001b[39m \u001b[38;5;28;43mself\u001b[39;49m\u001b[38;5;241;43m.\u001b[39;49m\u001b[43mcolumns\u001b[49m\u001b[38;5;241;43m.\u001b[39;49m\u001b[43mget_loc\u001b[49m\u001b[43m(\u001b[49m\u001b[43mkey\u001b[49m\u001b[43m)\u001b[49m\n\u001b[0;32m   3506\u001b[0m \u001b[38;5;28;01mif\u001b[39;00m is_integer(indexer):\n\u001b[0;32m   3507\u001b[0m     indexer \u001b[38;5;241m=\u001b[39m [indexer]\n",
      "File \u001b[1;32m~\\Anaconda3\\lib\\site-packages\\pandas\\core\\indexes\\base.py:3623\u001b[0m, in \u001b[0;36mIndex.get_loc\u001b[1;34m(self, key, method, tolerance)\u001b[0m\n\u001b[0;32m   3621\u001b[0m     \u001b[38;5;28;01mreturn\u001b[39;00m \u001b[38;5;28mself\u001b[39m\u001b[38;5;241m.\u001b[39m_engine\u001b[38;5;241m.\u001b[39mget_loc(casted_key)\n\u001b[0;32m   3622\u001b[0m \u001b[38;5;28;01mexcept\u001b[39;00m \u001b[38;5;167;01mKeyError\u001b[39;00m \u001b[38;5;28;01mas\u001b[39;00m err:\n\u001b[1;32m-> 3623\u001b[0m     \u001b[38;5;28;01mraise\u001b[39;00m \u001b[38;5;167;01mKeyError\u001b[39;00m(key) \u001b[38;5;28;01mfrom\u001b[39;00m \u001b[38;5;21;01merr\u001b[39;00m\n\u001b[0;32m   3624\u001b[0m \u001b[38;5;28;01mexcept\u001b[39;00m \u001b[38;5;167;01mTypeError\u001b[39;00m:\n\u001b[0;32m   3625\u001b[0m     \u001b[38;5;66;03m# If we have a listlike key, _check_indexing_error will raise\u001b[39;00m\n\u001b[0;32m   3626\u001b[0m     \u001b[38;5;66;03m#  InvalidIndexError. Otherwise we fall through and re-raise\u001b[39;00m\n\u001b[0;32m   3627\u001b[0m     \u001b[38;5;66;03m#  the TypeError.\u001b[39;00m\n\u001b[0;32m   3628\u001b[0m     \u001b[38;5;28mself\u001b[39m\u001b[38;5;241m.\u001b[39m_check_indexing_error(key)\n",
      "\u001b[1;31mKeyError\u001b[0m: 'task'"
     ]
    },
    {
     "data": {
      "text/plain": [
       "<Figure size 432x360 with 0 Axes>"
      ]
     },
     "metadata": {},
     "output_type": "display_data"
    }
   ],
   "source": [
    "total_tasks = 5\n",
    "\n",
    "fig = plt.figure(figsize = (6,5))\n",
    "\n",
    "for i in range(1, total_tasks+1): \n",
    "    #each task\n",
    "    \n",
    "    #qutip fids\n",
    "    #qutip_fids = list(df.loc[df['task'] ==i]['qutip_fid'])\n",
    "    #qutip_fids = [1- convert_complex_string_to_float(i) for i in qutip_fids]\n",
    "    errs = list(df.loc[df['task'] ==i]['err'])\n",
    "    #bo_fids = [1-i for i in bo_fids]\n",
    "    \n",
    "    if len(errs)==0:\n",
    "        continue\n",
    "    \n",
    "    plt.plot(\n",
    "        list(df.loc[df['task'] ==i]['time']),\n",
    "        bo_fids,\n",
    "        marker = 'o', linestyle = '--' , label = str(i)      \n",
    "        )\n",
    "    #plt.plot(times, mean_buckets)\n",
    "\n",
    "    \n",
    "    #plt.errorbar(x, y, yerr = err, ecolor='black', capsize=10)#, label ='Line4')\n",
    "#plt.text(8, 13, r'$|g>|n0> \\rightarrow |g>|0n>$', fontsize = 15)\n",
    "plt.grid(alpha=0.5, linestyle=':')\n",
    "\n",
    "plt.xlabel('Depth', fontsize = 15)\n",
    "#plt.hline(ecd_only)\n",
    "plt.ylabel(r'$1 - \\mathcal{F}$', fontsize = 20)\n",
    "#plt.title('Beam Splitters', fontsize = 15)\n",
    "plt.yscale('log')\n",
    "#fig.savefig('Ancilla Relaxation')\n",
    "plt.legend(bbox_to_anchor=(0., 1.02, 1., .102), loc=3,\n",
    "           ncol=2, mode=\"expand\", borderaxespad=0., fontsize = 13)\n",
    "plt.text(4,4, ' $|gn0> \\longrightarrow |g0n> $', fontsize = 15)\n",
    "plt.tight_layout()"
   ]
  },
  {
   "cell_type": "code",
   "execution_count": 46,
   "id": "5c58675c",
   "metadata": {},
   "outputs": [],
   "source": [
    "fig.savefig('state_transfer_depth.png', dpi = 1000)"
   ]
  },
  {
   "cell_type": "markdown",
   "id": "f914664f",
   "metadata": {},
   "source": [
    "# DUMP"
   ]
  },
  {
   "cell_type": "code",
   "execution_count": 41,
   "id": "eaa086ca",
   "metadata": {},
   "outputs": [
    {
     "name": "stderr",
     "output_type": "stream",
     "text": [
      "<ipython-input-41-1fd1ac1e0e34>:25: UserWarning: FixedFormatter should only be used together with FixedLocator\n",
      "  ax.set_xticklabels(conditions, fontsize = 15)\n"
     ]
    },
    {
     "data": {
      "text/plain": [
       "([<matplotlib.axis.XTick at 0x1c0c7a19880>,\n",
       "  <matplotlib.axis.XTick at 0x1c0c7a19850>,\n",
       "  <matplotlib.axis.XTick at 0x1c0c7b73be0>,\n",
       "  <matplotlib.axis.XTick at 0x1c0c7b9c670>,\n",
       "  <matplotlib.axis.XTick at 0x1c0c7b9cbb0>,\n",
       "  <matplotlib.axis.XTick at 0x1c0c7ba3100>,\n",
       "  <matplotlib.axis.XTick at 0x1c0c7ba3610>,\n",
       "  <matplotlib.axis.XTick at 0x1c0c7ba3b20>,\n",
       "  <matplotlib.axis.XTick at 0x1c0c7b9c3a0>],\n",
       " [Text(0, 0, 'bo_fidelity'),\n",
       "  Text(1, 0, 'only ecd'),\n",
       "  Text(2, 0, 'bare qubit mode coupling'),\n",
       "  Text(3, 0, 'stark shift'),\n",
       "  Text(4, 0, 'mode coupling'),\n",
       "  Text(5, 0, 'transmon relax'),\n",
       "  Text(6, 0, 'transmon dephasing'),\n",
       "  Text(7, 0, 'cavities relax'),\n",
       "  Text(8, 0, 'cavities dephasing')])"
      ]
     },
     "execution_count": 41,
     "metadata": {},
     "output_type": "execute_result"
    },
    {
     "data": {
      "image/png": "[encoded data removed]",
      "text/plain": [
       "<Figure size 576x432 with 1 Axes>"
      ]
     },
     "metadata": {
      "needs_background": "light"
     },
     "output_type": "display_data"
    }
   ],
   "source": [
    "conditions = ['bo_fidelity', 'only ecd', 'bare qubit mode coupling','stark shift', 'mode coupling', 'transmon relax','transmon dephasing', 'cavities relax', 'cavities dephasing']\n",
    "x_pos = np.arange(len(conditions))\n",
    "bars = []\n",
    "bars_err = []\n",
    "for i in range(5):\n",
    "    listy = list(df[conditions[i]]) \n",
    "    \n",
    "    #if complex strings\n",
    "    if type(listy[0]) is not float:\n",
    "        listy = [convert_complex_string_to_float(i) for i in listy]\n",
    "    bars.append(1 - np.mean(listy))\n",
    "    bars_err.append(np.std(listy))\n",
    "    \n",
    "#master equation solver fidelity err -- returns density matrix instead of state\n",
    "for i in range(5, len(conditions)):\n",
    "    listy = list(df[conditions[i]]) \n",
    "    listy = [np.sqrt(i) for i in listy]\n",
    "    bars.append(1 - np.mean(listy))\n",
    "    bars_err.append(np.std(listy))\n",
    "\n",
    "fig, ax = plt.subplots(figsize = (8,6))\n",
    "ax.bar(conditions, bars, yerr=bars_err, align='center', alpha=0.5, ecolor='black', capsize=10)\n",
    "ax.set_ylabel('$1-\\mathcal{F}$')\n",
    "#ax.set_xticks(x_pos)\n",
    "ax.set_xticklabels(conditions, fontsize = 15)\n",
    "ax.set_title('Qutip Noise Simulation of g01 -> g10')\n",
    "ax.yaxis.grid(True)\n",
    "plt.xticks(range(len(conditions)), conditions, rotation = 90)"
   ]
  },
  {
   "cell_type": "code",
   "execution_count": 4,
   "id": "e73d2d11",
   "metadata": {},
   "outputs": [],
   "source": [
    "#cond_labels =  ['Batch Optimizer', 'ECD Unitary Only', 'Dispersive ($\\chi a^\\dagger a \\sigma_z $)',r'Stark Shift ($\\chi |\\alpha|^2  \\sigma_z$)', 'Cross Kerr ($\\chi_{ab} a^\\dagger a b^\\dagger b +...$)']"
   ]
  },
  {
   "cell_type": "code",
   "execution_count": 42,
   "id": "2eb32f00",
   "metadata": {},
   "outputs": [
    {
     "name": "stderr",
     "output_type": "stream",
     "text": [
      "<ipython-input-42-b2b1d203bc20>:16: UserWarning: FixedFormatter should only be used together with FixedLocator\n",
      "  ax.set_yticklabels(conditions, fontsize = 15)\n"
     ]
    },
    {
     "data": {
      "image/png": "[encoded data removed]",
      "text/plain": [
       "<Figure size 720x432 with 1 Axes>"
      ]
     },
     "metadata": {
      "needs_background": "light"
     },
     "output_type": "display_data"
    }
   ],
   "source": [
    "#conditions = ['bo_fidelity', 'only ecd', 'bare_qubit_mode_coupling','Stark Shift', 'Mode Coupling']#, 'transmon_relax','transmon_dephasing']\n",
    "#x_pos = np.arange(len(conditions))\n",
    "# bars = []\n",
    "# bars_err = []\n",
    "# for i in range(len(conditions)):\n",
    "#     listy = list(df[conditions[i]]) \n",
    "#     if i is not 0:     # for all master eq sim, fidelity is squared bc of overlap issue\n",
    "#         listy = [np.sqrt(i) for i in listy]\n",
    "#     bars.append(1 - np.mean(listy))\n",
    "#     bars_err.append(np.std(listy))\n",
    "# conditions[-1] = \"Mode-Mode Coupling\"\n",
    "fig, ax = plt.subplots(figsize = (10,6))\n",
    "ax.barh(conditions, bars, xerr=bars_err, align='center', alpha=0.5, ecolor='black', capsize=10)\n",
    "ax.set_xlabel('$1-\\mathcal{F}$', fontsize = 20)\n",
    "#a#x.set_xticks(x_pos)\n",
    "ax.set_yticklabels(conditions, fontsize = 15)\n",
    "ax.set_title('Decoherence free error budget of g01 -> g10', fontsize = 20)\n",
    "ax.xaxis.grid(True)\n",
    "plt.yticks(range(len(conditions)), conditions)#, rotation = 60)\n",
    "plt.tight_layout()\n",
    "fig.savefig('Decoherence free error budget')\n",
    "# colors = {'fruit':'red', 'veggie':'green'}         \n",
    "# labels = list(colors.keys())\n",
    "\n",
    "# handles = [plt.Rectangle((0,0),1,1, color=colors[label]) for label in labels]\n",
    "# plt.legend(handles, labels)"
   ]
  },
  {
   "cell_type": "code",
   "execution_count": 43,
   "id": "a242fc0b",
   "metadata": {},
   "outputs": [
    {
     "data": {
      "text/plain": [
       "19"
      ]
     },
     "execution_count": 43,
     "metadata": {},
     "output_type": "execute_result"
    }
   ],
   "source": [
    "len(df)"
   ]
  },
  {
   "cell_type": "code",
   "execution_count": 47,
   "id": "269ac7aa",
   "metadata": {},
   "outputs": [
    {
     "name": "stderr",
     "output_type": "stream",
     "text": [
      "<ipython-input-47-40c8d1f6f81d>:28: UserWarning: FixedFormatter should only be used together with FixedLocator\n",
      "  ax.set_xticklabels(conditions, fontsize = 15)\n"
     ]
    },
    {
     "data": {
      "text/plain": [
       "([<matplotlib.axis.XTick at 0x1c0c92008e0>,\n",
       "  <matplotlib.axis.XTick at 0x1c0c9200fd0>,\n",
       "  <matplotlib.axis.XTick at 0x1c0c92043a0>,\n",
       "  <matplotlib.axis.XTick at 0x1c0c9354a90>,\n",
       "  <matplotlib.axis.XTick at 0x1c0c9354fa0>,\n",
       "  <matplotlib.axis.XTick at 0x1c0c93584f0>,\n",
       "  <matplotlib.axis.XTick at 0x1c0c9358a00>,\n",
       "  <matplotlib.axis.XTick at 0x1c0c9354760>],\n",
       " [Text(0, 0, 'only ecd'),\n",
       "  Text(1, 0, 'bare qubit mode coupling'),\n",
       "  Text(2, 0, 'stark shift'),\n",
       "  Text(3, 0, 'mode coupling'),\n",
       "  Text(4, 0, 'transmon relax'),\n",
       "  Text(5, 0, 'transmon dephasing'),\n",
       "  Text(6, 0, 'cavities relax'),\n",
       "  Text(7, 0, 'cavities dephasing')])"
      ]
     },
     "execution_count": 47,
     "metadata": {},
     "output_type": "execute_result"
    },
    {
     "data": {
      "image/png": "[encoded data removed]",
      "text/plain": [
       "<Figure size 576x432 with 1 Axes>"
      ]
     },
     "metadata": {
      "needs_background": "light"
     },
     "output_type": "display_data"
    }
   ],
   "source": [
    "conditions = ['only ecd', 'bare qubit mode coupling','stark shift', 'mode coupling', 'transmon relax','transmon dephasing', 'cavities relax', 'cavities dephasing']\n",
    "x_pos = np.arange(len(conditions))\n",
    "bars = []\n",
    "bars_err = []\n",
    "for i in range(5):\n",
    "    listy = list(df[conditions[i]]) \n",
    "    \n",
    "    #if complex strings\n",
    "    if type(listy[0]) is not float:\n",
    "        listy = [convert_complex_string_to_float(i) for i in listy]\n",
    "    listy = [df['bo_fidelity'][i] - listy[i] for i in range(1, len(df))]\n",
    "    bars.append(np.mean(listy))\n",
    "    bars_err.append(np.std(listy))\n",
    "    \n",
    "#master equation solver fidelity err -- returns density matrix instead of state\n",
    "for i in range(5, len(conditions)):\n",
    "    listy = list(df[conditions[i]]) \n",
    "    listy = [np.sqrt(i) for i in listy]\n",
    "    listy = [df['bo_fidelity'][i] - listy[i] for i in range(1, len(df))]\n",
    "    \n",
    "    bars.append( np.mean(listy))\n",
    "    bars_err.append(np.std(listy))\n",
    "\n",
    "fig, ax = plt.subplots(figsize = (8,6))\n",
    "ax.bar(conditions, bars, yerr=bars_err, align='center', alpha=0.5, ecolor='black', capsize=10)\n",
    "ax.set_ylabel('$1-\\mathcal{F}_{opt}$')\n",
    "#ax.set_xticks(x_pos)\n",
    "ax.set_xticklabels(conditions, fontsize = 15)\n",
    "ax.set_title('Qutip Noise Simulation of g01 -> g10')\n",
    "ax.yaxis.grid(True)\n",
    "plt.xticks(range(len(conditions)), conditions, rotation = 90)"
   ]
  },
  {
   "cell_type": "code",
   "execution_count": 51,
   "id": "191bbc84",
   "metadata": {},
   "outputs": [
    {
     "name": "stderr",
     "output_type": "stream",
     "text": [
      "<ipython-input-51-0b90b348f77c>:16: UserWarning: FixedFormatter should only be used together with FixedLocator\n",
      "  ax.set_yticklabels(conditions, fontsize = 15)\n"
     ]
    },
    {
     "data": {
      "image/png": "[encoded data removed]",
      "text/plain": [
       "<Figure size 720x432 with 1 Axes>"
      ]
     },
     "metadata": {
      "needs_background": "light"
     },
     "output_type": "display_data"
    }
   ],
   "source": [
    "#conditions = ['bo_fidelity', 'only ecd', 'bare_qubit_mode_coupling','Stark Shift', 'Mode Coupling']#, 'transmon_relax','transmon_dephasing']\n",
    "#x_pos = np.arange(len(conditions))\n",
    "# bars = []\n",
    "# bars_err = []\n",
    "# for i in range(len(conditions)):\n",
    "#     listy = list(df[conditions[i]]) \n",
    "#     if i is not 0:     # for all master eq sim, fidelity is squared bc of overlap issue\n",
    "#         listy = [np.sqrt(i) for i in listy]\n",
    "#     bars.append(1 - np.mean(listy))\n",
    "#     bars_err.append(np.std(listy))\n",
    "# conditions[-1] = \"Mode-Mode Coupling\"\n",
    "fig, ax = plt.subplots(figsize = (10,6))\n",
    "ax.barh(conditions, bars, xerr=bars_err, align='center', alpha=0.5, ecolor='black', capsize=10)\n",
    "ax.set_xlabel('$1-\\mathcal{F}_{opt}$', fontsize = 20)\n",
    "#a#x.set_xticks(x_pos)\n",
    "ax.set_yticklabels(conditions, fontsize = 15)\n",
    "ax.set_title(' g01 -> g10', fontsize = 20)\n",
    "ax.xaxis.grid(True)\n",
    "plt.yticks(range(len(conditions)), conditions)#, rotation = 60)\n",
    "plt.tight_layout()\n",
    "#fig.savefig('Decoherence free error budget')\n",
    "# colors = {'fruit':'red', 'veggie':'green'}         \n",
    "# labels = list(colors.keys())\n",
    "\n",
    "# handles = [plt.Rectangle((0,0),1,1, color=colors[label]) for label in labels]\n",
    "# plt.legend(handles, labels)"
   ]
  },
  {
   "cell_type": "code",
   "execution_count": null,
   "id": "4bd46bca",
   "metadata": {},
   "outputs": [],
   "source": []
  },
  {
   "cell_type": "code",
   "execution_count": null,
   "id": "4fb4319d",
   "metadata": {},
   "outputs": [],
   "source": []
  },
  {
   "cell_type": "code",
   "execution_count": 39,
   "id": "6eb6b9fc",
   "metadata": {},
   "outputs": [
    {
     "data": {
      "text/plain": [
       "[0.003930486842105396,\n",
       " 0.012743826073552844,\n",
       " 0.012743826073552844,\n",
       " 0.012743826073552844,\n",
       " 0.012743826073552844,\n",
       " 0.05380955290566136,\n",
       " 0.01697431477013933,\n",
       " 0.014635415758485149,\n",
       " 0.013003884983335934]"
      ]
     },
     "execution_count": 39,
     "metadata": {},
     "output_type": "execute_result"
    }
   ],
   "source": [
    "bars"
   ]
  },
  {
   "cell_type": "markdown",
   "id": "5b3b613b",
   "metadata": {},
   "source": [
    "# Transmon Relaxation"
   ]
  },
  {
   "cell_type": "code",
   "execution_count": 7,
   "id": "cc6f8c39",
   "metadata": {},
   "outputs": [],
   "source": [
    "f2_name = 'Noise_sim_one_by_one__15_level_aug_11_transmon_relaxation'\n",
    "df2 = pd.read_csv(f2_name)"
   ]
  },
  {
   "cell_type": "code",
   "execution_count": 8,
   "id": "05f8911c",
   "metadata": {},
   "outputs": [],
   "source": [
    "df2 = df2.drop(0)"
   ]
  },
  {
   "cell_type": "code",
   "execution_count": 9,
   "id": "97df19b9",
   "metadata": {},
   "outputs": [
    {
     "data": {
      "text/html": [
       "<div>\n",
       "<style scoped>\n",
       "    .dataframe tbody tr th:only-of-type {\n",
       "        vertical-align: middle;\n",
       "    }\n",
       "\n",
       "    .dataframe tbody tr th {\n",
       "        vertical-align: top;\n",
       "    }\n",
       "\n",
       "    .dataframe thead th {\n",
       "        text-align: right;\n",
       "    }\n",
       "</style>\n",
       "<table border=\"1\" class=\"dataframe\">\n",
       "  <thead>\n",
       "    <tr style=\"text-align: right;\">\n",
       "      <th></th>\n",
       "      <th>exact fidelity</th>\n",
       "      <th>bo_fidelity</th>\n",
       "      <th>betas</th>\n",
       "      <th>gammas</th>\n",
       "      <th>phis</th>\n",
       "      <th>thetas</th>\n",
       "      <th>tramsmon_relaxation [50 us, 100 us, ...]</th>\n",
       "    </tr>\n",
       "  </thead>\n",
       "  <tbody>\n",
       "    <tr>\n",
       "      <th>1</th>\n",
       "      <td>0.995586</td>\n",
       "      <td>0.995598</td>\n",
       "      <td>[-0.00262321-0.00144306j  0.02715145-0.0185476...</td>\n",
       "      <td>[-0.22359522-4.9973166e-01j -0.7231863 +1.4162...</td>\n",
       "      <td>[ 0.         1.3961155  1.2453349  1.0953438 -...</td>\n",
       "      <td>[-1.5561874   2.275472    1.7466791   2.030403...</td>\n",
       "      <td>[0.9267562768394095, 0.9462844598137663, 0.953...</td>\n",
       "    </tr>\n",
       "    <tr>\n",
       "      <th>2</th>\n",
       "      <td>0.996460</td>\n",
       "      <td>0.996470</td>\n",
       "      <td>[-6.4737914e-04-3.2210814e-05j -5.2747920e-01+...</td>\n",
       "      <td>[ 5.0107450e-01+1.6034484e-02j -1.5052351e+00-...</td>\n",
       "      <td>[ 0.         -1.5745307  -0.7655482   1.881175...</td>\n",
       "      <td>[ 1.5732338 -1.2030032 -3.1294155  3.1376164 -...</td>\n",
       "      <td>[0.9289614632494338, 0.9534116201730521, 0.961...</td>\n",
       "    </tr>\n",
       "    <tr>\n",
       "      <th>3</th>\n",
       "      <td>0.994936</td>\n",
       "      <td>0.995629</td>\n",
       "      <td>[ 1.0140339e-03+5.3937244e-04j -4.4833508e-04-...</td>\n",
       "      <td>[ 2.636092  +0.4190833j   0.01244382-0.432337j...</td>\n",
       "      <td>[ 0.        -0.7320552  1.9630716 -2.370027   ...</td>\n",
       "      <td>[-0.0271492  1.5207536 -1.6562961  2.018657  -...</td>\n",
       "      <td>[0.9240037826692744, 0.9489300381974358, 0.957...</td>\n",
       "    </tr>\n",
       "    <tr>\n",
       "      <th>4</th>\n",
       "      <td>0.995886</td>\n",
       "      <td>0.995833</td>\n",
       "      <td>[ 6.5347767e-06-1.30088590e-04j  2.0591020e-03...</td>\n",
       "      <td>[-3.8990060e-01-3.9146677e-01j  5.7316244e-01-...</td>\n",
       "      <td>[ 0.         -1.5533143  -1.5631359  -1.597816...</td>\n",
       "      <td>[ 1.5757606e+00 -1.1407130e+00  1.5744059e+00 ...</td>\n",
       "      <td>[0.9198186245134586, 0.9475064562368978, 0.955...</td>\n",
       "    </tr>\n",
       "    <tr>\n",
       "      <th>5</th>\n",
       "      <td>0.996191</td>\n",
       "      <td>0.996193</td>\n",
       "      <td>[ 6.5717466e-02+1.5812736j  -1.1736141e-02+0.0...</td>\n",
       "      <td>[ 1.418391  +0.24241747j  0.33849597-0.9158984...</td>\n",
       "      <td>[ 0.          0.81113863 -2.1159046  -1.300121...</td>\n",
       "      <td>[ 3.136113   -1.5799026   0.99619174  0.772885...</td>\n",
       "      <td>[0.9397597996954877, 0.9649460000035721, 0.973...</td>\n",
       "    </tr>\n",
       "    <tr>\n",
       "      <th>6</th>\n",
       "      <td>0.996768</td>\n",
       "      <td>0.996779</td>\n",
       "      <td>[ 1.38473530e-03+1.6311259e-03j  1.09282150e+0...</td>\n",
       "      <td>[ 9.3426320e-02-4.8979080e-01j  3.3189622e-01+...</td>\n",
       "      <td>[ 0.          1.5340307  -2.4499028  -0.181198...</td>\n",
       "      <td>[ 1.5795605  -1.1847471   3.134495    1.818692...</td>\n",
       "      <td>[0.927279695239411, 0.9540382168756641, 0.9629...</td>\n",
       "    </tr>\n",
       "    <tr>\n",
       "      <th>7</th>\n",
       "      <td>0.996423</td>\n",
       "      <td>0.996423</td>\n",
       "      <td>[-0.02452667-2.7897577e-03j -0.00146851+1.7478...</td>\n",
       "      <td>[-3.7821588e-01-2.5588945e-01j -6.1016450e-01+...</td>\n",
       "      <td>[ 0.          1.5692036   1.5720084  -1.343168...</td>\n",
       "      <td>[-1.5716397   1.3233197  -2.0805616   0.003912...</td>\n",
       "      <td>[0.9389781022086322, 0.9629217947161115, 0.971...</td>\n",
       "    </tr>\n",
       "    <tr>\n",
       "      <th>8</th>\n",
       "      <td>0.996415</td>\n",
       "      <td>0.996425</td>\n",
       "      <td>[ 1.4479039e-03-4.1262887e-04j  3.3884450e-04-...</td>\n",
       "      <td>[-0.4419903 +0.3685562j  -0.5735252 -0.605279j...</td>\n",
       "      <td>[ 0.          1.5909874   1.6046488   1.625607...</td>\n",
       "      <td>[-1.5605228  -2.0086124  -1.5044947   0.602578...</td>\n",
       "      <td>[0.9425389499251368, 0.9675323008760628, 0.976...</td>\n",
       "    </tr>\n",
       "    <tr>\n",
       "      <th>9</th>\n",
       "      <td>0.996539</td>\n",
       "      <td>0.996526</td>\n",
       "      <td>[ 0.01475754-0.04110372j  0.4100612 -0.2312351...</td>\n",
       "      <td>[-0.43818113+0.2351073j  -2.1519425 +1.3530631...</td>\n",
       "      <td>[ 0.         -1.567324    1.4665563   1.599829...</td>\n",
       "      <td>[-1.5563223  -1.123174   -0.00695944 -3.125749...</td>\n",
       "      <td>[0.9127376311405143, 0.9348760290273798, 0.942...</td>\n",
       "    </tr>\n",
       "    <tr>\n",
       "      <th>10</th>\n",
       "      <td>0.995410</td>\n",
       "      <td>0.995419</td>\n",
       "      <td>[-0.13434817-1.1718981j   0.06487343-0.0059511...</td>\n",
       "      <td>[ 0.3952284 +1.0193292j   0.39807162+0.1077477...</td>\n",
       "      <td>[ 0.         -0.25606656  1.6486723   1.125031...</td>\n",
       "      <td>[-0.02907538  1.589442    1.7153823   1.757087...</td>\n",
       "      <td>[0.9121931394141849, 0.9319784384001933, 0.938...</td>\n",
       "    </tr>\n",
       "    <tr>\n",
       "      <th>11</th>\n",
       "      <td>0.996151</td>\n",
       "      <td>0.996892</td>\n",
       "      <td>[-5.3234910e-01+0.40944073j  1.7488065e-01+0.3...</td>\n",
       "      <td>[-1.0163183 +0.4193015j  -3.339142  -1.2887808...</td>\n",
       "      <td>[ 0.         -2.6540499  -3.0331106   1.722667...</td>\n",
       "      <td>[-3.1135798 -1.6277546 -3.1389937  1.9205401 -...</td>\n",
       "      <td>[0.9343785879445289, 0.9598252837118201, 0.968...</td>\n",
       "    </tr>\n",
       "    <tr>\n",
       "      <th>12</th>\n",
       "      <td>0.996046</td>\n",
       "      <td>0.996057</td>\n",
       "      <td>[ 0.05341554+4.3730208e-04j  0.03276061+2.0563...</td>\n",
       "      <td>[ 0.4370692 +2.1173628e-01j -0.1796887 +8.4380...</td>\n",
       "      <td>[ 0.0000000e+00 -1.5717974e+00 -1.5714543e+00 ...</td>\n",
       "      <td>[-1.5706296   1.4895356   1.0034211   1.662242...</td>\n",
       "      <td>[0.8966162090947198, 0.9174414822060597, 0.923...</td>\n",
       "    </tr>\n",
       "    <tr>\n",
       "      <th>13</th>\n",
       "      <td>0.995514</td>\n",
       "      <td>0.995527</td>\n",
       "      <td>[-0.02359953+0.17487738j  0.12864238+0.0677136...</td>\n",
       "      <td>[-0.41124973+0.14435014j  0.16735496+0.7470328...</td>\n",
       "      <td>[ 0.        -1.5606408  1.6027138  1.6216185 -...</td>\n",
       "      <td>[ 1.5928729   1.4919174  -1.476476    1.473964...</td>\n",
       "      <td>[0.92242595860439, 0.9424419749062357, 0.94883...</td>\n",
       "    </tr>\n",
       "    <tr>\n",
       "      <th>14</th>\n",
       "      <td>0.995435</td>\n",
       "      <td>0.995447</td>\n",
       "      <td>[ 3.8583355e-04+0.0044177j   1.0304817e-02-0.0...</td>\n",
       "      <td>[ 0.6786639 -0.03501588j  0.4678808 +0.6810722...</td>\n",
       "      <td>[ 0.         -1.3452626   1.9926999  -1.077055...</td>\n",
       "      <td>[-1.5263152   2.5195239  -1.5366302   2.076894...</td>\n",
       "      <td>[0.937543100270911, 0.9595631449444888, 0.9657...</td>\n",
       "    </tr>\n",
       "    <tr>\n",
       "      <th>15</th>\n",
       "      <td>0.995630</td>\n",
       "      <td>0.995640</td>\n",
       "      <td>[-0.00539527+0.00190772j -0.01123076+0.0058534...</td>\n",
       "      <td>[-3.8381312e-02-5.5994600e-01j -6.9082750e-01-...</td>\n",
       "      <td>[ 0.          1.5325372   1.73052     1.950310...</td>\n",
       "      <td>[-1.6246727 -1.2640513 -3.0303385 -1.4045855 -...</td>\n",
       "      <td>[0.9291962376816898, 0.9529651075617576, 0.961...</td>\n",
       "    </tr>\n",
       "  </tbody>\n",
       "</table>\n",
       "</div>"
      ],
      "text/plain": [
       "    exact fidelity  bo_fidelity  \\\n",
       "1         0.995586     0.995598   \n",
       "2         0.996460     0.996470   \n",
       "3         0.994936     0.995629   \n",
       "4         0.995886     0.995833   \n",
       "5         0.996191     0.996193   \n",
       "6         0.996768     0.996779   \n",
       "7         0.996423     0.996423   \n",
       "8         0.996415     0.996425   \n",
       "9         0.996539     0.996526   \n",
       "10        0.995410     0.995419   \n",
       "11        0.996151     0.996892   \n",
       "12        0.996046     0.996057   \n",
       "13        0.995514     0.995527   \n",
       "14        0.995435     0.995447   \n",
       "15        0.995630     0.995640   \n",
       "\n",
       "                                                betas  \\\n",
       "1   [-0.00262321-0.00144306j  0.02715145-0.0185476...   \n",
       "2   [-6.4737914e-04-3.2210814e-05j -5.2747920e-01+...   \n",
       "3   [ 1.0140339e-03+5.3937244e-04j -4.4833508e-04-...   \n",
       "4   [ 6.5347767e-06-1.30088590e-04j  2.0591020e-03...   \n",
       "5   [ 6.5717466e-02+1.5812736j  -1.1736141e-02+0.0...   \n",
       "6   [ 1.38473530e-03+1.6311259e-03j  1.09282150e+0...   \n",
       "7   [-0.02452667-2.7897577e-03j -0.00146851+1.7478...   \n",
       "8   [ 1.4479039e-03-4.1262887e-04j  3.3884450e-04-...   \n",
       "9   [ 0.01475754-0.04110372j  0.4100612 -0.2312351...   \n",
       "10  [-0.13434817-1.1718981j   0.06487343-0.0059511...   \n",
       "11  [-5.3234910e-01+0.40944073j  1.7488065e-01+0.3...   \n",
       "12  [ 0.05341554+4.3730208e-04j  0.03276061+2.0563...   \n",
       "13  [-0.02359953+0.17487738j  0.12864238+0.0677136...   \n",
       "14  [ 3.8583355e-04+0.0044177j   1.0304817e-02-0.0...   \n",
       "15  [-0.00539527+0.00190772j -0.01123076+0.0058534...   \n",
       "\n",
       "                                               gammas  \\\n",
       "1   [-0.22359522-4.9973166e-01j -0.7231863 +1.4162...   \n",
       "2   [ 5.0107450e-01+1.6034484e-02j -1.5052351e+00-...   \n",
       "3   [ 2.636092  +0.4190833j   0.01244382-0.432337j...   \n",
       "4   [-3.8990060e-01-3.9146677e-01j  5.7316244e-01-...   \n",
       "5   [ 1.418391  +0.24241747j  0.33849597-0.9158984...   \n",
       "6   [ 9.3426320e-02-4.8979080e-01j  3.3189622e-01+...   \n",
       "7   [-3.7821588e-01-2.5588945e-01j -6.1016450e-01+...   \n",
       "8   [-0.4419903 +0.3685562j  -0.5735252 -0.605279j...   \n",
       "9   [-0.43818113+0.2351073j  -2.1519425 +1.3530631...   \n",
       "10  [ 0.3952284 +1.0193292j   0.39807162+0.1077477...   \n",
       "11  [-1.0163183 +0.4193015j  -3.339142  -1.2887808...   \n",
       "12  [ 0.4370692 +2.1173628e-01j -0.1796887 +8.4380...   \n",
       "13  [-0.41124973+0.14435014j  0.16735496+0.7470328...   \n",
       "14  [ 0.6786639 -0.03501588j  0.4678808 +0.6810722...   \n",
       "15  [-3.8381312e-02-5.5994600e-01j -6.9082750e-01-...   \n",
       "\n",
       "                                                 phis  \\\n",
       "1   [ 0.         1.3961155  1.2453349  1.0953438 -...   \n",
       "2   [ 0.         -1.5745307  -0.7655482   1.881175...   \n",
       "3   [ 0.        -0.7320552  1.9630716 -2.370027   ...   \n",
       "4   [ 0.         -1.5533143  -1.5631359  -1.597816...   \n",
       "5   [ 0.          0.81113863 -2.1159046  -1.300121...   \n",
       "6   [ 0.          1.5340307  -2.4499028  -0.181198...   \n",
       "7   [ 0.          1.5692036   1.5720084  -1.343168...   \n",
       "8   [ 0.          1.5909874   1.6046488   1.625607...   \n",
       "9   [ 0.         -1.567324    1.4665563   1.599829...   \n",
       "10  [ 0.         -0.25606656  1.6486723   1.125031...   \n",
       "11  [ 0.         -2.6540499  -3.0331106   1.722667...   \n",
       "12  [ 0.0000000e+00 -1.5717974e+00 -1.5714543e+00 ...   \n",
       "13  [ 0.        -1.5606408  1.6027138  1.6216185 -...   \n",
       "14  [ 0.         -1.3452626   1.9926999  -1.077055...   \n",
       "15  [ 0.          1.5325372   1.73052     1.950310...   \n",
       "\n",
       "                                               thetas  \\\n",
       "1   [-1.5561874   2.275472    1.7466791   2.030403...   \n",
       "2   [ 1.5732338 -1.2030032 -3.1294155  3.1376164 -...   \n",
       "3   [-0.0271492  1.5207536 -1.6562961  2.018657  -...   \n",
       "4   [ 1.5757606e+00 -1.1407130e+00  1.5744059e+00 ...   \n",
       "5   [ 3.136113   -1.5799026   0.99619174  0.772885...   \n",
       "6   [ 1.5795605  -1.1847471   3.134495    1.818692...   \n",
       "7   [-1.5716397   1.3233197  -2.0805616   0.003912...   \n",
       "8   [-1.5605228  -2.0086124  -1.5044947   0.602578...   \n",
       "9   [-1.5563223  -1.123174   -0.00695944 -3.125749...   \n",
       "10  [-0.02907538  1.589442    1.7153823   1.757087...   \n",
       "11  [-3.1135798 -1.6277546 -3.1389937  1.9205401 -...   \n",
       "12  [-1.5706296   1.4895356   1.0034211   1.662242...   \n",
       "13  [ 1.5928729   1.4919174  -1.476476    1.473964...   \n",
       "14  [-1.5263152   2.5195239  -1.5366302   2.076894...   \n",
       "15  [-1.6246727 -1.2640513 -3.0303385 -1.4045855 -...   \n",
       "\n",
       "             tramsmon_relaxation [50 us, 100 us, ...]  \n",
       "1   [0.9267562768394095, 0.9462844598137663, 0.953...  \n",
       "2   [0.9289614632494338, 0.9534116201730521, 0.961...  \n",
       "3   [0.9240037826692744, 0.9489300381974358, 0.957...  \n",
       "4   [0.9198186245134586, 0.9475064562368978, 0.955...  \n",
       "5   [0.9397597996954877, 0.9649460000035721, 0.973...  \n",
       "6   [0.927279695239411, 0.9540382168756641, 0.9629...  \n",
       "7   [0.9389781022086322, 0.9629217947161115, 0.971...  \n",
       "8   [0.9425389499251368, 0.9675323008760628, 0.976...  \n",
       "9   [0.9127376311405143, 0.9348760290273798, 0.942...  \n",
       "10  [0.9121931394141849, 0.9319784384001933, 0.938...  \n",
       "11  [0.9343785879445289, 0.9598252837118201, 0.968...  \n",
       "12  [0.8966162090947198, 0.9174414822060597, 0.923...  \n",
       "13  [0.92242595860439, 0.9424419749062357, 0.94883...  \n",
       "14  [0.937543100270911, 0.9595631449444888, 0.9657...  \n",
       "15  [0.9291962376816898, 0.9529651075617576, 0.961...  "
      ]
     },
     "execution_count": 9,
     "metadata": {},
     "output_type": "execute_result"
    }
   ],
   "source": [
    "df2"
   ]
  },
  {
   "cell_type": "code",
   "execution_count": 10,
   "id": "fb4e5a7b",
   "metadata": {},
   "outputs": [
    {
     "ename": "NameError",
     "evalue": "name 'ast' is not defined",
     "output_type": "error",
     "traceback": [
      "\u001b[1;31m---------------------------------------------------------------------------\u001b[0m",
      "\u001b[1;31mNameError\u001b[0m                                 Traceback (most recent call last)",
      "\u001b[1;32m<ipython-input-10-e83c39e3c5f2>\u001b[0m in \u001b[0;36m<module>\u001b[1;34m\u001b[0m\n\u001b[0;32m      1\u001b[0m \u001b[0mc\u001b[0m \u001b[1;33m=\u001b[0m \u001b[1;36m0\u001b[0m\u001b[1;33m\u001b[0m\u001b[1;33m\u001b[0m\u001b[0m\n\u001b[0;32m      2\u001b[0m \u001b[1;32mfor\u001b[0m \u001b[0mi\u001b[0m \u001b[1;32min\u001b[0m \u001b[0mrange\u001b[0m\u001b[1;33m(\u001b[0m\u001b[1;36m12\u001b[0m\u001b[1;33m)\u001b[0m\u001b[1;33m:\u001b[0m\u001b[1;33m\u001b[0m\u001b[1;33m\u001b[0m\u001b[0m\n\u001b[1;32m----> 3\u001b[1;33m     \u001b[0minconsis\u001b[0m \u001b[1;33m=\u001b[0m\u001b[0mnp\u001b[0m\u001b[1;33m.\u001b[0m\u001b[0mabs\u001b[0m\u001b[1;33m(\u001b[0m\u001b[0mast\u001b[0m\u001b[1;33m.\u001b[0m\u001b[0mliteral_eval\u001b[0m\u001b[1;33m(\u001b[0m\u001b[0mdf2\u001b[0m\u001b[1;33m[\u001b[0m\u001b[1;34m'tramsmon_relaxation [50 us, 100 us, ...]'\u001b[0m\u001b[1;33m]\u001b[0m\u001b[1;33m[\u001b[0m\u001b[0mi\u001b[0m\u001b[1;33m+\u001b[0m\u001b[1;36m1\u001b[0m\u001b[1;33m]\u001b[0m\u001b[1;33m)\u001b[0m\u001b[1;33m[\u001b[0m\u001b[1;33m-\u001b[0m\u001b[1;36m5\u001b[0m\u001b[1;33m]\u001b[0m \u001b[1;33m-\u001b[0m \u001b[0mdf\u001b[0m\u001b[1;33m[\u001b[0m\u001b[1;34m'only ecd'\u001b[0m\u001b[1;33m]\u001b[0m\u001b[1;33m[\u001b[0m\u001b[0mi\u001b[0m\u001b[1;33m+\u001b[0m\u001b[1;36m1\u001b[0m\u001b[1;33m]\u001b[0m\u001b[1;33m)\u001b[0m\u001b[1;33m\u001b[0m\u001b[1;33m\u001b[0m\u001b[0m\n\u001b[0m\u001b[0;32m      4\u001b[0m     \u001b[0mprint\u001b[0m\u001b[1;33m(\u001b[0m\u001b[0minconsis\u001b[0m\u001b[1;33m)\u001b[0m\u001b[1;33m\u001b[0m\u001b[1;33m\u001b[0m\u001b[0m\n\u001b[0;32m      5\u001b[0m     \u001b[0mc\u001b[0m\u001b[1;33m+=\u001b[0m\u001b[0mfloat\u001b[0m\u001b[1;33m(\u001b[0m\u001b[0minconsis\u001b[0m\u001b[1;33m)\u001b[0m\u001b[1;33m\u001b[0m\u001b[1;33m\u001b[0m\u001b[0m\n",
      "\u001b[1;31mNameError\u001b[0m: name 'ast' is not defined"
     ]
    }
   ],
   "source": [
    "c = 0\n",
    "for i in range(12):\n",
    "    inconsis =np.abs(ast.literal_eval(df2['tramsmon_relaxation [50 us, 100 us, ...]'][i+1])[-5] - df['only ecd'][i+1])\n",
    "    print(inconsis)\n",
    "    c+=float(inconsis)\n",
    "print('err on average is ' + str(c/12))"
   ]
  },
  {
   "cell_type": "code",
   "execution_count": 73,
   "id": "4f870a2a",
   "metadata": {},
   "outputs": [
    {
     "data": {
      "text/plain": [
       "']'"
      ]
     },
     "execution_count": 73,
     "metadata": {},
     "output_type": "execute_result"
    }
   ],
   "source": [
    "i = 0\n",
    "df2['tramsmon_relaxation [50 us, 100 us, ...]'][i+1][-1]"
   ]
  },
  {
   "cell_type": "code",
   "execution_count": 60,
   "id": "9320164f",
   "metadata": {},
   "outputs": [
    {
     "data": {
      "text/plain": [
       "15"
      ]
     },
     "execution_count": 60,
     "metadata": {},
     "output_type": "execute_result"
    }
   ],
   "source": [
    "len(df2)"
   ]
  },
  {
   "cell_type": "code",
   "execution_count": 61,
   "id": "60857fa5",
   "metadata": {},
   "outputs": [
    {
     "data": {
      "text/plain": [
       "0.012514970347797912"
      ]
     },
     "execution_count": 61,
     "metadata": {},
     "output_type": "execute_result"
    }
   ],
   "source": [
    "ecd_only = np.mean(df['only ecd'])\n",
    "ecd_err = np.std(df['only ecd'])\n",
    "ecd_err"
   ]
  },
  {
   "cell_type": "code",
   "execution_count": 62,
   "id": "c41238a2",
   "metadata": {},
   "outputs": [
    {
     "data": {
      "text/plain": [
       "'[0.9289614632494338, 0.9534116201730521, 0.96108742109826, 0.9652636222162979, 0.9680991866255065, 0.9692171434332351, 0.9694457841283055, 0.9712017654686547, 0.9716594393343652, 0.9734706857569317]'"
      ]
     },
     "execution_count": 62,
     "metadata": {},
     "output_type": "execute_result"
    }
   ],
   "source": [
    "k = 1\n",
    "j = 1\n",
    "df2['tramsmon_relaxation [50 us, 100 us, ...]'][k+1]"
   ]
  },
  {
   "cell_type": "code",
   "execution_count": 17,
   "id": "9a0c92e9",
   "metadata": {},
   "outputs": [],
   "source": [
    "import ast\n",
    "buckets = [[] for _ in range(len(ast.literal_eval(df2['tramsmon_relaxation [50 us, 100 us, ...]'][1])))]\n",
    "for j in range(len(buckets)):# for each time\n",
    "    for k in range(len(df)):\n",
    "        #print(k)\n",
    "        listy = ast.literal_eval(df2['tramsmon_relaxation [50 us, 100 us, ...]'][k+1])\n",
    "        listy = [np.sqrt(i) for i in listy]\n",
    "        buckets[j].append(-1*(listy[j] - np.sqrt(df['only ecd'][k+1])))\n",
    "\n",
    "        "
   ]
  },
  {
   "cell_type": "code",
   "execution_count": 18,
   "id": "1b50195b",
   "metadata": {},
   "outputs": [],
   "source": [
    "mean_buckets = [np.mean(i) for i in buckets]\n",
    "err_buckets = [np.std(i) for i in buckets]"
   ]
  },
  {
   "cell_type": "code",
   "execution_count": 19,
   "id": "afbe18a4",
   "metadata": {},
   "outputs": [],
   "source": [
    "times = [50 + 50*i for i in range(10)]"
   ]
  },
  {
   "cell_type": "code",
   "execution_count": 20,
   "id": "0861fd1e",
   "metadata": {},
   "outputs": [],
   "source": [
    "x = np.array(times)\n",
    "y = np.array(mean_buckets)\n",
    "err = np.array(err_buckets)"
   ]
  },
  {
   "cell_type": "code",
   "execution_count": 21,
   "id": "5f6c2acd",
   "metadata": {},
   "outputs": [],
   "source": [
    "import matplotlib\n",
    "font = {'family' : 'normal',\n",
    "        'weight' : 'light',\n",
    "        'size'   : 10}\n",
    "\n",
    "matplotlib.rc('font', **font)"
   ]
  },
  {
   "cell_type": "code",
   "execution_count": 22,
   "id": "8e15328b",
   "metadata": {},
   "outputs": [
    {
     "data": {
      "image/png": "[encoded data removed]",
      "text/plain": [
       "<Figure size 720x432 with 1 Axes>"
      ]
     },
     "metadata": {
      "needs_background": "light"
     },
     "output_type": "display_data"
    }
   ],
   "source": [
    "#plt.plot(times, mean_buckets)\n",
    "fig = plt.figure(figsize = (10, 6))\n",
    "#plt.errorbar(x, y, yerr = err, ecolor='black', capsize=10)#, label ='Line4')\n",
    "plt.plot(x, y, 'k', marker = 'o', color='#CC4F1B')\n",
    "plt.fill_between(x, y-err, y+err, alpha = 0.2)\n",
    "plt.grid(alpha=0.5, linestyle=':')\n",
    "plt.axhline(y=0, color='black', linestyle='--', label = 'No Noise')\n",
    "plt.xlabel('Ancilla $T_1$ ($\\mu s$)', fontsize = 15)\n",
    "#plt.hline(ecd_only)\n",
    "plt.ylabel(r'$\\mathcal{F}_{true} - \\mathcal{F}_{noisy}$', fontsize = 20)\n",
    "plt.title(r'Ancilla Relxation for $|g01> \\rightarrow |g10>$', fontsize = 15)\n",
    "fig.savefig('Ancilla Relaxation')\n",
    "#plt.legend()"
   ]
  },
  {
   "cell_type": "code",
   "execution_count": 36,
   "id": "7e12f188",
   "metadata": {},
   "outputs": [
    {
     "ename": "AttributeError",
     "evalue": "'list' object has no attribute 'shape'",
     "output_type": "error",
     "traceback": [
      "\u001b[1;31m---------------------------------------------------------------------------\u001b[0m",
      "\u001b[1;31mAttributeError\u001b[0m                            Traceback (most recent call last)",
      "\u001b[1;32m<ipython-input-36-c5cc93b6f9c2>\u001b[0m in \u001b[0;36m<module>\u001b[1;34m\u001b[0m\n\u001b[1;32m----> 1\u001b[1;33m \u001b[0my\u001b[0m\u001b[1;33m.\u001b[0m\u001b[0mshape\u001b[0m\u001b[1;33m(\u001b[0m\u001b[1;33m)\u001b[0m\u001b[1;33m\u001b[0m\u001b[1;33m\u001b[0m\u001b[0m\n\u001b[0m",
      "\u001b[1;31mAttributeError\u001b[0m: 'list' object has no attribute 'shape'"
     ]
    }
   ],
   "source": [
    "y.shape()"
   ]
  },
  {
   "cell_type": "code",
   "execution_count": 34,
   "id": "9557046a",
   "metadata": {},
   "outputs": [
    {
     "ename": "AttributeError",
     "evalue": "'list' object has no attribute 'shape'",
     "output_type": "error",
     "traceback": [
      "\u001b[1;31m---------------------------------------------------------------------------\u001b[0m",
      "\u001b[1;31mAttributeError\u001b[0m                            Traceback (most recent call last)",
      "\u001b[1;32m<ipython-input-34-73751ac3db2d>\u001b[0m in \u001b[0;36m<module>\u001b[1;34m\u001b[0m\n\u001b[0;32m      1\u001b[0m \u001b[1;31m#error = np.random.normal(0.1, 0.02, size=y.shape) +.1\u001b[0m\u001b[1;33m\u001b[0m\u001b[1;33m\u001b[0m\u001b[1;33m\u001b[0m\u001b[0m\n\u001b[1;32m----> 2\u001b[1;33m \u001b[0my\u001b[0m \u001b[1;33m+=\u001b[0m \u001b[0mnp\u001b[0m\u001b[1;33m.\u001b[0m\u001b[0mrandom\u001b[0m\u001b[1;33m.\u001b[0m\u001b[0mnormal\u001b[0m\u001b[1;33m(\u001b[0m\u001b[1;36m0\u001b[0m\u001b[1;33m,\u001b[0m \u001b[1;36m0.1\u001b[0m\u001b[1;33m,\u001b[0m \u001b[0msize\u001b[0m\u001b[1;33m=\u001b[0m\u001b[0my\u001b[0m\u001b[1;33m.\u001b[0m\u001b[0mshape\u001b[0m\u001b[1;33m)\u001b[0m\u001b[1;33m\u001b[0m\u001b[1;33m\u001b[0m\u001b[0m\n\u001b[0m\u001b[0;32m      3\u001b[0m \u001b[1;33m\u001b[0m\u001b[0m\n\u001b[0;32m      4\u001b[0m \u001b[0mpl\u001b[0m\u001b[1;33m.\u001b[0m\u001b[0mplot\u001b[0m\u001b[1;33m(\u001b[0m\u001b[0mx\u001b[0m\u001b[1;33m,\u001b[0m \u001b[0my\u001b[0m\u001b[1;33m,\u001b[0m \u001b[1;34m'k'\u001b[0m\u001b[1;33m,\u001b[0m \u001b[0mcolor\u001b[0m\u001b[1;33m=\u001b[0m\u001b[1;34m'#CC4F1B'\u001b[0m\u001b[1;33m)\u001b[0m\u001b[1;33m\u001b[0m\u001b[1;33m\u001b[0m\u001b[0m\n\u001b[0;32m      5\u001b[0m pl.fill_between(x, y-err, y+err,\n",
      "\u001b[1;31mAttributeError\u001b[0m: 'list' object has no attribute 'shape'"
     ]
    }
   ],
   "source": [
    "#error = np.random.normal(0.1, 0.02, size=y.shape) +.1\n",
    "y += np.random.normal(0, 0.1, size=y.shape)\n",
    "\n",
    "pl.plot(x, y, 'k', color='#CC4F1B')\n",
    "pl.fill_between(x, y-err, y+err,\n",
    "    alpha=0.5, edgecolor='#CC4F1B', facecolor='#FF9848')"
   ]
  },
  {
   "cell_type": "code",
   "execution_count": null,
   "id": "74828d8f",
   "metadata": {},
   "outputs": [],
   "source": []
  }
 ],
 "metadata": {
  "kernelspec": {
   "display_name": "Python 3 (ipykernel)",
   "language": "python",
   "name": "python3"
  },
  "language_info": {
   "codemirror_mode": {
    "name": "ipython",
    "version": 3
   },
   "file_extension": ".py",
   "mimetype": "text/x-python",
   "name": "python",
   "nbconvert_exporter": "python",
   "pygments_lexer": "ipython3",
   "version": "3.8.8"
  },
  "toc": {
   "base_numbering": 1,
   "nav_menu": {},
   "number_sections": true,
   "sideBar": true,
   "skip_h1_title": false,
   "title_cell": "Table of Contents",
   "title_sidebar": "Contents",
   "toc_cell": false,
   "toc_position": {},
   "toc_section_display": true,
   "toc_window_display": false
  },
  "varInspector": {
   "cols": {
    "lenName": 16,
    "lenType": 16,
    "lenVar": 40
   },
   "kernels_config": {
    "python": {
     "delete_cmd_postfix": "",
     "delete_cmd_prefix": "del ",
     "library": "var_list.py",
     "varRefreshCmd": "print(var_dic_list())"
    },
    "r": {
     "delete_cmd_postfix": ") ",
     "delete_cmd_prefix": "rm(",
     "library": "var_list.r",
     "varRefreshCmd": "cat(var_dic_list()) "
    }
   },
   "types_to_exclude": [
    "module",
    "function",
    "builtin_function_or_method",
    "instance",
    "_Feature"
   ],
   "window_display": false
  }
 },
 "nbformat": 4,
 "nbformat_minor": 5
}
