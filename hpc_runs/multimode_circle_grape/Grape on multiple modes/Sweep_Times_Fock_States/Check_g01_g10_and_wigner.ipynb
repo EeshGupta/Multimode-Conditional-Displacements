{
 "cells": [
  {
   "cell_type": "markdown",
   "metadata": {},
   "source": [
    "# Imports "
   ]
  },
  {
   "cell_type": "markdown",
   "metadata": {},
   "source": [
    "Aim: Beamsplitters vs time plots"
   ]
  },
  {
   "cell_type": "code",
   "execution_count": 32,
   "metadata": {},
   "outputs": [
    {
     "name": "stdout",
     "output_type": "stream",
     "text": [
      "hi\n"
     ]
    }
   ],
   "source": [
    "print('hi')"
   ]
  },
  {
   "cell_type": "code",
   "execution_count": 35,
   "metadata": {},
   "outputs": [],
   "source": [
    "%matplotlib inline\n",
    "import os\n",
    "import sys\n",
    "import inspect\n",
    "import numpy as np\n",
    "from scipy.special import factorial\n",
    "import h5py\n",
    "\n",
    "#data_path = '/data'     ... data path specified later\n",
    "#data_path\n",
    "#initial_pulse = '../pulses/example_pulses/transmon_cat_initial_pulse.h5'\n",
    "from h5py import File\n",
    "import matplotlib.pyplot as plt\n",
    "from pylab import*\n",
    "from qutip import*\n",
    "\n",
    "from scipy import interpolate\n",
    "font = {'family' : 'normal',\n",
    "        'weight' : 'normal',\n",
    "        'size'   : 18}\n",
    "\n",
    "matplotlib.rc('font', **font)\n"
   ]
  },
  {
   "cell_type": "code",
   "execution_count": 36,
   "metadata": {},
   "outputs": [],
   "source": [
    "sys.path.append(r'C:\\_Lib\\python\\quantum-optimal-control')"
   ]
  },
  {
   "cell_type": "code",
   "execution_count": 37,
   "metadata": {},
   "outputs": [],
   "source": [
    "from quantum_optimal_control.helper_functions.grape_functions import *\n",
    "from quantum_optimal_control.main_grape.grape import Grape\n",
    "from quantum_optimal_control import*"
   ]
  },
  {
   "cell_type": "code",
   "execution_count": 38,
   "metadata": {},
   "outputs": [],
   "source": [
    "from IPython.display import clear_output"
   ]
  },
  {
   "cell_type": "code",
   "execution_count": 39,
   "metadata": {},
   "outputs": [
    {
     "name": "stdout",
     "output_type": "stream",
     "text": [
      "The autoreload extension is already loaded. To reload it, use:\n",
      "  %reload_ext autoreload\n"
     ]
    }
   ],
   "source": [
    "%load_ext autoreload\n",
    "%autoreload 2"
   ]
  },
  {
   "cell_type": "markdown",
   "metadata": {},
   "source": [
    "$$\\newcommand{\\ket}[1]{\\left|{#1}\\right\\rangle}\n",
    "\\newcommand{\\bra}[1]{\\left\\langle{#1}\\right|}$$"
   ]
  },
  {
   "cell_type": "code",
   "execution_count": 40,
   "metadata": {},
   "outputs": [],
   "source": [
    "import pandas as pd"
   ]
  },
  {
   "cell_type": "markdown",
   "metadata": {},
   "source": [
    "# 3DMM2 parameters"
   ]
  },
  {
   "cell_type": "code",
   "execution_count": 41,
   "metadata": {},
   "outputs": [],
   "source": [
    "# chi = Peak splitting MHz\n",
    "chis = array([-33, -33]) \n",
    "kappas  = array([0,0]) # kHz"
   ]
  },
  {
   "cell_type": "markdown",
   "metadata": {},
   "source": [
    "# Multimode circle grape"
   ]
  },
  {
   "cell_type": "code",
   "execution_count": 42,
   "metadata": {},
   "outputs": [],
   "source": [
    "#TODO: Figure out why relative import doesn't work\n",
    "sys.path.append(r'C:\\_Lib\\python\\Multimode-Conditional-Displacements\\hpc_runs\\multimode_circle_grape\\class_description')\n",
    "from circle_grape_v4 import *"
   ]
  },
  {
   "cell_type": "code",
   "execution_count": 43,
   "metadata": {},
   "outputs": [],
   "source": [
    "transmon_levels = 2"
   ]
  },
  {
   "cell_type": "code",
   "execution_count": 44,
   "metadata": {},
   "outputs": [],
   "source": [
    "steps = int(1000/2) # not important for this notebook\n",
    "\n",
    "mode = 2\n",
    "mode_levels = 10\n",
    "chi,kappa = chis[:mode],kappas[:mode]\n",
    "chi = [i*1e-6 for i in chi]\n",
    "kappa = [i*1e-6 for i in kappa]\n",
    "circle_grape_params = {\"chis\":chi,\"kappas\":kappa,\"alpha\":30,\"delta_c\":0.01}\n",
    "\n",
    "states_forbidden_list = []\n",
    "\n",
    "convergence = {'rate': 0.1, 'update_step': 20, 'max_iterations': 250,\n",
    "               'conv_target': 1e-3, 'learning_rate_decay': 500.0}\n",
    "\n",
    "\n",
    "\n",
    "\n",
    "initial_guess = None\n",
    "\n",
    "\n",
    "reg_coeffs = {'dwdt': 0.1, 'd2wdt2': 1.0e-3, 'forbid_dressed': False,\n",
    "              'states_forbidden_list':states_forbidden_list,\n",
    "              'forbidden_coeff_list': [1.0*steps] * len(states_forbidden_list)}\n",
    "\n",
    "op = multimode_circle_grape_optimal_control(mode_state_num = mode_levels,\n",
    "                                            number_of_modes = mode,hparams = circle_grape_params,add_disp_kerr=False)\n",
    "\n"
   ]
  },
  {
   "cell_type": "code",
   "execution_count": 45,
   "metadata": {},
   "outputs": [
    {
     "data": {
      "text/html": [
       "<div>\n",
       "<style scoped>\n",
       "    .dataframe tbody tr th:only-of-type {\n",
       "        vertical-align: middle;\n",
       "    }\n",
       "\n",
       "    .dataframe tbody tr th {\n",
       "        vertical-align: top;\n",
       "    }\n",
       "\n",
       "    .dataframe thead th {\n",
       "        text-align: right;\n",
       "    }\n",
       "</style>\n",
       "<table border=\"1\" class=\"dataframe\">\n",
       "  <thead>\n",
       "    <tr style=\"text-align: right;\">\n",
       "      <th></th>\n",
       "      <th>time</th>\n",
       "      <th>steps</th>\n",
       "      <th>alpha</th>\n",
       "      <th>detuning</th>\n",
       "      <th>qubit_drive_amp</th>\n",
       "      <th>err</th>\n",
       "      <th>filenum</th>\n",
       "    </tr>\n",
       "  </thead>\n",
       "  <tbody>\n",
       "    <tr>\n",
       "      <th>0</th>\n",
       "      <td>1000</td>\n",
       "      <td>500</td>\n",
       "      <td>30</td>\n",
       "      <td>0.01</td>\n",
       "      <td>0.01</td>\n",
       "      <td>0.621863</td>\n",
       "      <td>0</td>\n",
       "    </tr>\n",
       "    <tr>\n",
       "      <th>1</th>\n",
       "      <td>1500</td>\n",
       "      <td>750</td>\n",
       "      <td>30</td>\n",
       "      <td>0.01</td>\n",
       "      <td>0.01</td>\n",
       "      <td>0.074013</td>\n",
       "      <td>1</td>\n",
       "    </tr>\n",
       "    <tr>\n",
       "      <th>2</th>\n",
       "      <td>2000</td>\n",
       "      <td>1000</td>\n",
       "      <td>30</td>\n",
       "      <td>0.01</td>\n",
       "      <td>0.01</td>\n",
       "      <td>0.169375</td>\n",
       "      <td>2</td>\n",
       "    </tr>\n",
       "    <tr>\n",
       "      <th>3</th>\n",
       "      <td>2500</td>\n",
       "      <td>1250</td>\n",
       "      <td>30</td>\n",
       "      <td>0.01</td>\n",
       "      <td>0.01</td>\n",
       "      <td>0.005698</td>\n",
       "      <td>3</td>\n",
       "    </tr>\n",
       "    <tr>\n",
       "      <th>4</th>\n",
       "      <td>1000</td>\n",
       "      <td>500</td>\n",
       "      <td>30</td>\n",
       "      <td>0.01</td>\n",
       "      <td>0.01</td>\n",
       "      <td>1.000000</td>\n",
       "      <td>4</td>\n",
       "    </tr>\n",
       "    <tr>\n",
       "      <th>5</th>\n",
       "      <td>1500</td>\n",
       "      <td>750</td>\n",
       "      <td>30</td>\n",
       "      <td>0.01</td>\n",
       "      <td>0.01</td>\n",
       "      <td>1.000000</td>\n",
       "      <td>5</td>\n",
       "    </tr>\n",
       "    <tr>\n",
       "      <th>6</th>\n",
       "      <td>2000</td>\n",
       "      <td>1000</td>\n",
       "      <td>30</td>\n",
       "      <td>0.01</td>\n",
       "      <td>0.01</td>\n",
       "      <td>1.000000</td>\n",
       "      <td>6</td>\n",
       "    </tr>\n",
       "    <tr>\n",
       "      <th>7</th>\n",
       "      <td>2500</td>\n",
       "      <td>1250</td>\n",
       "      <td>30</td>\n",
       "      <td>0.01</td>\n",
       "      <td>0.01</td>\n",
       "      <td>1.000000</td>\n",
       "      <td>7</td>\n",
       "    </tr>\n",
       "    <tr>\n",
       "      <th>8</th>\n",
       "      <td>1000</td>\n",
       "      <td>500</td>\n",
       "      <td>30</td>\n",
       "      <td>0.01</td>\n",
       "      <td>0.01</td>\n",
       "      <td>1.000000</td>\n",
       "      <td>8</td>\n",
       "    </tr>\n",
       "    <tr>\n",
       "      <th>9</th>\n",
       "      <td>1500</td>\n",
       "      <td>750</td>\n",
       "      <td>30</td>\n",
       "      <td>0.01</td>\n",
       "      <td>0.01</td>\n",
       "      <td>1.000000</td>\n",
       "      <td>9</td>\n",
       "    </tr>\n",
       "    <tr>\n",
       "      <th>10</th>\n",
       "      <td>2000</td>\n",
       "      <td>1000</td>\n",
       "      <td>30</td>\n",
       "      <td>0.01</td>\n",
       "      <td>0.01</td>\n",
       "      <td>1.000000</td>\n",
       "      <td>10</td>\n",
       "    </tr>\n",
       "    <tr>\n",
       "      <th>11</th>\n",
       "      <td>2500</td>\n",
       "      <td>1250</td>\n",
       "      <td>30</td>\n",
       "      <td>0.01</td>\n",
       "      <td>0.01</td>\n",
       "      <td>1.000000</td>\n",
       "      <td>11</td>\n",
       "    </tr>\n",
       "    <tr>\n",
       "      <th>12</th>\n",
       "      <td>1000</td>\n",
       "      <td>500</td>\n",
       "      <td>30</td>\n",
       "      <td>0.01</td>\n",
       "      <td>0.01</td>\n",
       "      <td>1.000000</td>\n",
       "      <td>12</td>\n",
       "    </tr>\n",
       "    <tr>\n",
       "      <th>13</th>\n",
       "      <td>1500</td>\n",
       "      <td>750</td>\n",
       "      <td>30</td>\n",
       "      <td>0.01</td>\n",
       "      <td>0.01</td>\n",
       "      <td>1.000000</td>\n",
       "      <td>13</td>\n",
       "    </tr>\n",
       "    <tr>\n",
       "      <th>14</th>\n",
       "      <td>2000</td>\n",
       "      <td>1000</td>\n",
       "      <td>30</td>\n",
       "      <td>0.01</td>\n",
       "      <td>0.01</td>\n",
       "      <td>1.000000</td>\n",
       "      <td>14</td>\n",
       "    </tr>\n",
       "    <tr>\n",
       "      <th>15</th>\n",
       "      <td>2500</td>\n",
       "      <td>1250</td>\n",
       "      <td>30</td>\n",
       "      <td>0.01</td>\n",
       "      <td>0.01</td>\n",
       "      <td>1.000000</td>\n",
       "      <td>15</td>\n",
       "    </tr>\n",
       "    <tr>\n",
       "      <th>16</th>\n",
       "      <td>1000</td>\n",
       "      <td>500</td>\n",
       "      <td>30</td>\n",
       "      <td>0.01</td>\n",
       "      <td>0.01</td>\n",
       "      <td>1.000000</td>\n",
       "      <td>16</td>\n",
       "    </tr>\n",
       "    <tr>\n",
       "      <th>17</th>\n",
       "      <td>1500</td>\n",
       "      <td>750</td>\n",
       "      <td>30</td>\n",
       "      <td>0.01</td>\n",
       "      <td>0.01</td>\n",
       "      <td>1.000000</td>\n",
       "      <td>17</td>\n",
       "    </tr>\n",
       "    <tr>\n",
       "      <th>18</th>\n",
       "      <td>2000</td>\n",
       "      <td>1000</td>\n",
       "      <td>30</td>\n",
       "      <td>0.01</td>\n",
       "      <td>0.01</td>\n",
       "      <td>1.000000</td>\n",
       "      <td>18</td>\n",
       "    </tr>\n",
       "    <tr>\n",
       "      <th>19</th>\n",
       "      <td>2500</td>\n",
       "      <td>1250</td>\n",
       "      <td>30</td>\n",
       "      <td>0.01</td>\n",
       "      <td>0.01</td>\n",
       "      <td>1.000000</td>\n",
       "      <td>19</td>\n",
       "    </tr>\n",
       "  </tbody>\n",
       "</table>\n",
       "</div>"
      ],
      "text/plain": [
       "    time  steps  alpha  detuning  qubit_drive_amp       err  filenum\n",
       "0   1000    500     30      0.01             0.01  0.621863        0\n",
       "1   1500    750     30      0.01             0.01  0.074013        1\n",
       "2   2000   1000     30      0.01             0.01  0.169375        2\n",
       "3   2500   1250     30      0.01             0.01  0.005698        3\n",
       "4   1000    500     30      0.01             0.01  1.000000        4\n",
       "5   1500    750     30      0.01             0.01  1.000000        5\n",
       "6   2000   1000     30      0.01             0.01  1.000000        6\n",
       "7   2500   1250     30      0.01             0.01  1.000000        7\n",
       "8   1000    500     30      0.01             0.01  1.000000        8\n",
       "9   1500    750     30      0.01             0.01  1.000000        9\n",
       "10  2000   1000     30      0.01             0.01  1.000000       10\n",
       "11  2500   1250     30      0.01             0.01  1.000000       11\n",
       "12  1000    500     30      0.01             0.01  1.000000       12\n",
       "13  1500    750     30      0.01             0.01  1.000000       13\n",
       "14  2000   1000     30      0.01             0.01  1.000000       14\n",
       "15  2500   1250     30      0.01             0.01  1.000000       15\n",
       "16  1000    500     30      0.01             0.01  1.000000       16\n",
       "17  1500    750     30      0.01             0.01  1.000000       17\n",
       "18  2000   1000     30      0.01             0.01  1.000000       18\n",
       "19  2500   1250     30      0.01             0.01  1.000000       19"
      ]
     },
     "execution_count": 45,
     "metadata": {},
     "output_type": "execute_result"
    }
   ],
   "source": [
    "#open dataset of resilts\n",
    "filename = \"beam_splitters\"\n",
    "df = pd.read_csv(filename)\n",
    "df"
   ]
  },
  {
   "cell_type": "code",
   "execution_count": 47,
   "metadata": {},
   "outputs": [
    {
     "data": {
      "text/plain": [
       "[0, 1]"
      ]
     },
     "execution_count": 47,
     "metadata": {},
     "output_type": "execute_result"
    }
   ],
   "source": [
    "data_filename = '00000_beamsplitter_data' + str(df['filenum'][3]) + '.h5' # highest fidelity (lowest error) for 1 photon beam splitter\n",
    "start_state = [0, 1]\n",
    "start_state"
   ]
  },
  {
   "cell_type": "code",
   "execution_count": 48,
   "metadata": {},
   "outputs": [],
   "source": [
    "t_list, out = op.qutip_mesolve_new(start_state,data_filename )"
   ]
  },
  {
   "cell_type": "code",
   "execution_count": 74,
   "metadata": {},
   "outputs": [],
   "source": [
    "def reshape_rho(rho): \n",
    "    '''\n",
    "    converts rho of dims [200, 200] to [[2, 10, 10], [2, 10, 10]]\n",
    "    '''\n",
    "    rho_np = np.array(rho)\n",
    "    return Qobj(rho_np, dims = [[2, 10, 10], [2, 10, 10]])"
   ]
  },
  {
   "cell_type": "code",
   "execution_count": 78,
   "metadata": {},
   "outputs": [
    {
     "data": {
      "text/plain": [
       "[[200], [200]]"
      ]
     },
     "execution_count": 78,
     "metadata": {},
     "output_type": "execute_result"
    }
   ],
   "source": [
    "out.states[-1].dims"
   ]
  },
  {
   "cell_type": "code",
   "execution_count": 79,
   "metadata": {},
   "outputs": [
    {
     "data": {
      "text/plain": [
       "[[2, 10, 10], [2, 10, 10]]"
      ]
     },
     "execution_count": 79,
     "metadata": {},
     "output_type": "execute_result"
    }
   ],
   "source": [
    "reshape_rho(out.states[-1]).dims"
   ]
  },
  {
   "cell_type": "code",
   "execution_count": 65,
   "metadata": {},
   "outputs": [],
   "source": [
    "# target = tensor(basis(2,0), basis(10, 1), basis(10, 0))\n",
    "# #rho_t = Qobj(np.array(target*target.dag()))\n",
    "# rho_t"
   ]
  },
  {
   "cell_type": "code",
   "execution_count": 66,
   "metadata": {},
   "outputs": [],
   "source": [
    "#out.states[-1].overlap(rho_t)"
   ]
  },
  {
   "cell_type": "code",
   "execution_count": 67,
   "metadata": {},
   "outputs": [],
   "source": [
    "# rho = np.array(out.states[-1])\n",
    "# print(rho.shape)\n",
    "# rho.shape = ((2, 10, 10), (2, 10, 10))\n",
    "# Qobj(rho)"
   ]
  },
  {
   "cell_type": "code",
   "execution_count": 68,
   "metadata": {},
   "outputs": [],
   "source": [
    "# psi = tensor(basis(2,0), basis(3, 0), basis(4, 0))\n",
    "# psi"
   ]
  },
  {
   "cell_type": "code",
   "execution_count": 69,
   "metadata": {},
   "outputs": [],
   "source": [
    "# a = np.array(psi)\n",
    "# a.shape\n",
    "# psi_ = Qobj(a, dims = [[2, 3, 4], [1, 1, 1]])"
   ]
  },
  {
   "cell_type": "code",
   "execution_count": 70,
   "metadata": {},
   "outputs": [],
   "source": [
    "# psi_"
   ]
  },
  {
   "cell_type": "markdown",
   "metadata": {},
   "source": [
    "# Wigner"
   ]
  },
  {
   "cell_type": "code",
   "execution_count": 81,
   "metadata": {},
   "outputs": [],
   "source": [
    "def wigner_funcs(rho): \n",
    "    '''\n",
    "    Input:  density matrix \n",
    "    Output wigner functions for the two modes coupled to transmon\n",
    "    '''\n",
    "    rho = reshape_rho(rho)\n",
    "    w1 = wigner(rho.ptrace(1), xvec, xvec)\n",
    "    w2 = wigner(rho.ptrace(2), xvec, xvec)\n",
    "    return w1, w2\n",
    "    "
   ]
  },
  {
   "cell_type": "code",
   "execution_count": 85,
   "metadata": {},
   "outputs": [],
   "source": [
    "#wigner_funcs(out.states[-1])"
   ]
  },
  {
   "cell_type": "code",
   "execution_count": 87,
   "metadata": {},
   "outputs": [],
   "source": [
    "from matplotlib.animation import FuncAnimation\n",
    "from matplotlib.animation import PillowWriter\n",
    "# Save the animation as an animated GIF\n"
   ]
  },
  {
   "cell_type": "code",
   "execution_count": 91,
   "metadata": {},
   "outputs": [
    {
     "data": {
      "text/plain": [
       "2501"
      ]
     },
     "execution_count": 91,
     "metadata": {},
     "output_type": "execute_result"
    }
   ],
   "source": [
    "len(out.states)"
   ]
  },
  {
   "cell_type": "code",
   "execution_count": 99,
   "metadata": {},
   "outputs": [
    {
     "data": {
      "image/png": "[encoded data removed]",
      "text/plain": [
       "<Figure size 720x288 with 3 Axes>"
      ]
     },
     "metadata": {
      "needs_background": "light"
     },
     "output_type": "display_data"
    }
   ],
   "source": [
    "xvec = np.linspace(-5,5,200)\n",
    "frames = 30\n",
    "fig, axes = plt.subplots(1, 2, figsize=(10, 4))\n",
    "cmap = cm.bwr_r\n",
    "\n",
    "\n",
    "##################### Initial \n",
    "W1, W2 = wigner_funcs(out.states[0]) \n",
    "plt1 = axes[0].contourf(xvec, xvec, W1, 100, cmap=cmap,  vmin = -0.3, vmax = 0.3)\n",
    "plt2 = axes[1].contourf(xvec, xvec, W2, 100, cmap=cmap,  vmin = -0.3, vmax = 0.3) \n",
    "\n",
    "\n",
    "# Start of solution\n",
    "from matplotlib.cm import ScalarMappable\n",
    "\n",
    "levels = 400\n",
    "vmin = -0.3\n",
    "vmax = 0.3\n",
    "ticks = [vmin + (0.1*i) for i in range(6+1)]\n",
    "\n",
    "level_boundaries = np.linspace(vmin, vmax, levels + 1)\n",
    "\n",
    "fig.colorbar(\n",
    "    ScalarMappable(norm=plt2.norm, cmap=plt2.cmap),\n",
    "    ticks=ticks,\n",
    "    boundaries=level_boundaries,\n",
    "    values=(level_boundaries[:-1] + level_boundaries[1:]) / 2,\n",
    ")\n",
    "##############################\n",
    "\n",
    "\n",
    "\n",
    "\n",
    "axes[0].set_title(\"First Mode\");\n",
    "\n",
    "\n",
    "#plt.clim(-0.3, 0.3)\n",
    "\n",
    "axes[1].set_title(\"Second Mode\")\n",
    "\n",
    "\n",
    "\n",
    "\n",
    "def animate(i):\n",
    "    \n",
    "    total_time = len(out.states)\n",
    "    time_step = int(total_time/frames)\n",
    "    curr_time = i*time_step\n",
    "    #prit(curr_time)\n",
    "    fig.suptitle('t = ' + str(curr_time/1000) + '$\\mu$s /' + str(total_time/1000) + '$\\mu$s /')\n",
    "    W1, W2 = wigner_funcs(out.states[curr_time])\n",
    "    \n",
    "    axes[0].clear()\n",
    "    axes[1].clear()\n",
    "    \n",
    "   \n",
    "    plt1 = axes[1].contourf(xvec, xvec, W1, 100, cmap=cmap,  vmin = -0.3, vmax = 0.3) # swapping axes because want to show g10 -> g01 with first mode starting at 1 photon\n",
    "    plt2 = axes[0].contourf(xvec, xvec, W2, 100, cmap=cmap,  vmin = -0.3, vmax = 0.3) \n",
    "    \n",
    "\n",
    "ani = FuncAnimation(fig, animate, frames=frames, interval=500, repeat=False)\n",
    "plt.show()"
   ]
  },
  {
   "cell_type": "code",
   "execution_count": 98,
   "metadata": {},
   "outputs": [],
   "source": [
    "ani.save(\"circ_grape_beam_split.gif\", dpi=300,\n",
    "         writer=PillowWriter(fps=10))"
   ]
  },
  {
   "cell_type": "code",
   "execution_count": null,
   "metadata": {},
   "outputs": [],
   "source": []
  }
 ],
 "metadata": {
  "kernelspec": {
   "display_name": "Python 3 (ipykernel)",
   "language": "python",
   "name": "python3"
  },
  "language_info": {
   "codemirror_mode": {
    "name": "ipython",
    "version": 3
   },
   "file_extension": ".py",
   "mimetype": "text/x-python",
   "name": "python",
   "nbconvert_exporter": "python",
   "pygments_lexer": "ipython3",
   "version": "3.8.8"
  },
  "toc": {
   "base_numbering": 1,
   "nav_menu": {},
   "number_sections": true,
   "sideBar": false,
   "skip_h1_title": false,
   "title_cell": "Table of Contents",
   "title_sidebar": "Contents",
   "toc_cell": false,
   "toc_position": {
    "height": "189.537px",
    "left": "796.952px",
    "top": "111.06px",
    "width": "164.993px"
   },
   "toc_section_display": true,
   "toc_window_display": false
  },
  "varInspector": {
   "cols": {
    "lenName": 16,
    "lenType": 16,
    "lenVar": 40
   },
   "kernels_config": {
    "python": {
     "delete_cmd_postfix": "",
     "delete_cmd_prefix": "del ",
     "library": "var_list.py",
     "varRefreshCmd": "print(var_dic_list())"
    },
    "r": {
     "delete_cmd_postfix": ") ",
     "delete_cmd_prefix": "rm(",
     "library": "var_list.r",
     "varRefreshCmd": "cat(var_dic_list()) "
    }
   },
   "types_to_exclude": [
    "module",
    "function",
    "builtin_function_or_method",
    "instance",
    "_Feature"
   ],
   "window_display": false
  }
 },
 "nbformat": 4,
 "nbformat_minor": 4
}
