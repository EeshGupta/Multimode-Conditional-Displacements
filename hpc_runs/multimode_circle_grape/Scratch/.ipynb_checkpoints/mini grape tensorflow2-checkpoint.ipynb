{
 "cells": [
  {
   "cell_type": "markdown",
   "id": "7417fdd0",
   "metadata": {},
   "source": [
    "# Model of Grape"
   ]
  },
  {
   "cell_type": "code",
   "execution_count": 2,
   "id": "d3927860",
   "metadata": {},
   "outputs": [],
   "source": [
    "import tensorflow as tf"
   ]
  },
  {
   "cell_type": "code",
   "execution_count": 6,
   "id": "335c6cf6",
   "metadata": {},
   "outputs": [],
   "source": [
    "class Model(tf.Module):\n",
    "\n",
    "    def __init__(self, timesteps, time):\n",
    "        \n",
    "        \n",
    "        \n",
    "        # First, we define all ops and matrices (quantum mechanics)\n",
    "        \n",
    "        self.dim = 2 * 1 #2 qubits\n",
    "        \n",
    "        ##initial Vector\n",
    "        zeroes = [0 for i in range(self.dim)]\n",
    "        zeroes[0] = 1\n",
    "        self.psi0 = tf.transpose(tf.cast(zeroes, dtype = tf.complex128))\n",
    "        ##final vector\n",
    "        zeroes = [0 for i in range(self.dim)]\n",
    "        zeroes[1] =1 \n",
    "        self.psi1 = tf.transpose(tf.cast(zeroes, dtype = tf.complex128))\n",
    "        ##matrices\n",
    "        self.sigma_z = tf.cast([[1, 0],[0, -1]], dtype = tf.complex128)\n",
    "        self.sigma_x = tf.cast([[1, 0],[0, -1]], dtype = tf.complex128)\n",
    "        self.identity = tf.cast([[1, 0],[0, 1]], dtype = tf.complex128)\n",
    "        \n",
    "        self.hams = [self.sigma_z,\n",
    "                     self.sigma_x]\n",
    "        self.num_drives = len(self.hams) -1 # -1 for time indep\n",
    "        self.total_time = time\n",
    "        self.dt = self.total_time/timesteps\n",
    "        \n",
    "        \n",
    "        \n",
    "        # Second, Randomly generate weight and bias terms\n",
    "        rand_init = tf.random.uniform(shape=[self.num_drives, timesteps], minval=0., maxval=5., seed=22)\n",
    "        # Initialize model parameters\n",
    "        '''\n",
    "        Structure of u list:  [u11, u12, u13] #drive 1\n",
    "                              [u12, u22, u23] #drive 2...\n",
    "        '''\n",
    "        self.us_list = [[tf.Variable(rand_init[i][j]) for j in range(timesteps)] for i in range(self.num_drives)]\n",
    "        \n",
    "        \n",
    "        \n",
    "    @tf.function\n",
    "    def __call__(self, x):\n",
    "        # Quadratic Model : quadratic_weight * x^2 + linear_weight * x + bias\n",
    "        #return self.w_q * (x**2) + self.w_l * x + self.b\n",
    "        unitary = time_evol_op\n",
    "        final_state = prod_matrix_state(unitary, self.psi0)\n",
    "        return self.inner_product(initial, final)\n",
    "\n",
    "    @tf.function\n",
    "    def time_evol_op(self):\n",
    "        '''\n",
    "        returns e^{-iHt}\n",
    "        '''\n",
    "        imag = tf.constant(-1j, dtype=tf.complex28, shape=None, name='Const')\n",
    "        unitary = identity #start of identity\n",
    "        num_drives = len(self.hams)\n",
    "        for j in timesteps: \n",
    "            dt_evol = [1 - (imag*self.us_list[i][j]*self.hams[i]*self.dt) for i in range(num_drives)] # e^-A \\approx 1 - A\n",
    "            unitary = tf.matmul(dt_evol, unitary)\n",
    "        return unitary\n",
    "    \n",
    "    @tf.function\n",
    "    def prod_matrix_state(self, unitary, state): \n",
    "        '''\n",
    "        Multiply matrix by statevector\n",
    "        '''\n",
    "        return tf.linalg.matvec(unitary, state)\n",
    "    \n",
    "    @tf.function    \n",
    "    def inner_product(self, psi1, psi2):\n",
    "        # Take 2 states psi1,psi2, calculate their overlap, for single vector\n",
    "        state_num = self.sys_para.state_num\n",
    "\n",
    "        psi_1_real = (psi1[0:state_num])\n",
    "        psi_1_imag = (psi1[state_num:2*state_num])\n",
    "        psi_2_real = (psi2[0:state_num])\n",
    "        psi_2_imag = (psi2[state_num:2*state_num])\n",
    "        # psi1 has a+ib, psi2 has c+id (psi2* = c-id), we wanna get Sum ((ac+bd) + i (bc-ad)) magnitude\n",
    "        with tf.name_scope('inner_product'):\n",
    "            ac = tf.multiply(psi_1_real, psi_2_real)\n",
    "            bd = tf.multiply(psi_1_imag, psi_2_imag)\n",
    "            bc = tf.multiply(psi_1_imag, psi_2_real)\n",
    "            ad = tf.multiply(psi_1_real, psi_2_imag)\n",
    "            reals = tf.square(tf.add(tf.reduce_sum(ac), tf.reduce_sum(bd)))\n",
    "            imags = tf.square(tf.subtract(\n",
    "                tf.reduce_sum(bc), tf.reduce_sum(ad)))\n",
    "            norm = tf.add(reals, imags)\n",
    "        return norm\n",
    "    \n",
    "    @tf.function\n",
    "    def kron_product(self, mat1, mat2):\n",
    "        '''\n",
    "        Takes kronecker product of 2 matrices\n",
    "        '''\n",
    "        operator_1 = tf.linalg.LinearOperatorFullMatrix(mat1.numpy())\n",
    "        operator_2 = tf.linalg.LinearOperatorFullMatrix(mat2.numpy())\n",
    "        operator = tf.linalg.LinearOperatorKronecker([operator_1, operator_2])\n",
    "        return tf.cast(operator.to_dense().numpy(), dtype = tf.complex64)\n",
    "#     def hamiltonian(self):\n",
    "#         '''\n",
    "#         return the drive hamiltonains\n",
    "#         '''\n",
    "        \n",
    "                                       "
   ]
  },
  {
   "cell_type": "code",
   "execution_count": 7,
   "id": "04b436b2",
   "metadata": {},
   "outputs": [
    {
     "ename": "AttributeError",
     "evalue": "'Model' object has no attribute 'timesteps'",
     "output_type": "error",
     "traceback": [
      "\u001b[1;31m---------------------------------------------------------------------------\u001b[0m",
      "\u001b[1;31mAttributeError\u001b[0m                            Traceback (most recent call last)",
      "\u001b[1;32m<ipython-input-7-e9c4e0d93af3>\u001b[0m in \u001b[0;36m<module>\u001b[1;34m\u001b[0m\n\u001b[1;32m----> 1\u001b[1;33m \u001b[0mquad_model\u001b[0m \u001b[1;33m=\u001b[0m \u001b[0mModel\u001b[0m\u001b[1;33m(\u001b[0m\u001b[1;36m10\u001b[0m\u001b[1;33m,\u001b[0m \u001b[1;36m100\u001b[0m\u001b[1;33m)\u001b[0m\u001b[1;33m\u001b[0m\u001b[1;33m\u001b[0m\u001b[0m\n\u001b[0m",
      "\u001b[1;32m<ipython-input-6-c1c9232cfa97>\u001b[0m in \u001b[0;36m__init__\u001b[1;34m(self, timesteps, time)\u001b[0m\n\u001b[0;32m     24\u001b[0m         \u001b[0mself\u001b[0m\u001b[1;33m.\u001b[0m\u001b[0mnum_drives\u001b[0m \u001b[1;33m=\u001b[0m \u001b[0mlen\u001b[0m\u001b[1;33m(\u001b[0m\u001b[0mself\u001b[0m\u001b[1;33m.\u001b[0m\u001b[0mhams\u001b[0m\u001b[1;33m)\u001b[0m \u001b[1;33m-\u001b[0m\u001b[1;36m1\u001b[0m \u001b[1;31m# -1 for time indep\u001b[0m\u001b[1;33m\u001b[0m\u001b[1;33m\u001b[0m\u001b[0m\n\u001b[0;32m     25\u001b[0m         \u001b[0mself\u001b[0m\u001b[1;33m.\u001b[0m\u001b[0mtotal_time\u001b[0m \u001b[1;33m=\u001b[0m \u001b[0mtime\u001b[0m\u001b[1;33m\u001b[0m\u001b[1;33m\u001b[0m\u001b[0m\n\u001b[1;32m---> 26\u001b[1;33m         \u001b[0mself\u001b[0m\u001b[1;33m.\u001b[0m\u001b[0mdt\u001b[0m \u001b[1;33m=\u001b[0m \u001b[0mself\u001b[0m\u001b[1;33m.\u001b[0m\u001b[0mtotal_time\u001b[0m\u001b[1;33m/\u001b[0m\u001b[0mself\u001b[0m\u001b[1;33m.\u001b[0m\u001b[0mtimesteps\u001b[0m\u001b[1;33m\u001b[0m\u001b[1;33m\u001b[0m\u001b[0m\n\u001b[0m\u001b[0;32m     27\u001b[0m \u001b[1;33m\u001b[0m\u001b[0m\n\u001b[0;32m     28\u001b[0m \u001b[1;33m\u001b[0m\u001b[0m\n",
      "\u001b[1;31mAttributeError\u001b[0m: 'Model' object has no attribute 'timesteps'"
     ]
    }
   ],
   "source": [
    "quad_model = Model(10, 100)"
   ]
  },
  {
   "cell_type": "code",
   "execution_count": null,
   "id": "a2fcf4ac",
   "metadata": {},
   "outputs": [],
   "source": [
    "# loss\n",
    "@tf.function\n",
    "def loss(y_pred):\n",
    "  return 1-y_pred"
   ]
  },
  {
   "cell_type": "code",
   "execution_count": null,
   "id": "2ebb8ff3",
   "metadata": {},
   "outputs": [],
   "source": [
    "#timing \n",
    "t0 = time.time()\n",
    "# Set training parameters\n",
    "epochs = 100\n",
    "learning_rate = 0.01\n",
    "losses = [] \n",
    "\n",
    "quad_model = Model()\n",
    "# Format training loop\n",
    "for epoch in range(epochs):\n",
    "    with tf.GradientTape() as tape:\n",
    "        iter_loss = loss(quad_model())\n",
    "\n",
    "    # Update parameters with respect to the gradient calculations\n",
    "    grads = tape.gradient(iter_loss, quad_model.variables)\n",
    "    for g,v in zip(grads, quad_model.variables):\n",
    "        v.assign_sub(learning_rate*g)\n",
    "  # Keep track of model loss per epoch\n",
    "  loss = mse_loss(quad_model(x), y)\n",
    "  losses.append(loss)\n",
    "  if epoch % 10 == 0:\n",
    "    print(f'Mean squared error for step {epoch}: {loss.numpy():0.3f}')\n",
    "\n",
    "# Plot model results\n",
    "print(\"\\n\")\n",
    "plt.plot(range(epochs), losses)\n",
    "plt.xlabel(\"Epoch\")\n",
    "plt.ylabel(\"Mean Squared Error (MSE)\")\n",
    "plt.title('MSE loss vs training iterations');\n",
    "print('time took: {} seconds'.format(time.time() - t0))"
   ]
  }
 ],
 "metadata": {
  "kernelspec": {
   "display_name": "Python 3",
   "language": "python",
   "name": "python3"
  },
  "language_info": {
   "codemirror_mode": {
    "name": "ipython",
    "version": 3
   },
   "file_extension": ".py",
   "mimetype": "text/x-python",
   "name": "python",
   "nbconvert_exporter": "python",
   "pygments_lexer": "ipython3",
   "version": "3.8.8"
  },
  "toc": {
   "base_numbering": 1,
   "nav_menu": {},
   "number_sections": true,
   "sideBar": true,
   "skip_h1_title": false,
   "title_cell": "Table of Contents",
   "title_sidebar": "Contents",
   "toc_cell": false,
   "toc_position": {},
   "toc_section_display": true,
   "toc_window_display": false
  },
  "varInspector": {
   "cols": {
    "lenName": 16,
    "lenType": 16,
    "lenVar": 40
   },
   "kernels_config": {
    "python": {
     "delete_cmd_postfix": "",
     "delete_cmd_prefix": "del ",
     "library": "var_list.py",
     "varRefreshCmd": "print(var_dic_list())"
    },
    "r": {
     "delete_cmd_postfix": ") ",
     "delete_cmd_prefix": "rm(",
     "library": "var_list.r",
     "varRefreshCmd": "cat(var_dic_list()) "
    }
   },
   "types_to_exclude": [
    "module",
    "function",
    "builtin_function_or_method",
    "instance",
    "_Feature"
   ],
   "window_display": false
  }
 },
 "nbformat": 4,
 "nbformat_minor": 5
}
