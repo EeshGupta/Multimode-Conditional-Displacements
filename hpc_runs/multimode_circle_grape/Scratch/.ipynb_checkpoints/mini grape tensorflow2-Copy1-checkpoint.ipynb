{
 "cells": [
  {
   "cell_type": "markdown",
   "id": "7417fdd0",
   "metadata": {},
   "source": [
    "# Model of Grape"
   ]
  },
  {
   "cell_type": "code",
   "execution_count": 1,
   "id": "d3927860",
   "metadata": {},
   "outputs": [],
   "source": [
    "import tensorflow as tf"
   ]
  },
  {
   "cell_type": "code",
   "execution_count": 324,
   "id": "335c6cf6",
   "metadata": {},
   "outputs": [],
   "source": [
    "class Model(tf.Module):\n",
    "\n",
    "    def __init__(self):\n",
    "        \n",
    "        #vars\n",
    "        self.time = 100\n",
    "        self.timesteps = 50\n",
    "        \n",
    "        \n",
    "        # First, we define all ops and matrices (quantum mechanics)\n",
    "        \n",
    "        self.dim = 2 * 1 #2 qubits\n",
    "        \n",
    "        self.init_states_and_ops()\n",
    "        \n",
    "        self.hams = [self.sigma_z,\n",
    "                     self.sigma_z,\n",
    "                     self.sigma_x,\n",
    "                     self.sigma_y]\n",
    "        self.num_drives = len(self.hams) -1 #for time indep (z part is time idep)\n",
    "        self.total_time = self.time\n",
    "        self.dt = tf.cast(self.total_time/self.timesteps, dtype = tf.complex128)\n",
    "        \n",
    "        \n",
    "        \n",
    "        # Second, Randomly generate weight and bias terms\n",
    "        rand_init = tf.random.uniform(shape=[self.num_drives, self.timesteps], minval=0., maxval=5., seed=22)\n",
    "        #rand_init = tf.cast(rand_init, dtype = tf.complex128)\n",
    "        # Initialize model parameters\n",
    "        '''\n",
    "        Structure of u list:  \n",
    "                                [u11, u12, u13] #drive 1\n",
    "                              [u12, u22, u23] #drive 2...\n",
    "        '''\n",
    "        self.us_list = [[tf.Variable(rand_init[i][j], dtype = tf.float32) for j in range(self.timesteps)] for i in range(self.num_drives)]\n",
    "        \n",
    "        \n",
    "        \n",
    "   # @tf.function\n",
    "    def __call__(self):\n",
    "        # Quadratic Model : quadratic_weight * x^2 + linear_weight * x + bias\n",
    "        #return self.w_q * (x**2) + self.w_l * x + self.b\n",
    "        unitary = self.time_evol_op()\n",
    "        #print(unitary.numpy())\n",
    "        self.final_state = self.prod_matrix_state(unitary, self.psi0)\n",
    "        #print('...')\n",
    "        #tf.print(final_state, [final_state])\n",
    "        #return tf.square(self.inner_product(final_state, self.psi1))\n",
    "        norm = tf.math.abs(self.inner_product(self.final_state, self.psi1))\n",
    "        return tf.square(norm)\n",
    "\n",
    "    #@tf.function\n",
    "    def time_evol_op(self):\n",
    "        '''\n",
    "        returns e^{-iHt}\n",
    "        '''\n",
    "#         imag = tf.constant(-1j, dtype=tf.complex128, shape=None, name='Const')\n",
    "        unitary = self.identity #start of identity\n",
    "#         us_list = tf.cast(self.us_list, dtype= tf.complex128)\n",
    "        \n",
    "        for j in range(self.timesteps): \n",
    "            unitary = tf.matmul(self.exp_matrix(j), unitary)\n",
    "#             for i in range(self.num_drives):  \n",
    "#                 #time dep\n",
    "#                 unitary = tf.matmul(self.identity - (imag*us_list[i][j]*self.hams[i+1]*self.dt), unitary) \n",
    "           # unitary = tf.linalg.normalize(unitary)[0]\n",
    "        return unitary\n",
    "    \n",
    "    def exp_matrix(self, timestep):\n",
    "        '''\n",
    "        Returns the exponentiated operator for specified timestep\n",
    "        '''\n",
    "        us_list = tf.cast(self.us_list, dtype= tf.complex128)\n",
    "        imag = tf.constant(1j, dtype=tf.complex128, shape=None, name='Const')\n",
    "        \n",
    "        #first add the time indep term\n",
    "        exponent = self.hams[0]\n",
    "        \n",
    "        #then the drive terms \n",
    "        for i in range(self.num_drives): \n",
    "#             slices = us_list[i][timestep]*self.hams[i+1]\n",
    "#             print(slices)\n",
    "            exponent += us_list[i][timestep]*self.hams[i+1]\n",
    "            \n",
    "        #matrix = self.identity - (imag*exponent*self.dt) # e^-A \\approx 1 - A\n",
    "        matrix = tf.linalg.expm(-1*imag*exponent*self.dt)\n",
    "        #matrix = tf.linalg.normalize(matrix)[0]\n",
    "#         print(matrix)\n",
    "        return matrix\n",
    "    \n",
    "    #@tf.function\n",
    "    def prod_matrix_state(self, unitary, state): \n",
    "        '''\n",
    "        Multiply matrix by statevector\n",
    "        '''\n",
    "        #print(tf.linalg.matvec(unitary, state))\n",
    "        state = tf.linalg.matvec(unitary, state)\n",
    "        #state = tf.ensure_shape(state, [2,1])\n",
    "        #print(state.numpy())\n",
    "        return state\n",
    "    \n",
    "   # @tf.function    \n",
    "    def inner_product(self, psi1, psi2):\n",
    "        # Take 2 states psi1,psi2, calculate their overlap, for single vector\n",
    "        \n",
    "        norm = tf.cast(0, dtype = tf.complex128)\n",
    "        for i in range(len(psi1)): \n",
    "            norm = tf.add(norm, \n",
    "                          tf.multiply(tf.math.conj(psi1[i]), psi2[i]))\n",
    "        return norm\n",
    "    \n",
    "    #@tf.function\n",
    "    def kron_product(self, mat1, mat2):\n",
    "        '''\n",
    "        Takes kronecker product of 2 matrices\n",
    "        '''\n",
    "        operator_1 = tf.linalg.LinearOperatorFullMatrix(mat1.numpy())\n",
    "        operator_2 = tf.linalg.LinearOperatorFullMatrix(mat2.numpy())\n",
    "        operator = tf.linalg.LinearOperatorKronecker([operator_1, operator_2])\n",
    "        return tf.cast(operator.to_dense().numpy(), dtype = tf.complex64)\n",
    "#     def hamiltonian(self):\n",
    "#         '''\n",
    "#         return the drive hamiltonains\n",
    "#         '''\n",
    "    def init_states_and_ops(self):\n",
    "        '''\n",
    "        initialize states and ops\n",
    "        '''\n",
    "        ##initial Vector\n",
    "        zeroes = [0 for i in range(self.dim)]\n",
    "        zeroes[0] = 1\n",
    "        self.psi0 = tf.transpose(tf.cast(zeroes, dtype = tf.complex128))\n",
    "        ##final vector\n",
    "        zeroes = [0 for i in range(self.dim)]\n",
    "        zeroes[1] =1 \n",
    "        self.psi1 = tf.transpose(tf.cast(zeroes, dtype = tf.complex128))\n",
    "        ##matrices\n",
    "        #c = tf.constant(1/np.sqrt(2), dtype = tf.complex128)\n",
    "        imag = tf.constant(1j, dtype=tf.complex128, shape=None, name='Const')\n",
    "        \n",
    "        self.sigma_z = tf.linalg.normalize(\n",
    "                            tf.cast([[1, 0],[0, -1]], dtype = tf.complex128)\n",
    "                        )[0]   # the second element is a unwanted scalar\n",
    "        self.sigma_x = tf.linalg.normalize(\n",
    "                            tf.cast([[0, 1],[1, 0]], dtype = tf.complex128)\n",
    "                        )[0]\n",
    "        self.sigma_y = tf.linalg.normalize(\n",
    "                            tf.cast([[0, -1* imag],[1*imag, 0]], dtype = tf.complex128)\n",
    "                        )[0]\n",
    "        \n",
    "        self.identity = tf.linalg.normalize(\n",
    "                            tf.cast([[1, 0],[0, 1]], dtype = tf.complex128)\n",
    "                        )[0] \n",
    "        \n",
    "                                       "
   ]
  },
  {
   "cell_type": "code",
   "execution_count": 325,
   "id": "a9c46043",
   "metadata": {},
   "outputs": [],
   "source": [
    "#sigma_z = tf.cast([[1, 0],[0, -1]], dtype = tf.complex128)"
   ]
  },
  {
   "cell_type": "code",
   "execution_count": 326,
   "id": "c3702b23",
   "metadata": {},
   "outputs": [],
   "source": [
    "#quad_model.sigma_z"
   ]
  },
  {
   "cell_type": "code",
   "execution_count": 327,
   "id": "66a4d937",
   "metadata": {},
   "outputs": [],
   "source": [
    "# #normalized\n",
    "# tf.linalg.normalize(\n",
    "#     sigma_z, ord='euclidean', axis=None, name=None\n",
    "# )[0]"
   ]
  },
  {
   "cell_type": "code",
   "execution_count": 328,
   "id": "7fd9514c",
   "metadata": {},
   "outputs": [],
   "source": [
    "zeroes = [0 for i in range(2)]\n",
    "zeroes[0] = 1\n",
    "psi0 = tf.transpose(tf.cast(zeroes, dtype = tf.complex128))\n",
    "zeroes = [0 for i in range(2)]\n",
    "zeroes[1] = 1\n",
    "psi1 = tf.transpose(tf.cast(zeroes, dtype = tf.complex128))\n"
   ]
  },
  {
   "cell_type": "code",
   "execution_count": 329,
   "id": "124e7381",
   "metadata": {},
   "outputs": [
    {
     "data": {
      "text/plain": [
       "<tf.Tensor: shape=(), dtype=complex128, numpy=0j>"
      ]
     },
     "execution_count": 329,
     "metadata": {},
     "output_type": "execute_result"
    }
   ],
   "source": [
    "quad_model = Model()\n",
    "quad_model.inner_product(psi0, psi1)"
   ]
  },
  {
   "cell_type": "code",
   "execution_count": 330,
   "id": "3800406f",
   "metadata": {},
   "outputs": [
    {
     "data": {
      "text/plain": [
       "<tf.Tensor: shape=(2, 2), dtype=complex128, numpy=\n",
       "array([[ 0.40153338-0.55179256j,  0.08665008+0.16366944j],\n",
       "       [-0.08665008+0.16366944j,  0.40153338+0.55179256j]])>"
      ]
     },
     "execution_count": 330,
     "metadata": {},
     "output_type": "execute_result"
    }
   ],
   "source": [
    "quad_model.time_evol_op()"
   ]
  },
  {
   "cell_type": "code",
   "execution_count": 331,
   "id": "783cb455",
   "metadata": {},
   "outputs": [
    {
     "data": {
      "text/plain": [
       "<tf.Tensor: shape=(2, 2), dtype=complex128, numpy=\n",
       "array([[-0.35210716-0.51067634j, -0.72771114-0.29268878j],\n",
       "       [ 0.72771114-0.29268878j, -0.35210716+0.51067634j]])>"
      ]
     },
     "execution_count": 331,
     "metadata": {},
     "output_type": "execute_result"
    }
   ],
   "source": [
    "quad_model.exp_matrix(1)"
   ]
  },
  {
   "cell_type": "code",
   "execution_count": 316,
   "id": "745c716c",
   "metadata": {},
   "outputs": [
    {
     "data": {
      "text/plain": [
       "array([[-0.16733185-0.71655988j, -0.59810896-0.31750221j],\n",
       "       [ 0.59810896-0.31750221j, -0.16733185+0.71655988j]])"
      ]
     },
     "execution_count": 316,
     "metadata": {},
     "output_type": "execute_result"
    }
   ],
   "source": [
    "arr = quad_model.exp_matrix(1).numpy()\n",
    "arr"
   ]
  },
  {
   "cell_type": "code",
   "execution_count": 317,
   "id": "63cb34a8",
   "metadata": {},
   "outputs": [],
   "source": [
    "arr = np.matrix(arr)\n",
    "carr = arr.getH()"
   ]
  },
  {
   "cell_type": "code",
   "execution_count": 318,
   "id": "a615d412",
   "metadata": {},
   "outputs": [
    {
     "data": {
      "text/plain": [
       "matrix([[ 1.00000000e+00+0.00000000e+00j,\n",
       "         -1.72577167e-17-5.55111512e-17j],\n",
       "        [-1.72577167e-17+5.55111512e-17j,\n",
       "          1.00000000e+00+0.00000000e+00j]])"
      ]
     },
     "execution_count": 318,
     "metadata": {},
     "output_type": "execute_result"
    }
   ],
   "source": [
    "arr*carr"
   ]
  },
  {
   "cell_type": "code",
   "execution_count": 319,
   "id": "005cc021",
   "metadata": {},
   "outputs": [],
   "source": [
    "#quad_model.variables"
   ]
  },
  {
   "cell_type": "code",
   "execution_count": 320,
   "id": "0742be21",
   "metadata": {},
   "outputs": [],
   "source": [
    "#quad_model()"
   ]
  },
  {
   "cell_type": "code",
   "execution_count": 321,
   "id": "991f82ba",
   "metadata": {},
   "outputs": [],
   "source": [
    "# loss\n",
    "#@tf.function\n",
    "def err_loss(y):\n",
    "    return 1-y"
   ]
  },
  {
   "cell_type": "code",
   "execution_count": 322,
   "id": "945c2327",
   "metadata": {},
   "outputs": [],
   "source": [
    "import matplotlib.pyplot as plt"
   ]
  },
  {
   "cell_type": "code",
   "execution_count": null,
   "id": "2ebb8ff3",
   "metadata": {},
   "outputs": [
    {
     "name": "stdout",
     "output_type": "stream",
     "text": [
      "0.7011394578007701\n",
      "Norm is 0.7071067811865471\n",
      "0.8188651738988982\n",
      "Norm is 0.7071067811865477\n",
      "0.5484558800199517\n",
      "Norm is 0.7071067811865472\n"
     ]
    }
   ],
   "source": [
    "#timing\n",
    "import time\n",
    "t0 = time.time()\n",
    "# Set training parameters\n",
    "epochs = 100\n",
    "learning_rate = 0.1\n",
    "losses = [] \n",
    "\n",
    "\n",
    "\n",
    "quad_model = Model()\n",
    "# Format training loop\n",
    "for epoch in range(epochs):\n",
    "    with tf.GradientTape() as tape:\n",
    "        iter_loss = err_loss(quad_model())\n",
    "\n",
    "    # Update parameters with respect to the gradient calculations\n",
    "    grads = tape.gradient(iter_loss, quad_model.variables)\n",
    "    #print(grads)\n",
    "    for g,v in zip(grads, quad_model.variables):\n",
    "        #print(v)\n",
    "        v.assign_sub(learning_rate*g)\n",
    "        #print(v)\n",
    "      # Keep track of model loss per epoch\n",
    "    loss = err_loss(quad_model())\n",
    "    losses.append(loss)\n",
    "    #print(quad_model.variables)\n",
    "    if epoch % 10 == 0:\n",
    "        print(loss.numpy())\n",
    "        [a,b] = quad_model.final_state.numpy()\n",
    "        norm = np.sqrt(\n",
    "            (np.absolute(a))**2 + \n",
    "            ((np.absolute(b))**2)\n",
    "        )\n",
    "        print('Norm is ' + str(norm))\n",
    "        #print(f'Mean squared error for step {epoch}: {loss.numpy():0.3f}')\n",
    "    \n",
    "\n",
    "print('time took: {} seconds'.format(time.time() - t0))"
   ]
  },
  {
   "cell_type": "code",
   "execution_count": null,
   "id": "3c10d59c",
   "metadata": {},
   "outputs": [],
   "source": [
    "# Plot model results\n",
    "print(\"\\n\")\n",
    "plt.plot(range(epochs), losses)\n",
    "plt.xlabel(\"Epoch\")\n",
    "plt.ylabel(\"Mean Squared Error (MSE)\")\n",
    "plt.title('MSE loss vs training iterations');\n",
    "\n",
    "\n",
    "# Plot drives\n",
    "fig = plt.figure()\n",
    "listy = tf.convert_to_tensor(quad_model.us_list).numpy()\n",
    "labels = ['sigma_x ', 'sigma_y']\n",
    "for i in range(2):\n",
    "    plt.plot(listy[i], marker = 'o', linestyle = '--', label = labels[i])\n",
    "    plt.plot(np.imag(listy[i]), marker = 'o', linestyle = '--', label = labels[i] + '_imag')\n",
    "plt.xlabel('time (ns)')\n",
    "plt.ylabel('amplitude')\n",
    "plt.legend()\n",
    "    "
   ]
  },
  {
   "cell_type": "code",
   "execution_count": null,
   "id": "0b3c2b79",
   "metadata": {},
   "outputs": [],
   "source": [
    "listy"
   ]
  },
  {
   "cell_type": "code",
   "execution_count": 73,
   "id": "5ed8e4a9",
   "metadata": {},
   "outputs": [
    {
     "name": "stdout",
     "output_type": "stream",
     "text": [
      "\n",
      "\n"
     ]
    },
    {
     "ename": "ValueError",
     "evalue": "x and y must have same first dimension, but have shapes (100,) and (1, 2)",
     "output_type": "error",
     "traceback": [
      "\u001b[1;31m---------------------------------------------------------------------------\u001b[0m",
      "\u001b[1;31mValueError\u001b[0m                                Traceback (most recent call last)",
      "\u001b[1;32m<ipython-input-73-f4b0638fb5fd>\u001b[0m in \u001b[0;36m<module>\u001b[1;34m\u001b[0m\n\u001b[0;32m      1\u001b[0m \u001b[1;31m# Plot model results\u001b[0m\u001b[1;33m\u001b[0m\u001b[1;33m\u001b[0m\u001b[1;33m\u001b[0m\u001b[0m\n\u001b[0;32m      2\u001b[0m \u001b[0mprint\u001b[0m\u001b[1;33m(\u001b[0m\u001b[1;34m\"\\n\"\u001b[0m\u001b[1;33m)\u001b[0m\u001b[1;33m\u001b[0m\u001b[1;33m\u001b[0m\u001b[0m\n\u001b[1;32m----> 3\u001b[1;33m \u001b[0mplt\u001b[0m\u001b[1;33m.\u001b[0m\u001b[0mplot\u001b[0m\u001b[1;33m(\u001b[0m\u001b[0mrange\u001b[0m\u001b[1;33m(\u001b[0m\u001b[0mepochs\u001b[0m\u001b[1;33m)\u001b[0m\u001b[1;33m,\u001b[0m \u001b[0mlosses\u001b[0m\u001b[1;33m)\u001b[0m\u001b[1;33m\u001b[0m\u001b[1;33m\u001b[0m\u001b[0m\n\u001b[0m\u001b[0;32m      4\u001b[0m \u001b[0mplt\u001b[0m\u001b[1;33m.\u001b[0m\u001b[0mxlabel\u001b[0m\u001b[1;33m(\u001b[0m\u001b[1;34m\"Epoch\"\u001b[0m\u001b[1;33m)\u001b[0m\u001b[1;33m\u001b[0m\u001b[1;33m\u001b[0m\u001b[0m\n\u001b[0;32m      5\u001b[0m \u001b[0mplt\u001b[0m\u001b[1;33m.\u001b[0m\u001b[0mylabel\u001b[0m\u001b[1;33m(\u001b[0m\u001b[1;34m\"Mean Squared Error (MSE)\"\u001b[0m\u001b[1;33m)\u001b[0m\u001b[1;33m\u001b[0m\u001b[1;33m\u001b[0m\u001b[0m\n",
      "\u001b[1;32m~\\anaconda\\lib\\site-packages\\matplotlib\\pyplot.py\u001b[0m in \u001b[0;36mplot\u001b[1;34m(scalex, scaley, data, *args, **kwargs)\u001b[0m\n\u001b[0;32m   2838\u001b[0m \u001b[1;33m@\u001b[0m\u001b[0m_copy_docstring_and_deprecators\u001b[0m\u001b[1;33m(\u001b[0m\u001b[0mAxes\u001b[0m\u001b[1;33m.\u001b[0m\u001b[0mplot\u001b[0m\u001b[1;33m)\u001b[0m\u001b[1;33m\u001b[0m\u001b[1;33m\u001b[0m\u001b[0m\n\u001b[0;32m   2839\u001b[0m \u001b[1;32mdef\u001b[0m \u001b[0mplot\u001b[0m\u001b[1;33m(\u001b[0m\u001b[1;33m*\u001b[0m\u001b[0margs\u001b[0m\u001b[1;33m,\u001b[0m \u001b[0mscalex\u001b[0m\u001b[1;33m=\u001b[0m\u001b[1;32mTrue\u001b[0m\u001b[1;33m,\u001b[0m \u001b[0mscaley\u001b[0m\u001b[1;33m=\u001b[0m\u001b[1;32mTrue\u001b[0m\u001b[1;33m,\u001b[0m \u001b[0mdata\u001b[0m\u001b[1;33m=\u001b[0m\u001b[1;32mNone\u001b[0m\u001b[1;33m,\u001b[0m \u001b[1;33m**\u001b[0m\u001b[0mkwargs\u001b[0m\u001b[1;33m)\u001b[0m\u001b[1;33m:\u001b[0m\u001b[1;33m\u001b[0m\u001b[1;33m\u001b[0m\u001b[0m\n\u001b[1;32m-> 2840\u001b[1;33m     return gca().plot(\n\u001b[0m\u001b[0;32m   2841\u001b[0m         \u001b[1;33m*\u001b[0m\u001b[0margs\u001b[0m\u001b[1;33m,\u001b[0m \u001b[0mscalex\u001b[0m\u001b[1;33m=\u001b[0m\u001b[0mscalex\u001b[0m\u001b[1;33m,\u001b[0m \u001b[0mscaley\u001b[0m\u001b[1;33m=\u001b[0m\u001b[0mscaley\u001b[0m\u001b[1;33m,\u001b[0m\u001b[1;33m\u001b[0m\u001b[1;33m\u001b[0m\u001b[0m\n\u001b[0;32m   2842\u001b[0m         **({\"data\": data} if data is not None else {}), **kwargs)\n",
      "\u001b[1;32m~\\anaconda\\lib\\site-packages\\matplotlib\\axes\\_axes.py\u001b[0m in \u001b[0;36mplot\u001b[1;34m(self, scalex, scaley, data, *args, **kwargs)\u001b[0m\n\u001b[0;32m   1741\u001b[0m         \"\"\"\n\u001b[0;32m   1742\u001b[0m         \u001b[0mkwargs\u001b[0m \u001b[1;33m=\u001b[0m \u001b[0mcbook\u001b[0m\u001b[1;33m.\u001b[0m\u001b[0mnormalize_kwargs\u001b[0m\u001b[1;33m(\u001b[0m\u001b[0mkwargs\u001b[0m\u001b[1;33m,\u001b[0m \u001b[0mmlines\u001b[0m\u001b[1;33m.\u001b[0m\u001b[0mLine2D\u001b[0m\u001b[1;33m)\u001b[0m\u001b[1;33m\u001b[0m\u001b[1;33m\u001b[0m\u001b[0m\n\u001b[1;32m-> 1743\u001b[1;33m         \u001b[0mlines\u001b[0m \u001b[1;33m=\u001b[0m \u001b[1;33m[\u001b[0m\u001b[1;33m*\u001b[0m\u001b[0mself\u001b[0m\u001b[1;33m.\u001b[0m\u001b[0m_get_lines\u001b[0m\u001b[1;33m(\u001b[0m\u001b[1;33m*\u001b[0m\u001b[0margs\u001b[0m\u001b[1;33m,\u001b[0m \u001b[0mdata\u001b[0m\u001b[1;33m=\u001b[0m\u001b[0mdata\u001b[0m\u001b[1;33m,\u001b[0m \u001b[1;33m**\u001b[0m\u001b[0mkwargs\u001b[0m\u001b[1;33m)\u001b[0m\u001b[1;33m]\u001b[0m\u001b[1;33m\u001b[0m\u001b[1;33m\u001b[0m\u001b[0m\n\u001b[0m\u001b[0;32m   1744\u001b[0m         \u001b[1;32mfor\u001b[0m \u001b[0mline\u001b[0m \u001b[1;32min\u001b[0m \u001b[0mlines\u001b[0m\u001b[1;33m:\u001b[0m\u001b[1;33m\u001b[0m\u001b[1;33m\u001b[0m\u001b[0m\n\u001b[0;32m   1745\u001b[0m             \u001b[0mself\u001b[0m\u001b[1;33m.\u001b[0m\u001b[0madd_line\u001b[0m\u001b[1;33m(\u001b[0m\u001b[0mline\u001b[0m\u001b[1;33m)\u001b[0m\u001b[1;33m\u001b[0m\u001b[1;33m\u001b[0m\u001b[0m\n",
      "\u001b[1;32m~\\anaconda\\lib\\site-packages\\matplotlib\\axes\\_base.py\u001b[0m in \u001b[0;36m__call__\u001b[1;34m(self, data, *args, **kwargs)\u001b[0m\n\u001b[0;32m    271\u001b[0m                 \u001b[0mthis\u001b[0m \u001b[1;33m+=\u001b[0m \u001b[0margs\u001b[0m\u001b[1;33m[\u001b[0m\u001b[1;36m0\u001b[0m\u001b[1;33m]\u001b[0m\u001b[1;33m,\u001b[0m\u001b[1;33m\u001b[0m\u001b[1;33m\u001b[0m\u001b[0m\n\u001b[0;32m    272\u001b[0m                 \u001b[0margs\u001b[0m \u001b[1;33m=\u001b[0m \u001b[0margs\u001b[0m\u001b[1;33m[\u001b[0m\u001b[1;36m1\u001b[0m\u001b[1;33m:\u001b[0m\u001b[1;33m]\u001b[0m\u001b[1;33m\u001b[0m\u001b[1;33m\u001b[0m\u001b[0m\n\u001b[1;32m--> 273\u001b[1;33m             \u001b[1;32myield\u001b[0m \u001b[1;32mfrom\u001b[0m \u001b[0mself\u001b[0m\u001b[1;33m.\u001b[0m\u001b[0m_plot_args\u001b[0m\u001b[1;33m(\u001b[0m\u001b[0mthis\u001b[0m\u001b[1;33m,\u001b[0m \u001b[0mkwargs\u001b[0m\u001b[1;33m)\u001b[0m\u001b[1;33m\u001b[0m\u001b[1;33m\u001b[0m\u001b[0m\n\u001b[0m\u001b[0;32m    274\u001b[0m \u001b[1;33m\u001b[0m\u001b[0m\n\u001b[0;32m    275\u001b[0m     \u001b[1;32mdef\u001b[0m \u001b[0mget_next_color\u001b[0m\u001b[1;33m(\u001b[0m\u001b[0mself\u001b[0m\u001b[1;33m)\u001b[0m\u001b[1;33m:\u001b[0m\u001b[1;33m\u001b[0m\u001b[1;33m\u001b[0m\u001b[0m\n",
      "\u001b[1;32m~\\anaconda\\lib\\site-packages\\matplotlib\\axes\\_base.py\u001b[0m in \u001b[0;36m_plot_args\u001b[1;34m(self, tup, kwargs)\u001b[0m\n\u001b[0;32m    397\u001b[0m \u001b[1;33m\u001b[0m\u001b[0m\n\u001b[0;32m    398\u001b[0m         \u001b[1;32mif\u001b[0m \u001b[0mx\u001b[0m\u001b[1;33m.\u001b[0m\u001b[0mshape\u001b[0m\u001b[1;33m[\u001b[0m\u001b[1;36m0\u001b[0m\u001b[1;33m]\u001b[0m \u001b[1;33m!=\u001b[0m \u001b[0my\u001b[0m\u001b[1;33m.\u001b[0m\u001b[0mshape\u001b[0m\u001b[1;33m[\u001b[0m\u001b[1;36m0\u001b[0m\u001b[1;33m]\u001b[0m\u001b[1;33m:\u001b[0m\u001b[1;33m\u001b[0m\u001b[1;33m\u001b[0m\u001b[0m\n\u001b[1;32m--> 399\u001b[1;33m             raise ValueError(f\"x and y must have same first dimension, but \"\n\u001b[0m\u001b[0;32m    400\u001b[0m                              f\"have shapes {x.shape} and {y.shape}\")\n\u001b[0;32m    401\u001b[0m         \u001b[1;32mif\u001b[0m \u001b[0mx\u001b[0m\u001b[1;33m.\u001b[0m\u001b[0mndim\u001b[0m \u001b[1;33m>\u001b[0m \u001b[1;36m2\u001b[0m \u001b[1;32mor\u001b[0m \u001b[0my\u001b[0m\u001b[1;33m.\u001b[0m\u001b[0mndim\u001b[0m \u001b[1;33m>\u001b[0m \u001b[1;36m2\u001b[0m\u001b[1;33m:\u001b[0m\u001b[1;33m\u001b[0m\u001b[1;33m\u001b[0m\u001b[0m\n",
      "\u001b[1;31mValueError\u001b[0m: x and y must have same first dimension, but have shapes (100,) and (1, 2)"
     ]
    },
    {
     "data": {
      "image/png": "[encoded data removed]",
      "text/plain": [
       "<Figure size 432x288 with 1 Axes>"
      ]
     },
     "metadata": {
      "needs_background": "light"
     },
     "output_type": "display_data"
    }
   ],
   "source": [
    "# Plot model results\n",
    "print(\"\\n\")\n",
    "plt.plot(range(epochs), losses)\n",
    "plt.xlabel(\"Epoch\")\n",
    "plt.ylabel(\"Mean Squared Error (MSE)\")\n",
    "plt.title('MSE loss vs training iterations');\n",
    "\n",
    "\n",
    "# Plot drives\n",
    "fig = plt.figure()\n",
    "listy = tf.convert_to_tensor(quad_model.us_list).numpy()\n",
    "labels = ['sigma_z ', 'sigma_x']\n",
    "for i in range(2):\n",
    "    plt.plot(listy[i], marker = 'o', linestyle = '--', label = labels[i])\n",
    "    #plt.plot(np.imag(listy[i]), marker = 'o', linestyle = '--', label = labels[i] + '_imag')\n",
    "plt.xlabel('time (ns)')\n",
    "plt.ylabel('amplitude')\n",
    "plt.legend()\n",
    "    "
   ]
  },
  {
   "cell_type": "code",
   "execution_count": 131,
   "id": "fad57f1c",
   "metadata": {},
   "outputs": [
    {
     "data": {
      "text/plain": [
       "<tf.Tensor: shape=(2, 2), dtype=complex128, numpy=\n",
       "array([[ 2.37140488e+00-1.66320734e-01j,  7.29120621e-13-3.33333333e-01j],\n",
       "       [-9.38093306e-14+5.37867896e-14j,  3.06769068e+00-9.03422743e-03j]])>"
      ]
     },
     "execution_count": 131,
     "metadata": {},
     "output_type": "execute_result"
    }
   ],
   "source": []
  },
  {
   "cell_type": "code",
   "execution_count": 136,
   "id": "5ced9599",
   "metadata": {},
   "outputs": [],
   "source": [
    "def plot_drives():\n",
    "    '''\n",
    "    plot us_list in the model\n",
    "    '''\n",
    "    listy = tf.convert_to_tensor(quad_model.us_list).numpy()\n",
    "\n",
    "    \n",
    "    return drives"
   ]
  },
  {
   "cell_type": "code",
   "execution_count": 145,
   "id": "b2645e6e",
   "metadata": {},
   "outputs": [
    {
     "data": {
      "image/png": "[encoded data removed]",
      "text/plain": [
       "<Figure size 432x288 with 1 Axes>"
      ]
     },
     "metadata": {
      "needs_background": "light"
     },
     "output_type": "display_data"
    }
   ],
   "source": []
  },
  {
   "cell_type": "code",
   "execution_count": null,
   "id": "affaa65f",
   "metadata": {},
   "outputs": [],
   "source": []
  }
 ],
 "metadata": {
  "kernelspec": {
   "display_name": "Python 3",
   "language": "python",
   "name": "python3"
  },
  "language_info": {
   "codemirror_mode": {
    "name": "ipython",
    "version": 3
   },
   "file_extension": ".py",
   "mimetype": "text/x-python",
   "name": "python",
   "nbconvert_exporter": "python",
   "pygments_lexer": "ipython3",
   "version": "3.8.8"
  },
  "toc": {
   "base_numbering": 1,
   "nav_menu": {},
   "number_sections": true,
   "sideBar": true,
   "skip_h1_title": false,
   "title_cell": "Table of Contents",
   "title_sidebar": "Contents",
   "toc_cell": false,
   "toc_position": {},
   "toc_section_display": true,
   "toc_window_display": false
  },
  "varInspector": {
   "cols": {
    "lenName": 16,
    "lenType": 16,
    "lenVar": 40
   },
   "kernels_config": {
    "python": {
     "delete_cmd_postfix": "",
     "delete_cmd_prefix": "del ",
     "library": "var_list.py",
     "varRefreshCmd": "print(var_dic_list())"
    },
    "r": {
     "delete_cmd_postfix": ") ",
     "delete_cmd_prefix": "rm(",
     "library": "var_list.r",
     "varRefreshCmd": "cat(var_dic_list()) "
    }
   },
   "types_to_exclude": [
    "module",
    "function",
    "builtin_function_or_method",
    "instance",
    "_Feature"
   ],
   "window_display": false
  }
 },
 "nbformat": 4,
 "nbformat_minor": 5
}
