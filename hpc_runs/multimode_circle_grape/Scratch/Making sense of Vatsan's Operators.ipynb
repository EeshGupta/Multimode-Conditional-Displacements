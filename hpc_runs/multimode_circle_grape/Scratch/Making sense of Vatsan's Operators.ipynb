{
 "cells": [
  {
   "cell_type": "code",
   "execution_count": 1,
   "id": "6c748900",
   "metadata": {},
   "outputs": [],
   "source": [
    "from qutip import *\n",
    "import numpy as np"
   ]
  },
  {
   "cell_type": "code",
   "execution_count": 2,
   "id": "14aa162c",
   "metadata": {},
   "outputs": [
    {
     "data": {
      "text/plain": [
       "array([[0, 0, 0, 0, 0],\n",
       "       [0, 1, 0, 0, 0],\n",
       "       [0, 0, 2, 0, 0],\n",
       "       [0, 0, 0, 3, 0],\n",
       "       [0, 0, 0, 0, 4]])"
      ]
     },
     "execution_count": 2,
     "metadata": {},
     "output_type": "execute_result"
    }
   ],
   "source": [
    "levels = 5\n",
    "np.diag(np.arange(0, levels))"
   ]
  },
  {
   "cell_type": "code",
   "execution_count": 3,
   "id": "8bc93383",
   "metadata": {},
   "outputs": [
    {
     "data": {
      "text/latex": [
       "Quantum object: dims = [[5], [5]], shape = (5, 5), type = oper, isherm = True\\begin{equation*}\\left(\\begin{array}{*{11}c}0.0 & 0.0 & 0.0 & 0.0 & 0.0\\\\0.0 & 1.0 & 0.0 & 0.0 & 0.0\\\\0.0 & 0.0 & 2.0 & 0.0 & 0.0\\\\0.0 & 0.0 & 0.0 & 3.000 & 0.0\\\\0.0 & 0.0 & 0.0 & 0.0 & 4.0\\\\\\end{array}\\right)\\end{equation*}"
      ],
      "text/plain": [
       "Quantum object: dims = [[5], [5]], shape = (5, 5), type = oper, isherm = True\n",
       "Qobj data =\n",
       "[[0. 0. 0. 0. 0.]\n",
       " [0. 1. 0. 0. 0.]\n",
       " [0. 0. 2. 0. 0.]\n",
       " [0. 0. 0. 3. 0.]\n",
       " [0. 0. 0. 0. 4.]]"
      ]
     },
     "execution_count": 3,
     "metadata": {},
     "output_type": "execute_result"
    }
   ],
   "source": [
    "create(levels)*destroy(levels)"
   ]
  },
  {
   "cell_type": "code",
   "execution_count": 5,
   "id": "f8b37944",
   "metadata": {},
   "outputs": [
    {
     "data": {
      "text/plain": [
       "array([[0.        , 1.        , 0.        , 0.        , 0.        ],\n",
       "       [1.        , 0.        , 1.41421356, 0.        , 0.        ],\n",
       "       [0.        , 1.41421356, 0.        , 1.73205081, 0.        ],\n",
       "       [0.        , 0.        , 1.73205081, 0.        , 2.        ],\n",
       "       [0.        , 0.        , 0.        , 2.        , 0.        ]])"
      ]
     },
     "execution_count": 5,
     "metadata": {},
     "output_type": "execute_result"
    }
   ],
   "source": [
    " np.diag(np.sqrt(np.arange(1, levels)), 1)+np.diag(np.sqrt(np.arange(1, levels)), -1)"
   ]
  },
  {
   "cell_type": "code",
   "execution_count": 10,
   "id": "ef54bc29",
   "metadata": {},
   "outputs": [
    {
     "name": "stdout",
     "output_type": "stream",
     "text": [
      "  (0, 1)\t(1+0j)\n",
      "  (1, 0)\t(1+0j)\n",
      "  (1, 2)\t(1.4142135623730951+0j)\n",
      "  (2, 1)\t(1.4142135623730951+0j)\n",
      "  (2, 3)\t(1.7320508075688772+0j)\n",
      "  (3, 2)\t(1.7320508075688772+0j)\n",
      "  (3, 4)\t(2+0j)\n",
      "  (4, 3)\t(2+0j)\n"
     ]
    }
   ],
   "source": [
    "a = create(levels) + destroy(levels)\n",
    "print(a.data)"
   ]
  },
  {
   "cell_type": "code",
   "execution_count": null,
   "id": "8da9077b",
   "metadata": {},
   "outputs": [],
   "source": []
  }
 ],
 "metadata": {
  "kernelspec": {
   "display_name": "Python 3",
   "language": "python",
   "name": "python3"
  },
  "language_info": {
   "codemirror_mode": {
    "name": "ipython",
    "version": 3
   },
   "file_extension": ".py",
   "mimetype": "text/x-python",
   "name": "python",
   "nbconvert_exporter": "python",
   "pygments_lexer": "ipython3",
   "version": "3.8.8"
  },
  "toc": {
   "base_numbering": 1,
   "nav_menu": {},
   "number_sections": true,
   "sideBar": true,
   "skip_h1_title": false,
   "title_cell": "Table of Contents",
   "title_sidebar": "Contents",
   "toc_cell": false,
   "toc_position": {},
   "toc_section_display": true,
   "toc_window_display": false
  },
  "varInspector": {
   "cols": {
    "lenName": 16,
    "lenType": 16,
    "lenVar": 40
   },
   "kernels_config": {
    "python": {
     "delete_cmd_postfix": "",
     "delete_cmd_prefix": "del ",
     "library": "var_list.py",
     "varRefreshCmd": "print(var_dic_list())"
    },
    "r": {
     "delete_cmd_postfix": ") ",
     "delete_cmd_prefix": "rm(",
     "library": "var_list.r",
     "varRefreshCmd": "cat(var_dic_list()) "
    }
   },
   "types_to_exclude": [
    "module",
    "function",
    "builtin_function_or_method",
    "instance",
    "_Feature"
   ],
   "window_display": false
  }
 },
 "nbformat": 4,
 "nbformat_minor": 5
}
