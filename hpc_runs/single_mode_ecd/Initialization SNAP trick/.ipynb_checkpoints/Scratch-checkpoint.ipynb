{
 "cells": [
  {
   "cell_type": "code",
   "execution_count": 1,
   "id": "8188c3c4",
   "metadata": {},
   "outputs": [],
   "source": [
    "# To find ECD Control\n",
    "\n",
    "import sys \n",
    "sys.path.append('C:\\\\Users\\\\Eesh Gupta\\\\Documents\\\\RU Research\\\\Chakram')\n"
   ]
  },
  {
   "cell_type": "code",
   "execution_count": 31,
   "id": "22c927fd",
   "metadata": {},
   "outputs": [],
   "source": [
    "import numpy as np\n",
    "from qutip import *\n",
    "from ECD_batch_optimizerV1 import BatchOptimizer\n",
    "from Simulation_Classes_Single_ModeV4 import *\n",
    "import matplotlib.pyplot as plt\n",
    "import tfq_quantum as tfq\n",
    "import tensorflow as tf"
   ]
  },
  {
   "cell_type": "code",
   "execution_count": 3,
   "id": "d8d4c368",
   "metadata": {},
   "outputs": [],
   "source": [
    "%load_ext autoreload\n",
    "%autoreload 2"
   ]
  },
  {
   "cell_type": "code",
   "execution_count": 4,
   "id": "3d2619eb",
   "metadata": {},
   "outputs": [],
   "source": [
    "#The target oscillator state.\n",
    "N =5\n",
    "Fock = 1\n",
    "psi_i = tensor(basis(2,0), basis(N,0)) # initial state\n",
    "psi_t = tensor(basis(2,0), basis(N,Fock)) #target state"
   ]
  },
  {
   "cell_type": "code",
   "execution_count": 210,
   "id": "c3f2427c",
   "metadata": {},
   "outputs": [],
   "source": [
    "#Optimization of ECD Circuit parameters (betas, phis, and thetas)\n",
    "#the optimization options\n",
    "opt_params = {\n",
    "'N_blocks' : 1, #circuit depth\n",
    "'N_multistart' : 1, #Batch size (number of circuit optimizations to run in parallel)\n",
    "'epochs' : 500, #number of epochs before termination\n",
    "'epoch_size' : 10, #number of adam steps per epoch\n",
    "'learning_rate' : 0.01, #adam learning rate\n",
    "'term_fid' : 0.999, #terminal fidelitiy\n",
    "'dfid_stop' : 1e-6, #stop if dfid between two epochs is smaller than this number\n",
    "'beta_scale' : 3.0, #maximum |beta| for random initialization\n",
    "'initial_states' : [psi_i], #qubit tensor oscillator, start in |g> |0>\n",
    "'target_states' : [psi_t], #end in |e> |target>.\n",
    "'name' : 'Fock %d' % Fock, #name for printing and saving\n",
    "'filename' : None, #if no filename specified, results will be saved in this folder under 'name.h5'\n",
    "}\n",
    "\n",
    "\n",
    "#note: optimizer includes pi pulse in every ECD step. However, final ECD step is implemented \n",
    "#in experiment as a displacement since the qubit and oscillator should be disentangled at this point.\n",
    "#So, we ask the optimizer to end in |e> |target> instead of |g>|target>."
   ]
  },
  {
   "cell_type": "code",
   "execution_count": 171,
   "id": "1c6af06c",
   "metadata": {},
   "outputs": [
    {
     "name": "stdout",
     "output_type": "stream",
     "text": [
      "None\n",
      "Tensor(\"alphas:0\", shape=(1, 1), dtype=complex64)\n",
      "Tensor(\"alphas:0\", shape=(2, 1), dtype=complex64)\n",
      "optimization_type: state transfer\n",
      "N_multistart: 1\n",
      "N_blocks: 2\n",
      "term_fid: 0.999\n",
      "dfid_stop: 1e-06\n",
      "no_CD_end: False\n",
      "learning_rate: 0.01\n",
      "epoch_size: 10\n",
      "epochs: 500\n",
      "beta_scale: 3.0\n",
      "alpha_scale: 1.0\n",
      "theta_scale: 3.141592653589793\n",
      "use_displacements: False\n",
      "use_phase: False\n",
      "name: Fock 1\n",
      "comment: \n",
      "user_angles: None\n",
      "N_cav: 5\n",
      "filename: Fock 1.h5\n",
      "\n",
      "Best circuit parameters found:\n",
      "betas:         [-0.8458 +0.59713j  1.65807-1.50534j]\n",
      "alphas:        [0.+0.j]\n",
      "phis (deg):    [ 0.     72.9584]\n",
      "thetas (deg):  [167.29352 -66.58137]\n",
      "Max Fidelity:  0.084021\n",
      "\n",
      "\n"
     ]
    }
   ],
   "source": [
    "opt = BatchOptimizer(**opt_params)\n",
    "opt.print_info()"
   ]
  },
  {
   "cell_type": "code",
   "execution_count": 172,
   "id": "fd2729ae",
   "metadata": {},
   "outputs": [
    {
     "name": "stdout",
     "output_type": "stream",
     "text": [
      "Start time: 2023-01-06 10:44:20\n",
      " Epoch: 28 / 500 Max Fid: 0.368175 Avg Fid: 0.368175 Max dFid: 0.000001 Avg dFid: 0.000001 Elapsed time: 0:00:04.968746 Remaing time: 0:01:23.758868\n",
      " max dFid: 0.000001\n",
      "dFid stop: 0.000001\n",
      "\n",
      "\n",
      " Optimization stopped.  No dfid is greater than dfid_stop\n",
      "\n",
      "optimization_type: state transfer\n",
      "N_multistart: 1\n",
      "N_blocks: 2\n",
      "term_fid: 0.999\n",
      "dfid_stop: 1e-06\n",
      "no_CD_end: False\n",
      "learning_rate: 0.01\n",
      "epoch_size: 10\n",
      "epochs: 500\n",
      "beta_scale: 3.0\n",
      "alpha_scale: 1.0\n",
      "theta_scale: 3.141592653589793\n",
      "use_displacements: False\n",
      "use_phase: False\n",
      "name: Fock 1\n",
      "comment: \n",
      "user_angles: None\n",
      "N_cav: 5\n",
      "filename: Fock 1.h5\n",
      "\n",
      "Best circuit parameters found:\n",
      "betas:         [-0.27784-0.0625j   0.42633-1.93618j]\n",
      "alphas:        [0.+0.j]\n",
      "phis (deg):    [0.      0.18166]\n",
      "thetas (deg):  [ 113.50295 -113.48418]\n",
      "Max Fidelity:  0.368175\n",
      "\n",
      "\n",
      "termination reason: dfid\n",
      "optimization timestamp (start time): 2023-01-06 10:44:20\n",
      "timestamp (end time): 2023-01-06 10:44:25\n",
      "elapsed time: 0:00:04.971254\n",
      "Time per epoch (epoch size = 10): 0:00:00.177545\n",
      "Time per Adam step (N_multistart = 1, N_cav = 5): 0:00:00.000355\n",
      "\n",
      "============================================================\n",
      "\n"
     ]
    },
    {
     "data": {
      "text/plain": [
       "'2023-01-06 10:44:20'"
      ]
     },
     "execution_count": 172,
     "metadata": {},
     "output_type": "execute_result"
    }
   ],
   "source": [
    "opt.optimize()"
   ]
  },
  {
   "cell_type": "code",
   "execution_count": 206,
   "id": "3c88af67",
   "metadata": {},
   "outputs": [
    {
     "data": {
      "text/plain": [
       "0"
      ]
     },
     "execution_count": 206,
     "metadata": {},
     "output_type": "execute_result"
    }
   ],
   "source": [
    "a = 1\n",
    "b = np.array(a)\n",
    "len(b.shape)"
   ]
  },
  {
   "cell_type": "code",
   "execution_count": 207,
   "id": "0772de9d",
   "metadata": {},
   "outputs": [
    {
     "name": "stderr",
     "output_type": "stream",
     "text": [
      "C:\\Users\\Eesh Gupta\\Documents\\RU Research\\Chakram\\Multimode-Conditional-Displacements\\hpc_runs\\single_mode_ecd\\Initialization SNAP trick\\ECD_batch_optimizerV1.py:153: SyntaxWarning: \"is not\" with a literal. Did you mean \"!=\"?\n",
      "  if (filename is not None and filename is not \"\")\n",
      "C:\\Users\\Eesh Gupta\\Documents\\RU Research\\Chakram\\Multimode-Conditional-Displacements\\hpc_runs\\single_mode_ecd\\Initialization SNAP trick\\ECD_batch_optimizerV1.py:658: SyntaxWarning: \"is not\" with a literal. Did you mean \"!=\"?\n",
      "  time_per_epoch = elapsed_time_s / epoch if epoch is not 0 else 0.0\n"
     ]
    },
    {
     "name": "stdout",
     "output_type": "stream",
     "text": [
      "\n",
      "Need tf version 2.3.0 or later. Using tensorflow version: 2.7.0\n",
      "\n",
      "after\n",
      "[[-1.89125371]]\n",
      "after\n",
      "[[-0.6587857]]\n",
      "after\n",
      "[[0.]]\n",
      "after\n",
      "[[3.13897014]]\n",
      "Tensor(\"alphas:0\", shape=(1, 1), dtype=complex64)\n",
      "optimization_type: state transfer\n",
      "N_multistart: 1\n",
      "N_blocks: 1\n",
      "term_fid: 0.999\n",
      "dfid_stop: 1e-06\n",
      "no_CD_end: False\n",
      "learning_rate: 0.01\n",
      "epoch_size: 10\n",
      "epochs: 500\n",
      "beta_scale: 3.0\n",
      "alpha_scale: 1.0\n",
      "theta_scale: 3.141592653589793\n",
      "use_displacements: False\n",
      "use_phase: False\n",
      "name: Fock 1\n",
      "comment: \n",
      "user_angles: [-1.89125 -0.65879  0.       3.13897]\n",
      "N_cav: 5\n",
      "filename: Fock 1.h5\n",
      "\n",
      "Best circuit parameters found:\n",
      "betas:         [-1.49548+1.15774j]\n",
      "alphas:        [0.+0.j]\n",
      "phis (deg):    [0.]\n",
      "thetas (deg):  [179.84975]\n",
      "Max Fidelity:  0.364938\n",
      "\n",
      "\n"
     ]
    }
   ],
   "source": [
    "opt_params['user_angles'] = np.loadtxt('test.txt')\n",
    "opt = BatchOptimizer(**opt_params)\n",
    "opt.print_info()"
   ]
  },
  {
   "cell_type": "code",
   "execution_count": 163,
   "id": "9c0b8f0b",
   "metadata": {},
   "outputs": [
    {
     "data": {
      "text/plain": [
       "<tf.Variable 'betas_rho:0' shape=(3, 1) dtype=float32, numpy=\n",
       "array([[1.8888146 ],\n",
       "       [0.81543046],\n",
       "       [0.55811137]], dtype=float32)>"
      ]
     },
     "execution_count": 163,
     "metadata": {},
     "output_type": "execute_result"
    }
   ],
   "source": [
    "opt.betas_rho"
   ]
  },
  {
   "cell_type": "code",
   "execution_count": 70,
   "id": "5e68aaa8",
   "metadata": {},
   "outputs": [
    {
     "data": {
      "text/plain": [
       "0.37674236"
      ]
     },
     "execution_count": 70,
     "metadata": {},
     "output_type": "execute_result"
    }
   ],
   "source": [
    "opt.best_fidelity()"
   ]
  },
  {
   "cell_type": "code",
   "execution_count": 71,
   "id": "55b6cdc0",
   "metadata": {},
   "outputs": [],
   "source": [
    "end_idx = 1\n",
    "bs = opt.batch_construct_block_operators(opt.betas_rho,\n",
    "                                            opt.betas_angle, \n",
    "                                            opt.alphas_rho,\n",
    "                                             opt.alphas_angle,\n",
    "                                             opt.phis, opt.thetas)\n",
    "tf_initial_state = tfq.qt2tf(psi_i)\n",
    "psis = tf.stack([tf_initial_state] * opt.parameters[\"N_multistart\"])\n",
    "for U in bs[:end_idx + 1]: \n",
    "    psis = tf.einsum(\n",
    "            \"mij,mjk->mik\", U, psis\n",
    "        )  # m: multistart"
   ]
  },
  {
   "cell_type": "code",
   "execution_count": 74,
   "id": "b44578b1",
   "metadata": {},
   "outputs": [
    {
     "data": {
      "text/plain": [
       "<tf.Tensor: shape=(1, 10, 10), dtype=complex64, numpy=\n",
       "array([[[-0.4808389 -4.5728692e-01j,  0.41558307+3.5895973e-02j,\n",
       "         -0.15420058+1.0302689e-01j,  0.02098544-6.4561494e-02j,\n",
       "          0.00590413+1.9527098e-02j,  0.4829354 +2.8936111e-07j,\n",
       "         -0.23717344+1.8950371e-01j,  0.02964935-1.3167311e-01j,\n",
       "          0.02131334+4.4573583e-02j, -0.01290748-7.3369886e-03j],\n",
       "        [-0.05668175-4.1326764e-01j, -0.29058304-2.7669156e-01j,\n",
       "          0.47085094+3.8995802e-02j, -0.23893887+1.5802522e-01j,\n",
       "          0.05060502-1.0433913e-01j,  0.23716597+1.8952022e-01j,\n",
       "          0.29202136+1.8030265e-04j, -0.26787528+2.1558838e-01j,\n",
       "          0.04675432-2.0317833e-01j,  0.02564295+8.0407105e-02j],\n",
       "        [ 0.09492427-1.5930417e-01j, -0.06541561-4.6814656e-01j,\n",
       "         -0.13417114-1.2189893e-01j,  0.49684113+2.7149886e-02j,\n",
       "         -0.3255015 +9.7482346e-02j,  0.02983745+1.3162272e-01j,\n",
       "          0.2692964 +2.1408179e-01j,  0.13189714-3.0061791e-03j,\n",
       "         -0.27564067+2.3487096e-01j,  0.12277077-2.1466452e-01j],\n",
       "        [ 0.06328145-2.3695704e-02j,  0.14492255-2.4332178e-01j,\n",
       "         -0.08039671-4.8069876e-01j, -0.16276644+1.2142733e-02j,\n",
       "          0.42289048+3.5488960e-01j, -0.02148881+4.4235252e-02j,\n",
       "          0.04560818+2.0100836e-01j,  0.28349265+2.1318784e-01j,\n",
       "          0.0797495 -8.8038869e-02j, -0.40101755+2.4938079e-02j],\n",
       "        [ 0.0178086 -1.1849308e-02j,  0.04232102-1.1531833e-01j,\n",
       "         -0.07425688-3.4671068e-01j, -0.2965921 -4.5261985e-01j,\n",
       "         -0.27526507-3.7928987e-01j, -0.0034489 +1.5180933e-02j,\n",
       "          0.03551835+8.2042485e-02j,  0.2130533 +1.4560471e-01j,\n",
       "          0.38342673+8.9947425e-02j,  0.33540085+6.1971221e-02j],\n",
       "        [ 0.4829354 -2.8936111e-07j,  0.23716597-1.8952022e-01j,\n",
       "          0.02983745-1.3162272e-01j, -0.02148881-4.4235252e-02j,\n",
       "         -0.0034489 -1.5180933e-02j,  0.4808389 -4.5728692e-01j,\n",
       "          0.05668175-4.1326764e-01j, -0.09492427-1.5930417e-01j,\n",
       "         -0.06328145-2.3695704e-02j, -0.0178086 -1.1849308e-02j],\n",
       "        [-0.23717344-1.8950371e-01j,  0.29202136-1.8030265e-04j,\n",
       "          0.2692964 -2.1408179e-01j,  0.04560818-2.0100836e-01j,\n",
       "          0.03551835-8.2042485e-02j, -0.41558307+3.5895973e-02j,\n",
       "          0.29058304-2.7669156e-01j,  0.06541561-4.6814656e-01j,\n",
       "         -0.14492255-2.4332178e-01j, -0.04232102-1.1531833e-01j],\n",
       "        [ 0.02964935+1.3167311e-01j, -0.26787528-2.1558838e-01j,\n",
       "          0.13189714+3.0061791e-03j,  0.28349265-2.1318784e-01j,\n",
       "          0.2130533 -1.4560471e-01j,  0.15420058+1.0302689e-01j,\n",
       "         -0.47085094+3.8995802e-02j,  0.13417114-1.2189893e-01j,\n",
       "          0.08039671-4.8069876e-01j,  0.07425688-3.4671068e-01j],\n",
       "        [ 0.02131334-4.4573583e-02j,  0.04675432+2.0317833e-01j,\n",
       "         -0.27564067-2.3487096e-01j,  0.0797495 +8.8038869e-02j,\n",
       "          0.38342673-8.9947425e-02j, -0.02098544-6.4561494e-02j,\n",
       "          0.23893887+1.5802522e-01j, -0.49684113+2.7149886e-02j,\n",
       "          0.16276644+1.2142733e-02j,  0.2965921 -4.5261985e-01j],\n",
       "        [-0.01290748+7.3369886e-03j,  0.02564295-8.0407105e-02j,\n",
       "          0.12277077+2.1466452e-01j, -0.40101755-2.4938079e-02j,\n",
       "          0.33540085-6.1971221e-02j, -0.00590413+1.9527098e-02j,\n",
       "         -0.05060502-1.0433913e-01j,  0.3255015 +9.7482346e-02j,\n",
       "         -0.42289048+3.5488960e-01j,  0.27526507-3.7928987e-01j]]],\n",
       "      dtype=complex64)>"
      ]
     },
     "execution_count": 74,
     "metadata": {},
     "output_type": "execute_result"
    }
   ],
   "source": [
    "bs[1]"
   ]
  },
  {
   "cell_type": "code",
   "execution_count": 37,
   "id": "a902175b",
   "metadata": {},
   "outputs": [
    {
     "data": {
      "text/latex": [
       "Quantum object: dims = [[2, 5], [1, 1]], shape = (10, 1), type = ket\\begin{equation*}\\left(\\begin{array}{*{11}c}1.0\\\\0.0\\\\0.0\\\\0.0\\\\0.0\\\\0.0\\\\0.0\\\\0.0\\\\0.0\\\\0.0\\\\\\end{array}\\right)\\end{equation*}"
      ],
      "text/plain": [
       "Quantum object: dims = [[2, 5], [1, 1]], shape = (10, 1), type = ket\n",
       "Qobj data =\n",
       "[[1.]\n",
       " [0.]\n",
       " [0.]\n",
       " [0.]\n",
       " [0.]\n",
       " [0.]\n",
       " [0.]\n",
       " [0.]\n",
       " [0.]\n",
       " [0.]]"
      ]
     },
     "execution_count": 37,
     "metadata": {},
     "output_type": "execute_result"
    }
   ],
   "source": [
    "psi_i"
   ]
  },
  {
   "cell_type": "code",
   "execution_count": 36,
   "id": "65d7fef4",
   "metadata": {},
   "outputs": [
    {
     "data": {
      "text/latex": [
       "Quantum object: dims = [[2, 5], [1, 1]], shape = (10, 1), type = ket\\begin{equation*}\\left(\\begin{array}{*{11}c}(6.288\\times10^{-06}+0.607j)\\\\(-0.200+0.573j)\\\\(-0.267+0.334j)\\\\(-0.205+0.137j)\\\\(0.016+0.140j)\\\\(-9.994\\times10^{-04}-1.036\\times10^{-08}j)\\\\(9.437\\times10^{-04}+3.291\\times10^{-04}j)\\\\(-5.480\\times10^{-04}-4.401\\times10^{-04}j)\\\\(2.321\\times10^{-04}+3.677\\times10^{-04}j)\\\\(-9.664\\times10^{-05}-1.558\\times10^{-04}j)\\\\\\end{array}\\right)\\end{equation*}"
      ],
      "text/plain": [
       "Quantum object: dims = [[2, 5], [1, 1]], shape = (10, 1), type = ket\n",
       "Qobj data =\n",
       "[[ 6.28828138e-06+6.06607139e-01j]\n",
       " [-1.99913651e-01+5.72838664e-01j]\n",
       " [-2.67409891e-01+3.34334314e-01j]\n",
       " [-2.05054089e-01+1.36915728e-01j]\n",
       " [ 1.58984773e-02+1.39937624e-01j]\n",
       " [-9.99395968e-04-1.03600541e-08j]\n",
       " [ 9.43720981e-04+3.29071394e-04j]\n",
       " [-5.47959993e-04-4.40120202e-04j]\n",
       " [ 2.32088292e-04+3.67655826e-04j]\n",
       " [-9.66434745e-05-1.55807007e-04j]]"
      ]
     },
     "execution_count": 36,
     "metadata": {},
     "output_type": "execute_result"
    }
   ],
   "source": [
    "tfq.tf2qt(psis[0])"
   ]
  },
  {
   "cell_type": "code",
   "execution_count": 216,
   "id": "0d362498",
   "metadata": {},
   "outputs": [],
   "source": [
    "def new_initial_state(end_idx, N, initial_state, angles_filename): \n",
    "    '''\n",
    "    Returns U_{i-1} * U_{i-2} * ... * U_1 * initial state\n",
    "    where U is the layer matrix and i-1 = end_index\n",
    "    '''\n",
    "    #edge case\n",
    "    if end_idx <= 0: \n",
    "        return initial_state\n",
    "    #normal code\n",
    "    opt_params_ = opt_params.copy()\n",
    "    opt_params_['N_blocks'] = N\n",
    "    opt_params_['N_multistart'] = 1\n",
    "    opt_params_['user_angles'] = np.loadtxt(angles_filename)\n",
    "    \n",
    "    opt = BatchOptimizer(**opt_params_)\n",
    "    bs = opt.batch_construct_block_operators(opt.betas_rho,\n",
    "                                            opt.betas_angle, \n",
    "                                            opt.alphas_rho,\n",
    "                                             opt.alphas_angle,\n",
    "                                             opt.phis, opt.thetas)\n",
    "    tf_initial_state = tfq.qt2tf(initial_state)\n",
    "    psis = tf.stack([tf_initial_state] * opt.parameters[\"N_multistart\"])\n",
    "    for U in bs[:end_idx]: \n",
    "        psis = tf.einsum(\n",
    "                \"mij,mjk->mik\", U, psis\n",
    "            )  # m: multistart\n",
    "    return tfq.tf2qt(psis[0])\n",
    "    "
   ]
  },
  {
   "cell_type": "code",
   "execution_count": 189,
   "id": "21add6d4",
   "metadata": {},
   "outputs": [
    {
     "name": "stdout",
     "output_type": "stream",
     "text": [
      "[[ 0.53142399  1.89094746]\n",
      " [ 1.93092418 -0.65922534]\n",
      " [ 0.          0.        ]\n",
      " [ 3.1384871  -3.13625121]]\n",
      "Tensor(\"alphas:0\", shape=(1, 1), dtype=complex64)\n",
      "Tensor(\"alphas:0\", shape=(2, 1), dtype=complex64)\n"
     ]
    }
   ],
   "source": [
    "angles_filename = 'test.txt'\n",
    "# start_idx =0\n",
    "# N = 2\n",
    "# opt_params_ = opt_params.copy()\n",
    "# opt_params_['N_blocks'] = N \n",
    "# opt_params_['N_multistart'] = 1\n",
    "# opt_params_['user_angles'] = np.loadtxt(angles_filename)\n",
    "# print(np.loadtxt(angles_filename))\n",
    "\n",
    "\n",
    "# opt = BatchOptimizer(**opt_params_)\n",
    "# bs = opt.batch_construct_block_operators(opt.betas_rho,\n",
    "#                                         opt.betas_angle, \n",
    "#                                         opt.alphas_rho,\n",
    "#                                          opt.alphas_angle,\n",
    "#                                          opt.phis, opt.thetas)"
   ]
  },
  {
   "cell_type": "code",
   "execution_count": 190,
   "id": "1a8f18a5",
   "metadata": {},
   "outputs": [
    {
     "data": {
      "text/plain": [
       "2"
      ]
     },
     "execution_count": 190,
     "metadata": {},
     "output_type": "execute_result"
    }
   ],
   "source": [
    "# opt.parameters['N_blocks']"
   ]
  },
  {
   "cell_type": "code",
   "execution_count": 217,
   "id": "815f3f68",
   "metadata": {},
   "outputs": [],
   "source": [
    "def new_final_state(start_idx, N, final_state, angles_filename): \n",
    "    '''\n",
    "    Returns U_{i} * U_{i+1} * ... * U_N * final state\n",
    "    where U is the layer matrix and i= start_index\n",
    "    '''\n",
    "    print('N ' + str(N))\n",
    "    print('start_idx ' + str(start_idx))\n",
    "    opt_params_ = opt_params.copy()\n",
    "    opt_params_['N_blocks'] = N \n",
    "    opt_params_['N_multistart'] = 1\n",
    "    opt_params_['user_angles'] = np.loadtxt(angles_filename)\n",
    "    print(np.loadtxt(angles_filename))\n",
    "\n",
    "    \n",
    "    opt = BatchOptimizer(**opt_params_)\n",
    "    bs = opt.batch_construct_block_operators(opt.betas_rho,\n",
    "                                            opt.betas_angle, \n",
    "                                            opt.alphas_rho,\n",
    "                                             opt.alphas_angle,\n",
    "                                             opt.phis, opt.thetas)\n",
    "    tf_final_state = tfq.qt2tf(final_state)\n",
    "    psis = tf.stack([tf_final_state] * opt.parameters[\"N_multistart\"])\n",
    "    for k in range(N-start_idx):\n",
    "        print(len(bs[start_idx:]))\n",
    "        print(N - start_idx - 1 - k)\n",
    "        \n",
    "        U = bs[N - start_idx - 1 - k]\n",
    "        psis = tf.einsum(\n",
    "                \"mij,mjk->mik\", U, psis\n",
    "            )  # m: multistart\n",
    "    return tfq.tf2qt(psis[0])\n",
    "    "
   ]
  },
  {
   "cell_type": "code",
   "execution_count": 193,
   "id": "3fc69abf",
   "metadata": {},
   "outputs": [
    {
     "data": {
      "text/plain": [
       "[2, 3]"
      ]
     },
     "execution_count": 193,
     "metadata": {},
     "output_type": "execute_result"
    }
   ],
   "source": [
    "a = [1,2,3]\n",
    "a[1:]"
   ]
  },
  {
   "cell_type": "code",
   "execution_count": 194,
   "id": "08a742be",
   "metadata": {},
   "outputs": [],
   "source": [
    "def random_int(N = 1): \n",
    "    '''\n",
    "    returns a random number between 0 and N-1\n",
    "    '''\n",
    "    if N == 0 or N ==1: \n",
    "        return 0\n",
    "    rng = np.random.default_rng(12345)\n",
    "    return rng.integers(low=0, high=N-1, size=1)[0]"
   ]
  },
  {
   "cell_type": "code",
   "execution_count": 208,
   "id": "05ba1c8e",
   "metadata": {},
   "outputs": [
    {
     "name": "stdout",
     "output_type": "stream",
     "text": [
      "\n",
      "Need tf version 2.3.0 or later. Using tensorflow version: 2.7.0\n",
      "\n"
     ]
    },
    {
     "name": "stderr",
     "output_type": "stream",
     "text": [
      "C:\\Users\\Eesh Gupta\\Documents\\RU Research\\Chakram\\Multimode-Conditional-Displacements\\hpc_runs\\single_mode_ecd\\Initialization SNAP trick\\ECD_batch_optimizerV1.py:153: SyntaxWarning: \"is not\" with a literal. Did you mean \"!=\"?\n",
      "  if (filename is not None and filename is not \"\")\n",
      "C:\\Users\\Eesh Gupta\\Documents\\RU Research\\Chakram\\Multimode-Conditional-Displacements\\hpc_runs\\single_mode_ecd\\Initialization SNAP trick\\ECD_batch_optimizerV1.py:658: SyntaxWarning: \"is not\" with a literal. Did you mean \"!=\"?\n",
      "  time_per_epoch = elapsed_time_s / epoch if epoch is not 0 else 0.0\n"
     ]
    }
   ],
   "source": [
    "def main(initial_state, final_state, \n",
    "         angles_filename = 'test.txt', new_angles_filename = 'test1.txt',\n",
    "         threshold = 0.9): \n",
    "    '''\n",
    "    Return good initial parama nd layer count \n",
    "    '''\n",
    "    # first insert 1 layer\n",
    "    opt_params_ = opt_params.copy()\n",
    "    opt_params_['N_blocks'] = 1\n",
    "    opt_params_['N_multistart'] = 1\n",
    "    opt_params_['initial_states'] = [initial_state]\n",
    "    opt_params_['target_states'] = [final_state]\n",
    "    opt = BatchOptimizer(**opt_params_)\n",
    "    opt.optimize()\n",
    "    opt.save_angles(angles_filename)\n",
    "    fid = opt.best_fidelity()\n",
    "    \n",
    "    \n",
    "    N = 1 #depth\n",
    "    \n",
    "    #now add more layers\n",
    "    while fid < threshold: \n",
    "        insert_idx = random_int(N)\n",
    "        new_in_state = new_initial_state(insert_idx-1, N, \n",
    "                                         initial_state, \n",
    "                                         angles_filename)\n",
    "        new_fin_state = new_final_state(insert_idx, N, final_state, \n",
    "                                         angles_filename)\n",
    "        #only optimize new layer        \n",
    "        opt_params_ = opt_params.copy()\n",
    "        opt_params['N_blocks'] = 1\n",
    "        opt_params['N_multistart'] = 1\n",
    "        opt_params_['initial_states'] = [new_in_state]\n",
    "        opt_params_['target_states'] = [new_fin_state]\n",
    "        opt = BatchOptimizer(**opt_params)\n",
    "        opt.optimize()\n",
    "        opt.save_angles(new_angles_filename)\n",
    "        #update angles\n",
    "        angles_filename = insert_angles(insert_idx,\n",
    "                                        angles_filename,\n",
    "                                        new_angles_filename)\n",
    "        print('Now angles are ')\n",
    "        print(np.loadtxt(angles_filename))\n",
    "        fid = opt.best_fidelity()\n",
    "        \n",
    "        N+=1\n",
    "    return N, fid, angles_filename"
   ]
  },
  {
   "cell_type": "code",
   "execution_count": 196,
   "id": "923874b2",
   "metadata": {},
   "outputs": [
    {
     "data": {
      "text/plain": [
       "array([[2, 3, 3, 6],\n",
       "       [3, 4, 6, 8]])"
      ]
     },
     "execution_count": 196,
     "metadata": {},
     "output_type": "execute_result"
    }
   ],
   "source": [
    "a = [[2,3], [3,4]]\n",
    "b = [[3,6], [6,8]]\n",
    "np.concatenate((a,b),axis=1)"
   ]
  },
  {
   "cell_type": "code",
   "execution_count": 197,
   "id": "28806380",
   "metadata": {},
   "outputs": [
    {
     "data": {
      "text/plain": [
       "array([[2, 3, 3, 6],\n",
       "       [3, 4, 6, 8]])"
      ]
     },
     "execution_count": 197,
     "metadata": {},
     "output_type": "execute_result"
    }
   ],
   "source": [
    "a[0] = np.concatenate((a[0], b[0])).tolist()\n",
    "a[1] = np.concatenate((a[1], b[1])).tolist()\n",
    "np.array(a)"
   ]
  },
  {
   "cell_type": "code",
   "execution_count": 198,
   "id": "1f072973",
   "metadata": {},
   "outputs": [
    {
     "data": {
      "text/plain": [
       "array([[1],\n",
       "       [2],\n",
       "       [3]])"
      ]
     },
     "execution_count": 198,
     "metadata": {},
     "output_type": "execute_result"
    }
   ],
   "source": [
    "a = [1,2,3]\n",
    "b= (np.array(a))\n",
    "b.reshape((3,1))"
   ]
  },
  {
   "cell_type": "code",
   "execution_count": 199,
   "id": "76763f68",
   "metadata": {},
   "outputs": [
    {
     "data": {
      "text/plain": [
       "array([1, 2, 3])"
      ]
     },
     "execution_count": 199,
     "metadata": {},
     "output_type": "execute_result"
    }
   ],
   "source": [
    "b"
   ]
  },
  {
   "cell_type": "code",
   "execution_count": 200,
   "id": "e9c00b32",
   "metadata": {},
   "outputs": [],
   "source": [
    "def insert_angles(insert_idx, old_angles_filename, new_angles_filename): \n",
    "    '''\n",
    "    Insert angles of a new single layer into the old angles\n",
    "    '''\n",
    "    old_ang = np.loadtxt(old_angles_filename)\n",
    "    num_types = len(old_ang) # types of angles like beta_real, beta_imag, phi, theta\n",
    "    #reshape old angles \n",
    "    if len(old_ang.shape) == 1: \n",
    "        old_ang = old_ang.reshape((num_types,1))\n",
    "    old_ang = old_ang.tolist()\n",
    "    \n",
    "    new_ang = (np.loadtxt(new_angles_filename).reshape((num_types,1))).tolist()\n",
    "    \n",
    "    for n in range(num_types): \n",
    "        if insert_idx == 0: \n",
    "            old_ang[n] = np.concatenate((new_ang[n], old_ang[n])).tolist()\n",
    "        else: \n",
    "            old_ang[n] = np.concatenate((old_ang[n][:insert_idx], new_ang[n], old_ang[n][insert_idx:])).tolist()\n",
    "    np.savetxt(old_angles_filename, old_ang)\n",
    "    return old_angles_filename"
   ]
  },
  {
   "cell_type": "code",
   "execution_count": 215,
   "id": "cb0ecd98",
   "metadata": {},
   "outputs": [
    {
     "name": "stdout",
     "output_type": "stream",
     "text": [
      "Start time: 2023-01-06 11:14:36\n",
      "Tensor(\"alphas:0\", shape=(1, 1), dtype=complex64)\n",
      " Epoch: 20 / 500 Max Fid: 0.368117 Avg Fid: 0.368117 Max dFid: -0.000001 Avg dFid: -0.000001 Elapsed time: 0:00:03.968719 Remaing time: 0:01:35.249268\n",
      " max dFid: -0.000001\n",
      "dFid stop: 0.000001\n",
      "\n",
      "\n",
      " Optimization stopped.  No dfid is greater than dfid_stop\n",
      "\n",
      "optimization_type: state transfer\n",
      "N_multistart: 1\n",
      "N_blocks: 1\n",
      "term_fid: 0.999\n",
      "dfid_stop: 1e-06\n",
      "no_CD_end: False\n",
      "learning_rate: 0.01\n",
      "epoch_size: 10\n",
      "epochs: 500\n",
      "beta_scale: 3.0\n",
      "alpha_scale: 1.0\n",
      "theta_scale: 3.141592653589793\n",
      "use_displacements: False\n",
      "use_phase: False\n",
      "name: Fock 1\n",
      "comment: \n",
      "user_angles: None\n",
      "N_cav: 5\n",
      "filename: Fock 1.h5\n",
      "\n",
      "Best circuit parameters found:\n",
      "betas:         [0.53157-1.93229j]\n",
      "alphas:        [0.+0.j]\n",
      "phis (deg):    [0.]\n",
      "thetas (deg):  [-179.79884]\n",
      "Max Fidelity:  0.368117\n",
      "\n",
      "\n",
      "termination reason: dfid\n",
      "optimization timestamp (start time): 2023-01-06 11:14:36\n",
      "timestamp (end time): 2023-01-06 11:14:40\n",
      "elapsed time: 0:00:03.968719\n",
      "Time per epoch (epoch size = 10): 0:00:00.198436\n",
      "Time per Adam step (N_multistart = 1, N_cav = 5): 0:00:00.000397\n",
      "\n",
      "============================================================\n",
      "\n",
      "N 1\n",
      "start_idx 0\n",
      "[ 0.53156906 -1.93229127  0.         -3.13808179]\n",
      "Tensor(\"alphas:0\", shape=(1, 1), dtype=complex64)\n",
      "1\n",
      "0\n",
      "Start time: 2023-01-06 11:14:40\n",
      "Tensor(\"alphas:0\", shape=(1, 1), dtype=complex64)\n",
      " Epoch: 14 / 500 Max Fid: 0.368112 Avg Fid: 0.368112 Max dFid: 0.000001 Avg dFid: 0.000001 Elapsed time: 0:00:03.543350 Remaing time: 0:02:03.004847\n",
      " max dFid: 0.000001\n",
      "dFid stop: 0.000001\n",
      "\n",
      "\n",
      " Optimization stopped.  No dfid is greater than dfid_stop\n",
      "\n",
      "optimization_type: state transfer\n",
      "N_multistart: 1\n",
      "N_blocks: 1\n",
      "term_fid: 0.999\n",
      "dfid_stop: 1e-06\n",
      "no_CD_end: False\n",
      "learning_rate: 0.01\n",
      "epoch_size: 10\n",
      "epochs: 500\n",
      "beta_scale: 3.0\n",
      "alpha_scale: 1.0\n",
      "theta_scale: 3.141592653589793\n",
      "use_displacements: False\n",
      "use_phase: False\n",
      "name: Fock 1\n",
      "comment: \n",
      "user_angles: None\n",
      "N_cav: 5\n",
      "filename: Fock 1.h5\n",
      "\n",
      "Best circuit parameters found:\n",
      "betas:         [1.89316+0.65109j]\n",
      "alphas:        [0.+0.j]\n",
      "phis (deg):    [0.]\n",
      "thetas (deg):  [-179.97896]\n",
      "Max Fidelity:  0.368112\n",
      "\n",
      "\n",
      "termination reason: dfid\n",
      "optimization timestamp (start time): 2023-01-06 11:14:40\n",
      "timestamp (end time): 2023-01-06 11:14:43\n",
      "elapsed time: 0:00:03.543350\n",
      "Time per epoch (epoch size = 10): 0:00:00.253096\n",
      "Time per Adam step (N_multistart = 1, N_cav = 5): 0:00:00.000506\n",
      "\n",
      "============================================================\n",
      "\n",
      "Now angles are \n",
      "[[ 1.89315832  0.53156906]\n",
      " [ 0.65108675 -1.93229127]\n",
      " [ 0.          0.        ]\n",
      " [-3.14122558 -3.13808179]]\n",
      "N 2\n",
      "start_idx 0\n",
      "[[ 1.89315832  0.53156906]\n",
      " [ 0.65108675 -1.93229127]\n",
      " [ 0.          0.        ]\n",
      " [-3.14122558 -3.13808179]]\n",
      "Tensor(\"alphas:0\", shape=(1, 1), dtype=complex64)\n",
      "Tensor(\"alphas:0\", shape=(2, 1), dtype=complex64)\n",
      "2\n",
      "1\n",
      "2\n",
      "0\n",
      "Start time: 2023-01-06 11:14:44\n",
      "Tensor(\"alphas:0\", shape=(1, 1), dtype=complex64)\n",
      " Epoch: 35 / 500 Max Fid: 0.368112 Avg Fid: 0.368112 Max dFid: 0.000000 Avg dFid: 0.000000 Elapsed time: 0:00:05.923110 Remaing time: 0:01:18.692744\n",
      " max dFid: 0.000000\n",
      "dFid stop: 0.000001\n",
      "\n",
      "\n",
      " Optimization stopped.  No dfid is greater than dfid_stop\n",
      "\n",
      "optimization_type: state transfer\n",
      "N_multistart: 1\n",
      "N_blocks: 1\n",
      "term_fid: 0.999\n",
      "dfid_stop: 1e-06\n",
      "no_CD_end: False\n",
      "learning_rate: 0.01\n",
      "epoch_size: 10\n",
      "epochs: 500\n",
      "beta_scale: 3.0\n",
      "alpha_scale: 1.0\n",
      "theta_scale: 3.141592653589793\n",
      "use_displacements: False\n",
      "use_phase: False\n",
      "name: Fock 1\n",
      "comment: \n",
      "user_angles: None\n",
      "N_cav: 5\n",
      "filename: Fock 1.h5\n",
      "\n",
      "Best circuit parameters found:\n",
      "betas:         [1.89053-0.66086j]\n",
      "alphas:        [0.+0.j]\n",
      "phis (deg):    [0.]\n",
      "thetas (deg):  [-179.87039]\n",
      "Max Fidelity:  0.368112\n",
      "\n",
      "\n",
      "termination reason: dfid\n",
      "optimization timestamp (start time): 2023-01-06 11:14:44\n",
      "timestamp (end time): 2023-01-06 11:14:50\n",
      "elapsed time: 0:00:05.925163\n",
      "Time per epoch (epoch size = 10): 0:00:00.169290\n",
      "Time per Adam step (N_multistart = 1, N_cav = 5): 0:00:00.000339\n",
      "\n",
      "============================================================\n",
      "\n",
      "Now angles are \n",
      "[[ 1.89052963  1.89315832  0.53156906]\n",
      " [-0.66085684  0.65108675 -1.93229127]\n",
      " [ 0.          0.          0.        ]\n",
      " [-3.13933063 -3.14122558 -3.13808179]]\n",
      "N 3\n",
      "start_idx 1\n",
      "[[ 1.89052963  1.89315832  0.53156906]\n",
      " [-0.66085684  0.65108675 -1.93229127]\n",
      " [ 0.          0.          0.        ]\n",
      " [-3.13933063 -3.14122558 -3.13808179]]\n",
      "Tensor(\"alphas:0\", shape=(1, 1), dtype=complex64)\n",
      "Tensor(\"alphas:0\", shape=(3, 1), dtype=complex64)\n",
      "2\n",
      "1\n",
      "2\n",
      "0\n",
      "Start time: 2023-01-06 11:14:50\n",
      "Tensor(\"alphas:0\", shape=(1, 1), dtype=complex64)\n",
      " Epoch: 24 / 500 Max Fid: 0.368112 Avg Fid: 0.368112 Max dFid: 0.000000 Avg dFid: 0.000000 Elapsed time: 0:00:04.788876 Remaing time: 0:01:34.979366\n",
      " max dFid: 0.000000\n",
      "dFid stop: 0.000001\n",
      "\n",
      "\n",
      " Optimization stopped.  No dfid is greater than dfid_stop\n",
      "\n",
      "optimization_type: state transfer\n",
      "N_multistart: 1\n",
      "N_blocks: 1\n",
      "term_fid: 0.999\n",
      "dfid_stop: 1e-06\n",
      "no_CD_end: False\n",
      "learning_rate: 0.01\n",
      "epoch_size: 10\n",
      "epochs: 500\n",
      "beta_scale: 3.0\n",
      "alpha_scale: 1.0\n",
      "theta_scale: 3.141592653589793\n",
      "use_displacements: False\n",
      "use_phase: False\n",
      "name: Fock 1\n",
      "comment: \n",
      "user_angles: None\n",
      "N_cav: 5\n",
      "filename: Fock 1.h5\n",
      "\n",
      "Best circuit parameters found:\n",
      "betas:         [1.88999-0.65911j]\n",
      "alphas:        [0.+0.j]\n",
      "phis (deg):    [0.]\n",
      "thetas (deg):  [-179.99998]\n",
      "Max Fidelity:  0.368112\n",
      "\n",
      "\n",
      "termination reason: dfid\n",
      "optimization timestamp (start time): 2023-01-06 11:14:50\n",
      "timestamp (end time): 2023-01-06 11:14:55\n",
      "elapsed time: 0:00:04.788876\n",
      "Time per epoch (epoch size = 10): 0:00:00.199536\n",
      "Time per Adam step (N_multistart = 1, N_cav = 5): 0:00:00.000399\n",
      "\n",
      "============================================================\n",
      "\n",
      "Now angles are \n",
      "[[ 1.89052963  1.88999248  1.89315832  0.53156906]\n",
      " [-0.66085684 -0.65910947  0.65108675 -1.93229127]\n",
      " [ 0.          0.          0.          0.        ]\n",
      " [-3.13933063 -3.14159226 -3.14122558 -3.13808179]]\n"
     ]
    },
    {
     "ename": "ValueError",
     "evalue": "cannot reshape array of size 4 into shape (1,1)",
     "output_type": "error",
     "traceback": [
      "\u001b[1;31m---------------------------------------------------------------------------\u001b[0m",
      "\u001b[1;31mValueError\u001b[0m                                Traceback (most recent call last)",
      "\u001b[1;32m<ipython-input-215-58969b0440e4>\u001b[0m in \u001b[0;36m<module>\u001b[1;34m\u001b[0m\n\u001b[1;32m----> 1\u001b[1;33m \u001b[0mmain\u001b[0m\u001b[1;33m(\u001b[0m\u001b[0mpsi_i\u001b[0m\u001b[1;33m,\u001b[0m \u001b[0mpsi_t\u001b[0m\u001b[1;33m)\u001b[0m\u001b[1;33m\u001b[0m\u001b[1;33m\u001b[0m\u001b[0m\n\u001b[0m",
      "\u001b[1;32m<ipython-input-208-62a1acede02f>\u001b[0m in \u001b[0;36mmain\u001b[1;34m(initial_state, final_state, angles_filename, new_angles_filename, threshold)\u001b[0m\n\u001b[0;32m     22\u001b[0m     \u001b[1;32mwhile\u001b[0m \u001b[0mfid\u001b[0m \u001b[1;33m<\u001b[0m \u001b[0mthreshold\u001b[0m\u001b[1;33m:\u001b[0m\u001b[1;33m\u001b[0m\u001b[1;33m\u001b[0m\u001b[0m\n\u001b[0;32m     23\u001b[0m         \u001b[0minsert_idx\u001b[0m \u001b[1;33m=\u001b[0m \u001b[0mrandom_int\u001b[0m\u001b[1;33m(\u001b[0m\u001b[0mN\u001b[0m\u001b[1;33m)\u001b[0m\u001b[1;33m\u001b[0m\u001b[1;33m\u001b[0m\u001b[0m\n\u001b[1;32m---> 24\u001b[1;33m         new_in_state = new_initial_state(insert_idx-1,\n\u001b[0m\u001b[0;32m     25\u001b[0m                                          \u001b[0minitial_state\u001b[0m\u001b[1;33m,\u001b[0m\u001b[1;33m\u001b[0m\u001b[1;33m\u001b[0m\u001b[0m\n\u001b[0;32m     26\u001b[0m                                          angles_filename)\n",
      "\u001b[1;32m<ipython-input-45-7296aa1e215c>\u001b[0m in \u001b[0;36mnew_initial_state\u001b[1;34m(end_idx, initial_state, angles_filename)\u001b[0m\n\u001b[0;32m     13\u001b[0m     \u001b[0mopt_params_\u001b[0m\u001b[1;33m[\u001b[0m\u001b[1;34m'user_angles'\u001b[0m\u001b[1;33m]\u001b[0m \u001b[1;33m=\u001b[0m \u001b[0mnp\u001b[0m\u001b[1;33m.\u001b[0m\u001b[0mloadtxt\u001b[0m\u001b[1;33m(\u001b[0m\u001b[0mangles_filename\u001b[0m\u001b[1;33m)\u001b[0m\u001b[1;33m\u001b[0m\u001b[1;33m\u001b[0m\u001b[0m\n\u001b[0;32m     14\u001b[0m \u001b[1;33m\u001b[0m\u001b[0m\n\u001b[1;32m---> 15\u001b[1;33m     \u001b[0mopt\u001b[0m \u001b[1;33m=\u001b[0m \u001b[0mBatchOptimizer\u001b[0m\u001b[1;33m(\u001b[0m\u001b[1;33m**\u001b[0m\u001b[0mopt_params_\u001b[0m\u001b[1;33m)\u001b[0m\u001b[1;33m\u001b[0m\u001b[1;33m\u001b[0m\u001b[0m\n\u001b[0m\u001b[0;32m     16\u001b[0m     bs = opt.batch_construct_block_operators(opt.betas_rho,\n\u001b[0;32m     17\u001b[0m                                             \u001b[0mopt\u001b[0m\u001b[1;33m.\u001b[0m\u001b[0mbetas_angle\u001b[0m\u001b[1;33m,\u001b[0m\u001b[1;33m\u001b[0m\u001b[1;33m\u001b[0m\u001b[0m\n",
      "\u001b[1;32m~\\Documents\\RU Research\\Chakram\\Multimode-Conditional-Displacements\\hpc_runs\\single_mode_ecd\\Initialization SNAP trick\\ECD_batch_optimizerV1.py\u001b[0m in \u001b[0;36m__init__\u001b[1;34m(self, optimization_type, target_unitary, P_cav, N_cav, initial_states, target_states, expectation_operators, target_expectation_values, N_multistart, N_blocks, term_fid, dfid_stop, learning_rate, epoch_size, epochs, beta_scale, alpha_scale, theta_scale, use_displacements, no_CD_end, beta_mask, phi_mask, theta_mask, alpha_mask, name, filename, user_angles, comment, use_phase, timestamps, **kwargs)\u001b[0m\n\u001b[0;32m    137\u001b[0m \u001b[1;33m\u001b[0m\u001b[0m\n\u001b[0;32m    138\u001b[0m         \u001b[1;31m# TODO: handle case when you pass initial params. In that case, don't randomize, but use \"set_tf_vars()\"\u001b[0m\u001b[1;33m\u001b[0m\u001b[1;33m\u001b[0m\u001b[1;33m\u001b[0m\u001b[0m\n\u001b[1;32m--> 139\u001b[1;33m         \u001b[0mself\u001b[0m\u001b[1;33m.\u001b[0m\u001b[0mrandomize_and_set_vars\u001b[0m\u001b[1;33m(\u001b[0m\u001b[1;33m)\u001b[0m\u001b[1;33m\u001b[0m\u001b[1;33m\u001b[0m\u001b[0m\n\u001b[0m\u001b[0;32m    140\u001b[0m         \u001b[1;31m# self.set_tf_vars(betas=betas, alphas=alphas, phis=phis, thetas=thetas)\u001b[0m\u001b[1;33m\u001b[0m\u001b[1;33m\u001b[0m\u001b[1;33m\u001b[0m\u001b[0m\n\u001b[0;32m    141\u001b[0m \u001b[1;33m\u001b[0m\u001b[0m\n",
      "\u001b[1;32m~\\Documents\\RU Research\\Chakram\\Multimode-Conditional-Displacements\\hpc_runs\\single_mode_ecd\\Initialization SNAP trick\\ECD_batch_optimizerV1.py\u001b[0m in \u001b[0;36mrandomize_and_set_vars\u001b[1;34m(self)\u001b[0m\n\u001b[0;32m    912\u001b[0m         \u001b[1;32mif\u001b[0m \u001b[0mself\u001b[0m\u001b[1;33m.\u001b[0m\u001b[0muser_angles\u001b[0m \u001b[1;32mis\u001b[0m \u001b[1;32mnot\u001b[0m \u001b[1;32mNone\u001b[0m\u001b[1;33m:\u001b[0m\u001b[1;33m\u001b[0m\u001b[1;33m\u001b[0m\u001b[0m\n\u001b[0;32m    913\u001b[0m             \u001b[1;31m#print(self.user_angles)\u001b[0m\u001b[1;33m\u001b[0m\u001b[1;33m\u001b[0m\u001b[1;33m\u001b[0m\u001b[0m\n\u001b[1;32m--> 914\u001b[1;33m             \u001b[0mbetas_rho\u001b[0m \u001b[1;33m=\u001b[0m \u001b[0mself\u001b[0m\u001b[1;33m.\u001b[0m\u001b[0minsert_user_initial_param\u001b[0m\u001b[1;33m(\u001b[0m\u001b[0mbetas_rho\u001b[0m\u001b[1;33m,\u001b[0m \u001b[0mself\u001b[0m\u001b[1;33m.\u001b[0m\u001b[0muser_angles\u001b[0m\u001b[1;33m[\u001b[0m\u001b[1;36m0\u001b[0m\u001b[1;33m]\u001b[0m\u001b[1;33m)\u001b[0m\u001b[1;33m\u001b[0m\u001b[1;33m\u001b[0m\u001b[0m\n\u001b[0m\u001b[0;32m    915\u001b[0m             \u001b[0mbetas_angle\u001b[0m \u001b[1;33m=\u001b[0m \u001b[0mself\u001b[0m\u001b[1;33m.\u001b[0m\u001b[0minsert_user_initial_param\u001b[0m\u001b[1;33m(\u001b[0m\u001b[0mbetas_angle\u001b[0m\u001b[1;33m,\u001b[0m \u001b[0mself\u001b[0m\u001b[1;33m.\u001b[0m\u001b[0muser_angles\u001b[0m\u001b[1;33m[\u001b[0m\u001b[1;36m1\u001b[0m\u001b[1;33m]\u001b[0m\u001b[1;33m)\u001b[0m\u001b[1;33m\u001b[0m\u001b[1;33m\u001b[0m\u001b[0m\n\u001b[0;32m    916\u001b[0m             \u001b[1;31m#alphas_rho = self.insert_user_initial_param(alphas_rho, self.user_angles[2])\u001b[0m\u001b[1;33m\u001b[0m\u001b[1;33m\u001b[0m\u001b[1;33m\u001b[0m\u001b[0m\n",
      "\u001b[1;32m~\\Documents\\RU Research\\Chakram\\Multimode-Conditional-Displacements\\hpc_runs\\single_mode_ecd\\Initialization SNAP trick\\ECD_batch_optimizerV1.py\u001b[0m in \u001b[0;36minsert_user_initial_param\u001b[1;34m(self, current_angles, user_angles_specfic)\u001b[0m\n\u001b[0;32m    802\u001b[0m         \u001b[1;32mif\u001b[0m \u001b[0mlen\u001b[0m\u001b[1;33m(\u001b[0m\u001b[0mnp_user_ang\u001b[0m\u001b[1;33m.\u001b[0m\u001b[0mshape\u001b[0m\u001b[1;33m)\u001b[0m \u001b[1;33m==\u001b[0m \u001b[1;36m1\u001b[0m \u001b[1;32mor\u001b[0m \u001b[0mlen\u001b[0m\u001b[1;33m(\u001b[0m\u001b[0mnp_user_ang\u001b[0m\u001b[1;33m.\u001b[0m\u001b[0mshape\u001b[0m\u001b[1;33m)\u001b[0m \u001b[1;33m==\u001b[0m \u001b[1;36m0\u001b[0m\u001b[1;33m:\u001b[0m\u001b[1;33m\u001b[0m\u001b[1;33m\u001b[0m\u001b[0m\n\u001b[0;32m    803\u001b[0m             \u001b[1;31m#reshape array assuming num blocks is correct!\u001b[0m\u001b[1;33m\u001b[0m\u001b[1;33m\u001b[0m\u001b[1;33m\u001b[0m\u001b[0m\n\u001b[1;32m--> 804\u001b[1;33m             \u001b[0mnp_user_ang\u001b[0m \u001b[1;33m=\u001b[0m \u001b[0mnp_user_ang\u001b[0m\u001b[1;33m.\u001b[0m\u001b[0mreshape\u001b[0m\u001b[1;33m(\u001b[0m\u001b[0mN_blocks\u001b[0m\u001b[1;33m,\u001b[0m \u001b[1;36m1\u001b[0m\u001b[1;33m)\u001b[0m\u001b[1;33m\u001b[0m\u001b[1;33m\u001b[0m\u001b[0m\n\u001b[0m\u001b[0;32m    805\u001b[0m             \u001b[0muser_angles_specfic\u001b[0m \u001b[1;33m=\u001b[0m \u001b[0mnp_user_ang\u001b[0m\u001b[1;33m\u001b[0m\u001b[1;33m\u001b[0m\u001b[0m\n\u001b[0;32m    806\u001b[0m         \u001b[1;31m# print('after')\u001b[0m\u001b[1;33m\u001b[0m\u001b[1;33m\u001b[0m\u001b[1;33m\u001b[0m\u001b[0m\n",
      "\u001b[1;31mValueError\u001b[0m: cannot reshape array of size 4 into shape (1,1)"
     ]
    }
   ],
   "source": [
    "main(psi_i, psi_t)"
   ]
  },
  {
   "cell_type": "code",
   "execution_count": 81,
   "id": "619931f4",
   "metadata": {},
   "outputs": [
    {
     "name": "stdout",
     "output_type": "stream",
     "text": [
      "None\n",
      "Tensor(\"alphas:0\", shape=(1, 10), dtype=complex64)\n",
      "optimization_type: state transfer\n",
      "N_multistart: 10\n",
      "N_blocks: 1\n",
      "term_fid: 0.999\n",
      "dfid_stop: 1e-06\n",
      "no_CD_end: False\n",
      "learning_rate: 0.01\n",
      "epoch_size: 10\n",
      "epochs: 500\n",
      "beta_scale: 3.0\n",
      "alpha_scale: 1.0\n",
      "theta_scale: 3.141592653589793\n",
      "use_displacements: False\n",
      "use_phase: False\n",
      "name: Fock 1\n",
      "comment: \n",
      "user_angles: None\n",
      "N_cav: 5\n",
      "filename: Fock 1.h5\n",
      "\n",
      "Best circuit parameters found:\n",
      "betas:         [-1.95146+1.02638j]\n",
      "alphas:        [0.+0.j]\n",
      "phis (deg):    [0.]\n",
      "thetas (deg):  [169.38443]\n",
      "Max Fidelity:  0.357154\n",
      "\n",
      "\n"
     ]
    }
   ],
   "source": [
    "opt = BatchOptimizer(**opt_params)\n",
    "opt.print_info()"
   ]
  },
  {
   "cell_type": "code",
   "execution_count": 84,
   "id": "b9e04dac",
   "metadata": {},
   "outputs": [
    {
     "name": "stdout",
     "output_type": "stream",
     "text": [
      "Start time: 2023-01-05 10:01:33\n",
      " Epoch: 1 / 500 Max Fid: 0.368118 Avg Fid: 0.368113 Max dFid: -0.000001 Avg dFid: -0.000002 Elapsed time: 0:00:00.213723 Remaing time: 0:01:46.647630\n",
      " max dFid: -0.000001\n",
      "dFid stop: 0.000001\n",
      "\n",
      "\n",
      " Optimization stopped.  No dfid is greater than dfid_stop\n",
      "\n",
      "optimization_type: state transfer\n",
      "N_multistart: 10\n",
      "N_blocks: 1\n",
      "term_fid: 0.999\n",
      "dfid_stop: 1e-06\n",
      "no_CD_end: False\n",
      "learning_rate: 0.01\n",
      "epoch_size: 10\n",
      "epochs: 500\n",
      "beta_scale: 3.0\n",
      "alpha_scale: 1.0\n",
      "theta_scale: 3.141592653589793\n",
      "use_displacements: False\n",
      "use_phase: False\n",
      "name: Fock 1\n",
      "comment: \n",
      "user_angles: None\n",
      "N_cav: 5\n",
      "filename: Fock 1.h5\n",
      "\n",
      "Best circuit parameters found:\n",
      "betas:         [0.53476+1.92957j]\n",
      "alphas:        [0.+0.j]\n",
      "phis (deg):    [0.]\n",
      "thetas (deg):  [-179.96347]\n",
      "Max Fidelity:  0.368119\n",
      "\n",
      "\n",
      "termination reason: dfid\n",
      "optimization timestamp (start time): 2023-01-05 10:01:33\n",
      "timestamp (end time): 2023-01-05 10:01:33\n",
      "elapsed time: 0:00:00.216714\n",
      "Time per epoch (epoch size = 10): 0:00:00.216714\n",
      "Time per Adam step (N_multistart = 10, N_cav = 5): 0:00:00.000433\n",
      "\n",
      "============================================================\n",
      "\n"
     ]
    },
    {
     "data": {
      "text/plain": [
       "'2023-01-05 10:01:33'"
      ]
     },
     "execution_count": 84,
     "metadata": {},
     "output_type": "execute_result"
    }
   ],
   "source": [
    "opt.optimize()"
   ]
  },
  {
   "cell_type": "code",
   "execution_count": 85,
   "id": "682d4e51",
   "metadata": {},
   "outputs": [
    {
     "data": {
      "text/plain": [
       "array([0.53476286+1.9295701j], dtype=complex64)"
      ]
     },
     "execution_count": 85,
     "metadata": {},
     "output_type": "execute_result"
    }
   ],
   "source": [
    "opt.best_circuit()['betas']"
   ]
  },
  {
   "cell_type": "code",
   "execution_count": 86,
   "id": "6aac1591",
   "metadata": {},
   "outputs": [],
   "source": [
    "angles_filename = 'test.txt'"
   ]
  },
  {
   "cell_type": "code",
   "execution_count": 87,
   "id": "65e71947",
   "metadata": {},
   "outputs": [],
   "source": [
    "opt.save_angles(angles_filename)"
   ]
  },
  {
   "cell_type": "code",
   "execution_count": 91,
   "id": "e661f15c",
   "metadata": {},
   "outputs": [],
   "source": [
    "pulse_sim = ecd_pulse_single_mode(param_file = angles_filename) "
   ]
  },
  {
   "cell_type": "code",
   "execution_count": 93,
   "id": "83a88db7",
   "metadata": {},
   "outputs": [
    {
     "data": {
      "text/plain": [
       "array([0.53476286+1.92957008j])"
      ]
     },
     "execution_count": 93,
     "metadata": {},
     "output_type": "execute_result"
    }
   ],
   "source": [
    "pulse_sim.betas"
   ]
  },
  {
   "cell_type": "code",
   "execution_count": 73,
   "id": "fecb2c23",
   "metadata": {},
   "outputs": [],
   "source": [
    "params = np.loadtxt(angles_filename)"
   ]
  },
  {
   "cell_type": "code",
   "execution_count": 76,
   "id": "492c31e0",
   "metadata": {},
   "outputs": [
    {
     "data": {
      "text/plain": [
       "array([ 0.53127664,  1.93096542,  0.        , -3.14159203])"
      ]
     },
     "execution_count": 76,
     "metadata": {},
     "output_type": "execute_result"
    }
   ],
   "source": [
    "params"
   ]
  },
  {
   "cell_type": "code",
   "execution_count": 74,
   "id": "6b04cf8f",
   "metadata": {},
   "outputs": [
    {
     "data": {
      "text/plain": [
       "1"
      ]
     },
     "execution_count": 74,
     "metadata": {},
     "output_type": "execute_result"
    }
   ],
   "source": [
    "len(params.shape)"
   ]
  },
  {
   "cell_type": "code",
   "execution_count": 75,
   "id": "cb6eff5e",
   "metadata": {},
   "outputs": [
    {
     "data": {
      "text/plain": [
       "False"
      ]
     },
     "execution_count": 75,
     "metadata": {},
     "output_type": "execute_result"
    }
   ],
   "source": [
    "type(params[0]) == np.ndarray"
   ]
  },
  {
   "cell_type": "code",
   "execution_count": 60,
   "id": "0aedae44",
   "metadata": {},
   "outputs": [
    {
     "data": {
      "text/plain": [
       "False"
      ]
     },
     "execution_count": 60,
     "metadata": {},
     "output_type": "execute_result"
    }
   ],
   "source": [
    "a = 2\n",
    "b = np.array([a])\n",
    "type(a) == np.ndarray"
   ]
  },
  {
   "cell_type": "code",
   "execution_count": 61,
   "id": "ae7738e7",
   "metadata": {},
   "outputs": [
    {
     "data": {
      "text/plain": [
       "True"
      ]
     },
     "execution_count": 61,
     "metadata": {},
     "output_type": "execute_result"
    }
   ],
   "source": [
    "type(b) == np.ndarray"
   ]
  },
  {
   "cell_type": "code",
   "execution_count": 62,
   "id": "acd63073",
   "metadata": {},
   "outputs": [
    {
     "data": {
      "text/plain": [
       "array([2])"
      ]
     },
     "execution_count": 62,
     "metadata": {},
     "output_type": "execute_result"
    }
   ],
   "source": [
    "b"
   ]
  },
  {
   "cell_type": "code",
   "execution_count": null,
   "id": "ba04f6bd",
   "metadata": {},
   "outputs": [],
   "source": []
  },
  {
   "cell_type": "markdown",
   "id": "32ee11af",
   "metadata": {},
   "source": [
    "# DUMP "
   ]
  },
  {
   "cell_type": "markdown",
   "id": "f7c93207",
   "metadata": {},
   "source": [
    "#### Filename for angles to be stored"
   ]
  },
  {
   "cell_type": "code",
   "execution_count": 50,
   "id": "12889424",
   "metadata": {},
   "outputs": [],
   "source": [
    "def main(layers, fname = fname, df = df):\n",
    "    '''\n",
    "    Vary layers, get fidelity\n",
    "    '''\n",
    "    for layer in layers: \n",
    "        #optimizer\n",
    "        opt_params['N_blocks'] = layer\n",
    "        opt = BatchOptimizer(**opt_params)\n",
    "        opt.optimize()\n",
    "        BO_fid = opt.best_fidelity()\n",
    "        angles_filename = 'test_opt_angles.txt'\n",
    "        opt.save_angles(filename = angles_filename)\n",
    "        \n",
    "        #pulses\n",
    "        pulse_sim = ecd_pulse_single_mode(param_file = angles_filename,\n",
    "                                 kappa = 1/(2e+6)) \n",
    "        pulse_sim.get_pulses()\n",
    "        \n",
    "        pulse_time = len(pulse_sim.alpha)\n",
    "        \n",
    "        df_new = pd.DataFrame([[ pulse_time, layer, BO_fid]], columns=columns)\n",
    "        if df is None : \n",
    "            df = df_new\n",
    "        else:\n",
    "            df = df.append(df_new, ignore_index = True)\n",
    "        df.to_csv(fname, index=False)"
   ]
  },
  {
   "cell_type": "code",
   "execution_count": 54,
   "id": "2cdd768a",
   "metadata": {},
   "outputs": [],
   "source": [
    "layers = [i for i in range(2, 8, 1)]"
   ]
  },
  {
   "cell_type": "code",
   "execution_count": 55,
   "id": "5da35d3c",
   "metadata": {},
   "outputs": [
    {
     "data": {
      "text/plain": [
       "[2, 3, 4, 5, 6, 7]"
      ]
     },
     "execution_count": 55,
     "metadata": {},
     "output_type": "execute_result"
    }
   ],
   "source": [
    "layers"
   ]
  },
  {
   "cell_type": "code",
   "execution_count": 56,
   "id": "ab24e372",
   "metadata": {},
   "outputs": [
    {
     "name": "stdout",
     "output_type": "stream",
     "text": [
      "None\n",
      "Start time: 2022-10-21 09:54:25\n",
      "Tensor(\"alphas:0\", shape=(1, 10), dtype=complex64)\n",
      "Tensor(\"alphas:0\", shape=(2, 10), dtype=complex64)\n",
      " Epoch: 34 / 500 Max Fid: 0.367880 Avg Fid: 0.367880 Max dFid: 0.000001 Avg dFid: 0.000000 Elapsed time: 0:00:04.246430 Remaing time: 0:00:58.201066\n",
      " max dFid: 0.000001\n",
      "dFid stop: 0.000001\n",
      "\n",
      "\n",
      " Optimization stopped.  No dfid is greater than dfid_stop\n",
      "\n",
      "optimization_type: state transfer\n",
      "N_multistart: 10\n",
      "N_blocks: 2\n",
      "term_fid: 0.995\n",
      "dfid_stop: 1e-06\n",
      "no_CD_end: False\n",
      "learning_rate: 0.01\n",
      "epoch_size: 10\n",
      "epochs: 500\n",
      "beta_scale: 3.0\n",
      "alpha_scale: 1.0\n",
      "theta_scale: 3.141592653589793\n",
      "use_displacements: False\n",
      "use_phase: False\n",
      "name: Fock 1\n",
      "comment: \n",
      "user_angles: None\n",
      "N_cav: 15\n",
      "filename: Fock 1.h5\n",
      "\n",
      "Best circuit parameters found:\n",
      "betas:         [-0.1928 -1.89285j -0.61323+0.06246j]\n",
      "alphas:        [0.+0.j]\n",
      "phis (deg):    [ 0.      69.50025]\n",
      "thetas (deg):  [71.78806 71.78809]\n",
      "Max Fidelity:  0.367880\n",
      "\n",
      "\n",
      "termination reason: dfid\n",
      "optimization timestamp (start time): 2022-10-21 09:54:25\n",
      "timestamp (end time): 2022-10-21 09:54:29\n",
      "elapsed time: 0:00:04.247428\n",
      "Time per epoch (epoch size = 10): 0:00:00.124924\n",
      "Time per Adam step (N_multistart = 10, N_cav = 15): 0:00:00.000250\n",
      "\n",
      "============================================================\n",
      "\n",
      "Modified method: Cond Disp Circuit\n",
      "Modified conditional displacement called\n",
      "---------------------------\n",
      "Final Displacement: 1.903055613632568\n",
      "Modified conditional displacement called\n",
      "---------------------------\n",
      "Final Displacement: 0.6164070668388896\n",
      "None\n",
      "Start time: 2022-10-21 09:54:30\n",
      "Tensor(\"alphas:0\", shape=(1, 10), dtype=complex64)\n",
      "Tensor(\"alphas:0\", shape=(3, 10), dtype=complex64)\n",
      " Epoch: 132 / 500 Max Fid: 0.735760 Avg Fid: 0.735760 Max dFid: 0.000001 Avg dFid: 0.000000 Elapsed time: 0:00:16.346123 Remaing time: 0:00:45.571010\n",
      " max dFid: 0.000001\n",
      "dFid stop: 0.000001\n",
      "\n",
      "\n",
      " Optimization stopped.  No dfid is greater than dfid_stop\n",
      "\n",
      "optimization_type: state transfer\n",
      "N_multistart: 10\n",
      "N_blocks: 3\n",
      "term_fid: 0.995\n",
      "dfid_stop: 1e-06\n",
      "no_CD_end: False\n",
      "learning_rate: 0.01\n",
      "epoch_size: 10\n",
      "epochs: 500\n",
      "beta_scale: 3.0\n",
      "alpha_scale: 1.0\n",
      "theta_scale: 3.141592653589793\n",
      "use_displacements: False\n",
      "use_phase: False\n",
      "name: Fock 1\n",
      "comment: \n",
      "user_angles: None\n",
      "N_cav: 15\n",
      "filename: Fock 1.h5\n",
      "\n",
      "Best circuit parameters found:\n",
      "betas:         [-0.47316-1.7673j  -0.78036+0.20903j -0.00009+0.00002j]\n",
      "alphas:        [0.+0.j]\n",
      "phis (deg):    [  0.       90.00005 179.99937]\n",
      "thetas (deg):  [-90.00007 -89.99994 -90.00002]\n",
      "Max Fidelity:  0.735760\n",
      "\n",
      "\n",
      "termination reason: dfid\n",
      "optimization timestamp (start time): 2022-10-21 09:54:30\n",
      "timestamp (end time): 2022-10-21 09:54:47\n",
      "elapsed time: 0:00:16.347461\n",
      "Time per epoch (epoch size = 10): 0:00:00.123844\n",
      "Time per Adam step (N_multistart = 10, N_cav = 15): 0:00:00.000248\n",
      "\n",
      "============================================================\n",
      "\n",
      "Modified method: Cond Disp Circuit\n",
      "Modified conditional displacement called\n",
      "---------------------------\n",
      "Final Displacement: 1.82833740013411\n",
      "Modified conditional displacement called\n"
     ]
    },
    {
     "name": "stderr",
     "output_type": "stream",
     "text": [
      "/home/eag190/miniconda3/envs/simulations/lib/python3.9/site-packages/scipy/signal/_peak_finding.py:261: ComplexWarning: Casting complex values to real discards the imaginary part\n",
      "  value = np.asarray(value, order='C', dtype=np.float64)\n"
     ]
    },
    {
     "name": "stdout",
     "output_type": "stream",
     "text": [
      "---------------------------\n",
      "Final Displacement: 0.8082848796100593\n",
      "Modified conditional displacement called\n",
      "---------------------------\n",
      "Final Displacement: 9.664088599323192e-05\n",
      "None\n",
      "Start time: 2022-10-21 09:54:48\n",
      "Tensor(\"alphas:0\", shape=(1, 10), dtype=complex64)\n",
      "Tensor(\"alphas:0\", shape=(4, 10), dtype=complex64)\n"
     ]
    },
    {
     "name": "stderr",
     "output_type": "stream",
     "text": [
      "/tmp/ipykernel_30326/2741616155.py:25: FutureWarning: The frame.append method is deprecated and will be removed from pandas in a future version. Use pandas.concat instead.\n",
      "  df = df.append(df_new, ignore_index = True)\n"
     ]
    },
    {
     "name": "stdout",
     "output_type": "stream",
     "text": [
      " Epoch: 65 / 500 Max Fid: 0.981403 Avg Fid: 0.888826 Max dFid: 0.000001 Avg dFid: 0.000000 Elapsed time: 0:00:08.769133 Remaing time: 0:00:58.685735\n",
      " max dFid: 0.000001\n",
      "dFid stop: 0.000001\n",
      "\n",
      "\n",
      " Optimization stopped.  No dfid is greater than dfid_stop\n",
      "\n",
      "optimization_type: state transfer\n",
      "N_multistart: 10\n",
      "N_blocks: 4\n",
      "term_fid: 0.995\n",
      "dfid_stop: 1e-06\n",
      "no_CD_end: False\n",
      "learning_rate: 0.01\n",
      "epoch_size: 10\n",
      "epochs: 500\n",
      "beta_scale: 3.0\n",
      "alpha_scale: 1.0\n",
      "theta_scale: 3.141592653589793\n",
      "use_displacements: False\n",
      "use_phase: False\n",
      "name: Fock 1\n",
      "comment: \n",
      "user_angles: None\n",
      "N_cav: 15\n",
      "filename: Fock 1.h5\n",
      "\n",
      "Best circuit parameters found:\n",
      "betas:         [-1.56612+0.03763j  0.02434+1.0128j  -0.65398+0.01572j -0.     +0.j     ]\n",
      "alphas:        [0.+0.j]\n",
      "phis (deg):    [  0.      -89.99999  89.99978   0.00022]\n",
      "thetas (deg):  [ 90.00008 -89.99989  89.99982  89.99994]\n",
      "Max Fidelity:  0.981402\n",
      "\n",
      "\n",
      "termination reason: dfid\n",
      "optimization timestamp (start time): 2022-10-21 09:54:48\n",
      "timestamp (end time): 2022-10-21 09:54:57\n",
      "elapsed time: 0:00:08.770092\n",
      "Time per epoch (epoch size = 10): 0:00:00.134924\n",
      "Time per Adam step (N_multistart = 10, N_cav = 15): 0:00:00.000270\n",
      "\n",
      "============================================================\n",
      "\n",
      "Modified method: Cond Disp Circuit\n",
      "Modified conditional displacement called\n",
      "---------------------------\n",
      "Final Displacement: 1.5674572761408163\n",
      "Modified conditional displacement called\n"
     ]
    },
    {
     "name": "stderr",
     "output_type": "stream",
     "text": [
      "/home/eag190/miniconda3/envs/simulations/lib/python3.9/site-packages/scipy/signal/_peak_finding.py:261: ComplexWarning: Casting complex values to real discards the imaginary part\n",
      "  value = np.asarray(value, order='C', dtype=np.float64)\n"
     ]
    },
    {
     "name": "stdout",
     "output_type": "stream",
     "text": [
      "---------------------------\n",
      "Final Displacement: 1.0130914793872088\n",
      "Modified conditional displacement called\n",
      "---------------------------\n",
      "Final Displacement: 0.6541738038392164\n",
      "Modified conditional displacement called\n",
      "---------------------------\n",
      "Final Displacement: 1.5540200180484895e-06\n",
      "None\n",
      "Start time: 2022-10-21 09:54:59\n",
      "Tensor(\"alphas:0\", shape=(1, 10), dtype=complex64)\n",
      "Tensor(\"alphas:0\", shape=(5, 10), dtype=complex64)\n"
     ]
    },
    {
     "name": "stderr",
     "output_type": "stream",
     "text": [
      "/tmp/ipykernel_30326/2741616155.py:25: FutureWarning: The frame.append method is deprecated and will be removed from pandas in a future version. Use pandas.concat instead.\n",
      "  df = df.append(df_new, ignore_index = True)\n"
     ]
    },
    {
     "name": "stdout",
     "output_type": "stream",
     "text": [
      " Epoch: 30 / 500 Max Fid: 0.996476 Avg Fid: 0.893581 Max dFid: 0.005137 Avg dFid: 0.001107 Elapsed time: 0:00:04.608124 Remaing time: 0:01:12.193950\n",
      "\n",
      " Optimization stopped. Term fidelity reached.\n",
      "\n",
      "optimization_type: state transfer\n",
      "N_multistart: 10\n",
      "N_blocks: 5\n",
      "term_fid: 0.995\n",
      "dfid_stop: 1e-06\n",
      "no_CD_end: False\n",
      "learning_rate: 0.01\n",
      "epoch_size: 10\n",
      "epochs: 500\n",
      "beta_scale: 3.0\n",
      "alpha_scale: 1.0\n",
      "theta_scale: 3.141592653589793\n",
      "use_displacements: False\n",
      "use_phase: False\n",
      "name: Fock 1\n",
      "comment: \n",
      "user_angles: None\n",
      "N_cav: 15\n",
      "filename: Fock 1.h5\n",
      "\n",
      "Best circuit parameters found:\n",
      "betas:         [ 1.11966-1.10192j -0.67489-1.01431j  0.13101-0.65519j  0.66285-1.00006j\n",
      "  0.12103-0.1409j ]\n",
      "alphas:        [0.+0.j]\n",
      "phis (deg):    [  0.       92.63541  62.54083 -72.75242 156.13202]\n",
      "thetas (deg):  [ 89.90002  87.85105 -67.17851 -41.87074  77.73803]\n",
      "Max Fidelity:  0.996551\n",
      "\n",
      "\n",
      "termination reason: term_fid\n",
      "optimization timestamp (start time): 2022-10-21 09:54:59\n",
      "timestamp (end time): 2022-10-21 09:55:04\n",
      "elapsed time: 0:00:04.609572\n",
      "Time per epoch (epoch size = 10): 0:00:00.153652\n",
      "Time per Adam step (N_multistart = 10, N_cav = 15): 0:00:00.000307\n",
      "\n",
      "============================================================\n",
      "\n",
      "Modified method: Cond Disp Circuit\n",
      "Modified conditional displacement called\n",
      "---------------------------\n",
      "Final Displacement: 1.5709389042551039\n",
      "Modified conditional displacement called\n"
     ]
    },
    {
     "name": "stderr",
     "output_type": "stream",
     "text": [
      "/home/eag190/miniconda3/envs/simulations/lib/python3.9/site-packages/scipy/signal/_peak_finding.py:261: ComplexWarning: Casting complex values to real discards the imaginary part\n",
      "  value = np.asarray(value, order='C', dtype=np.float64)\n"
     ]
    },
    {
     "name": "stdout",
     "output_type": "stream",
     "text": [
      "---------------------------\n",
      "Final Displacement: 1.2191270047078664\n",
      "Modified conditional displacement called\n",
      "---------------------------\n",
      "Final Displacement: 0.6681571388245261\n",
      "Modified conditional displacement called\n",
      "---------------------------\n",
      "Final Displacement: 1.199792577038323\n",
      "Modified conditional displacement called\n",
      "---------------------------\n",
      "Final Displacement: 0.1857302894452685\n",
      "None\n",
      "Start time: 2022-10-21 09:55:06\n",
      "Tensor(\"alphas:0\", shape=(1, 10), dtype=complex64)\n",
      "Tensor(\"alphas:0\", shape=(6, 10), dtype=complex64)\n",
      " Epoch: 0 / 500 Max Fid: 0.190119 Avg Fid: 0.082922 Max dFid: 0.000000 Avg dFid: 0.000000 Elapsed time: 0:00:00.147046 Remaing time: 0:00:00"
     ]
    },
    {
     "name": "stderr",
     "output_type": "stream",
     "text": [
      "/tmp/ipykernel_30326/2741616155.py:25: FutureWarning: The frame.append method is deprecated and will be removed from pandas in a future version. Use pandas.concat instead.\n",
      "  df = df.append(df_new, ignore_index = True)\n"
     ]
    },
    {
     "name": "stdout",
     "output_type": "stream",
     "text": [
      " Epoch: 22 / 500 Max Fid: 0.995332 Avg Fid: 0.927133 Max dFid: 0.079114 Avg dFid: 0.013628 Elapsed time: 0:00:03.837784 Remaing time: 0:01:23.384586\n",
      "\n",
      " Optimization stopped. Term fidelity reached.\n",
      "\n",
      "optimization_type: state transfer\n",
      "N_multistart: 10\n",
      "N_blocks: 6\n",
      "term_fid: 0.995\n",
      "dfid_stop: 1e-06\n",
      "no_CD_end: False\n",
      "learning_rate: 0.01\n",
      "epoch_size: 10\n",
      "epochs: 500\n",
      "beta_scale: 3.0\n",
      "alpha_scale: 1.0\n",
      "theta_scale: 3.141592653589793\n",
      "use_displacements: False\n",
      "use_phase: False\n",
      "name: Fock 1\n",
      "comment: \n",
      "user_angles: None\n",
      "N_cav: 15\n",
      "filename: Fock 1.h5\n",
      "\n",
      "Best circuit parameters found:\n",
      "betas:         [ 0.21338-0.9227j  -0.40312+0.25766j -0.63347-0.64369j  0.65627-0.47364j\n",
      " -0.2451 -0.38495j  0.00481+0.76952j]\n",
      "alphas:        [0.+0.j]\n",
      "phis (deg):    [   0.       -27.78805  113.75288 -102.28375 -117.25365   39.13402]\n",
      "thetas (deg):  [-126.23036   64.22308  -82.9809   -89.88346 -104.91428 -115.89619]\n",
      "Max Fidelity:  0.995384\n",
      "\n",
      "\n",
      "termination reason: term_fid\n",
      "optimization timestamp (start time): 2022-10-21 09:55:06\n",
      "timestamp (end time): 2022-10-21 09:55:10\n",
      "elapsed time: 0:00:03.839223\n",
      "Time per epoch (epoch size = 10): 0:00:00.174510\n",
      "Time per Adam step (N_multistart = 10, N_cav = 15): 0:00:00.000349\n",
      "\n",
      "============================================================\n",
      "\n",
      "Modified method: Cond Disp Circuit\n",
      "Modified conditional displacement called\n",
      "---------------------------\n",
      "Final Displacement: 0.9470509596846808\n",
      "Modified conditional displacement called\n"
     ]
    },
    {
     "name": "stderr",
     "output_type": "stream",
     "text": [
      "/home/eag190/miniconda3/envs/simulations/lib/python3.9/site-packages/scipy/signal/_peak_finding.py:261: ComplexWarning: Casting complex values to real discards the imaginary part\n",
      "  value = np.asarray(value, order='C', dtype=np.float64)\n"
     ]
    },
    {
     "name": "stdout",
     "output_type": "stream",
     "text": [
      "---------------------------\n",
      "Final Displacement: 0.47843052805310526\n",
      "Modified conditional displacement called\n",
      "---------------------------\n",
      "Final Displacement: 0.9031128035875121\n",
      "Modified conditional displacement called\n",
      "---------------------------\n",
      "Final Displacement: 0.8093351411648341\n",
      "Modified conditional displacement called\n",
      "---------------------------\n",
      "Final Displacement: 0.4563545542156136\n",
      "Modified conditional displacement called\n",
      "---------------------------\n",
      "Final Displacement: 0.7695352845311457\n",
      "None\n",
      "Start time: 2022-10-21 09:55:14\n",
      "Tensor(\"alphas:0\", shape=(1, 10), dtype=complex64)\n",
      "Tensor(\"alphas:0\", shape=(7, 10), dtype=complex64)\n",
      " Epoch: 0 / 500 Max Fid: 0.197437 Avg Fid: 0.064379 Max dFid: 0.000000 Avg dFid: 0.000000 Elapsed time: 0:00:00.144243 Remaing time: 0:00:00"
     ]
    },
    {
     "name": "stderr",
     "output_type": "stream",
     "text": [
      "/tmp/ipykernel_30326/2741616155.py:25: FutureWarning: The frame.append method is deprecated and will be removed from pandas in a future version. Use pandas.concat instead.\n",
      "  df = df.append(df_new, ignore_index = True)\n"
     ]
    },
    {
     "name": "stdout",
     "output_type": "stream",
     "text": [
      " Epoch: 10 / 500 Max Fid: 0.998352 Avg Fid: 0.928494 Max dFid: 0.084496 Avg dFid: 0.030891 Elapsed time: 0:00:02.081944 Remaing time: 0:01:42.015267\n",
      "\n",
      " Optimization stopped. Term fidelity reached.\n",
      "\n",
      "optimization_type: state transfer\n",
      "N_multistart: 10\n",
      "N_blocks: 7\n",
      "term_fid: 0.995\n",
      "dfid_stop: 1e-06\n",
      "no_CD_end: False\n",
      "learning_rate: 0.01\n",
      "epoch_size: 10\n",
      "epochs: 500\n",
      "beta_scale: 3.0\n",
      "alpha_scale: 1.0\n",
      "theta_scale: 3.141592653589793\n",
      "use_displacements: False\n",
      "use_phase: False\n",
      "name: Fock 1\n",
      "comment: \n",
      "user_angles: None\n",
      "N_cav: 15\n",
      "filename: Fock 1.h5\n",
      "\n",
      "Best circuit parameters found:\n",
      "betas:         [ 0.92991+1.11229j  0.62484-0.42947j  0.02075+0.75208j -0.75133-0.07144j\n",
      "  0.97904-1.62472j  1.41153-1.63676j  0.01175-0.11535j]\n",
      "alphas:        [0.+0.j]\n",
      "phis (deg):    [  0.       88.63784 103.48551  66.79702 -46.19493  38.19178  34.0309 ]\n",
      "thetas (deg):  [  90.9986   123.20777   82.30898 -103.57394  -36.25889    1.13154\n",
      "  -76.63657]\n",
      "Max Fidelity:  0.998343\n",
      "\n",
      "\n",
      "termination reason: term_fid\n",
      "optimization timestamp (start time): 2022-10-21 09:55:14\n",
      "timestamp (end time): 2022-10-21 09:55:16\n",
      "elapsed time: 0:00:02.082938\n",
      "Time per epoch (epoch size = 10): 0:00:00.208294\n",
      "Time per Adam step (N_multistart = 10, N_cav = 15): 0:00:00.000417\n",
      "\n",
      "============================================================\n",
      "\n",
      "Modified method: Cond Disp Circuit\n",
      "Modified conditional displacement called\n",
      "---------------------------\n",
      "Final Displacement: 1.4498013467185005\n",
      "Modified conditional displacement called\n"
     ]
    },
    {
     "name": "stderr",
     "output_type": "stream",
     "text": [
      "/home/eag190/miniconda3/envs/simulations/lib/python3.9/site-packages/scipy/signal/_peak_finding.py:261: ComplexWarning: Casting complex values to real discards the imaginary part\n",
      "  value = np.asarray(value, order='C', dtype=np.float64)\n"
     ]
    },
    {
     "name": "stdout",
     "output_type": "stream",
     "text": [
      "---------------------------\n",
      "Final Displacement: 0.7585273185220985\n",
      "Modified conditional displacement called\n",
      "---------------------------\n",
      "Final Displacement: 0.7523709177577791\n",
      "Modified conditional displacement called\n",
      "---------------------------\n",
      "Final Displacement: 0.7547185338970385\n",
      "Modified conditional displacement called\n",
      "---------------------------\n",
      "Final Displacement: 1.8968997240866923\n",
      "Modified conditional displacement called\n",
      "---------------------------\n",
      "Final Displacement: 2.1613383379471034\n",
      "Modified conditional displacement called\n",
      "---------------------------\n",
      "Final Displacement: 0.11594115952505771\n"
     ]
    },
    {
     "name": "stderr",
     "output_type": "stream",
     "text": [
      "/tmp/ipykernel_30326/2741616155.py:25: FutureWarning: The frame.append method is deprecated and will be removed from pandas in a future version. Use pandas.concat instead.\n",
      "  df = df.append(df_new, ignore_index = True)\n"
     ]
    }
   ],
   "source": [
    "main(layers)"
   ]
  },
  {
   "cell_type": "code",
   "execution_count": null,
   "id": "2ac16858",
   "metadata": {},
   "outputs": [],
   "source": []
  },
  {
   "cell_type": "code",
   "execution_count": null,
   "id": "62528135",
   "metadata": {},
   "outputs": [],
   "source": []
  }
 ],
 "metadata": {
  "kernelspec": {
   "display_name": "Python 3",
   "language": "python",
   "name": "python3"
  },
  "language_info": {
   "codemirror_mode": {
    "name": "ipython",
    "version": 3
   },
   "file_extension": ".py",
   "mimetype": "text/x-python",
   "name": "python",
   "nbconvert_exporter": "python",
   "pygments_lexer": "ipython3",
   "version": "3.8.8"
  },
  "toc": {
   "base_numbering": 1,
   "nav_menu": {},
   "number_sections": true,
   "sideBar": true,
   "skip_h1_title": false,
   "title_cell": "Table of Contents",
   "title_sidebar": "Contents",
   "toc_cell": false,
   "toc_position": {},
   "toc_section_display": true,
   "toc_window_display": false
  },
  "varInspector": {
   "cols": {
    "lenName": 16,
    "lenType": 16,
    "lenVar": 40
   },
   "kernels_config": {
    "python": {
     "delete_cmd_postfix": "",
     "delete_cmd_prefix": "del ",
     "library": "var_list.py",
     "varRefreshCmd": "print(var_dic_list())"
    },
    "r": {
     "delete_cmd_postfix": ") ",
     "delete_cmd_prefix": "rm(",
     "library": "var_list.r",
     "varRefreshCmd": "cat(var_dic_list()) "
    }
   },
   "types_to_exclude": [
    "module",
    "function",
    "builtin_function_or_method",
    "instance",
    "_Feature"
   ],
   "window_display": false
  }
 },
 "nbformat": 4,
 "nbformat_minor": 5
}
