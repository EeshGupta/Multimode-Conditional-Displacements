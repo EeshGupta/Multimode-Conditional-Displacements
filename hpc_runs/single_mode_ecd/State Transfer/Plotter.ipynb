{
 "cells": [
  {
   "cell_type": "code",
   "execution_count": null,
   "id": "034fe683",
   "metadata": {},
   "outputs": [],
   "source": [
    "import matplotlib.pyplot as plt\n",
    "import numpy as np \n",
    "import pandas as pd\n"
   ]
  },
  {
   "cell_type": "code",
   "execution_count": null,
   "id": "274605da",
   "metadata": {},
   "outputs": [],
   "source": [
    "filename = 'fock_prep'\n",
    "df = pd.read_csv(filename)\n",
    "df"
   ]
  },
  {
   "cell_type": "code",
   "execution_count": null,
   "id": "287dd2b5",
   "metadata": {},
   "outputs": [],
   "source": [
    "def convert_complex_string_to_float(stringy):\n",
    "    '''\n",
    "    Convert '(a+0j)' to a where a,b are floats\n",
    "    '''\n",
    "    a = stringy.split('+')\n",
    "    b = a[0].split('(')\n",
    "    return float(b[1])\n",
    "    \n",
    "    "
   ]
  },
  {
   "cell_type": "code",
   "execution_count": null,
   "id": "f181d06b",
   "metadata": {},
   "outputs": [],
   "source": [
    "import matplotlib\n",
    "font = {'family' : 'normal',\n",
    "        'weight' : 'light',\n",
    "        'size'   : 13}\n",
    "\n",
    "matplotlib.rc('font', **font)"
   ]
  },
  {
   "cell_type": "code",
   "execution_count": null,
   "id": "b199e83a",
   "metadata": {},
   "outputs": [],
   "source": [
    "total_tasks = 5\n",
    "\n",
    "fig = plt.figure(figsize = (6,5))\n",
    "\n",
    "for i in range(1, total_tasks+1): \n",
    "    #each task\n",
    "    \n",
    "    #qutip fids\n",
    "    #qutip_fids = list(df.loc[df['task'] ==i]['qutip_fid'])\n",
    "    #qutip_fids = [1- convert_complex_string_to_float(i) for i in qutip_fids]\n",
    "    bo_fids = list(df.loc[df['task'] ==i]['BO_fid'])\n",
    "    bo_fids = [1-i for i in bo_fids]\n",
    "    \n",
    "    if len(bo_fids)==0:\n",
    "        continue\n",
    "    \n",
    "    plt.plot(\n",
    "        list(df.loc[df['task'] ==i]['layer']),\n",
    "        bo_fids,\n",
    "        marker = 'o', linestyle = '--' , label = str(i)      \n",
    "        )\n",
    "    #plt.plot(times, mean_buckets)\n",
    "\n",
    "    \n",
    "    #plt.errorbar(x, y, yerr = err, ecolor='black', capsize=10)#, label ='Line4')\n",
    "#plt.text(8, 13, r'$|g>|n0> \\rightarrow |g>|0n>$', fontsize = 15)\n",
    "plt.grid(alpha=0.5, linestyle=':')\n",
    "\n",
    "plt.xlabel('Depth', fontsize = 15)\n",
    "#plt.hline(ecd_only)\n",
    "plt.ylabel(r'$1 - \\mathcal{F}$', fontsize = 20)\n",
    "#plt.title('Beam Splitters', fontsize = 15)\n",
    "plt.yscale('log')\n",
    "#fig.savefig('Ancilla Relaxation')\n",
    "plt.legend(bbox_to_anchor=(0., 1.02, 1., .102), loc=3,\n",
    "           ncol=2, mode=\"expand\", borderaxespad=0., fontsize = 13)\n",
    "plt.text(4,4, ' $|gn0> \\longrightarrow |g0n> $', fontsize = 15)\n",
    "plt.tight_layout()"
   ]
  },
  {
   "cell_type": "code",
   "execution_count": null,
   "id": "5c58675c",
   "metadata": {},
   "outputs": [],
   "source": [
    "fig.savefig('state_transfer_depth.png', dpi = 1000)"
   ]
  },
  {
   "cell_type": "markdown",
   "id": "f914664f",
   "metadata": {},
   "source": [
    "# DUMP"
   ]
  },
  {
   "cell_type": "code",
   "execution_count": null,
   "id": "eaa086ca",
   "metadata": {},
   "outputs": [],
   "source": [
    "conditions = ['bo_fidelity', 'only ecd', 'bare qubit mode coupling','stark shift', 'mode coupling', 'transmon relax','transmon dephasing', 'cavities relax', 'cavities dephasing']\n",
    "x_pos = np.arange(len(conditions))\n",
    "bars = []\n",
    "bars_err = []\n",
    "for i in range(5):\n",
    "    listy = list(df[conditions[i]]) \n",
    "    \n",
    "    #if complex strings\n",
    "    if type(listy[0]) is not float:\n",
    "        listy = [convert_complex_string_to_float(i) for i in listy]\n",
    "    bars.append(1 - np.mean(listy))\n",
    "    bars_err.append(np.std(listy))\n",
    "    \n",
    "#master equation solver fidelity err -- returns density matrix instead of state\n",
    "for i in range(5, len(conditions)):\n",
    "    listy = list(df[conditions[i]]) \n",
    "    listy = [np.sqrt(i) for i in listy]\n",
    "    bars.append(1 - np.mean(listy))\n",
    "    bars_err.append(np.std(listy))\n",
    "\n",
    "fig, ax = plt.subplots(figsize = (8,6))\n",
    "ax.bar(conditions, bars, yerr=bars_err, align='center', alpha=0.5, ecolor='black', capsize=10)\n",
    "ax.set_ylabel('$1-\\mathcal{F}$')\n",
    "#ax.set_xticks(x_pos)\n",
    "ax.set_xticklabels(conditions, fontsize = 15)\n",
    "ax.set_title('Qutip Noise Simulation of g01 -> g10')\n",
    "ax.yaxis.grid(True)\n",
    "plt.xticks(range(len(conditions)), conditions, rotation = 90)"
   ]
  },
  {
   "cell_type": "code",
   "execution_count": null,
   "id": "e73d2d11",
   "metadata": {},
   "outputs": [],
   "source": [
    "#cond_labels =  ['Batch Optimizer', 'ECD Unitary Only', 'Dispersive ($\\chi a^\\dagger a \\sigma_z $)',r'Stark Shift ($\\chi |\\alpha|^2  \\sigma_z$)', 'Cross Kerr ($\\chi_{ab} a^\\dagger a b^\\dagger b +...$)']"
   ]
  },
  {
   "cell_type": "code",
   "execution_count": null,
   "id": "2eb32f00",
   "metadata": {},
   "outputs": [],
   "source": [
    "#conditions = ['bo_fidelity', 'only ecd', 'bare_qubit_mode_coupling','Stark Shift', 'Mode Coupling']#, 'transmon_relax','transmon_dephasing']\n",
    "#x_pos = np.arange(len(conditions))\n",
    "# bars = []\n",
    "# bars_err = []\n",
    "# for i in range(len(conditions)):\n",
    "#     listy = list(df[conditions[i]]) \n",
    "#     if i is not 0:     # for all master eq sim, fidelity is squared bc of overlap issue\n",
    "#         listy = [np.sqrt(i) for i in listy]\n",
    "#     bars.append(1 - np.mean(listy))\n",
    "#     bars_err.append(np.std(listy))\n",
    "# conditions[-1] = \"Mode-Mode Coupling\"\n",
    "fig, ax = plt.subplots(figsize = (10,6))\n",
    "ax.barh(conditions, bars, xerr=bars_err, align='center', alpha=0.5, ecolor='black', capsize=10)\n",
    "ax.set_xlabel('$1-\\mathcal{F}$', fontsize = 20)\n",
    "#a#x.set_xticks(x_pos)\n",
    "ax.set_yticklabels(conditions, fontsize = 15)\n",
    "ax.set_title('Decoherence free error budget of g01 -> g10', fontsize = 20)\n",
    "ax.xaxis.grid(True)\n",
    "plt.yticks(range(len(conditions)), conditions)#, rotation = 60)\n",
    "plt.tight_layout()\n",
    "fig.savefig('Decoherence free error budget')\n",
    "# colors = {'fruit':'red', 'veggie':'green'}         \n",
    "# labels = list(colors.keys())\n",
    "\n",
    "# handles = [plt.Rectangle((0,0),1,1, color=colors[label]) for label in labels]\n",
    "# plt.legend(handles, labels)"
   ]
  },
  {
   "cell_type": "code",
   "execution_count": null,
   "id": "a242fc0b",
   "metadata": {},
   "outputs": [],
   "source": [
    "len(df)"
   ]
  },
  {
   "cell_type": "code",
   "execution_count": null,
   "id": "269ac7aa",
   "metadata": {},
   "outputs": [],
   "source": [
    "conditions = ['only ecd', 'bare qubit mode coupling','stark shift', 'mode coupling', 'transmon relax','transmon dephasing', 'cavities relax', 'cavities dephasing']\n",
    "x_pos = np.arange(len(conditions))\n",
    "bars = []\n",
    "bars_err = []\n",
    "for i in range(5):\n",
    "    listy = list(df[conditions[i]]) \n",
    "    \n",
    "    #if complex strings\n",
    "    if type(listy[0]) is not float:\n",
    "        listy = [convert_complex_string_to_float(i) for i in listy]\n",
    "    listy = [df['bo_fidelity'][i] - listy[i] for i in range(1, len(df))]\n",
    "    bars.append(np.mean(listy))\n",
    "    bars_err.append(np.std(listy))\n",
    "    \n",
    "#master equation solver fidelity err -- returns density matrix instead of state\n",
    "for i in range(5, len(conditions)):\n",
    "    listy = list(df[conditions[i]]) \n",
    "    listy = [np.sqrt(i) for i in listy]\n",
    "    listy = [df['bo_fidelity'][i] - listy[i] for i in range(1, len(df))]\n",
    "    \n",
    "    bars.append( np.mean(listy))\n",
    "    bars_err.append(np.std(listy))\n",
    "\n",
    "fig, ax = plt.subplots(figsize = (8,6))\n",
    "ax.bar(conditions, bars, yerr=bars_err, align='center', alpha=0.5, ecolor='black', capsize=10)\n",
    "ax.set_ylabel('$1-\\mathcal{F}_{opt}$')\n",
    "#ax.set_xticks(x_pos)\n",
    "ax.set_xticklabels(conditions, fontsize = 15)\n",
    "ax.set_title('Qutip Noise Simulation of g01 -> g10')\n",
    "ax.yaxis.grid(True)\n",
    "plt.xticks(range(len(conditions)), conditions, rotation = 90)"
   ]
  },
  {
   "cell_type": "code",
   "execution_count": null,
   "id": "191bbc84",
   "metadata": {},
   "outputs": [],
   "source": [
    "#conditions = ['bo_fidelity', 'only ecd', 'bare_qubit_mode_coupling','Stark Shift', 'Mode Coupling']#, 'transmon_relax','transmon_dephasing']\n",
    "#x_pos = np.arange(len(conditions))\n",
    "# bars = []\n",
    "# bars_err = []\n",
    "# for i in range(len(conditions)):\n",
    "#     listy = list(df[conditions[i]]) \n",
    "#     if i is not 0:     # for all master eq sim, fidelity is squared bc of overlap issue\n",
    "#         listy = [np.sqrt(i) for i in listy]\n",
    "#     bars.append(1 - np.mean(listy))\n",
    "#     bars_err.append(np.std(listy))\n",
    "# conditions[-1] = \"Mode-Mode Coupling\"\n",
    "fig, ax = plt.subplots(figsize = (10,6))\n",
    "ax.barh(conditions, bars, xerr=bars_err, align='center', alpha=0.5, ecolor='black', capsize=10)\n",
    "ax.set_xlabel('$1-\\mathcal{F}_{opt}$', fontsize = 20)\n",
    "#a#x.set_xticks(x_pos)\n",
    "ax.set_yticklabels(conditions, fontsize = 15)\n",
    "ax.set_title(' g01 -> g10', fontsize = 20)\n",
    "ax.xaxis.grid(True)\n",
    "plt.yticks(range(len(conditions)), conditions)#, rotation = 60)\n",
    "plt.tight_layout()\n",
    "#fig.savefig('Decoherence free error budget')\n",
    "# colors = {'fruit':'red', 'veggie':'green'}         \n",
    "# labels = list(colors.keys())\n",
    "\n",
    "# handles = [plt.Rectangle((0,0),1,1, color=colors[label]) for label in labels]\n",
    "# plt.legend(handles, labels)"
   ]
  },
  {
   "cell_type": "code",
   "execution_count": null,
   "id": "4bd46bca",
   "metadata": {},
   "outputs": [],
   "source": []
  },
  {
   "cell_type": "code",
   "execution_count": null,
   "id": "4fb4319d",
   "metadata": {},
   "outputs": [],
   "source": []
  },
  {
   "cell_type": "code",
   "execution_count": null,
   "id": "6eb6b9fc",
   "metadata": {},
   "outputs": [],
   "source": [
    "bars"
   ]
  },
  {
   "cell_type": "markdown",
   "id": "5b3b613b",
   "metadata": {},
   "source": [
    "# Transmon Relaxation"
   ]
  },
  {
   "cell_type": "code",
   "execution_count": null,
   "id": "cc6f8c39",
   "metadata": {},
   "outputs": [],
   "source": [
    "f2_name = 'Noise_sim_one_by_one__15_level_aug_11_transmon_relaxation'\n",
    "df2 = pd.read_csv(f2_name)"
   ]
  },
  {
   "cell_type": "code",
   "execution_count": null,
   "id": "05f8911c",
   "metadata": {},
   "outputs": [],
   "source": [
    "df2 = df2.drop(0)"
   ]
  },
  {
   "cell_type": "code",
   "execution_count": null,
   "id": "97df19b9",
   "metadata": {},
   "outputs": [],
   "source": [
    "df2"
   ]
  },
  {
   "cell_type": "code",
   "execution_count": null,
   "id": "fb4e5a7b",
   "metadata": {},
   "outputs": [],
   "source": [
    "c = 0\n",
    "for i in range(12):\n",
    "    inconsis =np.abs(ast.literal_eval(df2['tramsmon_relaxation [50 us, 100 us, ...]'][i+1])[-5] - df['only ecd'][i+1])\n",
    "    print(inconsis)\n",
    "    c+=float(inconsis)\n",
    "print('err on average is ' + str(c/12))"
   ]
  },
  {
   "cell_type": "code",
   "execution_count": null,
   "id": "4f870a2a",
   "metadata": {},
   "outputs": [],
   "source": [
    "i = 0\n",
    "df2['tramsmon_relaxation [50 us, 100 us, ...]'][i+1][-1]"
   ]
  },
  {
   "cell_type": "code",
   "execution_count": null,
   "id": "9320164f",
   "metadata": {},
   "outputs": [],
   "source": [
    "len(df2)"
   ]
  },
  {
   "cell_type": "code",
   "execution_count": null,
   "id": "60857fa5",
   "metadata": {},
   "outputs": [],
   "source": [
    "ecd_only = np.mean(df['only ecd'])\n",
    "ecd_err = np.std(df['only ecd'])\n",
    "ecd_err"
   ]
  },
  {
   "cell_type": "code",
   "execution_count": null,
   "id": "c41238a2",
   "metadata": {},
   "outputs": [],
   "source": [
    "k = 1\n",
    "j = 1\n",
    "df2['tramsmon_relaxation [50 us, 100 us, ...]'][k+1]"
   ]
  },
  {
   "cell_type": "code",
   "execution_count": null,
   "id": "9a0c92e9",
   "metadata": {},
   "outputs": [],
   "source": [
    "import ast\n",
    "buckets = [[] for _ in range(len(ast.literal_eval(df2['tramsmon_relaxation [50 us, 100 us, ...]'][1])))]\n",
    "for j in range(len(buckets)):# for each time\n",
    "    for k in range(len(df)):\n",
    "        #print(k)\n",
    "        listy = ast.literal_eval(df2['tramsmon_relaxation [50 us, 100 us, ...]'][k+1])\n",
    "        listy = [np.sqrt(i) for i in listy]\n",
    "        buckets[j].append(-1*(listy[j] - np.sqrt(df['only ecd'][k+1])))\n",
    "\n",
    "        "
   ]
  },
  {
   "cell_type": "code",
   "execution_count": null,
   "id": "1b50195b",
   "metadata": {},
   "outputs": [],
   "source": [
    "mean_buckets = [np.mean(i) for i in buckets]\n",
    "err_buckets = [np.std(i) for i in buckets]"
   ]
  },
  {
   "cell_type": "code",
   "execution_count": null,
   "id": "afbe18a4",
   "metadata": {},
   "outputs": [],
   "source": [
    "times = [50 + 50*i for i in range(10)]"
   ]
  },
  {
   "cell_type": "code",
   "execution_count": null,
   "id": "0861fd1e",
   "metadata": {},
   "outputs": [],
   "source": [
    "x = np.array(times)\n",
    "y = np.array(mean_buckets)\n",
    "err = np.array(err_buckets)"
   ]
  },
  {
   "cell_type": "code",
   "execution_count": null,
   "id": "5f6c2acd",
   "metadata": {},
   "outputs": [],
   "source": [
    "import matplotlib\n",
    "font = {'family' : 'normal',\n",
    "        'weight' : 'light',\n",
    "        'size'   : 10}\n",
    "\n",
    "matplotlib.rc('font', **font)"
   ]
  },
  {
   "cell_type": "code",
   "execution_count": null,
   "id": "8e15328b",
   "metadata": {},
   "outputs": [],
   "source": [
    "#plt.plot(times, mean_buckets)\n",
    "fig = plt.figure(figsize = (10, 6))\n",
    "#plt.errorbar(x, y, yerr = err, ecolor='black', capsize=10)#, label ='Line4')\n",
    "plt.plot(x, y, 'k', marker = 'o', color='#CC4F1B')\n",
    "plt.fill_between(x, y-err, y+err, alpha = 0.2)\n",
    "plt.grid(alpha=0.5, linestyle=':')\n",
    "plt.axhline(y=0, color='black', linestyle='--', label = 'No Noise')\n",
    "plt.xlabel('Ancilla $T_1$ ($\\mu s$)', fontsize = 15)\n",
    "#plt.hline(ecd_only)\n",
    "plt.ylabel(r'$\\mathcal{F}_{true} - \\mathcal{F}_{noisy}$', fontsize = 20)\n",
    "plt.title(r'Ancilla Relxation for $|g01> \\rightarrow |g10>$', fontsize = 15)\n",
    "fig.savefig('Ancilla Relaxation')\n",
    "#plt.legend()"
   ]
  },
  {
   "cell_type": "code",
   "execution_count": null,
   "id": "7e12f188",
   "metadata": {},
   "outputs": [],
   "source": [
    "y.shape()"
   ]
  },
  {
   "cell_type": "code",
   "execution_count": null,
   "id": "9557046a",
   "metadata": {},
   "outputs": [],
   "source": [
    "#error = np.random.normal(0.1, 0.02, size=y.shape) +.1\n",
    "y += np.random.normal(0, 0.1, size=y.shape)\n",
    "\n",
    "pl.plot(x, y, 'k', color='#CC4F1B')\n",
    "pl.fill_between(x, y-err, y+err,\n",
    "    alpha=0.5, edgecolor='#CC4F1B', facecolor='#FF9848')"
   ]
  },
  {
   "cell_type": "code",
   "execution_count": null,
   "id": "74828d8f",
   "metadata": {},
   "outputs": [],
   "source": []
  }
 ],
 "metadata": {
  "kernelspec": {
   "display_name": "Python 3 (ipykernel)",
   "language": "python",
   "name": "python3"
  },
  "language_info": {
   "codemirror_mode": {
    "name": "ipython",
    "version": 3
   },
   "file_extension": ".py",
   "mimetype": "text/x-python",
   "name": "python",
   "nbconvert_exporter": "python",
   "pygments_lexer": "ipython3",
   "version": "3.9.13"
  },
  "toc": {
   "base_numbering": 1,
   "nav_menu": {},
   "number_sections": true,
   "sideBar": true,
   "skip_h1_title": false,
   "title_cell": "Table of Contents",
   "title_sidebar": "Contents",
   "toc_cell": false,
   "toc_position": {},
   "toc_section_display": true,
   "toc_window_display": false
  },
  "varInspector": {
   "cols": {
    "lenName": 16,
    "lenType": 16,
    "lenVar": 40
   },
   "kernels_config": {
    "python": {
     "delete_cmd_postfix": "",
     "delete_cmd_prefix": "del ",
     "library": "var_list.py",
     "varRefreshCmd": "print(var_dic_list())"
    },
    "r": {
     "delete_cmd_postfix": ") ",
     "delete_cmd_prefix": "rm(",
     "library": "var_list.r",
     "varRefreshCmd": "cat(var_dic_list()) "
    }
   },
   "types_to_exclude": [
    "module",
    "function",
    "builtin_function_or_method",
    "instance",
    "_Feature"
   ],
   "window_display": false
  }
 },
 "nbformat": 4,
 "nbformat_minor": 5
}
