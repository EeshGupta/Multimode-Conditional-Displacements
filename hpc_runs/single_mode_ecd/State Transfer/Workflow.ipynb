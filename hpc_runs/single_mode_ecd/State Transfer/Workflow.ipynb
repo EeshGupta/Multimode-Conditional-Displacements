{
 "cells": [
  {
   "cell_type": "code",
   "execution_count": null,
   "id": "8188c3c4",
   "metadata": {},
   "outputs": [],
   "source": [
    "# To find ECD Control\n",
    "import time\n",
    "import sys \n",
    "sys.path.append(r'C:\\Users\\Chakram_Meas\\Documents\\GitHub\\Multimode-Conditional-Displacements\\hpc_runs\\single_mode_ecd\\class_description')\n",
    "sys.path.append(r'C:\\Users\\Chakram_Meas\\Documents\\GitHub')"
   ]
  },
  {
   "cell_type": "code",
   "execution_count": null,
   "id": "22c927fd",
   "metadata": {},
   "outputs": [],
   "source": [
    "import numpy as np\n",
    "from qutip import *\n",
    "from ECD_batch_optimizerV1 import BatchOptimizer\n",
    "from Simulation_Classes_Single_ModeV4 import *\n",
    "import matplotlib.pyplot as plt\n",
    "#import tfq_quantum as tfq\n",
    "import tensorflow as tf"
   ]
  },
  {
   "cell_type": "code",
   "execution_count": null,
   "id": "4f25fef0",
   "metadata": {},
   "outputs": [],
   "source": [
    "import pandas as pd"
   ]
  },
  {
   "cell_type": "code",
   "execution_count": null,
   "id": "d8d4c368",
   "metadata": {},
   "outputs": [],
   "source": [
    "%load_ext autoreload\n",
    "%autoreload 2"
   ]
  },
  {
   "cell_type": "code",
   "execution_count": null,
   "id": "820d8a4d",
   "metadata": {},
   "outputs": [],
   "source": [
    "#Modes Truncation\n",
    "N= 15"
   ]
  },
  {
   "cell_type": "code",
   "execution_count": null,
   "id": "b9611ecd",
   "metadata": {},
   "outputs": [],
   "source": [
    "def one_mode_state(fock1, qubit_g = True): \n",
    "    '''\n",
    "    Returns g x fock1 \n",
    "    \n",
    "    #takes N1 from global\n",
    "    '''\n",
    "    psi_1 = basis(N1,fock1) #initial state\n",
    "    return tensor(basis(2,0), psi_1)"
   ]
  },
  {
   "cell_type": "code",
   "execution_count": null,
   "id": "c3f2427c",
   "metadata": {},
   "outputs": [],
   "source": [
    "#Optimization of ECD Circuit parameters (betas, phis, and thetas)\n",
    "#the optimization options\n",
    "opt_params = {\n",
    "'N_blocks' : 5, #circuit depth\n",
    "'N_multistart' : 50,#Batch size (number of circuit optimizations to run in parallel)\n",
    "'epochs' : 100,#number of epochs before termination\n",
    "'epoch_size' : 100,#number of adam steps per epoch\n",
    "'learning_rate' : 0.001, #adam learning rate\n",
    "'term_fid' : 0.999, #terminal fidelitiy\n",
    "'dfid_stop' : 1e-6, #stop if dfid between two epochs is smaller than this number\n",
    "'beta_scale' : 3.0, #maximum |beta| for random initialization\n",
    "'initial_states' : [], #qubit tensor oscillator, start in |g> |0>\n",
    "'target_states' : [], #end in |e> |target>.\n",
    "'name' : 'Fock_stuff', #name for printing and saving\n",
    "'filename' : None, #if no filename specified, results will be saved in this folder under 'name.h5'\n",
    "}\n",
    "\n",
    "\n",
    "\n",
    "#note: optimizer includes pi pulse in every ECD step. However, final ECD step is implemented \n",
    "#in experiment as a displacement since the qubit and oscillator should be disentangled at this point.\n",
    "#So, we ask the optimizer to end in |e> |target> instead of |g>|target>."
   ]
  },
  {
   "cell_type": "markdown",
   "id": "f7c93207",
   "metadata": {},
   "source": [
    "#### Filename for angles to be stored"
   ]
  },
  {
   "cell_type": "code",
   "execution_count": null,
   "id": "7fbe1bbb",
   "metadata": {},
   "outputs": [],
   "source": [
    "df = None \n",
    "fname = 'fock_prep'\n",
    "columns = ['task', 'layer', 'pulse_time', 'BO_fid', 'filenum']\n",
    "\n",
    "#2 files here are redundant\n",
    "angles_filename_prefix = 'Data/angles'\n",
    "opt_filename_prefix = 'Data/opt_details_'"
   ]
  },
  {
   "cell_type": "code",
   "execution_count": null,
   "id": "9f9621c7",
   "metadata": {},
   "outputs": [],
   "source": [
    "df = None"
   ]
  },
  {
   "cell_type": "code",
   "execution_count": null,
   "id": "e731bcf5",
   "metadata": {},
   "outputs": [],
   "source": [
    "from IPython.display import clear_output"
   ]
  },
  {
   "cell_type": "code",
   "execution_count": null,
   "id": "12889424",
   "metadata": {},
   "outputs": [],
   "source": [
    "def main( n, start, df):\n",
    "    '''\n",
    "    Vary depth\n",
    "    0->n state transfer\n",
    "    start time\n",
    "    df is data frame to store\n",
    "    '''\n",
    "    first_iter = True #this is for dataframe\n",
    "    filenum = 0\n",
    "    \n",
    "    for n_ in range(1, n+1): #for |0n> -> |n0> transfer\n",
    "        \n",
    "        initial = one_mode_state(0)\n",
    "        target = one_mode_state(n_)\n",
    "        opt_params['initial_states'] = [initial]\n",
    "        opt_params['target_states'] = [target]\n",
    "        \n",
    "        fid = 0\n",
    "        layer =2\n",
    "        \n",
    "        while fid<(1-(1e-3)) : \n",
    "            clear_output(wait = True)            \n",
    "            print('prev layer' + str(layer))\n",
    "            print('prev fid' + str(fid))\n",
    "            print(time.time()-start)\n",
    "            print('--------')\n",
    "            \n",
    "            #optimizer\n",
    "            opt_params['N_blocks'] = layer\n",
    "            opt_params['name'] = opt_filename_prefix + str(filenum)\n",
    "            opt = BatchOptimizer(**opt_params)\n",
    "            #print(opt.filename)\n",
    "            opt.optimize()\n",
    "            #return opt\n",
    "            BO_fid = opt.best_circuit()['fidelity']\n",
    "            BO_fid = BO_fid.real\n",
    "            angles_filename = angles_filename_prefix + '_' + str(filenum) + '.txt'\n",
    "            opt.save_angles(filename = angles_filename)\n",
    "            \n",
    "            print('finished optimization')\n",
    "            print(time.time()-start)\n",
    "            print('-------')\n",
    "\n",
    "            #pulses\n",
    "            pulse_sim = ecd_pulse_single_mode(param_file = angles_filename) \n",
    "            pulse_sim.get_pulses()\n",
    "            pulse_time =len(pulse_sim.cavity_dac_pulse_GHz)\n",
    "            \n",
    "            #qutip simulation\n",
    "#             qutip_sim  = qutip_sim_two_mode(n_q = 2, n_c1 = N1,\n",
    "#                                             n_c2 = N2, alpha1 = pulse_sim.alpha1,\n",
    "#                                             alpha2 = pulse_sim.alpha2,\n",
    "#                                             qubit_pulse = pulse_sim.qubit_dac_pulse_GHz)\n",
    "#             qutip_sim.me_solve(initial = initial)\n",
    "#             qutip_fid = qutip_sim.get_fidelity(target)\n",
    "            \n",
    "#             print('finished qutip_sim')\n",
    "#             print(time.time()-start)\n",
    "#             print('-------')\n",
    "            \n",
    "            df_new = pd.DataFrame([[n_, layer, pulse_time, BO_fid, filenum]], columns=columns)\n",
    "            if first_iter : \n",
    "                first_iter = False\n",
    "                df = df_new\n",
    "            else:\n",
    "                df = df.append(df_new, ignore_index = True)\n",
    "            df.to_csv(fname, index=False)\n",
    "            \n",
    "            fid = BO_fid\n",
    "            layer +=1\n",
    "            filenum+=1\n",
    "    return df"
   ]
  },
  {
   "cell_type": "code",
   "execution_count": null,
   "id": "2cdd768a",
   "metadata": {},
   "outputs": [],
   "source": [
    "start = time.time()\n",
    "df = main(5, start, df)"
   ]
  },
  {
   "cell_type": "code",
   "execution_count": null,
   "id": "28ece137",
   "metadata": {},
   "outputs": [],
   "source": [
    "df.best_circuit()['fidelity']"
   ]
  },
  {
   "cell_type": "markdown",
   "id": "f0563082",
   "metadata": {},
   "source": [
    "# DUMP"
   ]
  },
  {
   "cell_type": "code",
   "execution_count": null,
   "id": "498c3ce9",
   "metadata": {},
   "outputs": [],
   "source": [
    "angles_filename_prefix"
   ]
  },
  {
   "cell_type": "code",
   "execution_count": null,
   "id": "52820667",
   "metadata": {},
   "outputs": [],
   "source": [
    "angles_filename = angles_filename_prefix + '_1.txt'"
   ]
  },
  {
   "cell_type": "code",
   "execution_count": null,
   "id": "079f0f2b",
   "metadata": {},
   "outputs": [],
   "source": [
    "pulse_sim = ecd_pulse_two_mode(param_file = angles_filename)"
   ]
  },
  {
   "cell_type": "code",
   "execution_count": null,
   "id": "4f07bfc3",
   "metadata": {},
   "outputs": [],
   "source": [
    "pulse_sim.betas"
   ]
  },
  {
   "cell_type": "code",
   "execution_count": null,
   "id": "95e0ae3f",
   "metadata": {},
   "outputs": [],
   "source": [
    "params = np.loadtxt(angles_filename)\n",
    "params"
   ]
  },
  {
   "cell_type": "code",
   "execution_count": null,
   "id": "016f68ca",
   "metadata": {},
   "outputs": [],
   "source": [
    "np.ndim(params)"
   ]
  },
  {
   "cell_type": "code",
   "execution_count": null,
   "id": "8c31fa7d",
   "metadata": {},
   "outputs": [],
   "source": [
    "np.asarray([complex(params[0][i], params[1][i]) for i in range(len(params[0]))])"
   ]
  },
  {
   "cell_type": "code",
   "execution_count": null,
   "id": "a37c0500",
   "metadata": {},
   "outputs": [],
   "source": [
    "#can print info, including the best circuit found.\n",
    "opt.print_info() "
   ]
  },
  {
   "cell_type": "code",
   "execution_count": null,
   "id": "ae4c2d8c",
   "metadata": {},
   "outputs": [],
   "source": [
    "angles_filename = 'test_opt_angles.txt'\n",
    "opt.save_angles(filename = angles_filename)"
   ]
  },
  {
   "cell_type": "markdown",
   "id": "754d0e0a",
   "metadata": {
    "heading_collapsed": true
   },
   "source": [
    "# Get Pulses"
   ]
  },
  {
   "cell_type": "code",
   "execution_count": null,
   "id": "2e5095ae",
   "metadata": {
    "hidden": true
   },
   "outputs": [],
   "source": [
    "from Simulation_Classes_Two_ModeV2 import *\n",
    "# Classes: ecd_pulse_single_mode to get pulses\n",
    "#          , qutip_sim_single_mode to simulate on qutip"
   ]
  },
  {
   "cell_type": "code",
   "execution_count": null,
   "id": "c12f96f3",
   "metadata": {
    "hidden": true
   },
   "outputs": [],
   "source": [
    "T1_mode1 = 2e+6 #2ms\n",
    "T1_mode2 = 2e+6 #2ms\n",
    "\n",
    "pulse_sim = ecd_pulse_two_mode(param_file = angles_filename,\n",
    "                              kappa1 = 1/T1_mode1,\n",
    "                              kappa2 = 1/T1_mode2)"
   ]
  },
  {
   "cell_type": "code",
   "execution_count": null,
   "id": "46f780bb",
   "metadata": {
    "hidden": true
   },
   "outputs": [],
   "source": [
    "pulse_sim.get_pulses()"
   ]
  },
  {
   "cell_type": "code",
   "execution_count": null,
   "id": "f6d26e78",
   "metadata": {
    "hidden": true
   },
   "outputs": [],
   "source": [
    "pulse_sim.plot_pulses()"
   ]
  },
  {
   "cell_type": "markdown",
   "id": "bab2ab7c",
   "metadata": {
    "heading_collapsed": true
   },
   "source": [
    "# Qutip Simulation"
   ]
  },
  {
   "cell_type": "code",
   "execution_count": null,
   "id": "14c6d3fb",
   "metadata": {
    "hidden": true
   },
   "outputs": [],
   "source": [
    "qutip_sim  = qutip_sim_two_mode(n_q = 2, n_c1 = 10, n_c2 = 10, alpha1 = pulse_sim.alpha1, alpha2 = pulse_sim.alpha2, qubit_pulse = pulse_sim.qubit_dac_pulse_GHz)"
   ]
  },
  {
   "cell_type": "code",
   "execution_count": null,
   "id": "d087d133",
   "metadata": {
    "hidden": true
   },
   "outputs": [],
   "source": [
    "# Add various terms \n",
    "\n",
    "# to the hamiltonian \n",
    "qutip_sim.add_bare_qubit_mode_coupling() # chi/2 adag a sigmaz\n",
    "qutip_sim.add_mode_mode_coupling()\n",
    "qutip_sim.add_stark_shift() # chi/2 alpha^2 sigmaz\n",
    "\n",
    "# to the collapse operators (noise)\n",
    "qutip_sim.add_qubit_relaxation(T1 = 30e+3) # T1 in nanoseconds\n",
    "qutip_sim.add_qubit_dephasing(T1 = 30e+3, Techo = 50e+3) # T1, T2 in nanoseconds\n",
    "qutip_sim.add_cavity_relaxation(T1_mode1 = 2e+6, T1_mode2 = 2e+6) # assumes kappa correction to equation of motion in pulses\n",
    "qutip_sim.add_cavity_dephasing(T1_mode1 = 2e+6, Techo_mode1 = 3e+6, T1_mode2 = 2e+6, Techo_mode2 = 3e+6) # T1, T2 from photon blockade paper\n"
   ]
  },
  {
   "cell_type": "code",
   "execution_count": null,
   "id": "e88091da",
   "metadata": {
    "hidden": true
   },
   "outputs": [],
   "source": [
    "qutip_sim.me_solve(initial = initial)  #initial state by default is g0"
   ]
  },
  {
   "cell_type": "code",
   "execution_count": null,
   "id": "c6e24ca6",
   "metadata": {
    "hidden": true
   },
   "outputs": [],
   "source": [
    "qutip_sim.plot_populations()"
   ]
  },
  {
   "cell_type": "code",
   "execution_count": null,
   "id": "9fae4313",
   "metadata": {
    "hidden": true
   },
   "outputs": [],
   "source": [
    "qutip_sim.get_fidelity(target)"
   ]
  },
  {
   "cell_type": "code",
   "execution_count": null,
   "id": "3cc9cf73",
   "metadata": {
    "hidden": true
   },
   "outputs": [],
   "source": []
  }
 ],
 "metadata": {
  "kernelspec": {
   "display_name": "Python 3 (ipykernel)",
   "language": "python",
   "name": "python3"
  },
  "language_info": {
   "codemirror_mode": {
    "name": "ipython",
    "version": 3
   },
   "file_extension": ".py",
   "mimetype": "text/x-python",
   "name": "python",
   "nbconvert_exporter": "python",
   "pygments_lexer": "ipython3",
   "version": "3.9.13"
  },
  "toc": {
   "base_numbering": 1,
   "nav_menu": {},
   "number_sections": true,
   "sideBar": true,
   "skip_h1_title": false,
   "title_cell": "Table of Contents",
   "title_sidebar": "Contents",
   "toc_cell": false,
   "toc_position": {},
   "toc_section_display": true,
   "toc_window_display": false
  },
  "varInspector": {
   "cols": {
    "lenName": 16,
    "lenType": 16,
    "lenVar": 40
   },
   "kernels_config": {
    "python": {
     "delete_cmd_postfix": "",
     "delete_cmd_prefix": "del ",
     "library": "var_list.py",
     "varRefreshCmd": "print(var_dic_list())"
    },
    "r": {
     "delete_cmd_postfix": ") ",
     "delete_cmd_prefix": "rm(",
     "library": "var_list.r",
     "varRefreshCmd": "cat(var_dic_list()) "
    }
   },
   "types_to_exclude": [
    "module",
    "function",
    "builtin_function_or_method",
    "instance",
    "_Feature"
   ],
   "window_display": false
  }
 },
 "nbformat": 4,
 "nbformat_minor": 5
}
