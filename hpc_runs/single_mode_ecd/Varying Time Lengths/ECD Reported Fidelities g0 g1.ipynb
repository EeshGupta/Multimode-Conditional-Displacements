{
 "cells": [
  {
   "cell_type": "code",
   "execution_count": 1,
   "id": "8188c3c4",
   "metadata": {},
   "outputs": [],
   "source": [
    "# To find ECD Control\n",
    "\n",
    "import sys \n",
    "sys.path.append('C:\\\\Users\\\\Eesh Gupta\\\\Documents\\\\RU Research\\\\Chakram')\n"
   ]
  },
  {
   "cell_type": "code",
   "execution_count": 4,
   "id": "22c927fd",
   "metadata": {},
   "outputs": [],
   "source": [
    "import numpy as np\n",
    "from qutip import *\n",
    "from ECD_batch_optimizerV1 import BatchOptimizer\n",
    "from Simulation_Classes_Single_ModeV4 import *\n",
    "import matplotlib.pyplot as plt"
   ]
  },
  {
   "cell_type": "code",
   "execution_count": 5,
   "id": "d8d4c368",
   "metadata": {},
   "outputs": [],
   "source": [
    "%load_ext autoreload\n",
    "%autoreload 2"
   ]
  },
  {
   "cell_type": "code",
   "execution_count": 31,
   "id": "82ab8062",
   "metadata": {},
   "outputs": [],
   "source": [
    "import pandas as pd\n",
    "df = None\n",
    "columns=['time', 'layer', 'rep fid']"
   ]
  },
  {
   "cell_type": "code",
   "execution_count": 47,
   "id": "3d2619eb",
   "metadata": {},
   "outputs": [],
   "source": [
    "#The target oscillator state.\n",
    "N =15\n",
    "Fock = 1\n",
    "psi_i = tensor(basis(2,0), basis(N,0)) # initial state\n",
    "psi_t = tensor(basis(2,0), basis(N,Fock)) #target state"
   ]
  },
  {
   "cell_type": "code",
   "execution_count": 48,
   "id": "c3f2427c",
   "metadata": {},
   "outputs": [],
   "source": [
    "#Optimization of ECD Circuit parameters (betas, phis, and thetas)\n",
    "#the optimization options\n",
    "opt_params = {\n",
    "'N_blocks' : 1, #circuit depth\n",
    "'N_multistart' : 10, #Batch size (number of circuit optimizations to run in parallel)\n",
    "'epochs' : 500, #number of epochs before termination\n",
    "'epoch_size' : 10, #number of adam steps per epoch\n",
    "'learning_rate' : 0.01, #adam learning rate\n",
    "'term_fid' : 0.999, #terminal fidelitiy\n",
    "'dfid_stop' : 1e-6, #stop if dfid between two epochs is smaller than this number\n",
    "'beta_scale' : 3.0, #maximum |beta| for random initialization\n",
    "'initial_states' : [psi_i], #qubit tensor oscillator, start in |g> |0>\n",
    "'target_states' : [psi_t], #end in |e> |target>.\n",
    "'name' : 'Fock %d' % Fock, #name for printing and saving\n",
    "'filename' : None, #if no filename specified, results will be saved in this folder under 'name.h5'\n",
    "}\n",
    "\n",
    "\n",
    "#note: optimizer includes pi pulse in every ECD step. However, final ECD step is implemented \n",
    "#in experiment as a displacement since the qubit and oscillator should be disentangled at this point.\n",
    "#So, we ask the optimizer to end in |e> |target> instead of |g>|target>."
   ]
  },
  {
   "cell_type": "markdown",
   "id": "f7c93207",
   "metadata": {},
   "source": [
    "#### Filename for angles to be stored"
   ]
  },
  {
   "cell_type": "code",
   "execution_count": 49,
   "id": "63c9237b",
   "metadata": {},
   "outputs": [],
   "source": [
    "df = None \n",
    "fname = 'pulse_times_g01_g10_Oct21'"
   ]
  },
  {
   "cell_type": "code",
   "execution_count": 50,
   "id": "12889424",
   "metadata": {},
   "outputs": [],
   "source": [
    "def main(layers, fname = fname, df = df):\n",
    "    '''\n",
    "    Vary layers, get fidelity\n",
    "    '''\n",
    "    for layer in layers: \n",
    "        #optimizer\n",
    "        opt_params['N_blocks'] = layer\n",
    "        opt = BatchOptimizer(**opt_params)\n",
    "        opt.optimize()\n",
    "        BO_fid = opt.best_fidelity()\n",
    "        angles_filename = 'test_opt_angles.txt'\n",
    "        opt.save_angles(filename = angles_filename)\n",
    "        \n",
    "        #pulses\n",
    "        pulse_sim = ecd_pulse_single_mode(param_file = angles_filename,\n",
    "                                 kappa = 1/(2e+6)) \n",
    "        pulse_sim.get_pulses()\n",
    "        \n",
    "        pulse_time = len(pulse_sim.alpha)\n",
    "        \n",
    "        df_new = pd.DataFrame([[ pulse_time, layer, BO_fid]], columns=columns)\n",
    "        if df is None : \n",
    "            df = df_new\n",
    "        else:\n",
    "            df = df.append(df_new, ignore_index = True)\n",
    "        df.to_csv(fname, index=False)"
   ]
  },
  {
   "cell_type": "code",
   "execution_count": 54,
   "id": "2cdd768a",
   "metadata": {},
   "outputs": [],
   "source": [
    "layers = [i for i in range(2, 8, 1)]"
   ]
  },
  {
   "cell_type": "code",
   "execution_count": 55,
   "id": "5da35d3c",
   "metadata": {},
   "outputs": [
    {
     "data": {
      "text/plain": [
       "[2, 3, 4, 5, 6, 7]"
      ]
     },
     "execution_count": 55,
     "metadata": {},
     "output_type": "execute_result"
    }
   ],
   "source": [
    "layers"
   ]
  },
  {
   "cell_type": "code",
   "execution_count": 56,
   "id": "ab24e372",
   "metadata": {},
   "outputs": [
    {
     "name": "stdout",
     "output_type": "stream",
     "text": [
      "None\n",
      "Start time: 2022-10-21 09:54:25\n",
      "Tensor(\"alphas:0\", shape=(1, 10), dtype=complex64)\n",
      "Tensor(\"alphas:0\", shape=(2, 10), dtype=complex64)\n",
      " Epoch: 34 / 500 Max Fid: 0.367880 Avg Fid: 0.367880 Max dFid: 0.000001 Avg dFid: 0.000000 Elapsed time: 0:00:04.246430 Remaing time: 0:00:58.201066\n",
      " max dFid: 0.000001\n",
      "dFid stop: 0.000001\n",
      "\n",
      "\n",
      " Optimization stopped.  No dfid is greater than dfid_stop\n",
      "\n",
      "optimization_type: state transfer\n",
      "N_multistart: 10\n",
      "N_blocks: 2\n",
      "term_fid: 0.995\n",
      "dfid_stop: 1e-06\n",
      "no_CD_end: False\n",
      "learning_rate: 0.01\n",
      "epoch_size: 10\n",
      "epochs: 500\n",
      "beta_scale: 3.0\n",
      "alpha_scale: 1.0\n",
      "theta_scale: 3.141592653589793\n",
      "use_displacements: False\n",
      "use_phase: False\n",
      "name: Fock 1\n",
      "comment: \n",
      "user_angles: None\n",
      "N_cav: 15\n",
      "filename: Fock 1.h5\n",
      "\n",
      "Best circuit parameters found:\n",
      "betas:         [-0.1928 -1.89285j -0.61323+0.06246j]\n",
      "alphas:        [0.+0.j]\n",
      "phis (deg):    [ 0.      69.50025]\n",
      "thetas (deg):  [71.78806 71.78809]\n",
      "Max Fidelity:  0.367880\n",
      "\n",
      "\n",
      "termination reason: dfid\n",
      "optimization timestamp (start time): 2022-10-21 09:54:25\n",
      "timestamp (end time): 2022-10-21 09:54:29\n",
      "elapsed time: 0:00:04.247428\n",
      "Time per epoch (epoch size = 10): 0:00:00.124924\n",
      "Time per Adam step (N_multistart = 10, N_cav = 15): 0:00:00.000250\n",
      "\n",
      "============================================================\n",
      "\n",
      "Modified method: Cond Disp Circuit\n",
      "Modified conditional displacement called\n",
      "---------------------------\n",
      "Final Displacement: 1.903055613632568\n",
      "Modified conditional displacement called\n",
      "---------------------------\n",
      "Final Displacement: 0.6164070668388896\n",
      "None\n",
      "Start time: 2022-10-21 09:54:30\n",
      "Tensor(\"alphas:0\", shape=(1, 10), dtype=complex64)\n",
      "Tensor(\"alphas:0\", shape=(3, 10), dtype=complex64)\n",
      " Epoch: 132 / 500 Max Fid: 0.735760 Avg Fid: 0.735760 Max dFid: 0.000001 Avg dFid: 0.000000 Elapsed time: 0:00:16.346123 Remaing time: 0:00:45.571010\n",
      " max dFid: 0.000001\n",
      "dFid stop: 0.000001\n",
      "\n",
      "\n",
      " Optimization stopped.  No dfid is greater than dfid_stop\n",
      "\n",
      "optimization_type: state transfer\n",
      "N_multistart: 10\n",
      "N_blocks: 3\n",
      "term_fid: 0.995\n",
      "dfid_stop: 1e-06\n",
      "no_CD_end: False\n",
      "learning_rate: 0.01\n",
      "epoch_size: 10\n",
      "epochs: 500\n",
      "beta_scale: 3.0\n",
      "alpha_scale: 1.0\n",
      "theta_scale: 3.141592653589793\n",
      "use_displacements: False\n",
      "use_phase: False\n",
      "name: Fock 1\n",
      "comment: \n",
      "user_angles: None\n",
      "N_cav: 15\n",
      "filename: Fock 1.h5\n",
      "\n",
      "Best circuit parameters found:\n",
      "betas:         [-0.47316-1.7673j  -0.78036+0.20903j -0.00009+0.00002j]\n",
      "alphas:        [0.+0.j]\n",
      "phis (deg):    [  0.       90.00005 179.99937]\n",
      "thetas (deg):  [-90.00007 -89.99994 -90.00002]\n",
      "Max Fidelity:  0.735760\n",
      "\n",
      "\n",
      "termination reason: dfid\n",
      "optimization timestamp (start time): 2022-10-21 09:54:30\n",
      "timestamp (end time): 2022-10-21 09:54:47\n",
      "elapsed time: 0:00:16.347461\n",
      "Time per epoch (epoch size = 10): 0:00:00.123844\n",
      "Time per Adam step (N_multistart = 10, N_cav = 15): 0:00:00.000248\n",
      "\n",
      "============================================================\n",
      "\n",
      "Modified method: Cond Disp Circuit\n",
      "Modified conditional displacement called\n",
      "---------------------------\n",
      "Final Displacement: 1.82833740013411\n",
      "Modified conditional displacement called\n"
     ]
    },
    {
     "name": "stderr",
     "output_type": "stream",
     "text": [
      "/home/eag190/miniconda3/envs/simulations/lib/python3.9/site-packages/scipy/signal/_peak_finding.py:261: ComplexWarning: Casting complex values to real discards the imaginary part\n",
      "  value = np.asarray(value, order='C', dtype=np.float64)\n"
     ]
    },
    {
     "name": "stdout",
     "output_type": "stream",
     "text": [
      "---------------------------\n",
      "Final Displacement: 0.8082848796100593\n",
      "Modified conditional displacement called\n",
      "---------------------------\n",
      "Final Displacement: 9.664088599323192e-05\n",
      "None\n",
      "Start time: 2022-10-21 09:54:48\n",
      "Tensor(\"alphas:0\", shape=(1, 10), dtype=complex64)\n",
      "Tensor(\"alphas:0\", shape=(4, 10), dtype=complex64)\n"
     ]
    },
    {
     "name": "stderr",
     "output_type": "stream",
     "text": [
      "/tmp/ipykernel_30326/2741616155.py:25: FutureWarning: The frame.append method is deprecated and will be removed from pandas in a future version. Use pandas.concat instead.\n",
      "  df = df.append(df_new, ignore_index = True)\n"
     ]
    },
    {
     "name": "stdout",
     "output_type": "stream",
     "text": [
      " Epoch: 65 / 500 Max Fid: 0.981403 Avg Fid: 0.888826 Max dFid: 0.000001 Avg dFid: 0.000000 Elapsed time: 0:00:08.769133 Remaing time: 0:00:58.685735\n",
      " max dFid: 0.000001\n",
      "dFid stop: 0.000001\n",
      "\n",
      "\n",
      " Optimization stopped.  No dfid is greater than dfid_stop\n",
      "\n",
      "optimization_type: state transfer\n",
      "N_multistart: 10\n",
      "N_blocks: 4\n",
      "term_fid: 0.995\n",
      "dfid_stop: 1e-06\n",
      "no_CD_end: False\n",
      "learning_rate: 0.01\n",
      "epoch_size: 10\n",
      "epochs: 500\n",
      "beta_scale: 3.0\n",
      "alpha_scale: 1.0\n",
      "theta_scale: 3.141592653589793\n",
      "use_displacements: False\n",
      "use_phase: False\n",
      "name: Fock 1\n",
      "comment: \n",
      "user_angles: None\n",
      "N_cav: 15\n",
      "filename: Fock 1.h5\n",
      "\n",
      "Best circuit parameters found:\n",
      "betas:         [-1.56612+0.03763j  0.02434+1.0128j  -0.65398+0.01572j -0.     +0.j     ]\n",
      "alphas:        [0.+0.j]\n",
      "phis (deg):    [  0.      -89.99999  89.99978   0.00022]\n",
      "thetas (deg):  [ 90.00008 -89.99989  89.99982  89.99994]\n",
      "Max Fidelity:  0.981402\n",
      "\n",
      "\n",
      "termination reason: dfid\n",
      "optimization timestamp (start time): 2022-10-21 09:54:48\n",
      "timestamp (end time): 2022-10-21 09:54:57\n",
      "elapsed time: 0:00:08.770092\n",
      "Time per epoch (epoch size = 10): 0:00:00.134924\n",
      "Time per Adam step (N_multistart = 10, N_cav = 15): 0:00:00.000270\n",
      "\n",
      "============================================================\n",
      "\n",
      "Modified method: Cond Disp Circuit\n",
      "Modified conditional displacement called\n",
      "---------------------------\n",
      "Final Displacement: 1.5674572761408163\n",
      "Modified conditional displacement called\n"
     ]
    },
    {
     "name": "stderr",
     "output_type": "stream",
     "text": [
      "/home/eag190/miniconda3/envs/simulations/lib/python3.9/site-packages/scipy/signal/_peak_finding.py:261: ComplexWarning: Casting complex values to real discards the imaginary part\n",
      "  value = np.asarray(value, order='C', dtype=np.float64)\n"
     ]
    },
    {
     "name": "stdout",
     "output_type": "stream",
     "text": [
      "---------------------------\n",
      "Final Displacement: 1.0130914793872088\n",
      "Modified conditional displacement called\n",
      "---------------------------\n",
      "Final Displacement: 0.6541738038392164\n",
      "Modified conditional displacement called\n",
      "---------------------------\n",
      "Final Displacement: 1.5540200180484895e-06\n",
      "None\n",
      "Start time: 2022-10-21 09:54:59\n",
      "Tensor(\"alphas:0\", shape=(1, 10), dtype=complex64)\n",
      "Tensor(\"alphas:0\", shape=(5, 10), dtype=complex64)\n"
     ]
    },
    {
     "name": "stderr",
     "output_type": "stream",
     "text": [
      "/tmp/ipykernel_30326/2741616155.py:25: FutureWarning: The frame.append method is deprecated and will be removed from pandas in a future version. Use pandas.concat instead.\n",
      "  df = df.append(df_new, ignore_index = True)\n"
     ]
    },
    {
     "name": "stdout",
     "output_type": "stream",
     "text": [
      " Epoch: 30 / 500 Max Fid: 0.996476 Avg Fid: 0.893581 Max dFid: 0.005137 Avg dFid: 0.001107 Elapsed time: 0:00:04.608124 Remaing time: 0:01:12.193950\n",
      "\n",
      " Optimization stopped. Term fidelity reached.\n",
      "\n",
      "optimization_type: state transfer\n",
      "N_multistart: 10\n",
      "N_blocks: 5\n",
      "term_fid: 0.995\n",
      "dfid_stop: 1e-06\n",
      "no_CD_end: False\n",
      "learning_rate: 0.01\n",
      "epoch_size: 10\n",
      "epochs: 500\n",
      "beta_scale: 3.0\n",
      "alpha_scale: 1.0\n",
      "theta_scale: 3.141592653589793\n",
      "use_displacements: False\n",
      "use_phase: False\n",
      "name: Fock 1\n",
      "comment: \n",
      "user_angles: None\n",
      "N_cav: 15\n",
      "filename: Fock 1.h5\n",
      "\n",
      "Best circuit parameters found:\n",
      "betas:         [ 1.11966-1.10192j -0.67489-1.01431j  0.13101-0.65519j  0.66285-1.00006j\n",
      "  0.12103-0.1409j ]\n",
      "alphas:        [0.+0.j]\n",
      "phis (deg):    [  0.       92.63541  62.54083 -72.75242 156.13202]\n",
      "thetas (deg):  [ 89.90002  87.85105 -67.17851 -41.87074  77.73803]\n",
      "Max Fidelity:  0.996551\n",
      "\n",
      "\n",
      "termination reason: term_fid\n",
      "optimization timestamp (start time): 2022-10-21 09:54:59\n",
      "timestamp (end time): 2022-10-21 09:55:04\n",
      "elapsed time: 0:00:04.609572\n",
      "Time per epoch (epoch size = 10): 0:00:00.153652\n",
      "Time per Adam step (N_multistart = 10, N_cav = 15): 0:00:00.000307\n",
      "\n",
      "============================================================\n",
      "\n",
      "Modified method: Cond Disp Circuit\n",
      "Modified conditional displacement called\n",
      "---------------------------\n",
      "Final Displacement: 1.5709389042551039\n",
      "Modified conditional displacement called\n"
     ]
    },
    {
     "name": "stderr",
     "output_type": "stream",
     "text": [
      "/home/eag190/miniconda3/envs/simulations/lib/python3.9/site-packages/scipy/signal/_peak_finding.py:261: ComplexWarning: Casting complex values to real discards the imaginary part\n",
      "  value = np.asarray(value, order='C', dtype=np.float64)\n"
     ]
    },
    {
     "name": "stdout",
     "output_type": "stream",
     "text": [
      "---------------------------\n",
      "Final Displacement: 1.2191270047078664\n",
      "Modified conditional displacement called\n",
      "---------------------------\n",
      "Final Displacement: 0.6681571388245261\n",
      "Modified conditional displacement called\n",
      "---------------------------\n",
      "Final Displacement: 1.199792577038323\n",
      "Modified conditional displacement called\n",
      "---------------------------\n",
      "Final Displacement: 0.1857302894452685\n",
      "None\n",
      "Start time: 2022-10-21 09:55:06\n",
      "Tensor(\"alphas:0\", shape=(1, 10), dtype=complex64)\n",
      "Tensor(\"alphas:0\", shape=(6, 10), dtype=complex64)\n",
      " Epoch: 0 / 500 Max Fid: 0.190119 Avg Fid: 0.082922 Max dFid: 0.000000 Avg dFid: 0.000000 Elapsed time: 0:00:00.147046 Remaing time: 0:00:00"
     ]
    },
    {
     "name": "stderr",
     "output_type": "stream",
     "text": [
      "/tmp/ipykernel_30326/2741616155.py:25: FutureWarning: The frame.append method is deprecated and will be removed from pandas in a future version. Use pandas.concat instead.\n",
      "  df = df.append(df_new, ignore_index = True)\n"
     ]
    },
    {
     "name": "stdout",
     "output_type": "stream",
     "text": [
      " Epoch: 22 / 500 Max Fid: 0.995332 Avg Fid: 0.927133 Max dFid: 0.079114 Avg dFid: 0.013628 Elapsed time: 0:00:03.837784 Remaing time: 0:01:23.384586\n",
      "\n",
      " Optimization stopped. Term fidelity reached.\n",
      "\n",
      "optimization_type: state transfer\n",
      "N_multistart: 10\n",
      "N_blocks: 6\n",
      "term_fid: 0.995\n",
      "dfid_stop: 1e-06\n",
      "no_CD_end: False\n",
      "learning_rate: 0.01\n",
      "epoch_size: 10\n",
      "epochs: 500\n",
      "beta_scale: 3.0\n",
      "alpha_scale: 1.0\n",
      "theta_scale: 3.141592653589793\n",
      "use_displacements: False\n",
      "use_phase: False\n",
      "name: Fock 1\n",
      "comment: \n",
      "user_angles: None\n",
      "N_cav: 15\n",
      "filename: Fock 1.h5\n",
      "\n",
      "Best circuit parameters found:\n",
      "betas:         [ 0.21338-0.9227j  -0.40312+0.25766j -0.63347-0.64369j  0.65627-0.47364j\n",
      " -0.2451 -0.38495j  0.00481+0.76952j]\n",
      "alphas:        [0.+0.j]\n",
      "phis (deg):    [   0.       -27.78805  113.75288 -102.28375 -117.25365   39.13402]\n",
      "thetas (deg):  [-126.23036   64.22308  -82.9809   -89.88346 -104.91428 -115.89619]\n",
      "Max Fidelity:  0.995384\n",
      "\n",
      "\n",
      "termination reason: term_fid\n",
      "optimization timestamp (start time): 2022-10-21 09:55:06\n",
      "timestamp (end time): 2022-10-21 09:55:10\n",
      "elapsed time: 0:00:03.839223\n",
      "Time per epoch (epoch size = 10): 0:00:00.174510\n",
      "Time per Adam step (N_multistart = 10, N_cav = 15): 0:00:00.000349\n",
      "\n",
      "============================================================\n",
      "\n",
      "Modified method: Cond Disp Circuit\n",
      "Modified conditional displacement called\n",
      "---------------------------\n",
      "Final Displacement: 0.9470509596846808\n",
      "Modified conditional displacement called\n"
     ]
    },
    {
     "name": "stderr",
     "output_type": "stream",
     "text": [
      "/home/eag190/miniconda3/envs/simulations/lib/python3.9/site-packages/scipy/signal/_peak_finding.py:261: ComplexWarning: Casting complex values to real discards the imaginary part\n",
      "  value = np.asarray(value, order='C', dtype=np.float64)\n"
     ]
    },
    {
     "name": "stdout",
     "output_type": "stream",
     "text": [
      "---------------------------\n",
      "Final Displacement: 0.47843052805310526\n",
      "Modified conditional displacement called\n",
      "---------------------------\n",
      "Final Displacement: 0.9031128035875121\n",
      "Modified conditional displacement called\n",
      "---------------------------\n",
      "Final Displacement: 0.8093351411648341\n",
      "Modified conditional displacement called\n",
      "---------------------------\n",
      "Final Displacement: 0.4563545542156136\n",
      "Modified conditional displacement called\n",
      "---------------------------\n",
      "Final Displacement: 0.7695352845311457\n",
      "None\n",
      "Start time: 2022-10-21 09:55:14\n",
      "Tensor(\"alphas:0\", shape=(1, 10), dtype=complex64)\n",
      "Tensor(\"alphas:0\", shape=(7, 10), dtype=complex64)\n",
      " Epoch: 0 / 500 Max Fid: 0.197437 Avg Fid: 0.064379 Max dFid: 0.000000 Avg dFid: 0.000000 Elapsed time: 0:00:00.144243 Remaing time: 0:00:00"
     ]
    },
    {
     "name": "stderr",
     "output_type": "stream",
     "text": [
      "/tmp/ipykernel_30326/2741616155.py:25: FutureWarning: The frame.append method is deprecated and will be removed from pandas in a future version. Use pandas.concat instead.\n",
      "  df = df.append(df_new, ignore_index = True)\n"
     ]
    },
    {
     "name": "stdout",
     "output_type": "stream",
     "text": [
      " Epoch: 10 / 500 Max Fid: 0.998352 Avg Fid: 0.928494 Max dFid: 0.084496 Avg dFid: 0.030891 Elapsed time: 0:00:02.081944 Remaing time: 0:01:42.015267\n",
      "\n",
      " Optimization stopped. Term fidelity reached.\n",
      "\n",
      "optimization_type: state transfer\n",
      "N_multistart: 10\n",
      "N_blocks: 7\n",
      "term_fid: 0.995\n",
      "dfid_stop: 1e-06\n",
      "no_CD_end: False\n",
      "learning_rate: 0.01\n",
      "epoch_size: 10\n",
      "epochs: 500\n",
      "beta_scale: 3.0\n",
      "alpha_scale: 1.0\n",
      "theta_scale: 3.141592653589793\n",
      "use_displacements: False\n",
      "use_phase: False\n",
      "name: Fock 1\n",
      "comment: \n",
      "user_angles: None\n",
      "N_cav: 15\n",
      "filename: Fock 1.h5\n",
      "\n",
      "Best circuit parameters found:\n",
      "betas:         [ 0.92991+1.11229j  0.62484-0.42947j  0.02075+0.75208j -0.75133-0.07144j\n",
      "  0.97904-1.62472j  1.41153-1.63676j  0.01175-0.11535j]\n",
      "alphas:        [0.+0.j]\n",
      "phis (deg):    [  0.       88.63784 103.48551  66.79702 -46.19493  38.19178  34.0309 ]\n",
      "thetas (deg):  [  90.9986   123.20777   82.30898 -103.57394  -36.25889    1.13154\n",
      "  -76.63657]\n",
      "Max Fidelity:  0.998343\n",
      "\n",
      "\n",
      "termination reason: term_fid\n",
      "optimization timestamp (start time): 2022-10-21 09:55:14\n",
      "timestamp (end time): 2022-10-21 09:55:16\n",
      "elapsed time: 0:00:02.082938\n",
      "Time per epoch (epoch size = 10): 0:00:00.208294\n",
      "Time per Adam step (N_multistart = 10, N_cav = 15): 0:00:00.000417\n",
      "\n",
      "============================================================\n",
      "\n",
      "Modified method: Cond Disp Circuit\n",
      "Modified conditional displacement called\n",
      "---------------------------\n",
      "Final Displacement: 1.4498013467185005\n",
      "Modified conditional displacement called\n"
     ]
    },
    {
     "name": "stderr",
     "output_type": "stream",
     "text": [
      "/home/eag190/miniconda3/envs/simulations/lib/python3.9/site-packages/scipy/signal/_peak_finding.py:261: ComplexWarning: Casting complex values to real discards the imaginary part\n",
      "  value = np.asarray(value, order='C', dtype=np.float64)\n"
     ]
    },
    {
     "name": "stdout",
     "output_type": "stream",
     "text": [
      "---------------------------\n",
      "Final Displacement: 0.7585273185220985\n",
      "Modified conditional displacement called\n",
      "---------------------------\n",
      "Final Displacement: 0.7523709177577791\n",
      "Modified conditional displacement called\n",
      "---------------------------\n",
      "Final Displacement: 0.7547185338970385\n",
      "Modified conditional displacement called\n",
      "---------------------------\n",
      "Final Displacement: 1.8968997240866923\n",
      "Modified conditional displacement called\n",
      "---------------------------\n",
      "Final Displacement: 2.1613383379471034\n",
      "Modified conditional displacement called\n",
      "---------------------------\n",
      "Final Displacement: 0.11594115952505771\n"
     ]
    },
    {
     "name": "stderr",
     "output_type": "stream",
     "text": [
      "/tmp/ipykernel_30326/2741616155.py:25: FutureWarning: The frame.append method is deprecated and will be removed from pandas in a future version. Use pandas.concat instead.\n",
      "  df = df.append(df_new, ignore_index = True)\n"
     ]
    }
   ],
   "source": [
    "main(layers)"
   ]
  },
  {
   "cell_type": "code",
   "execution_count": null,
   "id": "2ac16858",
   "metadata": {},
   "outputs": [],
   "source": []
  },
  {
   "cell_type": "code",
   "execution_count": null,
   "id": "62528135",
   "metadata": {},
   "outputs": [],
   "source": []
  }
 ],
 "metadata": {
  "kernelspec": {
   "display_name": "Python 3 (ipykernel)",
   "language": "python",
   "name": "python3"
  },
  "language_info": {
   "codemirror_mode": {
    "name": "ipython",
    "version": 3
   },
   "file_extension": ".py",
   "mimetype": "text/x-python",
   "name": "python",
   "nbconvert_exporter": "python",
   "pygments_lexer": "ipython3",
   "version": "3.9.12"
  },
  "toc": {
   "base_numbering": 1,
   "nav_menu": {},
   "number_sections": true,
   "sideBar": true,
   "skip_h1_title": false,
   "title_cell": "Table of Contents",
   "title_sidebar": "Contents",
   "toc_cell": false,
   "toc_position": {},
   "toc_section_display": true,
   "toc_window_display": false
  },
  "varInspector": {
   "cols": {
    "lenName": 16,
    "lenType": 16,
    "lenVar": 40
   },
   "kernels_config": {
    "python": {
     "delete_cmd_postfix": "",
     "delete_cmd_prefix": "del ",
     "library": "var_list.py",
     "varRefreshCmd": "print(var_dic_list())"
    },
    "r": {
     "delete_cmd_postfix": ") ",
     "delete_cmd_prefix": "rm(",
     "library": "var_list.r",
     "varRefreshCmd": "cat(var_dic_list()) "
    }
   },
   "types_to_exclude": [
    "module",
    "function",
    "builtin_function_or_method",
    "instance",
    "_Feature"
   ],
   "window_display": false
  }
 },
 "nbformat": 4,
 "nbformat_minor": 5
}
